{
 "cells": [
  {
   "cell_type": "code",
   "execution_count": 34,
   "metadata": {},
   "outputs": [
    {
     "name": "stdout",
     "output_type": "stream",
     "text": [
      "Requirement already satisfied: regex in d:\\software\\miniconda\\envs\\master_thesis\\lib\\site-packages (2024.11.6)\n",
      "Note: you may need to restart the kernel to use updated packages.\n"
     ]
    }
   ],
   "source": [
    "pip install regex"
   ]
  },
  {
   "cell_type": "code",
   "execution_count": 41,
   "metadata": {},
   "outputs": [],
   "source": [
    "# Load necessary libraries\n",
    "import pdfplumber\n",
    "from openai import OpenAI\n",
    "import json\n",
    "import os\n",
    "import regex as re\n",
    "from neo4j import GraphDatabase\n",
    "from neo4j.exceptions import AuthError"
   ]
  },
  {
   "cell_type": "code",
   "execution_count": 42,
   "metadata": {},
   "outputs": [],
   "source": [
    "## Set the API key and model name\n",
    "MODEL=\"gpt-4o-mini\"\n",
    "\n",
    "# Load OpenAI API Key from requirements file\n",
    "with open(\"gpt-personal-key.txt\", \"r\") as file:\n",
    "    OPENAI_API_KEY = file.read().strip()\n",
    "\n",
    "client = OpenAI(api_key=OPENAI_API_KEY)"
   ]
  },
  {
   "cell_type": "code",
   "execution_count": 43,
   "metadata": {},
   "outputs": [
    {
     "name": "stdout",
     "output_type": "stream",
     "text": [
      "Connected to Neo4j successfully.\n"
     ]
    }
   ],
   "source": [
    "# Neo4j Connection Setup\n",
    "NEO4J_URI = \"bolt://localhost:7687\"\n",
    "NEO4J_USER = \"neo4j\"\n",
    "NEO4J_PASSWORD = \"password\"\n",
    "NEO4J_DATABASE = \"neo4j\"\n",
    "\n",
    "driver = GraphDatabase.driver(NEO4J_URI, auth=(NEO4J_USER, NEO4J_PASSWORD))\n",
    "\n",
    "try:\n",
    "    # Test the connection\n",
    "    with driver.session() as session:\n",
    "        session.run(\"RETURN 1\")\n",
    "    print(\"Connected to Neo4j successfully.\")\n",
    "except AuthError as e:\n",
    "    print(\"Authentication failed. Check your credentials:\", str(e))"
   ]
  },
  {
   "cell_type": "code",
   "execution_count": 75,
   "metadata": {},
   "outputs": [
    {
     "name": "stdout",
     "output_type": "stream",
     "text": [
      "Neo4j database cleared successfully.\n"
     ]
    }
   ],
   "source": [
    "def clear_neo4j_database():\n",
    "    \"\"\"Delete all nodes and relationships in the Neo4j database.\"\"\"\n",
    "    with driver.session(database=NEO4J_DATABASE) as session:\n",
    "        session.run(\"MATCH (n) DETACH DELETE n\")\n",
    "    print(\"Neo4j database cleared successfully.\")\n",
    "\n",
    "# Run the function to clear the database\n",
    "clear_neo4j_database()"
   ]
  },
  {
   "cell_type": "code",
   "execution_count": 45,
   "metadata": {},
   "outputs": [
    {
     "name": "stdout",
     "output_type": "stream",
     "text": [
      "Extracted Text Sample: Railway Accident\n",
      "Investigation Unit\n",
      "Ireland\n",
      "INVESTIGATION REPORT\n",
      "Broken Rail near Emly,\n",
      "County Tipperary, 22nd February 2023\n",
      "RAIU Investigation Report No: 2024-R002\n",
      "Published: 22nd March 2024\n",
      "Broken Rail near Emly, County Tipperary, 22nd February 2023\n",
      "Report Description\n",
      "Report publication\n",
      "This report is published by the Railway Accident Investigation Unit (RAIU). The copyright in\n",
      "the enclosed report remains with the RAIU by virtue of in Regulation 9 (7) of European Union\n",
      "(EU) (Railway Safety) (R\n"
     ]
    }
   ],
   "source": [
    "# Extract the text\n",
    "def extract_text_from_pdf(pdf_path):\n",
    "    \"\"\"Extract text from a given PDF file.\"\"\"\n",
    "    text = \"\"\n",
    "    with pdfplumber.open(pdf_path) as pdf:\n",
    "        for page in pdf.pages:\n",
    "            text += page.extract_text() + \"\\n\"\n",
    "    return text\n",
    "\n",
    "# Test PDF extraction\n",
    "pdf_text = extract_text_from_pdf(\"raiu_example.pdf\")\n",
    "print(\"Extracted Text Sample:\", pdf_text[:500])  # Print first 500 characters"
   ]
  },
  {
   "cell_type": "code",
   "execution_count": 59,
   "metadata": {},
   "outputs": [],
   "source": [
    "def extract_entities(text):\n",
    "    \"\"\"Extract key entities using GPT-4o-mini.\"\"\"\n",
    "    prompt = f\"\"\"\n",
    "    Extract key entities from the following accident report:\n",
    "    {text}\n",
    "    \n",
    "    Provide the output in valid JSON format with categories:\n",
    "    - date\n",
    "    - location\n",
    "    - regulatory_body\n",
    "    Ensure that the response is only valid JSON and contains no other text or formatting.\n",
    "    \"\"\"\n",
    "    \n",
    "    try:\n",
    "        completion = client.chat.completions.create(\n",
    "            model=MODEL,\n",
    "            messages=[\n",
    "                {\"role\": \"system\", \"content\": \"You are an expert in analyzing rail accident reports. Return output in JSON format only.\"},\n",
    "                {\"role\": \"user\", \"content\": prompt}\n",
    "            ],\n",
    "            temperature=0.3\n",
    "        )\n",
    "        \n",
    "        response_text = completion.choices[0].message.content.strip()\n",
    "        \n",
    "        # Remove markdown JSON formatting if present\n",
    "        response_text = re.sub(r'^```json\\n?|```$', '', response_text).strip()\n",
    "        \n",
    "        return json.loads(response_text)  # Ensure valid JSON\n",
    "    \n",
    "    except json.JSONDecodeError as e:\n",
    "        print(\"Error parsing JSON from OpenAI response:\", str(e))\n",
    "        print(\"Raw response:\", response_text)\n",
    "        return {}  # Return empty dictionary in case of failure"
   ]
  },
  {
   "cell_type": "code",
   "execution_count": 60,
   "metadata": {},
   "outputs": [
    {
     "name": "stdout",
     "output_type": "stream",
     "text": [
      "Extracted Entities: {\n",
      "    \"date\": \"22nd February 2023\",\n",
      "    \"location\": \"Emly, County Tipperary, Ireland\",\n",
      "    \"regulatory_body\": \"Railway Accident Investigation Unit (RAIU)\"\n",
      "}\n"
     ]
    }
   ],
   "source": [
    "# Test GPT-4o-mini entity extraction\n",
    "entity_json = extract_entities(pdf_text)\n",
    "print(\"Extracted Entities:\", json.dumps(entity_json, indent=4))"
   ]
  },
  {
   "cell_type": "code",
   "execution_count": 74,
   "metadata": {},
   "outputs": [
    {
     "name": "stdout",
     "output_type": "stream",
     "text": [
      "{\"date\": \"22nd February 2023\", \"location\": \"Emly, County Tipperary, Ireland\", \"regulatory_body\": \"Railway Accident Investigation Unit (RAIU)\"}\n"
     ]
    }
   ],
   "source": [
    "print(json.dumps(entity_json))"
   ]
  },
  {
   "cell_type": "code",
   "execution_count": 70,
   "metadata": {},
   "outputs": [],
   "source": [
    "# Store in Neo4j\n",
    "def store_in_neo4j(json_data):\n",
    "    \"\"\"Store extracted data in Neo4j.\"\"\"\n",
    "    if not json_data:\n",
    "        print(\"No valid entities to store in Neo4j.\")\n",
    "        return\n",
    "    \n",
    "    with driver.session(database=NEO4J_DATABASE) as session:\n",
    "        for category, item in json_data.items():  # Iterate over key-value pairs\n",
    "            if isinstance(item, list):  # If it's a list, iterate over items\n",
    "                for value in item:\n",
    "                    session.run(\"\"\"\n",
    "                        MERGE (n:Entity {name: $name, category: $category})\n",
    "                    \"\"\", name=value, category=category)\n",
    "            else:  # If it's a single string, store it directly\n",
    "                session.run(\"\"\"\n",
    "                    MERGE (n:Entity {name: $name, category: $category})\n",
    "                \"\"\", name=item, category=category)\n"
   ]
  },
  {
   "cell_type": "code",
   "execution_count": 76,
   "metadata": {},
   "outputs": [],
   "source": [
    "# Store in Neo4j with Relationships\n",
    "def store_in_neo4j(json_data):\n",
    "    \"\"\"Store extracted data in Neo4j and create relationships.\"\"\"\n",
    "    if not json_data:\n",
    "        print(\"No valid entities to store in Neo4j.\")\n",
    "        return\n",
    "    \n",
    "    with driver.session(database=NEO4J_DATABASE) as session:\n",
    "        # Create nodes\n",
    "        session.run(\"\"\"\n",
    "            MERGE (d:Date {name: $date})\n",
    "        \"\"\", date=json_data.get(\"date\", \"Unknown\"))\n",
    "        \n",
    "        session.run(\"\"\"\n",
    "            MERGE (l:Location {name: $location})\n",
    "        \"\"\", location=json_data.get(\"location\", \"Unknown\"))\n",
    "        \n",
    "        session.run(\"\"\"\n",
    "            MERGE (r:RegulatoryBody {name: $regulatory_body})\n",
    "        \"\"\", regulatory_body=json_data.get(\"regulatory_body\", \"Unknown\"))\n",
    "        \n",
    "        # Create relationships\n",
    "        session.run(\"\"\"\n",
    "            MATCH (d:Date {name: $date}), (l:Location {name: $location})\n",
    "            MERGE (d)-[:OCCURRED_AT]->(l)\n",
    "        \"\"\", date=json_data.get(\"date\", \"Unknown\"), location=json_data.get(\"location\", \"Unknown\"))\n",
    "        \n",
    "        session.run(\"\"\"\n",
    "            MATCH (l:Location {name: $location}), (r:RegulatoryBody {name: $regulatory_body})\n",
    "            MERGE (l)-[:REGULATED_BY]->(r)\n",
    "        \"\"\", location=json_data.get(\"location\", \"Unknown\"), regulatory_body=json_data.get(\"regulatory_body\", \"Unknown\"))"
   ]
  },
  {
   "cell_type": "code",
   "execution_count": 77,
   "metadata": {},
   "outputs": [
    {
     "name": "stdout",
     "output_type": "stream",
     "text": [
      "Data stored in Neo4j successfully.\n"
     ]
    }
   ],
   "source": [
    "# Store extracted entities into Neo4j\n",
    "try:\n",
    "    db_result = store_in_neo4j(entity_json)\n",
    "    print(\"Data stored in Neo4j successfully.\")\n",
    "except Exception as e:\n",
    "    print(\"Failed to store data in Neo4j:\", str(e))"
   ]
  },
  {
   "cell_type": "code",
   "execution_count": null,
   "metadata": {},
   "outputs": [],
   "source": [
    "# Close Neo4j connection\n",
    "driver.close()"
   ]
  },
  {
   "cell_type": "code",
   "execution_count": null,
   "metadata": {},
   "outputs": [],
   "source": []
  },
  {
   "cell_type": "code",
   "execution_count": null,
   "metadata": {},
   "outputs": [],
   "source": []
  },
  {
   "cell_type": "code",
   "execution_count": null,
   "metadata": {},
   "outputs": [],
   "source": []
  },
  {
   "cell_type": "code",
   "execution_count": null,
   "metadata": {},
   "outputs": [],
   "source": []
  }
 ],
 "metadata": {
  "kernelspec": {
   "display_name": "master_thesis",
   "language": "python",
   "name": "python3"
  },
  "language_info": {
   "codemirror_mode": {
    "name": "ipython",
    "version": 3
   },
   "file_extension": ".py",
   "mimetype": "text/x-python",
   "name": "python",
   "nbconvert_exporter": "python",
   "pygments_lexer": "ipython3",
   "version": "3.12.9"
  }
 },
 "nbformat": 4,
 "nbformat_minor": 2
}
