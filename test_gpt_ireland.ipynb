{
 "cells": [
  {
   "cell_type": "markdown",
   "metadata": {},
   "source": [
    "# Package Loading"
   ]
  },
  {
   "cell_type": "code",
   "execution_count": 194,
   "metadata": {},
   "outputs": [],
   "source": [
    "# Standard Library\n",
    "import json\n",
    "import os\n",
    "import re\n",
    "\n",
    "# Data Manipulation\n",
    "import pandas as pd\n",
    "import numpy as np\n",
    "\n",
    "# PDFs\n",
    "import pdfplumber\n",
    "\n",
    "# LLMs\n",
    "import faiss\n",
    "from langchain.text_splitter import RecursiveCharacterTextSplitter\n",
    "from langchain.schema import Document\n",
    "from langchain_community.vectorstores import FAISS\n",
    "from langchain_community.graphs.graph_document import (\n",
    "    GraphDocument,\n",
    "    Node as BaseNode,\n",
    "    Relationship as BaseRelationship,\n",
    ")\n",
    "from langchain_huggingface import HuggingFaceEmbeddings\n",
    "from openai import OpenAI\n",
    "import tiktoken \n",
    "\n",
    "# Neo4j\n",
    "from neo4j import GraphDatabase\n",
    "from neo4j.exceptions import AuthError\n",
    "\n",
    "# Typing & Validation\n",
    "from pydantic import BaseModel, Field\n",
    "from typing import Any, Dict, List, Optional"
   ]
  },
  {
   "cell_type": "markdown",
   "metadata": {},
   "source": [
    "# Raw Data Extraction"
   ]
  },
  {
   "cell_type": "code",
   "execution_count": 2,
   "metadata": {},
   "outputs": [
    {
     "name": "stdout",
     "output_type": "stream",
     "text": [
      "IE-10375 - 210827 Collision with track equipment.pdf\n",
      "IE-10397 - 211207 Clontarf.pdf\n",
      "IE-10404 - 230222 Broken Rail Emly.pdf\n",
      "IE-200608 BnM Collision LC Offaly.pdf\n",
      "IE-6218-200111 Collision RRME Rosslare.pdf\n",
      "IE-6262-200429 LC Collision XM240.pdf\n",
      "IE-6291-200524 LC XA068 Ashfield.pdf\n",
      "IE-6305 - 200707_locomotive_224.pdf\n"
     ]
    }
   ],
   "source": [
    "# Define the directory containing PDFs\n",
    "pdf_directory = \"./reports_ie/\"\n",
    "\n",
    "# List all PDF files in the directory\n",
    "pdf_files = [f for f in os.listdir(pdf_directory) if f.lower().endswith(\".pdf\")]\n",
    "\n",
    "for file in pdf_files:\n",
    "    print(file)"
   ]
  },
  {
   "cell_type": "code",
   "execution_count": 107,
   "metadata": {},
   "outputs": [],
   "source": [
    "# Specify file name that you want to process\n",
    "pdf_name = \"IE-6305 - 200707_locomotive_224.pdf\""
   ]
  },
  {
   "cell_type": "code",
   "execution_count": 108,
   "metadata": {},
   "outputs": [
    {
     "name": "stdout",
     "output_type": "stream",
     "text": [
      "[Page 4]\n",
      "Summary\n",
      "Iarnród Éireann (IÉ) 201 Class Locomotives were manufactured by General Motors (GM) in\n",
      "Canada and entered service in 1994. Locomotive 224 had its engine and generator removed\n",
      "in 2010 and 2019 for maintenance. When the engine and generator was removed cracks were\n",
      "identified in the Bed Plate (non-structural component) between the two Chassis Plates\n",
      "(structural component) of the Locomotive. IÉ carried out weld repairs to the Bed Plate but the\n",
      "weld repair did not conform to the EN15\n"
     ]
    }
   ],
   "source": [
    "# Define regex patterns to identify the start of the summary and contents sections\n",
    "SUMMARY_PATTERN = re.compile(r\"^summary\", re.IGNORECASE)\n",
    "CONTENTS_PATTERN = re.compile(r\"^contents\", re.IGNORECASE)\n",
    "\n",
    "# Define function to extract the summary section from Ireland reports\n",
    "def extract_summary_section(pdf_path: str, header_lines: int = 1) -> str:\n",
    "    \"\"\"\n",
    "    Extracts text from 'Summary' to 'Contents' in an Irish rail report PDF.\n",
    "    If no summary section is found, returns the text from all pages.\n",
    "    \"\"\"\n",
    "    if not os.path.exists(pdf_path):\n",
    "        raise FileNotFoundError(f\"File not found: {pdf_path}\")\n",
    "\n",
    "    summary_text = \"\"\n",
    "    full_text = \"\"\n",
    "    capturing = False  \n",
    "\n",
    "    with pdfplumber.open(pdf_path) as pdf:\n",
    "        for page in pdf.pages:\n",
    "            page_text = page.extract_text()\n",
    "            if page_text:\n",
    "                text_lines = page_text.split(\"\\n\")\n",
    "                text_without_header = text_lines[header_lines:]\n",
    "                page_content = f\"[Page {page.page_number}]\\n\" + \"\\n\".join(text_without_header) + \"\\n\\n\"\n",
    "\n",
    "                # Always append to full_text\n",
    "                full_text += page_content\n",
    "\n",
    "                if text_without_header:\n",
    "                    first_line = text_without_header[0].strip().lower()\n",
    "\n",
    "                    if SUMMARY_PATTERN.match(first_line):\n",
    "                        capturing = True\n",
    "                    \n",
    "                    if CONTENTS_PATTERN.match(first_line) and capturing:\n",
    "                        # Stop capturing when \"Contents\" is found after summary started.\n",
    "                        break\n",
    "                    \n",
    "                    if capturing:\n",
    "                        summary_text += page_content\n",
    "\n",
    "    if not summary_text:\n",
    "        print(f\"Warning: No summary section found in {pdf_path}. Returning full text.\")\n",
    "        return full_text\n",
    "\n",
    "    return summary_text\n",
    "\n",
    "# Example usage:\n",
    "pdf_text = extract_summary_section(f\"./reports_ie/{pdf_name}\", header_lines=1)\n",
    "print(pdf_text[:500])"
   ]
  },
  {
   "cell_type": "markdown",
   "metadata": {},
   "source": [
    "# Langchain Chunk Splitting"
   ]
  },
  {
   "cell_type": "code",
   "execution_count": 109,
   "metadata": {},
   "outputs": [
    {
     "name": "stdout",
     "output_type": "stream",
     "text": [
      "Total chunks: 4\n",
      "First chunk:\n",
      "[Page 4]\n",
      "Summary\n",
      "Iarnród Éireann (IÉ) 201 Class Locomotives were manufactured by General Motors (GM) in\n",
      "Canada and entered service in 1994. Locomotive 224 had its engine and generator removed\n",
      "in 2010 and 2019 for maintenance. When the engine and generator was removed cracks were\n",
      "identified in the Bed Plate (non-structural component) between the two Chassis Plates\n",
      "(structural component) of the Locomotive. IÉ carried out weld repairs to the Bed Plate but the\n",
      "weld repair did not conform to the EN15085 2007 standard series, entitled, “Railway\n",
      "applications - Welding of railway vehicles and components” or any IÉ approved written\n",
      "specification; and, on one occasion (in 2010 or 2019) the weld repair was unnecessarily\n",
      "continued from the Bed Plate into the Chassis Plate.\n",
      "On 6th July 2020, the 14:25 hrs Cork Kent to Dublin Heuston passenger service operated with\n",
      "Locomotive 224 at the rear. Locomotive 224 experienced a coolant leak and electrical fault\n",
      "that caused the locomotive to shut down while approaching Limerick Junction. The train was\n",
      "deemed a failure and hauled to Heuston Station, Dublin.\n",
      "On the 7th July 2020, while Locomotive 224 was at Heuston Station awaiting transfer to\n",
      "Inchicore Works, a driver observed the body of Locomotive 224 was sagging near the centre\n",
      "point and reported it to his supervisor who in turn alerted the relevant parties. On inspection,\n",
      "by the Chief Mechanical Engineer’s (CME) Department’s maintenance staff a main frame\n",
      "crack was identified. Locomotive 224 was then shunted to Inchicore Works for a more\n",
      "thorough examination.\n",
      "At Inchicore Works, the Locomotive’s engine and generator were removed to give a clear view\n",
      "of the damage. The crack was examined by IÉs Chief Chemist and Metallurgist, who was\n",
      "independently supervised by a metallurgist specialist, contracted by the RAIU. The\n",
      "metallurgical investigation identified that the failure occurred in the weld repair of the Bed Plate\n",
      "that was continued into the Chassis Plate.\n"
     ]
    }
   ],
   "source": [
    "def split_text_into_chunks(text: str, chunk_size: int = 2000, chunk_overlap: int = 300) -> list[str]:\n",
    "    \"\"\"\n",
    "    Splits text into smaller overlapping chunks using LangChain's text splitter.\n",
    "    \"\"\"\n",
    "    if not text:\n",
    "        print(\"Warning: No text provided for splitting.\")\n",
    "        return []\n",
    "\n",
    "    if len(text) <= chunk_size:\n",
    "        return [text]  # If text is smaller than chunk size, return as single chunk\n",
    "\n",
    "    text_splitter = RecursiveCharacterTextSplitter(\n",
    "        chunk_size=chunk_size, \n",
    "        chunk_overlap=chunk_overlap\n",
    "    )\n",
    "    return text_splitter.split_text(text)\n",
    "\n",
    "# Split the extracted text\n",
    "text_chunks = split_text_into_chunks(pdf_text)\n",
    "\n",
    "# Print the number of chunks and a sample chunk\n",
    "print(f\"Total chunks: {len(text_chunks)}\\nFirst chunk:\\n{text_chunks[0]}\")"
   ]
  },
  {
   "cell_type": "markdown",
   "metadata": {},
   "source": [
    "# Relevant Chunk Retrieval"
   ]
  },
  {
   "cell_type": "markdown",
   "metadata": {},
   "source": [
    "### Vector-based Retrieval"
   ]
  },
  {
   "cell_type": "code",
   "execution_count": 110,
   "metadata": {},
   "outputs": [],
   "source": [
    "# Define embeddings \n",
    "embeddings = HuggingFaceEmbeddings(model_name=\"all-MiniLM-L6-v2\")"
   ]
  },
  {
   "cell_type": "code",
   "execution_count": 111,
   "metadata": {},
   "outputs": [
    {
     "name": "stdout",
     "output_type": "stream",
     "text": [
      "Stored 4 chunks in FAISS.\n"
     ]
    }
   ],
   "source": [
    "# Store text chunks into FAISS vector store\n",
    "vectorstore = FAISS.from_texts(text_chunks, embeddings)\n",
    "\n",
    "print(f\"Stored {len(text_chunks)} chunks in FAISS.\")"
   ]
  },
  {
   "cell_type": "code",
   "execution_count": 112,
   "metadata": {},
   "outputs": [
    {
     "name": "stdout",
     "output_type": "stream",
     "text": [
      "Searching for entity: unique accident\n",
      "Searching for entity: accident type\n",
      "Searching for entity: date\n",
      "Searching for entity: time\n",
      "Searching for entity: country\n",
      "Searching for entity: regulatory body\n",
      "\n",
      "Found 4 unique relevant chunks.\n",
      "\n",
      "Most Relevant Chunks Combined:\n",
      "[Page 5]\n",
      "The Chassis Plate of Locomotive 224 failed as a result of the following causal factor (CaF):\n",
      "• CaF-01 – The flat Bed Plates were not replaced with cupped Bed Plates when Bed Plate\n",
      "cracks were identified as set out in the OEM Service Advisory SA 08-007;\n",
      "• CaF-02 – During a weld repair of the Bed Plate, the Bed Plate was unnecessarily welded\n",
      "to the Chassis Plate.\n",
      "Contributory factors (CoF) were identified as:\n",
      "• CoF-01 – IÉ-RU had not adopted the EN 15085 standard series, entitled “Railway\n",
      "applications – Welding of railway vehicles and components” which were first published in\n",
      "2007; although it is noted that this standard series is not mandatory;\n",
      "• CoF-02 – While Service Advisory (SA 08-007) was available to the welder carrying out the\n",
      "repair through the CME Maintenance work stations, the implications of the modification\n",
      "were not discussed at IÉ management level prior to the incident and material for the\n",
      "modification was not procured.\n",
      "A systemic factor (SF) was identified as:\n",
      "• SF-01 – There was an over-reliance on the knowledge of the welder to develop and carry\n",
      "out a repair procedure without any formal instruction or supervision.\n",
      "As a result, the RAIU made the following two safety recommendations:\n",
      "• 2021004-01 – IÉ-RU CME should review all weld repairs carried out to structures of all\n",
      "rolling stock to assess the risk posed by such weld repairs and mitigate against the failure\n",
      "mode;\n",
      "• 2021004-02 – IÉ-RU CME should develop a procedure for evaluating maintenance advice\n",
      "received from OEMs or other railway organisations to determine applicability to IÉ fleets\n",
      "and assess any associated risks.\n",
      "Although not causal, contributing or systemic, the RAIU make the following additional\n",
      "observation (AO):\n",
      "• AO-01 – The 201 Locomotive axle loads recorded by the acoustic bearing monitors\n",
      "indicate that the specified axle load may have been exceeded.\n",
      "As a result, the RAIU made the following additional safety recommendation\n",
      "observation (AO):\n",
      "• AO-01 – The 201 Locomotive axle loads recorded by the acoustic bearing monitors\n",
      "indicate that the specified axle load may have been exceeded.\n",
      "As a result, the RAIU made the following additional safety recommendation\n",
      "• 2021004-03 – IÉ-RU CME and IÉ-Infrastructure Manager (IM) Chief Civil Engineer’s\n",
      "(CCE) Department should carry out a risk assessment on the implications of the increased\n",
      "axle load of a 201 Locomotive.\n",
      "Railway Accident Investigation Unit iv\n",
      "independently supervised by a metallurgist specialist, contracted by the RAIU. The\n",
      "metallurgical investigation identified that the failure occurred in the weld repair of the Bed Plate\n",
      "that was continued into the Chassis Plate.\n",
      "In service, cyclic loading, particularly bending stress on the underside of the Chassis Plate\n",
      "(that had high residual tensile stresses generated from within the repair weld), resulted in\n",
      "multiple fatigue initiation sites developing and merging into a common crack that propagated\n",
      "through the Chassis Plate during the journey causing the Chassis Plate to fracture. The loss\n",
      "of integrity to the structure of Locomotive 224 resulted in a coolant pipe been disturbed and\n",
      "subsequent leak and the misalignment of the generator resulting in and electrical shut down\n",
      "fault.\n",
      "Railway Accident Investigation Unit iii\n",
      "[Page 4]\n",
      "Summary\n",
      "Iarnród Éireann (IÉ) 201 Class Locomotives were manufactured by General Motors (GM) in\n",
      "Canada and entered service in 1994. Locomotive 224 had its engine and generator removed\n",
      "in 2010 and 2019 for maintenance. When the engine and generator was removed cracks were\n",
      "identified in the Bed Plate (non-structural component) between the two Chassis Plates\n",
      "(structural component) of the Locomotive. IÉ carried out weld repairs to the Bed Plate but the\n",
      "weld repair did not conform to the EN15085 2007 standard series, entitled, “Railway\n",
      "applications - Welding of railway vehicles and components” or any IÉ approved written\n",
      "specification; and, on one occasion (in 2010 or 2019) the weld repair was unnecessarily\n",
      "continued from the Bed Plate into the Chassis Plate.\n",
      "On 6th July 2020, the 14:25 hrs Cork Kent to Dublin Heuston passenger service operated with\n",
      "Locomotive 224 at the rear. Locomotive 224 experienced a coolant leak and electrical fault\n",
      "that caused the locomotive to shut down while approaching Limerick Junction. The train was\n",
      "deemed a failure and hauled to Heuston Station, Dublin.\n",
      "On the 7th July 2020, while Locomotive 224 was at Heuston Station awaiting transfer to\n",
      "Inchicore Works, a driver observed the body of Locomotive 224 was sagging near the centre\n",
      "point and reported it to his supervisor who in turn alerted the relevant parties. On inspection,\n",
      "by the Chief Mechanical Engineer’s (CME) Department’s maintenance staff a main frame\n",
      "crack was identified. Locomotive 224 was then shunted to Inchicore Works for a more\n",
      "thorough examination.\n",
      "At Inchicore Works, the Locomotive’s engine and generator were removed to give a clear view\n",
      "of the damage. The crack was examined by IÉs Chief Chemist and Metallurgist, who was\n",
      "independently supervised by a metallurgist specialist, contracted by the RAIU. The\n",
      "metallurgical investigation identified that the failure occurred in the weld repair of the Bed Plate\n",
      "that was continued into the Chassis Plate.\n"
     ]
    }
   ],
   "source": [
    "# Define entities of interest that you'd like to extract chunks for from the vector store\n",
    "entities_of_interest = [\"unique accident\", \"accident type\", \"date\", \"time\", \"country\", \"regulatory body\"]\n",
    "\n",
    "# Function for extracting most relevant chunks from vector store\n",
    "def find_most_relevant_chunks(entities: list[str], top_k: int) -> str:\n",
    "    \"\"\"\n",
    "    Finds the most relevant text chunks for each entity of interest\n",
    "    using FAISS similarity search and removes duplicates (if same chunk retrieved).\n",
    "    \n",
    "    Args:\n",
    "    - entities (list): List of entity names to query (e.g., [\"date\", \"location\"])\n",
    "    - top_k (int): Number of chunks to retrieve per entity\n",
    "    \n",
    "    Returns:\n",
    "    - unique_relevant_chunks (list): Deduplicated relevant chunks\n",
    "    \"\"\"\n",
    "    retrieved_chunks = set()  # Use a set to avoid duplicate chunks\n",
    "\n",
    "    for entity in entities:\n",
    "        print(f\"Searching for entity: {entity}\")\n",
    "        query = f\"Extract details specifically about {entity}. Focus on structured information.\"\n",
    "        found_chunks = vectorstore.similarity_search(query, k=top_k)\n",
    "\n",
    "        for chunk in found_chunks:\n",
    "            retrieved_chunks.add(chunk.page_content)  # Add chunk if not already present\n",
    "\n",
    "    # Convert set back to a list and join into a single string\n",
    "    unique_relevant_chunks = list(retrieved_chunks)\n",
    "    combined_text = \"\\n\".join(unique_relevant_chunks)\n",
    "\n",
    "    print(f\"\\nFound {len(unique_relevant_chunks)} unique relevant chunks.\")\n",
    "    return combined_text\n",
    "\n",
    "# Find & combine relevant chunks\n",
    "relevant_text = find_most_relevant_chunks(entities_of_interest, top_k=3)\n",
    "\n",
    "print(f\"\\nMost Relevant Chunks Combined:\\n{relevant_text}\")"
   ]
  },
  {
   "cell_type": "markdown",
   "metadata": {},
   "source": [
    "## Instantiating GPT"
   ]
  },
  {
   "cell_type": "code",
   "execution_count": 73,
   "metadata": {},
   "outputs": [],
   "source": [
    "# Set the API key and model name\n",
    "MODEL=\"gpt-4o-mini\"\n",
    "\n",
    "# Load OpenAI API Key from requirements file\n",
    "with open(\"gpt-personal-key.txt\", \"r\") as file:\n",
    "    OPENAI_API_KEY = file.read().strip()\n",
    "\n",
    "# Instantiate OpenAI client\n",
    "client = OpenAI(api_key=OPENAI_API_KEY)"
   ]
  },
  {
   "cell_type": "markdown",
   "metadata": {},
   "source": [
    "## Token Count"
   ]
  },
  {
   "cell_type": "code",
   "execution_count": 10,
   "metadata": {},
   "outputs": [],
   "source": [
    "# Function for calculating tokens\n",
    "def count_tokens(text: str, model: str = \"gpt-4o\") -> int:\n",
    "    \"\"\"Efficiently counts tokens in a text for a given OpenAI model.\"\"\"\n",
    "    if model not in count_tokens.encoders:\n",
    "        count_tokens.encoders[model] = tiktoken.encoding_for_model(model)\n",
    "    return len(count_tokens.encoders[model].encode(text))\n",
    "\n",
    "count_tokens.encoders = {}"
   ]
  },
  {
   "cell_type": "markdown",
   "metadata": {},
   "source": [
    "## Entity Extraction"
   ]
  },
  {
   "cell_type": "code",
   "execution_count": 11,
   "metadata": {},
   "outputs": [],
   "source": [
    "# Define classes for the entities extraction\n",
    "class Property(BaseModel):\n",
    "    \"\"\"A single property consisting of key and value.\"\"\"\n",
    "    key: str = Field(..., description=\"Property key\")\n",
    "    value: str = Field(..., description=\"Property value\")\n",
    "\n",
    "class Node(BaseNode):\n",
    "    \"\"\"Represents an entity in the railway accident knowledge graph.\"\"\"\n",
    "    properties: Optional[List[Property]] = Field(\n",
    "        None, description=\"List of node properties\")\n",
    "\n",
    "class Relationship(BaseRelationship):\n",
    "    \"\"\"Represents a relationship between two entities in the graph.\"\"\"\n",
    "    properties: Optional[List[Property]] = Field(\n",
    "        None, description=\"List of relationship properties\"\n",
    "    )\n",
    "\n",
    "class KnowledgeGraph(BaseModel):\n",
    "    \"\"\"A knowledge graph storing railway accident data.\"\"\"\n",
    "    nodes: List[Node] = Field(\n",
    "        ..., description=\"List of nodes in the knowledge graph\")\n",
    "    rels: List[Relationship] = Field(\n",
    "        ..., description=\"List of relationships in the knowledge graph\"\n",
    "    )"
   ]
  },
  {
   "cell_type": "code",
   "execution_count": 12,
   "metadata": {},
   "outputs": [],
   "source": [
    "def call_gpt(prompt, temperature=1):\n",
    "    \"\"\"\n",
    "    Calls the GPT model with the structured prompt and returns the raw response.\n",
    "    \"\"\"\n",
    "    completion = client.chat.completions.create(\n",
    "        model=MODEL,\n",
    "        messages=[\n",
    "            {\"role\": \"system\", \"content\": \"You are an expert in analyzing railway accident reports. Return output in JSON format only.\"},\n",
    "            {\"role\": \"user\", \"content\": prompt}\n",
    "        ],\n",
    "        temperature=temperature\n",
    "    )\n",
    "    \n",
    "    response_text = completion.choices[0].message.content.strip()\n",
    "    response_text = re.sub(r'^```json\\n?|```$', '', response_text).strip()\n",
    "    \n",
    "    return response_text"
   ]
  },
  {
   "cell_type": "code",
   "execution_count": 13,
   "metadata": {},
   "outputs": [],
   "source": [
    "def build_prompt(text):\n",
    "    \"\"\"\n",
    "    Constructs a structured prompt to extract entities and relationships for railway accidents.\n",
    "    \"\"\"\n",
    "    \n",
    "    schema_example = \"\"\"\n",
    "    {\n",
    "        \"nodes\": [\n",
    "            {\"id\": \"Dublin-Cork Accident\", \"type\": \"UniqueAccident\"},\n",
    "            {\"id\": \"Train Derailment\", \"type\": \"AccidentType\"},\n",
    "            {\"id\": \"23/12/2021\", \"type\": \"Date\"},\n",
    "            {\"id\": \"16:32\", \"type\": \"Time\"},\n",
    "            {\"id\": \"Ireland\", \"type\": \"Country\"},\n",
    "            {\"id\": \"European Rail Agency\", \"type\": \"RegulatoryBody\"}\n",
    "        ],\n",
    "        \"rels\": [\n",
    "            {\"source\": \"Dublin-Cork Accident\", \"target\": \"Ireland\", \"type\": \"occurred_in\"},\n",
    "            {\"source\": \"Dublin-Cork Accident\", \"target\": \"\", \"type\": \"is_type\"},\n",
    "            {\"source\": \"Dublin-Cork Accident\", \"target\": \"European Rail Agency\", \"type\": \"investigated_by\"},\n",
    "            {\"source\": \"Dublin-Cork Accident\", \"target\": \"23/12/2021\", \"type\": \"has_date\"},\n",
    "            {\"source\": \"Dublin-Cork Accident\", \"target\": \"16:32\", \"type\": \"has_time\"}\n",
    "        ]\n",
    "    }\n",
    "    \"\"\"\n",
    "\n",
    "    return f\"\"\"\n",
    "    Analyze the following railway accident report context and extract structured knowledge.\n",
    "\n",
    "    Return a JSON object with:\n",
    "    - `nodes`: A list of entities, specifically {entities_of_interest}.\n",
    "    - `rels`: A list of relationships linking entities.\n",
    "\n",
    "    Look at the JSON schema example response and follow it closely. Pay attention to date and type formats (e.g., EU date format, 24-hour time).\n",
    "    Ensure that the `source` and `target` nodes in `rels` are the same entities from the `nodes` list, and not different ones. \n",
    "    Make sure to map all nodes with other important entities, e.g., (node UniqueAccident has_date node Date, node UniqueAccident occurred_at node Country).\n",
    "    DO NOT map entities like (node Date is_date to node Time) or (node AccidentType is_type to node Country). This is incorrect.\n",
    "    The `type` field in `rels` should be a verb phrase (e.g., \"occurred_in\", \"investigated_by\").\n",
    "    And the `id` field in `nodes` should be the exact text of the entity, not a description or a summary.\n",
    "\n",
    "    Schema example:\n",
    "    {schema_example}\n",
    "\n",
    "    Accident report context:\n",
    "    {text}\n",
    "\n",
    "    JSON:\n",
    "    \"\"\""
   ]
  },
  {
   "cell_type": "code",
   "execution_count": 14,
   "metadata": {},
   "outputs": [],
   "source": [
    "def extract_knowledge_graph(text: str) -> Dict[str, Any]:\n",
    "    \"\"\"\n",
    "    Extracts entities & relationships from a railway accident report using GPT.\n",
    "    - First, counts tokens and allows user decision.\n",
    "    - If within limit, runs GPT and handles errors.\n",
    "    \"\"\"\n",
    "\n",
    "    # Build prompt\n",
    "    prompt = build_prompt(text)\n",
    "\n",
    "    # Call GPT\n",
    "    response_text = call_gpt(prompt)\n",
    "\n",
    "    try:\n",
    "        extracted_graph = json.loads(response_text)  # Ensure valid JSON\n",
    "        return extracted_graph  # Successfully parsed knowledge graph\n",
    "    except json.JSONDecodeError as e:\n",
    "        print(\"Error parsing JSON:\", str(e))\n",
    "        print(\"Storing raw response for review...\")\n",
    "\n",
    "        # Save the faulty response for debugging\n",
    "        with open(\"failed_graph_extractions.json\", \"a\") as file:\n",
    "            json.dump({\"input_text\": text[:1000], \"raw_output\": response_text}, file, indent=4)\n",
    "            file.write(\"\\n\")\n",
    "\n",
    "        return {}  # Return empty dictionary in case of failure"
   ]
  },
  {
   "cell_type": "code",
   "execution_count": 113,
   "metadata": {},
   "outputs": [
    {
     "name": "stdout",
     "output_type": "stream",
     "text": [
      "Token count for prompt: 1715\n"
     ]
    }
   ],
   "source": [
    "# Define token limit for function execution\n",
    "token_limit = 4096\n",
    "\n",
    "# Build the prompt and count tokens\n",
    "prompt = build_prompt(relevant_text)\n",
    "token_count = count_tokens(prompt)\n",
    "estimated_cost = token_count * 0.00000015  # Approximate OpenAI pricing\n",
    "\n",
    "# Check token limit\n",
    "if token_count > token_limit:\n",
    "    print(f\"Token count is too high: {token_count}\\nPlease reduce the chunk size or refine the prompt.\")\n",
    "else:\n",
    "    print(f\"Token count for prompt: {token_count}\")"
   ]
  },
  {
   "cell_type": "code",
   "execution_count": 114,
   "metadata": {},
   "outputs": [
    {
     "name": "stdout",
     "output_type": "stream",
     "text": [
      "Sending request to GPT...\n"
     ]
    },
    {
     "data": {
      "text/plain": [
       "{'nodes': [{'id': 'Cork Kent to Dublin Heuston Incident',\n",
       "   'type': 'UniqueAccident'},\n",
       "  {'id': 'Train Mechanical Failure', 'type': 'AccidentType'},\n",
       "  {'id': '06/07/2020', 'type': 'Date'},\n",
       "  {'id': '14:25', 'type': 'Time'},\n",
       "  {'id': 'Ireland', 'type': 'Country'},\n",
       "  {'id': 'Railway Accident Investigation Unit', 'type': 'RegulatoryBody'}],\n",
       " 'rels': [{'source': 'Cork Kent to Dublin Heuston Incident',\n",
       "   'target': 'Ireland',\n",
       "   'type': 'occurred_in'},\n",
       "  {'source': 'Cork Kent to Dublin Heuston Incident',\n",
       "   'target': 'Train Mechanical Failure',\n",
       "   'type': 'is_type'},\n",
       "  {'source': 'Cork Kent to Dublin Heuston Incident',\n",
       "   'target': 'Railway Accident Investigation Unit',\n",
       "   'type': 'investigated_by'},\n",
       "  {'source': 'Cork Kent to Dublin Heuston Incident',\n",
       "   'target': '06/07/2020',\n",
       "   'type': 'has_date'},\n",
       "  {'source': 'Cork Kent to Dublin Heuston Incident',\n",
       "   'target': '14:25',\n",
       "   'type': 'has_time'}]}"
      ]
     },
     "execution_count": 114,
     "metadata": {},
     "output_type": "execute_result"
    }
   ],
   "source": [
    "# Confirm Execution\n",
    "proceed = input(\"Do you want to proceed with information extraction? (yes/no): \").strip().lower()\n",
    "if proceed != \"yes\":\n",
    "    print(\"Extraction aborted by user.\")\n",
    "else:\n",
    "    print(\"Sending request to GPT...\")\n",
    "    response_json = extract_knowledge_graph(pdf_text)\n",
    "\n",
    "response_json"
   ]
  },
  {
   "cell_type": "code",
   "execution_count": 115,
   "metadata": {},
   "outputs": [
    {
     "name": "stdout",
     "output_type": "stream",
     "text": [
      "Successfully added IE-6305 - 200707_locomotive_224.pdf - Iteration 1 to results!\n"
     ]
    }
   ],
   "source": [
    "# Define CSV storage file\n",
    "CSV_FILE = \"pdf_processing_results.csv\"\n",
    "\n",
    "def append_pdf_json_result(pdf_name: str, response_json: dict) -> pd.DataFrame:\n",
    "    \"\"\"\n",
    "    Appends the JSON output of response_json function to a DataFrame.\n",
    "    \n",
    "    - If the PDF has been processed before, it appends a **new row** instead of a new column.\n",
    "    - Prevents duplicate JSON entries for the same iteration.\n",
    "    - Ensures data is **stored in rows**, making querying and analysis easier.\n",
    "\n",
    "    Args:\n",
    "        pdf_name (str): Name of the processed PDF file.\n",
    "        response_json (dict): JSON response from the knowledge extraction process.\n",
    "\n",
    "    Returns:\n",
    "        pd.DataFrame: Updated DataFrame with the new result.\n",
    "    \"\"\"\n",
    "    # Convert JSON response to a formatted string for easy comparison\n",
    "    json_output = json.dumps(response_json, indent=2)\n",
    "\n",
    "    # Load existing results if the CSV exists\n",
    "    if os.path.exists(CSV_FILE):\n",
    "        df = pd.read_csv(CSV_FILE, dtype={\"iteration_number\": int})\n",
    "    else:\n",
    "        # Create an empty DataFrame with the correct schema\n",
    "        df = pd.DataFrame(columns=[\"pdf_name\", \"iteration_number\", \"json_output\"])\n",
    "\n",
    "    # Filter for the current PDF's past records\n",
    "    pdf_history = df[df[\"pdf_name\"] == pdf_name]\n",
    "\n",
    "    # Check for duplicates: If this JSON output already exists for the same PDF, skip re-adding\n",
    "    if not pdf_history.empty and json_output in pdf_history[\"json_output\"].values:\n",
    "        print(f\"No changes detected in JSON for {pdf_name}, skipping new entry.\")\n",
    "        return df  # Exit early if it's a duplicate\n",
    "\n",
    "    # Determine new iteration number\n",
    "    iteration_number = pdf_history[\"iteration_number\"].max() + 1 if not pdf_history.empty else 1\n",
    "\n",
    "    # Append new result\n",
    "    new_entry = pd.DataFrame({\"pdf_name\": [pdf_name], \"iteration_number\": [iteration_number], \"json_output\": [json_output]})\n",
    "    df = pd.concat([df, new_entry], ignore_index=True)\n",
    "\n",
    "    # Save back to CSV in **append mode** to avoid full file reads/writes\n",
    "    df.to_csv(CSV_FILE, index=False)\n",
    "\n",
    "    print(f\"Successfully added {pdf_name} - Iteration {iteration_number} to results!\")\n",
    "    return df\n",
    "\n",
    "# Example execution\n",
    "results_df = append_pdf_json_result(pdf_name, response_json)"
   ]
  },
  {
   "cell_type": "code",
   "execution_count": 116,
   "metadata": {},
   "outputs": [
    {
     "data": {
      "application/vnd.microsoft.datawrangler.viewer.v0+json": {
       "columns": [
        {
         "name": "index",
         "rawType": "int64",
         "type": "integer"
        },
        {
         "name": "pdf_name",
         "rawType": "object",
         "type": "string"
        },
        {
         "name": "iteration_number",
         "rawType": "int64",
         "type": "integer"
        },
        {
         "name": "json_output",
         "rawType": "object",
         "type": "string"
        }
       ],
       "conversionMethod": "pd.DataFrame",
       "ref": "cb759332-8528-40a1-875a-c2d37cdcb4c0",
       "rows": [
        [
         "0",
         "IE-10375 - 210827 Collision with track equipment.pdf",
         "1",
         "{\n  \"nodes\": [\n    {\n      \"id\": \"Train J283 Collision\",\n      \"type\": \"UniqueAccident\"\n    },\n    {\n      \"id\": \"Collision with Equipment\",\n      \"type\": \"AccidentType\"\n    },\n    {\n      \"id\": \"27/08/2021\",\n      \"type\": \"Date\"\n    },\n    {\n      \"id\": \"00:18\",\n      \"type\": \"Time\"\n    },\n    {\n      \"id\": \"Ireland\",\n      \"type\": \"Country\"\n    },\n    {\n      \"id\": \"Commission for Railway Regulation\",\n      \"type\": \"RegulatoryBody\"\n    }\n  ],\n  \"rels\": [\n    {\n      \"source\": \"Train J283 Collision\",\n      \"target\": \"Ireland\",\n      \"type\": \"occurred_in\"\n    },\n    {\n      \"source\": \"Train J283 Collision\",\n      \"target\": \"Collision with Equipment\",\n      \"type\": \"is_type\"\n    },\n    {\n      \"source\": \"Train J283 Collision\",\n      \"target\": \"Commission for Railway Regulation\",\n      \"type\": \"investigated_by\"\n    },\n    {\n      \"source\": \"Train J283 Collision\",\n      \"target\": \"27/08/2021\",\n      \"type\": \"has_date\"\n    },\n    {\n      \"source\": \"Train J283 Collision\",\n      \"target\": \"00:18\",\n      \"type\": \"has_time\"\n    }\n  ]\n}"
        ],
        [
         "1",
         "IE-10397 - 211207 Clontarf.pdf",
         "1",
         "{\n  \"nodes\": [\n    {\n      \"id\": \"Train E240 Double SPAD\",\n      \"type\": \"UniqueAccident\"\n    },\n    {\n      \"id\": \"Double SPAD\",\n      \"type\": \"AccidentType\"\n    },\n    {\n      \"id\": \"07/12/2021\",\n      \"type\": \"Date\"\n    },\n    {\n      \"id\": \"15:59\",\n      \"type\": \"Time\"\n    },\n    {\n      \"id\": \"Ireland\",\n      \"type\": \"Country\"\n    },\n    {\n      \"id\": \"Commission for Railway Regulation\",\n      \"type\": \"RegulatoryBody\"\n    }\n  ],\n  \"rels\": [\n    {\n      \"source\": \"Train E240 Double SPAD\",\n      \"target\": \"Ireland\",\n      \"type\": \"occurred_in\"\n    },\n    {\n      \"source\": \"Train E240 Double SPAD\",\n      \"target\": \"Double SPAD\",\n      \"type\": \"is_type\"\n    },\n    {\n      \"source\": \"Train E240 Double SPAD\",\n      \"target\": \"Commission for Railway Regulation\",\n      \"type\": \"investigated_by\"\n    },\n    {\n      \"source\": \"Train E240 Double SPAD\",\n      \"target\": \"07/12/2021\",\n      \"type\": \"has_date\"\n    },\n    {\n      \"source\": \"Train E240 Double SPAD\",\n      \"target\": \"15:59\",\n      \"type\": \"has_time\"\n    }\n  ]\n}"
        ],
        [
         "2",
         "IE-10404 - 230222 Broken Rail Emly.pdf",
         "1",
         "{\n  \"nodes\": [\n    {\n      \"id\": \"Broken Rail Incident\",\n      \"type\": \"UniqueAccident\"\n    },\n    {\n      \"id\": \"Incident - Infrastructure\",\n      \"type\": \"AccidentType\"\n    },\n    {\n      \"id\": \"22/02/2023\",\n      \"type\": \"Date\"\n    },\n    {\n      \"id\": \"07:56\",\n      \"type\": \"Time\"\n    },\n    {\n      \"id\": \"Ireland\",\n      \"type\": \"Country\"\n    },\n    {\n      \"id\": \"Commission for Railway Regulation\",\n      \"type\": \"RegulatoryBody\"\n    }\n  ],\n  \"rels\": [\n    {\n      \"source\": \"Broken Rail Incident\",\n      \"target\": \"Ireland\",\n      \"type\": \"occurred_in\"\n    },\n    {\n      \"source\": \"Broken Rail Incident\",\n      \"target\": \"Incident - Infrastructure\",\n      \"type\": \"is_type\"\n    },\n    {\n      \"source\": \"Broken Rail Incident\",\n      \"target\": \"Commission for Railway Regulation\",\n      \"type\": \"investigated_by\"\n    },\n    {\n      \"source\": \"Broken Rail Incident\",\n      \"target\": \"22/02/2023\",\n      \"type\": \"has_date\"\n    },\n    {\n      \"source\": \"Broken Rail Incident\",\n      \"target\": \"07:56\",\n      \"type\": \"has_time\"\n    }\n  ]\n}"
        ],
        [
         "3",
         "IE-200608 BnM Collision LC Offaly.pdf",
         "1",
         "{\n  \"nodes\": [\n    {\n      \"id\": \"BnM Flat Wagon Incident\",\n      \"type\": \"UniqueAccident\"\n    },\n    {\n      \"id\": \"Collision with Gates\",\n      \"type\": \"AccidentType\"\n    },\n    {\n      \"id\": \"08/06/2020\",\n      \"type\": \"Date\"\n    },\n    {\n      \"id\": \"13:15\",\n      \"type\": \"Time\"\n    },\n    {\n      \"id\": \"Ireland\",\n      \"type\": \"Country\"\n    },\n    {\n      \"id\": \"Railway Accident Investigation Unit\",\n      \"type\": \"RegulatoryBody\"\n    }\n  ],\n  \"rels\": [\n    {\n      \"source\": \"BnM Flat Wagon Incident\",\n      \"target\": \"Ireland\",\n      \"type\": \"occurred_in\"\n    },\n    {\n      \"source\": \"BnM Flat Wagon Incident\",\n      \"target\": \"Collision with Gates\",\n      \"type\": \"is_type\"\n    },\n    {\n      \"source\": \"BnM Flat Wagon Incident\",\n      \"target\": \"Railway Accident Investigation Unit\",\n      \"type\": \"investigated_by\"\n    },\n    {\n      \"source\": \"BnM Flat Wagon Incident\",\n      \"target\": \"08/06/2020\",\n      \"type\": \"has_date\"\n    },\n    {\n      \"source\": \"BnM Flat Wagon Incident\",\n      \"target\": \"13:15\",\n      \"type\": \"has_time\"\n    }\n  ]\n}"
        ],
        [
         "4",
         "IE-6218-200111 Collision RRME Rosslare.pdf",
         "1",
         "{\n  \"nodes\": [\n    {\n      \"id\": \"Collision of Train A602 with RMME\",\n      \"type\": \"UniqueAccident\"\n    },\n    {\n      \"id\": \"Train Collision\",\n      \"type\": \"AccidentType\"\n    },\n    {\n      \"id\": \"11/01/2020\",\n      \"type\": \"Date\"\n    },\n    {\n      \"id\": \"10:52\",\n      \"type\": \"Time\"\n    },\n    {\n      \"id\": \"Ireland\",\n      \"type\": \"Country\"\n    },\n    {\n      \"id\": \"Railway Accident Investigation Unit\",\n      \"type\": \"RegulatoryBody\"\n    }\n  ],\n  \"rels\": [\n    {\n      \"source\": \"Collision of Train A602 with RMME\",\n      \"target\": \"Ireland\",\n      \"type\": \"occurred_in\"\n    },\n    {\n      \"source\": \"Collision of Train A602 with RMME\",\n      \"target\": \"Train Collision\",\n      \"type\": \"is_type\"\n    },\n    {\n      \"source\": \"Collision of Train A602 with RMME\",\n      \"target\": \"Railway Accident Investigation Unit\",\n      \"type\": \"investigated_by\"\n    },\n    {\n      \"source\": \"Collision of Train A602 with RMME\",\n      \"target\": \"11/01/2020\",\n      \"type\": \"has_date\"\n    },\n    {\n      \"source\": \"Collision of Train A602 with RMME\",\n      \"target\": \"10:52\",\n      \"type\": \"has_time\"\n    }\n  ]\n}"
        ],
        [
         "5",
         "IE-6262-200429 LC Collision XM240.pdf",
         "1",
         "{\n  \"nodes\": [\n    {\n      \"id\": \"Kilnageer Level Crossing Accident\",\n      \"type\": \"UniqueAccident\"\n    },\n    {\n      \"id\": \"Train Collision\",\n      \"type\": \"AccidentType\"\n    },\n    {\n      \"id\": \"29/04/2020\",\n      \"type\": \"Date\"\n    },\n    {\n      \"id\": \"13:40\",\n      \"type\": \"Time\"\n    },\n    {\n      \"id\": \"Ireland\",\n      \"type\": \"Country\"\n    },\n    {\n      \"id\": \"Railway Accident Investigation Unit\",\n      \"type\": \"RegulatoryBody\"\n    }\n  ],\n  \"rels\": [\n    {\n      \"source\": \"Kilnageer Level Crossing Accident\",\n      \"target\": \"Ireland\",\n      \"type\": \"occurred_in\"\n    },\n    {\n      \"source\": \"Kilnageer Level Crossing Accident\",\n      \"target\": \"Train Collision\",\n      \"type\": \"is_type\"\n    },\n    {\n      \"source\": \"Kilnageer Level Crossing Accident\",\n      \"target\": \"Railway Accident Investigation Unit\",\n      \"type\": \"investigated_by\"\n    },\n    {\n      \"source\": \"Kilnageer Level Crossing Accident\",\n      \"target\": \"29/04/2020\",\n      \"type\": \"has_date\"\n    },\n    {\n      \"source\": \"Kilnageer Level Crossing Accident\",\n      \"target\": \"13:40\",\n      \"type\": \"has_time\"\n    }\n  ]\n}"
        ],
        [
         "6",
         "IE-6291-200524 LC XA068 Ashfield.pdf",
         "1",
         "{\n  \"nodes\": [\n    {\n      \"id\": \"Athlone Level Crossing Incident\",\n      \"type\": \"UniqueAccident\"\n    },\n    {\n      \"id\": \"Level Crossing Incident\",\n      \"type\": \"AccidentType\"\n    },\n    {\n      \"id\": \"24/05/2020\",\n      \"type\": \"Date\"\n    },\n    {\n      \"id\": \"12:13\",\n      \"type\": \"Time\"\n    },\n    {\n      \"id\": \"Ireland\",\n      \"type\": \"Country\"\n    },\n    {\n      \"id\": \"Railway Accident Investigation Unit\",\n      \"type\": \"RegulatoryBody\"\n    }\n  ],\n  \"rels\": [\n    {\n      \"source\": \"Athlone Level Crossing Incident\",\n      \"target\": \"Ireland\",\n      \"type\": \"occurred_in\"\n    },\n    {\n      \"source\": \"Athlone Level Crossing Incident\",\n      \"target\": \"Level Crossing Incident\",\n      \"type\": \"is_type\"\n    },\n    {\n      \"source\": \"Athlone Level Crossing Incident\",\n      \"target\": \"Railway Accident Investigation Unit\",\n      \"type\": \"investigated_by\"\n    },\n    {\n      \"source\": \"Athlone Level Crossing Incident\",\n      \"target\": \"24/05/2020\",\n      \"type\": \"has_date\"\n    },\n    {\n      \"source\": \"Athlone Level Crossing Incident\",\n      \"target\": \"12:13\",\n      \"type\": \"has_time\"\n    }\n  ]\n}"
        ],
        [
         "7",
         "IE-6305 - 200707_locomotive_224.pdf",
         "1",
         "{\n  \"nodes\": [\n    {\n      \"id\": \"Cork Kent to Dublin Heuston Incident\",\n      \"type\": \"UniqueAccident\"\n    },\n    {\n      \"id\": \"Train Mechanical Failure\",\n      \"type\": \"AccidentType\"\n    },\n    {\n      \"id\": \"06/07/2020\",\n      \"type\": \"Date\"\n    },\n    {\n      \"id\": \"14:25\",\n      \"type\": \"Time\"\n    },\n    {\n      \"id\": \"Ireland\",\n      \"type\": \"Country\"\n    },\n    {\n      \"id\": \"Railway Accident Investigation Unit\",\n      \"type\": \"RegulatoryBody\"\n    }\n  ],\n  \"rels\": [\n    {\n      \"source\": \"Cork Kent to Dublin Heuston Incident\",\n      \"target\": \"Ireland\",\n      \"type\": \"occurred_in\"\n    },\n    {\n      \"source\": \"Cork Kent to Dublin Heuston Incident\",\n      \"target\": \"Train Mechanical Failure\",\n      \"type\": \"is_type\"\n    },\n    {\n      \"source\": \"Cork Kent to Dublin Heuston Incident\",\n      \"target\": \"Railway Accident Investigation Unit\",\n      \"type\": \"investigated_by\"\n    },\n    {\n      \"source\": \"Cork Kent to Dublin Heuston Incident\",\n      \"target\": \"06/07/2020\",\n      \"type\": \"has_date\"\n    },\n    {\n      \"source\": \"Cork Kent to Dublin Heuston Incident\",\n      \"target\": \"14:25\",\n      \"type\": \"has_time\"\n    }\n  ]\n}"
        ]
       ],
       "shape": {
        "columns": 3,
        "rows": 8
       }
      },
      "text/html": [
       "<div>\n",
       "<style scoped>\n",
       "    .dataframe tbody tr th:only-of-type {\n",
       "        vertical-align: middle;\n",
       "    }\n",
       "\n",
       "    .dataframe tbody tr th {\n",
       "        vertical-align: top;\n",
       "    }\n",
       "\n",
       "    .dataframe thead th {\n",
       "        text-align: right;\n",
       "    }\n",
       "</style>\n",
       "<table border=\"1\" class=\"dataframe\">\n",
       "  <thead>\n",
       "    <tr style=\"text-align: right;\">\n",
       "      <th></th>\n",
       "      <th>pdf_name</th>\n",
       "      <th>iteration_number</th>\n",
       "      <th>json_output</th>\n",
       "    </tr>\n",
       "  </thead>\n",
       "  <tbody>\n",
       "    <tr>\n",
       "      <th>0</th>\n",
       "      <td>IE-10375 - 210827 Collision with track equipme...</td>\n",
       "      <td>1</td>\n",
       "      <td>{\\n  \"nodes\": [\\n    {\\n      \"id\": \"Train J28...</td>\n",
       "    </tr>\n",
       "    <tr>\n",
       "      <th>1</th>\n",
       "      <td>IE-10397 - 211207 Clontarf.pdf</td>\n",
       "      <td>1</td>\n",
       "      <td>{\\n  \"nodes\": [\\n    {\\n      \"id\": \"Train E24...</td>\n",
       "    </tr>\n",
       "    <tr>\n",
       "      <th>2</th>\n",
       "      <td>IE-10404 - 230222 Broken Rail Emly.pdf</td>\n",
       "      <td>1</td>\n",
       "      <td>{\\n  \"nodes\": [\\n    {\\n      \"id\": \"Broken Ra...</td>\n",
       "    </tr>\n",
       "    <tr>\n",
       "      <th>3</th>\n",
       "      <td>IE-200608 BnM Collision LC Offaly.pdf</td>\n",
       "      <td>1</td>\n",
       "      <td>{\\n  \"nodes\": [\\n    {\\n      \"id\": \"BnM Flat ...</td>\n",
       "    </tr>\n",
       "    <tr>\n",
       "      <th>4</th>\n",
       "      <td>IE-6218-200111 Collision RRME Rosslare.pdf</td>\n",
       "      <td>1</td>\n",
       "      <td>{\\n  \"nodes\": [\\n    {\\n      \"id\": \"Collision...</td>\n",
       "    </tr>\n",
       "    <tr>\n",
       "      <th>5</th>\n",
       "      <td>IE-6262-200429 LC Collision XM240.pdf</td>\n",
       "      <td>1</td>\n",
       "      <td>{\\n  \"nodes\": [\\n    {\\n      \"id\": \"Kilnageer...</td>\n",
       "    </tr>\n",
       "    <tr>\n",
       "      <th>6</th>\n",
       "      <td>IE-6291-200524 LC XA068 Ashfield.pdf</td>\n",
       "      <td>1</td>\n",
       "      <td>{\\n  \"nodes\": [\\n    {\\n      \"id\": \"Athlone L...</td>\n",
       "    </tr>\n",
       "    <tr>\n",
       "      <th>7</th>\n",
       "      <td>IE-6305 - 200707_locomotive_224.pdf</td>\n",
       "      <td>1</td>\n",
       "      <td>{\\n  \"nodes\": [\\n    {\\n      \"id\": \"Cork Kent...</td>\n",
       "    </tr>\n",
       "  </tbody>\n",
       "</table>\n",
       "</div>"
      ],
      "text/plain": [
       "                                            pdf_name  iteration_number  \\\n",
       "0  IE-10375 - 210827 Collision with track equipme...                 1   \n",
       "1                     IE-10397 - 211207 Clontarf.pdf                 1   \n",
       "2             IE-10404 - 230222 Broken Rail Emly.pdf                 1   \n",
       "3              IE-200608 BnM Collision LC Offaly.pdf                 1   \n",
       "4         IE-6218-200111 Collision RRME Rosslare.pdf                 1   \n",
       "5              IE-6262-200429 LC Collision XM240.pdf                 1   \n",
       "6               IE-6291-200524 LC XA068 Ashfield.pdf                 1   \n",
       "7                IE-6305 - 200707_locomotive_224.pdf                 1   \n",
       "\n",
       "                                         json_output  \n",
       "0  {\\n  \"nodes\": [\\n    {\\n      \"id\": \"Train J28...  \n",
       "1  {\\n  \"nodes\": [\\n    {\\n      \"id\": \"Train E24...  \n",
       "2  {\\n  \"nodes\": [\\n    {\\n      \"id\": \"Broken Ra...  \n",
       "3  {\\n  \"nodes\": [\\n    {\\n      \"id\": \"BnM Flat ...  \n",
       "4  {\\n  \"nodes\": [\\n    {\\n      \"id\": \"Collision...  \n",
       "5  {\\n  \"nodes\": [\\n    {\\n      \"id\": \"Kilnageer...  \n",
       "6  {\\n  \"nodes\": [\\n    {\\n      \"id\": \"Athlone L...  \n",
       "7  {\\n  \"nodes\": [\\n    {\\n      \"id\": \"Cork Kent...  "
      ]
     },
     "execution_count": 116,
     "metadata": {},
     "output_type": "execute_result"
    }
   ],
   "source": [
    "results_df"
   ]
  },
  {
   "cell_type": "code",
   "execution_count": 19,
   "metadata": {},
   "outputs": [],
   "source": [
    "# Defining functions for mapping extracted entities to graph nodes and relationships\n",
    "def props_to_dict(props) -> dict:\n",
    "    \"\"\"Converts properties to a dictionary for graph storage.\"\"\"\n",
    "    properties = {}\n",
    "    if not props:\n",
    "        return properties\n",
    "    for p in props:\n",
    "        properties[p[\"key\"]] = p[\"value\"]\n",
    "    return properties\n",
    "\n",
    "def map_to_base_node(node: Node) -> BaseNode:\n",
    "    \"\"\"Maps extracted entities to graph nodes.\"\"\"\n",
    "    properties = {\"name\": node.id}\n",
    "    return BaseNode(\n",
    "        id=node.id,\n",
    "        type=node.type.capitalize(),\n",
    "        properties=properties\n",
    "    )\n",
    "\n",
    "def map_to_base_relationship(rel: Relationship) -> BaseRelationship:\n",
    "    \"\"\"Maps extracted relationships to graph edges.\"\"\"\n",
    "    source = map_to_base_node(rel.source)\n",
    "    target = map_to_base_node(rel.target)\n",
    "    properties = props_to_dict(rel.properties) if rel.properties else {}\n",
    "\n",
    "    return BaseRelationship(\n",
    "        source=source, target=target, type=rel.type, properties=properties\n",
    "    )"
   ]
  },
  {
   "cell_type": "markdown",
   "metadata": {},
   "source": [
    "# Neo4j Storage"
   ]
  },
  {
   "cell_type": "code",
   "execution_count": 20,
   "metadata": {},
   "outputs": [
    {
     "name": "stdout",
     "output_type": "stream",
     "text": [
      "Connected to Neo4j successfully.\n"
     ]
    }
   ],
   "source": [
    "# Neo4j Connection Setup\n",
    "NEO4J_URI = \"bolt://localhost:7687\"\n",
    "NEO4J_USER = \"neo4j\"\n",
    "NEO4J_PASSWORD = \"password\"\n",
    "NEO4J_DATABASE = \"neo4j\"\n",
    "\n",
    "driver = GraphDatabase.driver(NEO4J_URI, auth=(NEO4J_USER, NEO4J_PASSWORD))\n",
    "\n",
    "try:\n",
    "    # Test the connection\n",
    "    with driver.session() as session:\n",
    "        session.run(\"RETURN 1\")\n",
    "    print(\"Connected to Neo4j successfully.\")\n",
    "except AuthError as e:\n",
    "    print(\"Authentication failed. Check your credentials:\", str(e))"
   ]
  },
  {
   "cell_type": "code",
   "execution_count": 21,
   "metadata": {},
   "outputs": [
    {
     "name": "stdout",
     "output_type": "stream",
     "text": [
      "Neo4j database cleared successfully.\n"
     ]
    }
   ],
   "source": [
    "# Clear database\n",
    "def clear_neo4j_database():\n",
    "    \"\"\"Delete all nodes and relationships in the Neo4j database.\"\"\"\n",
    "    with driver.session(database=NEO4J_DATABASE) as session:\n",
    "        session.run(\"MATCH (n) DETACH DELETE n\")\n",
    "    print(\"Neo4j database cleared successfully.\")\n",
    "\n",
    "# Run the function to clear the database\n",
    "clear_neo4j_database()"
   ]
  },
  {
   "cell_type": "code",
   "execution_count": 117,
   "metadata": {},
   "outputs": [
    {
     "data": {
      "application/vnd.microsoft.datawrangler.viewer.v0+json": {
       "columns": [
        {
         "name": "index",
         "rawType": "int64",
         "type": "integer"
        },
        {
         "name": "pdf_name",
         "rawType": "object",
         "type": "string"
        },
        {
         "name": "iteration_number",
         "rawType": "int64",
         "type": "integer"
        },
        {
         "name": "json_output",
         "rawType": "object",
         "type": "string"
        }
       ],
       "conversionMethod": "pd.DataFrame",
       "ref": "d67338e7-23d4-432f-b963-e54d60623207",
       "rows": [
        [
         "0",
         "IE-10375 - 210827 Collision with track equipment.pdf",
         "1",
         "{\n  \"nodes\": [\n    {\n      \"id\": \"Train J283 Collision\",\n      \"type\": \"UniqueAccident\"\n    },\n    {\n      \"id\": \"Collision with Equipment\",\n      \"type\": \"AccidentType\"\n    },\n    {\n      \"id\": \"27/08/2021\",\n      \"type\": \"Date\"\n    },\n    {\n      \"id\": \"00:18\",\n      \"type\": \"Time\"\n    },\n    {\n      \"id\": \"Ireland\",\n      \"type\": \"Country\"\n    },\n    {\n      \"id\": \"Commission for Railway Regulation\",\n      \"type\": \"RegulatoryBody\"\n    }\n  ],\n  \"rels\": [\n    {\n      \"source\": \"Train J283 Collision\",\n      \"target\": \"Ireland\",\n      \"type\": \"occurred_in\"\n    },\n    {\n      \"source\": \"Train J283 Collision\",\n      \"target\": \"Collision with Equipment\",\n      \"type\": \"is_type\"\n    },\n    {\n      \"source\": \"Train J283 Collision\",\n      \"target\": \"Commission for Railway Regulation\",\n      \"type\": \"investigated_by\"\n    },\n    {\n      \"source\": \"Train J283 Collision\",\n      \"target\": \"27/08/2021\",\n      \"type\": \"has_date\"\n    },\n    {\n      \"source\": \"Train J283 Collision\",\n      \"target\": \"00:18\",\n      \"type\": \"has_time\"\n    }\n  ]\n}"
        ],
        [
         "1",
         "IE-10397 - 211207 Clontarf.pdf",
         "1",
         "{\n  \"nodes\": [\n    {\n      \"id\": \"Train E240 Double SPAD\",\n      \"type\": \"UniqueAccident\"\n    },\n    {\n      \"id\": \"Double SPAD\",\n      \"type\": \"AccidentType\"\n    },\n    {\n      \"id\": \"07/12/2021\",\n      \"type\": \"Date\"\n    },\n    {\n      \"id\": \"15:59\",\n      \"type\": \"Time\"\n    },\n    {\n      \"id\": \"Ireland\",\n      \"type\": \"Country\"\n    },\n    {\n      \"id\": \"Commission for Railway Regulation\",\n      \"type\": \"RegulatoryBody\"\n    }\n  ],\n  \"rels\": [\n    {\n      \"source\": \"Train E240 Double SPAD\",\n      \"target\": \"Ireland\",\n      \"type\": \"occurred_in\"\n    },\n    {\n      \"source\": \"Train E240 Double SPAD\",\n      \"target\": \"Double SPAD\",\n      \"type\": \"is_type\"\n    },\n    {\n      \"source\": \"Train E240 Double SPAD\",\n      \"target\": \"Commission for Railway Regulation\",\n      \"type\": \"investigated_by\"\n    },\n    {\n      \"source\": \"Train E240 Double SPAD\",\n      \"target\": \"07/12/2021\",\n      \"type\": \"has_date\"\n    },\n    {\n      \"source\": \"Train E240 Double SPAD\",\n      \"target\": \"15:59\",\n      \"type\": \"has_time\"\n    }\n  ]\n}"
        ],
        [
         "2",
         "IE-10404 - 230222 Broken Rail Emly.pdf",
         "1",
         "{\n  \"nodes\": [\n    {\n      \"id\": \"Broken Rail Incident\",\n      \"type\": \"UniqueAccident\"\n    },\n    {\n      \"id\": \"Incident - Infrastructure\",\n      \"type\": \"AccidentType\"\n    },\n    {\n      \"id\": \"22/02/2023\",\n      \"type\": \"Date\"\n    },\n    {\n      \"id\": \"07:56\",\n      \"type\": \"Time\"\n    },\n    {\n      \"id\": \"Ireland\",\n      \"type\": \"Country\"\n    },\n    {\n      \"id\": \"Commission for Railway Regulation\",\n      \"type\": \"RegulatoryBody\"\n    }\n  ],\n  \"rels\": [\n    {\n      \"source\": \"Broken Rail Incident\",\n      \"target\": \"Ireland\",\n      \"type\": \"occurred_in\"\n    },\n    {\n      \"source\": \"Broken Rail Incident\",\n      \"target\": \"Incident - Infrastructure\",\n      \"type\": \"is_type\"\n    },\n    {\n      \"source\": \"Broken Rail Incident\",\n      \"target\": \"Commission for Railway Regulation\",\n      \"type\": \"investigated_by\"\n    },\n    {\n      \"source\": \"Broken Rail Incident\",\n      \"target\": \"22/02/2023\",\n      \"type\": \"has_date\"\n    },\n    {\n      \"source\": \"Broken Rail Incident\",\n      \"target\": \"07:56\",\n      \"type\": \"has_time\"\n    }\n  ]\n}"
        ],
        [
         "3",
         "IE-200608 BnM Collision LC Offaly.pdf",
         "1",
         "{\n  \"nodes\": [\n    {\n      \"id\": \"BnM Flat Wagon Incident\",\n      \"type\": \"UniqueAccident\"\n    },\n    {\n      \"id\": \"Collision with Gates\",\n      \"type\": \"AccidentType\"\n    },\n    {\n      \"id\": \"08/06/2020\",\n      \"type\": \"Date\"\n    },\n    {\n      \"id\": \"13:15\",\n      \"type\": \"Time\"\n    },\n    {\n      \"id\": \"Ireland\",\n      \"type\": \"Country\"\n    },\n    {\n      \"id\": \"Railway Accident Investigation Unit\",\n      \"type\": \"RegulatoryBody\"\n    }\n  ],\n  \"rels\": [\n    {\n      \"source\": \"BnM Flat Wagon Incident\",\n      \"target\": \"Ireland\",\n      \"type\": \"occurred_in\"\n    },\n    {\n      \"source\": \"BnM Flat Wagon Incident\",\n      \"target\": \"Collision with Gates\",\n      \"type\": \"is_type\"\n    },\n    {\n      \"source\": \"BnM Flat Wagon Incident\",\n      \"target\": \"Railway Accident Investigation Unit\",\n      \"type\": \"investigated_by\"\n    },\n    {\n      \"source\": \"BnM Flat Wagon Incident\",\n      \"target\": \"08/06/2020\",\n      \"type\": \"has_date\"\n    },\n    {\n      \"source\": \"BnM Flat Wagon Incident\",\n      \"target\": \"13:15\",\n      \"type\": \"has_time\"\n    }\n  ]\n}"
        ],
        [
         "4",
         "IE-6218-200111 Collision RRME Rosslare.pdf",
         "1",
         "{\n  \"nodes\": [\n    {\n      \"id\": \"Collision of Train A602 with RMME\",\n      \"type\": \"UniqueAccident\"\n    },\n    {\n      \"id\": \"Train Collision\",\n      \"type\": \"AccidentType\"\n    },\n    {\n      \"id\": \"11/01/2020\",\n      \"type\": \"Date\"\n    },\n    {\n      \"id\": \"10:52\",\n      \"type\": \"Time\"\n    },\n    {\n      \"id\": \"Ireland\",\n      \"type\": \"Country\"\n    },\n    {\n      \"id\": \"Railway Accident Investigation Unit\",\n      \"type\": \"RegulatoryBody\"\n    }\n  ],\n  \"rels\": [\n    {\n      \"source\": \"Collision of Train A602 with RMME\",\n      \"target\": \"Ireland\",\n      \"type\": \"occurred_in\"\n    },\n    {\n      \"source\": \"Collision of Train A602 with RMME\",\n      \"target\": \"Train Collision\",\n      \"type\": \"is_type\"\n    },\n    {\n      \"source\": \"Collision of Train A602 with RMME\",\n      \"target\": \"Railway Accident Investigation Unit\",\n      \"type\": \"investigated_by\"\n    },\n    {\n      \"source\": \"Collision of Train A602 with RMME\",\n      \"target\": \"11/01/2020\",\n      \"type\": \"has_date\"\n    },\n    {\n      \"source\": \"Collision of Train A602 with RMME\",\n      \"target\": \"10:52\",\n      \"type\": \"has_time\"\n    }\n  ]\n}"
        ],
        [
         "5",
         "IE-6262-200429 LC Collision XM240.pdf",
         "1",
         "{\n  \"nodes\": [\n    {\n      \"id\": \"Kilnageer Level Crossing Accident\",\n      \"type\": \"UniqueAccident\"\n    },\n    {\n      \"id\": \"Train Collision\",\n      \"type\": \"AccidentType\"\n    },\n    {\n      \"id\": \"29/04/2020\",\n      \"type\": \"Date\"\n    },\n    {\n      \"id\": \"13:40\",\n      \"type\": \"Time\"\n    },\n    {\n      \"id\": \"Ireland\",\n      \"type\": \"Country\"\n    },\n    {\n      \"id\": \"Railway Accident Investigation Unit\",\n      \"type\": \"RegulatoryBody\"\n    }\n  ],\n  \"rels\": [\n    {\n      \"source\": \"Kilnageer Level Crossing Accident\",\n      \"target\": \"Ireland\",\n      \"type\": \"occurred_in\"\n    },\n    {\n      \"source\": \"Kilnageer Level Crossing Accident\",\n      \"target\": \"Train Collision\",\n      \"type\": \"is_type\"\n    },\n    {\n      \"source\": \"Kilnageer Level Crossing Accident\",\n      \"target\": \"Railway Accident Investigation Unit\",\n      \"type\": \"investigated_by\"\n    },\n    {\n      \"source\": \"Kilnageer Level Crossing Accident\",\n      \"target\": \"29/04/2020\",\n      \"type\": \"has_date\"\n    },\n    {\n      \"source\": \"Kilnageer Level Crossing Accident\",\n      \"target\": \"13:40\",\n      \"type\": \"has_time\"\n    }\n  ]\n}"
        ],
        [
         "6",
         "IE-6291-200524 LC XA068 Ashfield.pdf",
         "1",
         "{\n  \"nodes\": [\n    {\n      \"id\": \"Athlone Level Crossing Incident\",\n      \"type\": \"UniqueAccident\"\n    },\n    {\n      \"id\": \"Level Crossing Incident\",\n      \"type\": \"AccidentType\"\n    },\n    {\n      \"id\": \"24/05/2020\",\n      \"type\": \"Date\"\n    },\n    {\n      \"id\": \"12:13\",\n      \"type\": \"Time\"\n    },\n    {\n      \"id\": \"Ireland\",\n      \"type\": \"Country\"\n    },\n    {\n      \"id\": \"Railway Accident Investigation Unit\",\n      \"type\": \"RegulatoryBody\"\n    }\n  ],\n  \"rels\": [\n    {\n      \"source\": \"Athlone Level Crossing Incident\",\n      \"target\": \"Ireland\",\n      \"type\": \"occurred_in\"\n    },\n    {\n      \"source\": \"Athlone Level Crossing Incident\",\n      \"target\": \"Level Crossing Incident\",\n      \"type\": \"is_type\"\n    },\n    {\n      \"source\": \"Athlone Level Crossing Incident\",\n      \"target\": \"Railway Accident Investigation Unit\",\n      \"type\": \"investigated_by\"\n    },\n    {\n      \"source\": \"Athlone Level Crossing Incident\",\n      \"target\": \"24/05/2020\",\n      \"type\": \"has_date\"\n    },\n    {\n      \"source\": \"Athlone Level Crossing Incident\",\n      \"target\": \"12:13\",\n      \"type\": \"has_time\"\n    }\n  ]\n}"
        ],
        [
         "7",
         "IE-6305 - 200707_locomotive_224.pdf",
         "1",
         "{\n  \"nodes\": [\n    {\n      \"id\": \"Cork Kent to Dublin Heuston Incident\",\n      \"type\": \"UniqueAccident\"\n    },\n    {\n      \"id\": \"Train Mechanical Failure\",\n      \"type\": \"AccidentType\"\n    },\n    {\n      \"id\": \"06/07/2020\",\n      \"type\": \"Date\"\n    },\n    {\n      \"id\": \"14:25\",\n      \"type\": \"Time\"\n    },\n    {\n      \"id\": \"Ireland\",\n      \"type\": \"Country\"\n    },\n    {\n      \"id\": \"Railway Accident Investigation Unit\",\n      \"type\": \"RegulatoryBody\"\n    }\n  ],\n  \"rels\": [\n    {\n      \"source\": \"Cork Kent to Dublin Heuston Incident\",\n      \"target\": \"Ireland\",\n      \"type\": \"occurred_in\"\n    },\n    {\n      \"source\": \"Cork Kent to Dublin Heuston Incident\",\n      \"target\": \"Train Mechanical Failure\",\n      \"type\": \"is_type\"\n    },\n    {\n      \"source\": \"Cork Kent to Dublin Heuston Incident\",\n      \"target\": \"Railway Accident Investigation Unit\",\n      \"type\": \"investigated_by\"\n    },\n    {\n      \"source\": \"Cork Kent to Dublin Heuston Incident\",\n      \"target\": \"06/07/2020\",\n      \"type\": \"has_date\"\n    },\n    {\n      \"source\": \"Cork Kent to Dublin Heuston Incident\",\n      \"target\": \"14:25\",\n      \"type\": \"has_time\"\n    }\n  ]\n}"
        ]
       ],
       "shape": {
        "columns": 3,
        "rows": 8
       }
      },
      "text/html": [
       "<div>\n",
       "<style scoped>\n",
       "    .dataframe tbody tr th:only-of-type {\n",
       "        vertical-align: middle;\n",
       "    }\n",
       "\n",
       "    .dataframe tbody tr th {\n",
       "        vertical-align: top;\n",
       "    }\n",
       "\n",
       "    .dataframe thead th {\n",
       "        text-align: right;\n",
       "    }\n",
       "</style>\n",
       "<table border=\"1\" class=\"dataframe\">\n",
       "  <thead>\n",
       "    <tr style=\"text-align: right;\">\n",
       "      <th></th>\n",
       "      <th>pdf_name</th>\n",
       "      <th>iteration_number</th>\n",
       "      <th>json_output</th>\n",
       "    </tr>\n",
       "  </thead>\n",
       "  <tbody>\n",
       "    <tr>\n",
       "      <th>0</th>\n",
       "      <td>IE-10375 - 210827 Collision with track equipme...</td>\n",
       "      <td>1</td>\n",
       "      <td>{\\n  \"nodes\": [\\n    {\\n      \"id\": \"Train J28...</td>\n",
       "    </tr>\n",
       "    <tr>\n",
       "      <th>1</th>\n",
       "      <td>IE-10397 - 211207 Clontarf.pdf</td>\n",
       "      <td>1</td>\n",
       "      <td>{\\n  \"nodes\": [\\n    {\\n      \"id\": \"Train E24...</td>\n",
       "    </tr>\n",
       "    <tr>\n",
       "      <th>2</th>\n",
       "      <td>IE-10404 - 230222 Broken Rail Emly.pdf</td>\n",
       "      <td>1</td>\n",
       "      <td>{\\n  \"nodes\": [\\n    {\\n      \"id\": \"Broken Ra...</td>\n",
       "    </tr>\n",
       "    <tr>\n",
       "      <th>3</th>\n",
       "      <td>IE-200608 BnM Collision LC Offaly.pdf</td>\n",
       "      <td>1</td>\n",
       "      <td>{\\n  \"nodes\": [\\n    {\\n      \"id\": \"BnM Flat ...</td>\n",
       "    </tr>\n",
       "    <tr>\n",
       "      <th>4</th>\n",
       "      <td>IE-6218-200111 Collision RRME Rosslare.pdf</td>\n",
       "      <td>1</td>\n",
       "      <td>{\\n  \"nodes\": [\\n    {\\n      \"id\": \"Collision...</td>\n",
       "    </tr>\n",
       "    <tr>\n",
       "      <th>5</th>\n",
       "      <td>IE-6262-200429 LC Collision XM240.pdf</td>\n",
       "      <td>1</td>\n",
       "      <td>{\\n  \"nodes\": [\\n    {\\n      \"id\": \"Kilnageer...</td>\n",
       "    </tr>\n",
       "    <tr>\n",
       "      <th>6</th>\n",
       "      <td>IE-6291-200524 LC XA068 Ashfield.pdf</td>\n",
       "      <td>1</td>\n",
       "      <td>{\\n  \"nodes\": [\\n    {\\n      \"id\": \"Athlone L...</td>\n",
       "    </tr>\n",
       "    <tr>\n",
       "      <th>7</th>\n",
       "      <td>IE-6305 - 200707_locomotive_224.pdf</td>\n",
       "      <td>1</td>\n",
       "      <td>{\\n  \"nodes\": [\\n    {\\n      \"id\": \"Cork Kent...</td>\n",
       "    </tr>\n",
       "  </tbody>\n",
       "</table>\n",
       "</div>"
      ],
      "text/plain": [
       "                                            pdf_name  iteration_number  \\\n",
       "0  IE-10375 - 210827 Collision with track equipme...                 1   \n",
       "1                     IE-10397 - 211207 Clontarf.pdf                 1   \n",
       "2             IE-10404 - 230222 Broken Rail Emly.pdf                 1   \n",
       "3              IE-200608 BnM Collision LC Offaly.pdf                 1   \n",
       "4         IE-6218-200111 Collision RRME Rosslare.pdf                 1   \n",
       "5              IE-6262-200429 LC Collision XM240.pdf                 1   \n",
       "6               IE-6291-200524 LC XA068 Ashfield.pdf                 1   \n",
       "7                IE-6305 - 200707_locomotive_224.pdf                 1   \n",
       "\n",
       "                                         json_output  \n",
       "0  {\\n  \"nodes\": [\\n    {\\n      \"id\": \"Train J28...  \n",
       "1  {\\n  \"nodes\": [\\n    {\\n      \"id\": \"Train E24...  \n",
       "2  {\\n  \"nodes\": [\\n    {\\n      \"id\": \"Broken Ra...  \n",
       "3  {\\n  \"nodes\": [\\n    {\\n      \"id\": \"BnM Flat ...  \n",
       "4  {\\n  \"nodes\": [\\n    {\\n      \"id\": \"Collision...  \n",
       "5  {\\n  \"nodes\": [\\n    {\\n      \"id\": \"Kilnageer...  \n",
       "6  {\\n  \"nodes\": [\\n    {\\n      \"id\": \"Athlone L...  \n",
       "7  {\\n  \"nodes\": [\\n    {\\n      \"id\": \"Cork Kent...  "
      ]
     },
     "execution_count": 117,
     "metadata": {},
     "output_type": "execute_result"
    }
   ],
   "source": [
    "results_df"
   ]
  },
  {
   "cell_type": "code",
   "execution_count": 118,
   "metadata": {},
   "outputs": [
    {
     "name": "stdout",
     "output_type": "stream",
     "text": [
      "{\n",
      "  \"nodes\": [\n",
      "    {\n",
      "      \"id\": \"Cork Kent to Dublin Heuston Incident\",\n",
      "      \"type\": \"UniqueAccident\"\n",
      "    },\n",
      "    {\n",
      "      \"id\": \"Train Mechanical Failure\",\n",
      "      \"type\": \"AccidentType\"\n",
      "    },\n",
      "    {\n",
      "      \"id\": \"06/07/2020\",\n",
      "      \"type\": \"Date\"\n",
      "    },\n",
      "    {\n",
      "      \"id\": \"14:25\",\n",
      "      \"type\": \"Time\"\n",
      "    },\n",
      "    {\n",
      "      \"id\": \"Ireland\",\n",
      "      \"type\": \"Country\"\n",
      "    },\n",
      "    {\n",
      "      \"id\": \"Railway Accident Investigation Unit\",\n",
      "      \"type\": \"RegulatoryBody\"\n",
      "    }\n",
      "  ],\n",
      "  \"rels\": [\n",
      "    {\n",
      "      \"source\": \"Cork Kent to Dublin Heuston Incident\",\n",
      "      \"target\": \"Ireland\",\n",
      "      \"type\": \"occurred_in\"\n",
      "    },\n",
      "    {\n",
      "      \"source\": \"Cork Kent to Dublin Heuston Incident\",\n",
      "      \"target\": \"Train Mechanical Failure\",\n",
      "      \"type\": \"is_type\"\n",
      "    },\n",
      "    {\n",
      "      \"source\": \"Cork Kent to Dublin Heuston Incident\",\n",
      "      \"target\": \"Railway Accident Investigation Unit\",\n",
      "      \"type\": \"investigated_by\"\n",
      "    },\n",
      "    {\n",
      "      \"source\": \"Cork Kent to Dublin Heuston Incident\",\n",
      "      \"target\": \"06/07/2020\",\n",
      "      \"type\": \"has_date\"\n",
      "    },\n",
      "    {\n",
      "      \"source\": \"Cork Kent to Dublin Heuston Incident\",\n",
      "      \"target\": \"14:25\",\n",
      "      \"type\": \"has_time\"\n",
      "    }\n",
      "  ]\n",
      "}\n"
     ]
    }
   ],
   "source": [
    "def get_json_output(df, pdf_name, iteration_number):\n",
    "    \"\"\"\n",
    "    Gets the 'json_output' for the given pdf_name and iteration_number.\n",
    "    Returns an empty dict if there's no match.\n",
    "    \"\"\"\n",
    "    subset = df[\n",
    "        (df[\"pdf_name\"] == pdf_name) &\n",
    "        (df[\"iteration_number\"] == iteration_number)\n",
    "    ]\n",
    "\n",
    "    if subset.empty:\n",
    "        print(\"No match found.\")\n",
    "        return {}\n",
    "\n",
    "    json_str = subset.iloc[0][\"json_output\"]\n",
    "    return json.loads(json_str)\n",
    "\n",
    "# Example usage:\n",
    "pdf_of_choice = \"IE-6305 - 200707_locomotive_224.pdf\"\n",
    "json_to_convert = get_json_output(results_df, pdf_of_choice, 1)\n",
    "print(json.dumps(json_to_convert, indent=2))"
   ]
  },
  {
   "cell_type": "code",
   "execution_count": 24,
   "metadata": {},
   "outputs": [],
   "source": [
    "def convert_json_to_graph(json_to_convert, source_text):\n",
    "    \"\"\"\n",
    "    Converts extracted JSON into a graph-compatible format with correct entity types.\n",
    "    \"\"\"\n",
    "\n",
    "    def get_node_type(json_data, node_id):\n",
    "        \"\"\"\n",
    "        Helper function to retrieve the correct node type from JSON.\n",
    "        \"\"\"\n",
    "        for node in json_data[\"nodes\"]:\n",
    "            if node[\"id\"] == node_id:\n",
    "                return node[\"type\"]\n",
    "        return \"Unknown\"  # Fallback if type is missing\n",
    "\n",
    "    if not json_to_convert:\n",
    "        print(\"No valid data to convert to a graph.\")\n",
    "        return None\n",
    "\n",
    "    # Convert Nodes\n",
    "    graph_nodes = [map_to_base_node(Node(id=node[\"id\"], type=node[\"type\"])) for node in json_to_convert[\"nodes\"]]\n",
    "\n",
    "    # Convert Relationships (Ensure correct types)\n",
    "    graph_rels = []\n",
    "    for rel in json_to_convert[\"rels\"]:\n",
    "        source_node = Node(id=rel[\"source\"], type=get_node_type(json_to_convert, rel[\"source\"]))\n",
    "        target_node = Node(id=rel[\"target\"], type=get_node_type(json_to_convert, rel[\"target\"]))\n",
    "        graph_rels.append(map_to_base_relationship(Relationship(source=source_node, target=target_node, type=rel[\"type\"])))\n",
    "\n",
    "    return GraphDocument(nodes=graph_nodes, relationships=graph_rels, source=Document(page_content=source_text))"
   ]
  },
  {
   "cell_type": "code",
   "execution_count": 25,
   "metadata": {},
   "outputs": [],
   "source": [
    "def store_in_neo4j(graph_document):\n",
    "    \"\"\"\n",
    "    Stores extracted knowledge graph into Neo4j with dynamic labels.\n",
    "    \"\"\"\n",
    "    with driver.session() as session:\n",
    "        # Store nodes with dynamic labels\n",
    "        for node in graph_document.nodes:\n",
    "            session.run(f\"\"\"\n",
    "                MERGE (n:{node.type} {{id: $id}})\n",
    "                ON CREATE SET n.name = $name\n",
    "            \"\"\", id=node.id, name=node.id)\n",
    "\n",
    "        # Store relationships\n",
    "        for rel in graph_document.relationships:\n",
    "            session.run(f\"\"\"\n",
    "                MATCH (s {{id: $source}})\n",
    "                MATCH (t {{id: $target}})\n",
    "                MERGE (s)-[r:{rel.type.upper()}]->(t)\n",
    "            \"\"\", source=rel.source.id, target=rel.target.id)"
   ]
  },
  {
   "cell_type": "code",
   "execution_count": 26,
   "metadata": {},
   "outputs": [],
   "source": [
    "def process_railway_accident_report(json_to_convert):\n",
    "    \"\"\"\n",
    "    Converts the JSON to a graph format and stores it in Neo4j.\n",
    "    \"\"\"\n",
    "    print(\"Converting JSON to graph format...\")\n",
    "    graph_document = convert_json_to_graph(json_to_convert, relevant_text)\n",
    "\n",
    "    if graph_document:\n",
    "        print(\"Graph structure created! Storing in Neo4j...\")\n",
    "        store_in_neo4j(graph_document)"
   ]
  },
  {
   "cell_type": "code",
   "execution_count": 119,
   "metadata": {},
   "outputs": [
    {
     "name": "stdout",
     "output_type": "stream",
     "text": [
      "Converting JSON to graph format...\n",
      "Graph structure created! Storing in Neo4j...\n",
      "Data stored in Neo4j successfully.\n"
     ]
    }
   ],
   "source": [
    "# Store extracted entities into Neo4j\n",
    "try:\n",
    "    db_result = process_railway_accident_report(json_to_convert)\n",
    "    print(\"Data stored in Neo4j successfully.\")\n",
    "except Exception as e:\n",
    "    print(\"Failed to store data in Neo4j:\", str(e))"
   ]
  },
  {
   "cell_type": "code",
   "execution_count": null,
   "metadata": {},
   "outputs": [],
   "source": [
    "# Close Neo4j connection\n",
    "driver.close()"
   ]
  },
  {
   "cell_type": "markdown",
   "metadata": {},
   "source": [
    "# Comparison against ERAIL DB"
   ]
  },
  {
   "cell_type": "code",
   "execution_count": 163,
   "metadata": {},
   "outputs": [
    {
     "data": {
      "application/vnd.microsoft.datawrangler.viewer.v0+json": {
       "columns": [
        {
         "name": "index",
         "rawType": "int64",
         "type": "integer"
        },
        {
         "name": "Only received by email after ERAIL stopped to work",
         "rawType": "object",
         "type": "unknown"
        },
        {
         "name": "Report Type",
         "rawType": "object",
         "type": "string"
        },
        {
         "name": "Investigation Status",
         "rawType": "object",
         "type": "string"
        },
        {
         "name": "ERAIL Occurrence",
         "rawType": "object",
         "type": "string"
        },
        {
         "name": "Title",
         "rawType": "object",
         "type": "string"
        },
        {
         "name": "Reporting Body",
         "rawType": "object",
         "type": "string"
        },
        {
         "name": "Date of occurrence",
         "rawType": "datetime64[ns]",
         "type": "datetime"
        },
        {
         "name": "Time of occurrence",
         "rawType": "object",
         "type": "unknown"
        },
        {
         "name": "Occurrence type",
         "rawType": "object",
         "type": "string"
        },
        {
         "name": "Occurrence description",
         "rawType": "object",
         "type": "string"
        },
        {
         "name": "Country",
         "rawType": "object",
         "type": "string"
        },
        {
         "name": "Location name",
         "rawType": "object",
         "type": "string"
        },
        {
         "name": "Railway System type",
         "rawType": "object",
         "type": "string"
        },
        {
         "name": "Line type",
         "rawType": "object",
         "type": "unknown"
        },
        {
         "name": "Location type",
         "rawType": "object",
         "type": "string"
        },
        {
         "name": "Movement type",
         "rawType": "object",
         "type": "string"
        },
        {
         "name": "RU involved",
         "rawType": "object",
         "type": "string"
        },
        {
         "name": "IM involved",
         "rawType": "object",
         "type": "string"
        },
        {
         "name": "Passenger fatalities",
         "rawType": "object",
         "type": "unknown"
        },
        {
         "name": "Staff fatalities",
         "rawType": "object",
         "type": "unknown"
        },
        {
         "name": "LC User fatalities",
         "rawType": "object",
         "type": "unknown"
        },
        {
         "name": "Unauthorised person fatalities",
         "rawType": "object",
         "type": "unknown"
        },
        {
         "name": "Other fatalities",
         "rawType": "object",
         "type": "unknown"
        },
        {
         "name": "Total fatalities",
         "rawType": "object",
         "type": "unknown"
        },
        {
         "name": "Passenger serious injuries",
         "rawType": "object",
         "type": "unknown"
        },
        {
         "name": "Staff serious injuries",
         "rawType": "object",
         "type": "unknown"
        },
        {
         "name": "LC User serious injuries",
         "rawType": "object",
         "type": "unknown"
        },
        {
         "name": "Unauth. person serious injuries",
         "rawType": "object",
         "type": "unknown"
        },
        {
         "name": "Other serious injuries",
         "rawType": "object",
         "type": "unknown"
        },
        {
         "name": "Total serious injuries",
         "rawType": "object",
         "type": "unknown"
        },
        {
         "name": "Estimated total material costs",
         "rawType": "object",
         "type": "unknown"
        },
        {
         "name": "Damage Description",
         "rawType": "object",
         "type": "unknown"
        },
        {
         "name": "Legal basis",
         "rawType": "object",
         "type": "string"
        },
        {
         "name": "Decision to investigate ",
         "rawType": "object",
         "type": "unknown"
        },
        {
         "name": "N. of related Safety Recs",
         "rawType": "object",
         "type": "unknown"
        },
        {
         "name": "Direct cause description (including causal and contributing factors, excluding those of systemic nature)",
         "rawType": "object",
         "type": "unknown"
        },
        {
         "name": "Underlying and root causes description (i.e. systemic factors, if any)",
         "rawType": "object",
         "type": "unknown"
        },
        {
         "name": "Notification date (occurrence creation date for data from ERAIL)",
         "rawType": "datetime64[ns]",
         "type": "datetime"
        },
        {
         "name": "Date of sending the interim statement(s), if any",
         "rawType": "object",
         "type": "unknown"
        },
        {
         "name": "Date of sending the final report to ERA",
         "rawType": "object",
         "type": "unknown"
        },
        {
         "name": "Date of the investigation closure",
         "rawType": "object",
         "type": "unknown"
        },
        {
         "name": "Acronym",
         "rawType": "object",
         "type": "unknown"
        },
        {
         "name": "DATE (Italic format)",
         "rawType": "object",
         "type": "unknown"
        },
        {
         "name": "Day",
         "rawType": "object",
         "type": "unknown"
        },
        {
         "name": "Month",
         "rawType": "object",
         "type": "unknown"
        },
        {
         "name": "Year",
         "rawType": "object",
         "type": "unknown"
        },
        {
         "name": "Occurrence creation date",
         "rawType": "object",
         "type": "unknown"
        },
        {
         "name": "Decision to investigate",
         "rawType": "object",
         "type": "unknown"
        },
        {
         "name": "Delay",
         "rawType": "object",
         "type": "unknown"
        },
        {
         "name": "Declaration date",
         "rawType": "object",
         "type": "unknown"
        },
        {
         "name": "Month DECL DATE",
         "rawType": "object",
         "type": "unknown"
        },
        {
         "name": "Year DECL DATE",
         "rawType": "object",
         "type": "unknown"
        },
        {
         "name": "Date of IM/RU notification",
         "rawType": "object",
         "type": "unknown"
        },
        {
         "name": "Notes",
         "rawType": "object",
         "type": "unknown"
        },
        {
         "name": "Investigation report",
         "rawType": "object",
         "type": "unknown"
        },
        {
         "name": "Unnamed: 55",
         "rawType": "float64",
         "type": "float"
        },
        {
         "name": "Unnamed: 56",
         "rawType": "float64",
         "type": "float"
        },
        {
         "name": "Unnamed: 57",
         "rawType": "float64",
         "type": "float"
        },
        {
         "name": "Unnamed: 58",
         "rawType": "float64",
         "type": "float"
        },
        {
         "name": "Unnamed: 59",
         "rawType": "float64",
         "type": "float"
        },
        {
         "name": "Unnamed: 60",
         "rawType": "float64",
         "type": "float"
        },
        {
         "name": "Unnamed: 61",
         "rawType": "object",
         "type": "unknown"
        },
        {
         "name": "Unnamed: 62",
         "rawType": "float64",
         "type": "float"
        },
        {
         "name": "Unnamed: 63",
         "rawType": "object",
         "type": "unknown"
        }
       ],
       "conversionMethod": "pd.DataFrame",
       "ref": "6e639b95-aee0-47c9-ba4c-717dbe379472",
       "rows": [
        [
         "0",
         null,
         "Final report",
         "Closed",
         "FI-135",
         "Wrong-side signalling failure, 29/06/2002, Kouvola - Harju section of line (Finland)",
         "Accident Investigation Board of Finland",
         "2002-06-29 00:00:00",
         "1900-01-01 08:33:00",
         "Wrong-side signalling failure",
         "Signal malfunctioning",
         "Finland",
         "Kouvola - Harju section of line",
         "Railway",
         "0",
         "Line",
         "Long distance passenger train",
         "VR Group Ltd",
         "Finnish Rail Administration",
         "0",
         null,
         "0",
         null,
         "0",
         "0",
         "0",
         null,
         "0",
         "0",
         "0",
         "0",
         null,
         null,
         "Other national rules/ regulations not referred to the Safety Directive 2004/49/EC",
         null,
         "0",
         null,
         null,
         "2007-04-17 00:00:00",
         null,
         null,
         null,
         null,
         "2002-06-29 00:00:00",
         "29",
         "6",
         "2002",
         "2002-04-17 00:00:00",
         null,
         "0",
         "2002-11-13 00:00:00",
         "11",
         "2002",
         null,
         null,
         null,
         null,
         null,
         null,
         null,
         null,
         null,
         null,
         null,
         null
        ],
        [
         "1",
         null,
         "Final report",
         "Closed",
         "NL-444",
         "Train derailment, 30/04/2003, Station Apeldoorn (The Netherlands)",
         "The Dutch Safety Board",
         "2003-04-30 00:00:00",
         "1900-01-01 00:42:00",
         "Train derailment",
         "Derailment of a freight train which was loaded with coils of steel.",
         "The Netherlands",
         "Station Apeldoorn",
         "Railway",
         "0",
         "Station",
         "Freight train",
         "Railion Nederland",
         "ProRail",
         "0",
         null,
         "0",
         null,
         "0",
         "0",
         "0",
         null,
         "0",
         "0",
         "0",
         "0",
         null,
         "A lot of wagons were destroyed and coils were located deep in the ground in and near by the tracks and some wagons and coils of steel where on the road.",
         "in light of Article 19 §1 of SD\"",
         null,
         "0",
         null,
         null,
         "2008-03-31 00:00:00",
         null,
         null,
         null,
         null,
         "2003-04-30 00:00:00",
         "30",
         "4",
         "2003",
         "2008-03-31 00:00:00",
         null,
         null,
         "2006-11-06 00:00:00",
         "11",
         "2006",
         null,
         "Check again",
         null,
         null,
         null,
         null,
         null,
         null,
         null,
         null,
         null,
         null
        ],
        [
         "2",
         null,
         "Final report",
         "Closed",
         "FI-134",
         "Other, 15.4.2004, Kaukomarkkinat Oy's track at Hamina Port (Finland)",
         "Accident Investigation Board of Finland",
         "2004-04-15 00:00:00",
         "1900-01-01 17:31:00",
         "Other",
         "Three methanol carrying Russian tank wagons derailed",
         "Finland",
         "Kaukomarkkinat Oy's track at Hamina Port",
         "Railway",
         "Multiple track",
         "Marshalling yard",
         "Shunting operation",
         "VR Group Ltd",
         "Finnish Rail Administration",
         "0",
         "0",
         "0",
         "0",
         "0",
         "0",
         "0",
         "0",
         "0",
         "0",
         "0",
         "0",
         "< 150 000 €",
         "Rolling stock: one secondary air reservoir. Infrastructure: 40 m track.",
         "Other national rules/ regulations not referred to the Safety Directive 2004/49/EC",
         "2004-04-26 00:00:00",
         "2",
         "The incident was caused by the poor condition of the track owned by Kaukomarkkinat Oy. In fact the welding of the j-form rail fastenings made of flat bar iron proved deficient, as only the ends of the fastenings had been welded to the base plates. The detaching of a few fastenings generated a chain reaction that resulted in the detaching of the outer curve fastenings over a track length of about 40 metres and in a widening of the track under the wagons.",
         null,
         "2007-04-17 00:00:00",
         null,
         null,
         null,
         null,
         "2004-04-15 00:00:00",
         "15",
         "4",
         "2004",
         "2007-04-17 00:00:00",
         "2004-04-26 00:00:00",
         "1086",
         "2006-10-27 00:00:00",
         "10",
         "2006",
         null,
         null,
         null,
         null,
         null,
         null,
         null,
         null,
         null,
         null,
         null,
         null
        ],
        [
         "3",
         null,
         "Final report",
         "Closed",
         "FI-45",
         "Train derailment, 5/11/2004, Pieksämäki Railway Yard (Finland)",
         "Accident Investigation Board of Finland",
         "2004-05-11 00:00:00",
         "1900-01-01 12:57:00",
         "Train derailment",
         "Two wagons derailed",
         "Finland",
         "Pieksämäki Railway Yard",
         "Railway",
         "Single track",
         "Station",
         "Freight train",
         "VR Group Ltd",
         "Finnish Rail Administration",
         "0",
         "0",
         "0",
         "0",
         "0",
         "0",
         "0",
         "0",
         "0",
         "0",
         "0",
         "0",
         "< 150 000 €",
         "Track was damaged over a distance of about 80 meters. The bogies of the second derailed wagon were badly damaged.",
         "Other national rules/ regulations not referred to the Safety Directive 2004/49/EC",
         null,
         "0",
         "The wooden sleepers were in poor condition and lateral deflections had generated at the rail joints.",
         null,
         "2007-02-20 00:00:00",
         null,
         null,
         null,
         null,
         "2004-05-11 00:00:00",
         "11",
         "5",
         "2004",
         "2007-02-20 00:00:00",
         null,
         null,
         "2006-11-13 00:00:00",
         "11",
         "2006",
         null,
         null,
         null,
         null,
         null,
         null,
         null,
         null,
         null,
         null,
         null,
         null
        ],
        [
         "4",
         null,
         "Final report",
         "Closed",
         "NL-168",
         "Spad, 21/05/2004, Station Amsterdam (The Netherlands)",
         "The Dutch Safety Board",
         "2004-05-21 00:00:00",
         "1900-01-01 18:35:00",
         "Spad",
         "SPAD (an empty double decker train collided with an intercity passenger train)",
         "The Netherlands",
         "Station Amsterdam",
         "Railway",
         "0",
         "Station",
         "Long distance passenger train",
         "NS passenger",
         "ProRail",
         "0",
         "0",
         "0",
         "0",
         "0",
         "0",
         "19",
         "0",
         "0",
         "0",
         "0",
         "19",
         null,
         "The damage to the infrastructure and the rolling stock was considerable.",
         "Other national rules/ regulations not referred to the Safety Directive 2004/49/EC",
         null,
         "4",
         null,
         null,
         "2007-05-22 00:00:00",
         null,
         null,
         null,
         null,
         "2004-05-21 00:00:00",
         "21",
         "5",
         "2004",
         "2007-05-22 00:00:00",
         null,
         null,
         "2008-08-28 00:00:00",
         "8",
         "2008",
         null,
         null,
         null,
         null,
         null,
         null,
         null,
         null,
         null,
         null,
         null,
         null
        ]
       ],
       "shape": {
        "columns": 64,
        "rows": 5
       }
      },
      "text/html": [
       "<div>\n",
       "<style scoped>\n",
       "    .dataframe tbody tr th:only-of-type {\n",
       "        vertical-align: middle;\n",
       "    }\n",
       "\n",
       "    .dataframe tbody tr th {\n",
       "        vertical-align: top;\n",
       "    }\n",
       "\n",
       "    .dataframe thead th {\n",
       "        text-align: right;\n",
       "    }\n",
       "</style>\n",
       "<table border=\"1\" class=\"dataframe\">\n",
       "  <thead>\n",
       "    <tr style=\"text-align: right;\">\n",
       "      <th></th>\n",
       "      <th>Only received by email after ERAIL stopped to work</th>\n",
       "      <th>Report Type</th>\n",
       "      <th>Investigation Status</th>\n",
       "      <th>ERAIL Occurrence</th>\n",
       "      <th>Title</th>\n",
       "      <th>Reporting Body</th>\n",
       "      <th>Date of occurrence</th>\n",
       "      <th>Time of occurrence</th>\n",
       "      <th>Occurrence type</th>\n",
       "      <th>Occurrence description</th>\n",
       "      <th>...</th>\n",
       "      <th>Investigation report</th>\n",
       "      <th>Unnamed: 55</th>\n",
       "      <th>Unnamed: 56</th>\n",
       "      <th>Unnamed: 57</th>\n",
       "      <th>Unnamed: 58</th>\n",
       "      <th>Unnamed: 59</th>\n",
       "      <th>Unnamed: 60</th>\n",
       "      <th>Unnamed: 61</th>\n",
       "      <th>Unnamed: 62</th>\n",
       "      <th>Unnamed: 63</th>\n",
       "    </tr>\n",
       "  </thead>\n",
       "  <tbody>\n",
       "    <tr>\n",
       "      <th>0</th>\n",
       "      <td>NaN</td>\n",
       "      <td>Final report</td>\n",
       "      <td>Closed</td>\n",
       "      <td>FI-135</td>\n",
       "      <td>Wrong-side signalling failure, 29/06/2002, Kou...</td>\n",
       "      <td>Accident Investigation Board of Finland</td>\n",
       "      <td>2002-06-29</td>\n",
       "      <td>1900-01-01 08:33:00</td>\n",
       "      <td>Wrong-side signalling failure</td>\n",
       "      <td>Signal malfunctioning</td>\n",
       "      <td>...</td>\n",
       "      <td>NaN</td>\n",
       "      <td>NaN</td>\n",
       "      <td>NaN</td>\n",
       "      <td>NaN</td>\n",
       "      <td>NaN</td>\n",
       "      <td>NaN</td>\n",
       "      <td>NaN</td>\n",
       "      <td>NaN</td>\n",
       "      <td>NaN</td>\n",
       "      <td>NaN</td>\n",
       "    </tr>\n",
       "    <tr>\n",
       "      <th>1</th>\n",
       "      <td>NaN</td>\n",
       "      <td>Final report</td>\n",
       "      <td>Closed</td>\n",
       "      <td>NL-444</td>\n",
       "      <td>Train derailment, 30/04/2003, Station Apeldoor...</td>\n",
       "      <td>The Dutch Safety Board</td>\n",
       "      <td>2003-04-30</td>\n",
       "      <td>1900-01-01 00:42:00</td>\n",
       "      <td>Train derailment</td>\n",
       "      <td>Derailment of a freight train which was loaded...</td>\n",
       "      <td>...</td>\n",
       "      <td>NaN</td>\n",
       "      <td>NaN</td>\n",
       "      <td>NaN</td>\n",
       "      <td>NaN</td>\n",
       "      <td>NaN</td>\n",
       "      <td>NaN</td>\n",
       "      <td>NaN</td>\n",
       "      <td>NaN</td>\n",
       "      <td>NaN</td>\n",
       "      <td>NaN</td>\n",
       "    </tr>\n",
       "    <tr>\n",
       "      <th>2</th>\n",
       "      <td>NaN</td>\n",
       "      <td>Final report</td>\n",
       "      <td>Closed</td>\n",
       "      <td>FI-134</td>\n",
       "      <td>Other, 15.4.2004, Kaukomarkkinat Oy's track at...</td>\n",
       "      <td>Accident Investigation Board of Finland</td>\n",
       "      <td>2004-04-15</td>\n",
       "      <td>1900-01-01 17:31:00</td>\n",
       "      <td>Other</td>\n",
       "      <td>Three methanol carrying Russian tank wagons de...</td>\n",
       "      <td>...</td>\n",
       "      <td>NaN</td>\n",
       "      <td>NaN</td>\n",
       "      <td>NaN</td>\n",
       "      <td>NaN</td>\n",
       "      <td>NaN</td>\n",
       "      <td>NaN</td>\n",
       "      <td>NaN</td>\n",
       "      <td>NaN</td>\n",
       "      <td>NaN</td>\n",
       "      <td>NaN</td>\n",
       "    </tr>\n",
       "    <tr>\n",
       "      <th>3</th>\n",
       "      <td>NaN</td>\n",
       "      <td>Final report</td>\n",
       "      <td>Closed</td>\n",
       "      <td>FI-45</td>\n",
       "      <td>Train derailment, 5/11/2004, Pieksämäki Railwa...</td>\n",
       "      <td>Accident Investigation Board of Finland</td>\n",
       "      <td>2004-05-11</td>\n",
       "      <td>1900-01-01 12:57:00</td>\n",
       "      <td>Train derailment</td>\n",
       "      <td>Two wagons derailed</td>\n",
       "      <td>...</td>\n",
       "      <td>NaN</td>\n",
       "      <td>NaN</td>\n",
       "      <td>NaN</td>\n",
       "      <td>NaN</td>\n",
       "      <td>NaN</td>\n",
       "      <td>NaN</td>\n",
       "      <td>NaN</td>\n",
       "      <td>NaN</td>\n",
       "      <td>NaN</td>\n",
       "      <td>NaN</td>\n",
       "    </tr>\n",
       "    <tr>\n",
       "      <th>4</th>\n",
       "      <td>NaN</td>\n",
       "      <td>Final report</td>\n",
       "      <td>Closed</td>\n",
       "      <td>NL-168</td>\n",
       "      <td>Spad, 21/05/2004, Station Amsterdam (The Nethe...</td>\n",
       "      <td>The Dutch Safety Board</td>\n",
       "      <td>2004-05-21</td>\n",
       "      <td>1900-01-01 18:35:00</td>\n",
       "      <td>Spad</td>\n",
       "      <td>SPAD (an empty double decker train collided wi...</td>\n",
       "      <td>...</td>\n",
       "      <td>NaN</td>\n",
       "      <td>NaN</td>\n",
       "      <td>NaN</td>\n",
       "      <td>NaN</td>\n",
       "      <td>NaN</td>\n",
       "      <td>NaN</td>\n",
       "      <td>NaN</td>\n",
       "      <td>NaN</td>\n",
       "      <td>NaN</td>\n",
       "      <td>NaN</td>\n",
       "    </tr>\n",
       "  </tbody>\n",
       "</table>\n",
       "<p>5 rows × 64 columns</p>\n",
       "</div>"
      ],
      "text/plain": [
       "  Only received by email after ERAIL stopped to work   Report Type  \\\n",
       "0                                                NaN  Final report   \n",
       "1                                                NaN  Final report   \n",
       "2                                                NaN  Final report   \n",
       "3                                                NaN  Final report   \n",
       "4                                                NaN  Final report   \n",
       "\n",
       "  Investigation Status ERAIL Occurrence  \\\n",
       "0               Closed           FI-135   \n",
       "1               Closed           NL-444   \n",
       "2               Closed           FI-134   \n",
       "3               Closed            FI-45   \n",
       "4               Closed           NL-168   \n",
       "\n",
       "                                               Title  \\\n",
       "0  Wrong-side signalling failure, 29/06/2002, Kou...   \n",
       "1  Train derailment, 30/04/2003, Station Apeldoor...   \n",
       "2  Other, 15.4.2004, Kaukomarkkinat Oy's track at...   \n",
       "3  Train derailment, 5/11/2004, Pieksämäki Railwa...   \n",
       "4  Spad, 21/05/2004, Station Amsterdam (The Nethe...   \n",
       "\n",
       "                            Reporting Body Date of occurrence  \\\n",
       "0  Accident Investigation Board of Finland         2002-06-29   \n",
       "1                   The Dutch Safety Board         2003-04-30   \n",
       "2  Accident Investigation Board of Finland         2004-04-15   \n",
       "3  Accident Investigation Board of Finland         2004-05-11   \n",
       "4                   The Dutch Safety Board         2004-05-21   \n",
       "\n",
       "    Time of occurrence                Occurrence type  \\\n",
       "0  1900-01-01 08:33:00  Wrong-side signalling failure   \n",
       "1  1900-01-01 00:42:00               Train derailment   \n",
       "2  1900-01-01 17:31:00                          Other   \n",
       "3  1900-01-01 12:57:00               Train derailment   \n",
       "4  1900-01-01 18:35:00                           Spad   \n",
       "\n",
       "                              Occurrence description  ...  \\\n",
       "0                              Signal malfunctioning  ...   \n",
       "1  Derailment of a freight train which was loaded...  ...   \n",
       "2  Three methanol carrying Russian tank wagons de...  ...   \n",
       "3                                Two wagons derailed  ...   \n",
       "4  SPAD (an empty double decker train collided wi...  ...   \n",
       "\n",
       "  Investigation report Unnamed: 55 Unnamed: 56 Unnamed: 57 Unnamed: 58  \\\n",
       "0                  NaN         NaN         NaN         NaN         NaN   \n",
       "1                  NaN         NaN         NaN         NaN         NaN   \n",
       "2                  NaN         NaN         NaN         NaN         NaN   \n",
       "3                  NaN         NaN         NaN         NaN         NaN   \n",
       "4                  NaN         NaN         NaN         NaN         NaN   \n",
       "\n",
       "  Unnamed: 59 Unnamed: 60 Unnamed: 61 Unnamed: 62 Unnamed: 63  \n",
       "0         NaN         NaN         NaN         NaN         NaN  \n",
       "1         NaN         NaN         NaN         NaN         NaN  \n",
       "2         NaN         NaN         NaN         NaN         NaN  \n",
       "3         NaN         NaN         NaN         NaN         NaN  \n",
       "4         NaN         NaN         NaN         NaN         NaN  \n",
       "\n",
       "[5 rows x 64 columns]"
      ]
     },
     "execution_count": 163,
     "metadata": {},
     "output_type": "execute_result"
    }
   ],
   "source": [
    "erail_db = pd.read_excel(\"erail database.xlsx\")\n",
    "erail_db.head(5)"
   ]
  },
  {
   "cell_type": "code",
   "execution_count": null,
   "metadata": {},
   "outputs": [
    {
     "data": {
      "application/vnd.microsoft.datawrangler.viewer.v0+json": {
       "columns": [
        {
         "name": "index",
         "rawType": "int64",
         "type": "integer"
        },
        {
         "name": "Only received by email after ERAIL stopped to work",
         "rawType": "object",
         "type": "unknown"
        },
        {
         "name": "Report Type",
         "rawType": "object",
         "type": "string"
        },
        {
         "name": "Investigation Status",
         "rawType": "object",
         "type": "string"
        },
        {
         "name": "ERAIL Occurrence",
         "rawType": "object",
         "type": "string"
        },
        {
         "name": "Title",
         "rawType": "object",
         "type": "string"
        },
        {
         "name": "Reporting Body",
         "rawType": "object",
         "type": "string"
        },
        {
         "name": "Date of occurrence",
         "rawType": "object",
         "type": "string"
        },
        {
         "name": "Time of occurrence",
         "rawType": "object",
         "type": "string"
        },
        {
         "name": "Occurrence type",
         "rawType": "object",
         "type": "string"
        },
        {
         "name": "Occurrence description",
         "rawType": "object",
         "type": "string"
        },
        {
         "name": "Country",
         "rawType": "object",
         "type": "string"
        },
        {
         "name": "Location name",
         "rawType": "object",
         "type": "string"
        },
        {
         "name": "Railway System type",
         "rawType": "object",
         "type": "string"
        },
        {
         "name": "Line type",
         "rawType": "object",
         "type": "unknown"
        },
        {
         "name": "Location type",
         "rawType": "object",
         "type": "string"
        },
        {
         "name": "Movement type",
         "rawType": "object",
         "type": "string"
        },
        {
         "name": "RU involved",
         "rawType": "object",
         "type": "string"
        },
        {
         "name": "IM involved",
         "rawType": "object",
         "type": "string"
        },
        {
         "name": "Passenger fatalities",
         "rawType": "object",
         "type": "unknown"
        },
        {
         "name": "Staff fatalities",
         "rawType": "object",
         "type": "unknown"
        },
        {
         "name": "LC User fatalities",
         "rawType": "object",
         "type": "unknown"
        },
        {
         "name": "Unauthorised person fatalities",
         "rawType": "object",
         "type": "unknown"
        },
        {
         "name": "Other fatalities",
         "rawType": "object",
         "type": "unknown"
        },
        {
         "name": "Total fatalities",
         "rawType": "object",
         "type": "unknown"
        },
        {
         "name": "Passenger serious injuries",
         "rawType": "object",
         "type": "unknown"
        },
        {
         "name": "Staff serious injuries",
         "rawType": "object",
         "type": "unknown"
        },
        {
         "name": "LC User serious injuries",
         "rawType": "object",
         "type": "unknown"
        },
        {
         "name": "Unauth. person serious injuries",
         "rawType": "object",
         "type": "unknown"
        },
        {
         "name": "Other serious injuries",
         "rawType": "object",
         "type": "unknown"
        },
        {
         "name": "Total serious injuries",
         "rawType": "object",
         "type": "unknown"
        },
        {
         "name": "Estimated total material costs",
         "rawType": "object",
         "type": "unknown"
        },
        {
         "name": "Damage Description",
         "rawType": "object",
         "type": "unknown"
        },
        {
         "name": "Legal basis",
         "rawType": "object",
         "type": "string"
        },
        {
         "name": "Decision to investigate ",
         "rawType": "object",
         "type": "unknown"
        },
        {
         "name": "N. of related Safety Recs",
         "rawType": "object",
         "type": "unknown"
        },
        {
         "name": "Direct cause description (including causal and contributing factors, excluding those of systemic nature)",
         "rawType": "object",
         "type": "unknown"
        },
        {
         "name": "Underlying and root causes description (i.e. systemic factors, if any)",
         "rawType": "object",
         "type": "unknown"
        },
        {
         "name": "Notification date (occurrence creation date for data from ERAIL)",
         "rawType": "datetime64[ns]",
         "type": "datetime"
        },
        {
         "name": "Date of sending the interim statement(s), if any",
         "rawType": "object",
         "type": "unknown"
        },
        {
         "name": "Date of sending the final report to ERA",
         "rawType": "object",
         "type": "unknown"
        },
        {
         "name": "Date of the investigation closure",
         "rawType": "object",
         "type": "unknown"
        },
        {
         "name": "Acronym",
         "rawType": "object",
         "type": "unknown"
        },
        {
         "name": "DATE (Italic format)",
         "rawType": "object",
         "type": "unknown"
        },
        {
         "name": "Day",
         "rawType": "object",
         "type": "unknown"
        },
        {
         "name": "Month",
         "rawType": "object",
         "type": "unknown"
        },
        {
         "name": "Year",
         "rawType": "object",
         "type": "unknown"
        },
        {
         "name": "Occurrence creation date",
         "rawType": "object",
         "type": "unknown"
        },
        {
         "name": "Decision to investigate",
         "rawType": "object",
         "type": "unknown"
        },
        {
         "name": "Delay",
         "rawType": "object",
         "type": "unknown"
        },
        {
         "name": "Declaration date",
         "rawType": "object",
         "type": "unknown"
        },
        {
         "name": "Month DECL DATE",
         "rawType": "object",
         "type": "unknown"
        },
        {
         "name": "Year DECL DATE",
         "rawType": "object",
         "type": "unknown"
        },
        {
         "name": "Date of IM/RU notification",
         "rawType": "object",
         "type": "unknown"
        },
        {
         "name": "Notes",
         "rawType": "object",
         "type": "unknown"
        },
        {
         "name": "Investigation report",
         "rawType": "object",
         "type": "unknown"
        },
        {
         "name": "Unnamed: 55",
         "rawType": "float64",
         "type": "float"
        },
        {
         "name": "Unnamed: 56",
         "rawType": "float64",
         "type": "float"
        },
        {
         "name": "Unnamed: 57",
         "rawType": "float64",
         "type": "float"
        },
        {
         "name": "Unnamed: 58",
         "rawType": "float64",
         "type": "float"
        },
        {
         "name": "Unnamed: 59",
         "rawType": "float64",
         "type": "float"
        },
        {
         "name": "Unnamed: 60",
         "rawType": "float64",
         "type": "float"
        },
        {
         "name": "Unnamed: 61",
         "rawType": "object",
         "type": "unknown"
        },
        {
         "name": "Unnamed: 62",
         "rawType": "float64",
         "type": "float"
        },
        {
         "name": "Unnamed: 63",
         "rawType": "object",
         "type": "unknown"
        }
       ],
       "conversionMethod": "pd.DataFrame",
       "ref": "e3c0a815-fed0-442a-bed9-3cefee255d63",
       "rows": [
        [
         "0",
         null,
         "Final report",
         "Closed",
         "FI-135",
         "Wrong-side signalling failure, 29/06/2002, Kouvola - Harju section of line (Finland)",
         "Accident Investigation Board of Finland",
         "29/06/2002",
         "08:33",
         "Wrong-side signalling failure",
         "Signal malfunctioning",
         "Finland",
         "Kouvola - Harju section of line",
         "Railway",
         "0",
         "Line",
         "Long distance passenger train",
         "VR Group Ltd",
         "Finnish Rail Administration",
         "0",
         null,
         "0",
         null,
         "0",
         "0",
         "0",
         null,
         "0",
         "0",
         "0",
         "0",
         null,
         null,
         "Other national rules/ regulations not referred to the Safety Directive 2004/49/EC",
         null,
         "0",
         null,
         null,
         "2007-04-17 00:00:00",
         null,
         null,
         null,
         null,
         "2002-06-29 00:00:00",
         "29",
         "6",
         "2002",
         "2002-04-17 00:00:00",
         null,
         "0",
         "2002-11-13 00:00:00",
         "11",
         "2002",
         null,
         null,
         null,
         null,
         null,
         null,
         null,
         null,
         null,
         null,
         null,
         null
        ],
        [
         "1",
         null,
         "Final report",
         "Closed",
         "NL-444",
         "Train derailment, 30/04/2003, Station Apeldoorn (The Netherlands)",
         "The Dutch Safety Board",
         "30/04/2003",
         "00:42",
         "Train derailment",
         "Derailment of a freight train which was loaded with coils of steel.",
         "The Netherlands",
         "Station Apeldoorn",
         "Railway",
         "0",
         "Station",
         "Freight train",
         "Railion Nederland",
         "ProRail",
         "0",
         null,
         "0",
         null,
         "0",
         "0",
         "0",
         null,
         "0",
         "0",
         "0",
         "0",
         null,
         "A lot of wagons were destroyed and coils were located deep in the ground in and near by the tracks and some wagons and coils of steel where on the road.",
         "in light of Article 19 §1 of SD\"",
         null,
         "0",
         null,
         null,
         "2008-03-31 00:00:00",
         null,
         null,
         null,
         null,
         "2003-04-30 00:00:00",
         "30",
         "4",
         "2003",
         "2008-03-31 00:00:00",
         null,
         null,
         "2006-11-06 00:00:00",
         "11",
         "2006",
         null,
         "Check again",
         null,
         null,
         null,
         null,
         null,
         null,
         null,
         null,
         null,
         null
        ],
        [
         "2",
         null,
         "Final report",
         "Closed",
         "FI-134",
         "Other, 15.4.2004, Kaukomarkkinat Oy's track at Hamina Port (Finland)",
         "Accident Investigation Board of Finland",
         "15/04/2004",
         "17:31",
         "Other",
         "Three methanol carrying Russian tank wagons derailed",
         "Finland",
         "Kaukomarkkinat Oy's track at Hamina Port",
         "Railway",
         "Multiple track",
         "Marshalling yard",
         "Shunting operation",
         "VR Group Ltd",
         "Finnish Rail Administration",
         "0",
         "0",
         "0",
         "0",
         "0",
         "0",
         "0",
         "0",
         "0",
         "0",
         "0",
         "0",
         "< 150 000 €",
         "Rolling stock: one secondary air reservoir. Infrastructure: 40 m track.",
         "Other national rules/ regulations not referred to the Safety Directive 2004/49/EC",
         "2004-04-26 00:00:00",
         "2",
         "The incident was caused by the poor condition of the track owned by Kaukomarkkinat Oy. In fact the welding of the j-form rail fastenings made of flat bar iron proved deficient, as only the ends of the fastenings had been welded to the base plates. The detaching of a few fastenings generated a chain reaction that resulted in the detaching of the outer curve fastenings over a track length of about 40 metres and in a widening of the track under the wagons.",
         null,
         "2007-04-17 00:00:00",
         null,
         null,
         null,
         null,
         "2004-04-15 00:00:00",
         "15",
         "4",
         "2004",
         "2007-04-17 00:00:00",
         "2004-04-26 00:00:00",
         "1086",
         "2006-10-27 00:00:00",
         "10",
         "2006",
         null,
         null,
         null,
         null,
         null,
         null,
         null,
         null,
         null,
         null,
         null,
         null
        ],
        [
         "3",
         null,
         "Final report",
         "Closed",
         "FI-45",
         "Train derailment, 5/11/2004, Pieksämäki Railway Yard (Finland)",
         "Accident Investigation Board of Finland",
         "11/05/2004",
         "12:57",
         "Train derailment",
         "Two wagons derailed",
         "Finland",
         "Pieksämäki Railway Yard",
         "Railway",
         "Single track",
         "Station",
         "Freight train",
         "VR Group Ltd",
         "Finnish Rail Administration",
         "0",
         "0",
         "0",
         "0",
         "0",
         "0",
         "0",
         "0",
         "0",
         "0",
         "0",
         "0",
         "< 150 000 €",
         "Track was damaged over a distance of about 80 meters. The bogies of the second derailed wagon were badly damaged.",
         "Other national rules/ regulations not referred to the Safety Directive 2004/49/EC",
         null,
         "0",
         "The wooden sleepers were in poor condition and lateral deflections had generated at the rail joints.",
         null,
         "2007-02-20 00:00:00",
         null,
         null,
         null,
         null,
         "2004-05-11 00:00:00",
         "11",
         "5",
         "2004",
         "2007-02-20 00:00:00",
         null,
         null,
         "2006-11-13 00:00:00",
         "11",
         "2006",
         null,
         null,
         null,
         null,
         null,
         null,
         null,
         null,
         null,
         null,
         null,
         null
        ],
        [
         "4",
         null,
         "Final report",
         "Closed",
         "NL-168",
         "Spad, 21/05/2004, Station Amsterdam (The Netherlands)",
         "The Dutch Safety Board",
         "21/05/2004",
         "18:35",
         "Spad",
         "SPAD (an empty double decker train collided with an intercity passenger train)",
         "The Netherlands",
         "Station Amsterdam",
         "Railway",
         "0",
         "Station",
         "Long distance passenger train",
         "NS passenger",
         "ProRail",
         "0",
         "0",
         "0",
         "0",
         "0",
         "0",
         "19",
         "0",
         "0",
         "0",
         "0",
         "19",
         null,
         "The damage to the infrastructure and the rolling stock was considerable.",
         "Other national rules/ regulations not referred to the Safety Directive 2004/49/EC",
         null,
         "4",
         null,
         null,
         "2007-05-22 00:00:00",
         null,
         null,
         null,
         null,
         "2004-05-21 00:00:00",
         "21",
         "5",
         "2004",
         "2007-05-22 00:00:00",
         null,
         null,
         "2008-08-28 00:00:00",
         "8",
         "2008",
         null,
         null,
         null,
         null,
         null,
         null,
         null,
         null,
         null,
         null,
         null,
         null
        ]
       ],
       "shape": {
        "columns": 64,
        "rows": 5
       }
      },
      "text/html": [
       "<div>\n",
       "<style scoped>\n",
       "    .dataframe tbody tr th:only-of-type {\n",
       "        vertical-align: middle;\n",
       "    }\n",
       "\n",
       "    .dataframe tbody tr th {\n",
       "        vertical-align: top;\n",
       "    }\n",
       "\n",
       "    .dataframe thead th {\n",
       "        text-align: right;\n",
       "    }\n",
       "</style>\n",
       "<table border=\"1\" class=\"dataframe\">\n",
       "  <thead>\n",
       "    <tr style=\"text-align: right;\">\n",
       "      <th></th>\n",
       "      <th>Only received by email after ERAIL stopped to work</th>\n",
       "      <th>Report Type</th>\n",
       "      <th>Investigation Status</th>\n",
       "      <th>ERAIL Occurrence</th>\n",
       "      <th>Title</th>\n",
       "      <th>Reporting Body</th>\n",
       "      <th>Date of occurrence</th>\n",
       "      <th>Time of occurrence</th>\n",
       "      <th>Occurrence type</th>\n",
       "      <th>Occurrence description</th>\n",
       "      <th>...</th>\n",
       "      <th>Investigation report</th>\n",
       "      <th>Unnamed: 55</th>\n",
       "      <th>Unnamed: 56</th>\n",
       "      <th>Unnamed: 57</th>\n",
       "      <th>Unnamed: 58</th>\n",
       "      <th>Unnamed: 59</th>\n",
       "      <th>Unnamed: 60</th>\n",
       "      <th>Unnamed: 61</th>\n",
       "      <th>Unnamed: 62</th>\n",
       "      <th>Unnamed: 63</th>\n",
       "    </tr>\n",
       "  </thead>\n",
       "  <tbody>\n",
       "    <tr>\n",
       "      <th>0</th>\n",
       "      <td>NaN</td>\n",
       "      <td>Final report</td>\n",
       "      <td>Closed</td>\n",
       "      <td>FI-135</td>\n",
       "      <td>Wrong-side signalling failure, 29/06/2002, Kou...</td>\n",
       "      <td>Accident Investigation Board of Finland</td>\n",
       "      <td>29/06/2002</td>\n",
       "      <td>08:33</td>\n",
       "      <td>Wrong-side signalling failure</td>\n",
       "      <td>Signal malfunctioning</td>\n",
       "      <td>...</td>\n",
       "      <td>NaN</td>\n",
       "      <td>NaN</td>\n",
       "      <td>NaN</td>\n",
       "      <td>NaN</td>\n",
       "      <td>NaN</td>\n",
       "      <td>NaN</td>\n",
       "      <td>NaN</td>\n",
       "      <td>NaN</td>\n",
       "      <td>NaN</td>\n",
       "      <td>NaN</td>\n",
       "    </tr>\n",
       "    <tr>\n",
       "      <th>1</th>\n",
       "      <td>NaN</td>\n",
       "      <td>Final report</td>\n",
       "      <td>Closed</td>\n",
       "      <td>NL-444</td>\n",
       "      <td>Train derailment, 30/04/2003, Station Apeldoor...</td>\n",
       "      <td>The Dutch Safety Board</td>\n",
       "      <td>30/04/2003</td>\n",
       "      <td>00:42</td>\n",
       "      <td>Train derailment</td>\n",
       "      <td>Derailment of a freight train which was loaded...</td>\n",
       "      <td>...</td>\n",
       "      <td>NaN</td>\n",
       "      <td>NaN</td>\n",
       "      <td>NaN</td>\n",
       "      <td>NaN</td>\n",
       "      <td>NaN</td>\n",
       "      <td>NaN</td>\n",
       "      <td>NaN</td>\n",
       "      <td>NaN</td>\n",
       "      <td>NaN</td>\n",
       "      <td>NaN</td>\n",
       "    </tr>\n",
       "    <tr>\n",
       "      <th>2</th>\n",
       "      <td>NaN</td>\n",
       "      <td>Final report</td>\n",
       "      <td>Closed</td>\n",
       "      <td>FI-134</td>\n",
       "      <td>Other, 15.4.2004, Kaukomarkkinat Oy's track at...</td>\n",
       "      <td>Accident Investigation Board of Finland</td>\n",
       "      <td>15/04/2004</td>\n",
       "      <td>17:31</td>\n",
       "      <td>Other</td>\n",
       "      <td>Three methanol carrying Russian tank wagons de...</td>\n",
       "      <td>...</td>\n",
       "      <td>NaN</td>\n",
       "      <td>NaN</td>\n",
       "      <td>NaN</td>\n",
       "      <td>NaN</td>\n",
       "      <td>NaN</td>\n",
       "      <td>NaN</td>\n",
       "      <td>NaN</td>\n",
       "      <td>NaN</td>\n",
       "      <td>NaN</td>\n",
       "      <td>NaN</td>\n",
       "    </tr>\n",
       "    <tr>\n",
       "      <th>3</th>\n",
       "      <td>NaN</td>\n",
       "      <td>Final report</td>\n",
       "      <td>Closed</td>\n",
       "      <td>FI-45</td>\n",
       "      <td>Train derailment, 5/11/2004, Pieksämäki Railwa...</td>\n",
       "      <td>Accident Investigation Board of Finland</td>\n",
       "      <td>11/05/2004</td>\n",
       "      <td>12:57</td>\n",
       "      <td>Train derailment</td>\n",
       "      <td>Two wagons derailed</td>\n",
       "      <td>...</td>\n",
       "      <td>NaN</td>\n",
       "      <td>NaN</td>\n",
       "      <td>NaN</td>\n",
       "      <td>NaN</td>\n",
       "      <td>NaN</td>\n",
       "      <td>NaN</td>\n",
       "      <td>NaN</td>\n",
       "      <td>NaN</td>\n",
       "      <td>NaN</td>\n",
       "      <td>NaN</td>\n",
       "    </tr>\n",
       "    <tr>\n",
       "      <th>4</th>\n",
       "      <td>NaN</td>\n",
       "      <td>Final report</td>\n",
       "      <td>Closed</td>\n",
       "      <td>NL-168</td>\n",
       "      <td>Spad, 21/05/2004, Station Amsterdam (The Nethe...</td>\n",
       "      <td>The Dutch Safety Board</td>\n",
       "      <td>21/05/2004</td>\n",
       "      <td>18:35</td>\n",
       "      <td>Spad</td>\n",
       "      <td>SPAD (an empty double decker train collided wi...</td>\n",
       "      <td>...</td>\n",
       "      <td>NaN</td>\n",
       "      <td>NaN</td>\n",
       "      <td>NaN</td>\n",
       "      <td>NaN</td>\n",
       "      <td>NaN</td>\n",
       "      <td>NaN</td>\n",
       "      <td>NaN</td>\n",
       "      <td>NaN</td>\n",
       "      <td>NaN</td>\n",
       "      <td>NaN</td>\n",
       "    </tr>\n",
       "  </tbody>\n",
       "</table>\n",
       "<p>5 rows × 64 columns</p>\n",
       "</div>"
      ],
      "text/plain": [
       "  Only received by email after ERAIL stopped to work   Report Type  \\\n",
       "0                                                NaN  Final report   \n",
       "1                                                NaN  Final report   \n",
       "2                                                NaN  Final report   \n",
       "3                                                NaN  Final report   \n",
       "4                                                NaN  Final report   \n",
       "\n",
       "  Investigation Status ERAIL Occurrence  \\\n",
       "0               Closed           FI-135   \n",
       "1               Closed           NL-444   \n",
       "2               Closed           FI-134   \n",
       "3               Closed            FI-45   \n",
       "4               Closed           NL-168   \n",
       "\n",
       "                                               Title  \\\n",
       "0  Wrong-side signalling failure, 29/06/2002, Kou...   \n",
       "1  Train derailment, 30/04/2003, Station Apeldoor...   \n",
       "2  Other, 15.4.2004, Kaukomarkkinat Oy's track at...   \n",
       "3  Train derailment, 5/11/2004, Pieksämäki Railwa...   \n",
       "4  Spad, 21/05/2004, Station Amsterdam (The Nethe...   \n",
       "\n",
       "                            Reporting Body Date of occurrence  \\\n",
       "0  Accident Investigation Board of Finland         29/06/2002   \n",
       "1                   The Dutch Safety Board         30/04/2003   \n",
       "2  Accident Investigation Board of Finland         15/04/2004   \n",
       "3  Accident Investigation Board of Finland         11/05/2004   \n",
       "4                   The Dutch Safety Board         21/05/2004   \n",
       "\n",
       "  Time of occurrence                Occurrence type  \\\n",
       "0              08:33  Wrong-side signalling failure   \n",
       "1              00:42               Train derailment   \n",
       "2              17:31                          Other   \n",
       "3              12:57               Train derailment   \n",
       "4              18:35                           Spad   \n",
       "\n",
       "                              Occurrence description  ...  \\\n",
       "0                              Signal malfunctioning  ...   \n",
       "1  Derailment of a freight train which was loaded...  ...   \n",
       "2  Three methanol carrying Russian tank wagons de...  ...   \n",
       "3                                Two wagons derailed  ...   \n",
       "4  SPAD (an empty double decker train collided wi...  ...   \n",
       "\n",
       "  Investigation report Unnamed: 55 Unnamed: 56 Unnamed: 57 Unnamed: 58  \\\n",
       "0                  NaN         NaN         NaN         NaN         NaN   \n",
       "1                  NaN         NaN         NaN         NaN         NaN   \n",
       "2                  NaN         NaN         NaN         NaN         NaN   \n",
       "3                  NaN         NaN         NaN         NaN         NaN   \n",
       "4                  NaN         NaN         NaN         NaN         NaN   \n",
       "\n",
       "  Unnamed: 59 Unnamed: 60 Unnamed: 61 Unnamed: 62 Unnamed: 63  \n",
       "0         NaN         NaN         NaN         NaN         NaN  \n",
       "1         NaN         NaN         NaN         NaN         NaN  \n",
       "2         NaN         NaN         NaN         NaN         NaN  \n",
       "3         NaN         NaN         NaN         NaN         NaN  \n",
       "4         NaN         NaN         NaN         NaN         NaN  \n",
       "\n",
       "[5 rows x 64 columns]"
      ]
     },
     "execution_count": 164,
     "metadata": {},
     "output_type": "execute_result"
    }
   ],
   "source": [
    "# Convert date column to datetime & adjust format\n",
    "erail_db[\"Date of occurrence\"] = erail_db[\"Date of occurrence\"].dt.strftime(\"%d/%m/%Y\")\n",
    "\n",
    "# Convert time column to datetime & adjust format\n",
    "erail_db[\"Time of occurrence\"] = pd.to_datetime(erail_db[\"Time of occurrence\"], errors='coerce')\n",
    "erail_db[\"Time of occurrence\"] = erail_db[\"Time of occurrence\"].dt.strftime(\"%H:%M\")\n",
    "\n",
    "erail_db.head(5)"
   ]
  },
  {
   "cell_type": "code",
   "execution_count": null,
   "metadata": {},
   "outputs": [],
   "source": [
    "# Create a copy of the results DataFrame\n",
    "comparison_df = results_df[[\"pdf_name\", \"json_output\"]].copy()\n",
    "\n",
    "# Extract ID from the PDF name\n",
    "comparison_df[\"ERAIL Occurrence\"] = comparison_df[\"pdf_name\"].str.extract(r'(IE-\\d+)')\n",
    "\n",
    "# Sample DataFrame (assuming json_output column contains dictionaries in string format)\n",
    "comparison_df['json_output'] = comparison_df['json_output'].apply(json.loads)  # Convert JSON string to dictionary\n",
    "\n",
    "# Function to extract node data\n",
    "def extract_nodes(json_data):\n",
    "    node_dict = {}\n",
    "    for node in json_data.get(\"nodes\", []):\n",
    "        node_dict[f\"gpt_{node['type']}\"] = node[\"id\"]  # Store ID based on type\n",
    "    return pd.Series(node_dict)  # Convert dictionary to Series for easier DataFrame merging\n",
    "\n",
    "# Apply the function to extract node data\n",
    "nodes_df = comparison_df['json_output'].apply(extract_nodes)\n",
    "\n",
    "# Merge extracted data into original DataFrame\n",
    "comparison_df = pd.concat([comparison_df, nodes_df], axis=1)\n",
    "\n",
    "# Drop the original json_output column if no longer needed\n",
    "comparison_df.drop(columns=[\"json_output\"], inplace=True)\n",
    "\n",
    "# View comparison DataFrame\n",
    "comparison_df"
   ]
  },
  {
   "cell_type": "code",
   "execution_count": null,
   "metadata": {},
   "outputs": [],
   "source": [
    "# Merge the comparison DataFrame with the ERAIL database\n",
    "merged_df = comparison_df.merge(erail_db, on=\"ERAIL Occurrence\", how='inner')\n",
    "merged_df"
   ]
  },
  {
   "cell_type": "code",
   "execution_count": null,
   "metadata": {},
   "outputs": [
    {
     "data": {
      "application/vnd.microsoft.datawrangler.viewer.v0+json": {
       "columns": [
        {
         "name": "index",
         "rawType": "int64",
         "type": "integer"
        },
        {
         "name": "ERAIL Occurrence",
         "rawType": "object",
         "type": "string"
        },
        {
         "name": "gpt_Date",
         "rawType": "object",
         "type": "string"
        },
        {
         "name": "Date of occurrence",
         "rawType": "object",
         "type": "string"
        },
        {
         "name": "Date Match",
         "rawType": "object",
         "type": "string"
        }
       ],
       "conversionMethod": "pd.DataFrame",
       "ref": "b11811e6-a454-4f3f-b132-0e2d6402d66f",
       "rows": [
        [
         "0",
         "IE-10375",
         "27/08/2021",
         "27/08/2021",
         "Match"
        ],
        [
         "1",
         "IE-10397",
         "07/12/2021",
         "07/12/2021",
         "Match"
        ],
        [
         "2",
         "IE-10404",
         "22/02/2023",
         "22/02/2023",
         "Match"
        ],
        [
         "3",
         "IE-6218",
         "11/01/2020",
         "11/01/2020",
         "Match"
        ],
        [
         "4",
         "IE-6262",
         "29/04/2020",
         "29/04/2020",
         "Match"
        ],
        [
         "5",
         "IE-6291",
         "24/05/2020",
         "24/05/2020",
         "Match"
        ],
        [
         "6",
         "IE-6305",
         "06/07/2020",
         "07/07/2020",
         "Mismatch"
        ]
       ],
       "shape": {
        "columns": 4,
        "rows": 7
       }
      },
      "text/html": [
       "<div>\n",
       "<style scoped>\n",
       "    .dataframe tbody tr th:only-of-type {\n",
       "        vertical-align: middle;\n",
       "    }\n",
       "\n",
       "    .dataframe tbody tr th {\n",
       "        vertical-align: top;\n",
       "    }\n",
       "\n",
       "    .dataframe thead th {\n",
       "        text-align: right;\n",
       "    }\n",
       "</style>\n",
       "<table border=\"1\" class=\"dataframe\">\n",
       "  <thead>\n",
       "    <tr style=\"text-align: right;\">\n",
       "      <th></th>\n",
       "      <th>ERAIL Occurrence</th>\n",
       "      <th>gpt_Date</th>\n",
       "      <th>Date of occurrence</th>\n",
       "      <th>Date Match</th>\n",
       "    </tr>\n",
       "  </thead>\n",
       "  <tbody>\n",
       "    <tr>\n",
       "      <th>0</th>\n",
       "      <td>IE-10375</td>\n",
       "      <td>27/08/2021</td>\n",
       "      <td>27/08/2021</td>\n",
       "      <td>Match</td>\n",
       "    </tr>\n",
       "    <tr>\n",
       "      <th>1</th>\n",
       "      <td>IE-10397</td>\n",
       "      <td>07/12/2021</td>\n",
       "      <td>07/12/2021</td>\n",
       "      <td>Match</td>\n",
       "    </tr>\n",
       "    <tr>\n",
       "      <th>2</th>\n",
       "      <td>IE-10404</td>\n",
       "      <td>22/02/2023</td>\n",
       "      <td>22/02/2023</td>\n",
       "      <td>Match</td>\n",
       "    </tr>\n",
       "    <tr>\n",
       "      <th>3</th>\n",
       "      <td>IE-6218</td>\n",
       "      <td>11/01/2020</td>\n",
       "      <td>11/01/2020</td>\n",
       "      <td>Match</td>\n",
       "    </tr>\n",
       "    <tr>\n",
       "      <th>4</th>\n",
       "      <td>IE-6262</td>\n",
       "      <td>29/04/2020</td>\n",
       "      <td>29/04/2020</td>\n",
       "      <td>Match</td>\n",
       "    </tr>\n",
       "    <tr>\n",
       "      <th>5</th>\n",
       "      <td>IE-6291</td>\n",
       "      <td>24/05/2020</td>\n",
       "      <td>24/05/2020</td>\n",
       "      <td>Match</td>\n",
       "    </tr>\n",
       "    <tr>\n",
       "      <th>6</th>\n",
       "      <td>IE-6305</td>\n",
       "      <td>06/07/2020</td>\n",
       "      <td>07/07/2020</td>\n",
       "      <td>Mismatch</td>\n",
       "    </tr>\n",
       "  </tbody>\n",
       "</table>\n",
       "</div>"
      ],
      "text/plain": [
       "  ERAIL Occurrence    gpt_Date Date of occurrence Date Match\n",
       "0         IE-10375  27/08/2021         27/08/2021      Match\n",
       "1         IE-10397  07/12/2021         07/12/2021      Match\n",
       "2         IE-10404  22/02/2023         22/02/2023      Match\n",
       "3          IE-6218  11/01/2020         11/01/2020      Match\n",
       "4          IE-6262  29/04/2020         29/04/2020      Match\n",
       "5          IE-6291  24/05/2020         24/05/2020      Match\n",
       "6          IE-6305  06/07/2020         07/07/2020   Mismatch"
      ]
     },
     "execution_count": 210,
     "metadata": {},
     "output_type": "execute_result"
    }
   ],
   "source": [
    "# Compare GPT extracted date with the ERAIL database (source of truth)\n",
    "merged_df[\"Date Match\"] = np.where(merged_df[\"gpt_Date\"] == merged_df[\"Date of occurrence\"], \"Match\", \"Mismatch\")\n",
    "merged_df[[\"ERAIL Occurrence\", \"gpt_Date\", \"Date of occurrence\", \"Date Match\"]]"
   ]
  },
  {
   "cell_type": "code",
   "execution_count": null,
   "metadata": {},
   "outputs": [
    {
     "data": {
      "application/vnd.microsoft.datawrangler.viewer.v0+json": {
       "columns": [
        {
         "name": "index",
         "rawType": "int64",
         "type": "integer"
        },
        {
         "name": "ERAIL Occurrence",
         "rawType": "object",
         "type": "string"
        },
        {
         "name": "gpt_Time",
         "rawType": "object",
         "type": "string"
        },
        {
         "name": "Time of occurrence",
         "rawType": "object",
         "type": "unknown"
        },
        {
         "name": "Time Match",
         "rawType": "object",
         "type": "string"
        }
       ],
       "conversionMethod": "pd.DataFrame",
       "ref": "93434280-df28-480e-897d-1c4700ac5fdd",
       "rows": [
        [
         "0",
         "IE-10375",
         "00:18",
         "00:20",
         "Mismatch"
        ],
        [
         "1",
         "IE-10397",
         "15:59",
         "16:05",
         "Mismatch"
        ],
        [
         "2",
         "IE-10404",
         "07:56",
         "11:45",
         "Mismatch"
        ],
        [
         "3",
         "IE-6218",
         "10:52",
         null,
         "Mismatch"
        ],
        [
         "4",
         "IE-6262",
         "13:40",
         null,
         "Mismatch"
        ],
        [
         "5",
         "IE-6291",
         "12:13",
         null,
         "Mismatch"
        ],
        [
         "6",
         "IE-6305",
         "14:25",
         null,
         "Mismatch"
        ]
       ],
       "shape": {
        "columns": 4,
        "rows": 7
       }
      },
      "text/html": [
       "<div>\n",
       "<style scoped>\n",
       "    .dataframe tbody tr th:only-of-type {\n",
       "        vertical-align: middle;\n",
       "    }\n",
       "\n",
       "    .dataframe tbody tr th {\n",
       "        vertical-align: top;\n",
       "    }\n",
       "\n",
       "    .dataframe thead th {\n",
       "        text-align: right;\n",
       "    }\n",
       "</style>\n",
       "<table border=\"1\" class=\"dataframe\">\n",
       "  <thead>\n",
       "    <tr style=\"text-align: right;\">\n",
       "      <th></th>\n",
       "      <th>ERAIL Occurrence</th>\n",
       "      <th>gpt_Time</th>\n",
       "      <th>Time of occurrence</th>\n",
       "      <th>Time Match</th>\n",
       "    </tr>\n",
       "  </thead>\n",
       "  <tbody>\n",
       "    <tr>\n",
       "      <th>0</th>\n",
       "      <td>IE-10375</td>\n",
       "      <td>00:18</td>\n",
       "      <td>00:20</td>\n",
       "      <td>Mismatch</td>\n",
       "    </tr>\n",
       "    <tr>\n",
       "      <th>1</th>\n",
       "      <td>IE-10397</td>\n",
       "      <td>15:59</td>\n",
       "      <td>16:05</td>\n",
       "      <td>Mismatch</td>\n",
       "    </tr>\n",
       "    <tr>\n",
       "      <th>2</th>\n",
       "      <td>IE-10404</td>\n",
       "      <td>07:56</td>\n",
       "      <td>11:45</td>\n",
       "      <td>Mismatch</td>\n",
       "    </tr>\n",
       "    <tr>\n",
       "      <th>3</th>\n",
       "      <td>IE-6218</td>\n",
       "      <td>10:52</td>\n",
       "      <td>NaN</td>\n",
       "      <td>Mismatch</td>\n",
       "    </tr>\n",
       "    <tr>\n",
       "      <th>4</th>\n",
       "      <td>IE-6262</td>\n",
       "      <td>13:40</td>\n",
       "      <td>NaN</td>\n",
       "      <td>Mismatch</td>\n",
       "    </tr>\n",
       "    <tr>\n",
       "      <th>5</th>\n",
       "      <td>IE-6291</td>\n",
       "      <td>12:13</td>\n",
       "      <td>NaN</td>\n",
       "      <td>Mismatch</td>\n",
       "    </tr>\n",
       "    <tr>\n",
       "      <th>6</th>\n",
       "      <td>IE-6305</td>\n",
       "      <td>14:25</td>\n",
       "      <td>NaN</td>\n",
       "      <td>Mismatch</td>\n",
       "    </tr>\n",
       "  </tbody>\n",
       "</table>\n",
       "</div>"
      ],
      "text/plain": [
       "  ERAIL Occurrence gpt_Time Time of occurrence Time Match\n",
       "0         IE-10375    00:18              00:20   Mismatch\n",
       "1         IE-10397    15:59              16:05   Mismatch\n",
       "2         IE-10404    07:56              11:45   Mismatch\n",
       "3          IE-6218    10:52                NaN   Mismatch\n",
       "4          IE-6262    13:40                NaN   Mismatch\n",
       "5          IE-6291    12:13                NaN   Mismatch\n",
       "6          IE-6305    14:25                NaN   Mismatch"
      ]
     },
     "execution_count": 211,
     "metadata": {},
     "output_type": "execute_result"
    }
   ],
   "source": [
    "# Compare GPT extracted time with the ERAIL database (source of truth)\n",
    "merged_df[\"Time Match\"] = np.where(merged_df[\"gpt_Time\"] == merged_df[\"Time of occurrence\"], \"Match\", \"Mismatch\")\n",
    "merged_df[[\"ERAIL Occurrence\", \"gpt_Time\", \"Time of occurrence\", \"Time Match\"]]"
   ]
  },
  {
   "cell_type": "code",
   "execution_count": null,
   "metadata": {},
   "outputs": [
    {
     "data": {
      "application/vnd.microsoft.datawrangler.viewer.v0+json": {
       "columns": [
        {
         "name": "index",
         "rawType": "int64",
         "type": "integer"
        },
        {
         "name": "ERAIL Occurrence",
         "rawType": "object",
         "type": "string"
        },
        {
         "name": "gpt_Country",
         "rawType": "object",
         "type": "string"
        },
        {
         "name": "Country",
         "rawType": "object",
         "type": "string"
        },
        {
         "name": "Country Match",
         "rawType": "object",
         "type": "string"
        }
       ],
       "conversionMethod": "pd.DataFrame",
       "ref": "8256da20-a6f5-4d23-a7aa-7f77a44b2e35",
       "rows": [
        [
         "0",
         "IE-10375",
         "Ireland",
         "Ireland",
         "Match"
        ],
        [
         "1",
         "IE-10397",
         "Ireland",
         "Ireland",
         "Match"
        ],
        [
         "2",
         "IE-10404",
         "Ireland",
         "Ireland",
         "Match"
        ],
        [
         "3",
         "IE-6218",
         "Ireland",
         "Ireland",
         "Match"
        ],
        [
         "4",
         "IE-6262",
         "Ireland",
         "Ireland",
         "Match"
        ],
        [
         "5",
         "IE-6291",
         "Ireland",
         "Ireland",
         "Match"
        ],
        [
         "6",
         "IE-6305",
         "Ireland",
         "Ireland",
         "Match"
        ]
       ],
       "shape": {
        "columns": 4,
        "rows": 7
       }
      },
      "text/html": [
       "<div>\n",
       "<style scoped>\n",
       "    .dataframe tbody tr th:only-of-type {\n",
       "        vertical-align: middle;\n",
       "    }\n",
       "\n",
       "    .dataframe tbody tr th {\n",
       "        vertical-align: top;\n",
       "    }\n",
       "\n",
       "    .dataframe thead th {\n",
       "        text-align: right;\n",
       "    }\n",
       "</style>\n",
       "<table border=\"1\" class=\"dataframe\">\n",
       "  <thead>\n",
       "    <tr style=\"text-align: right;\">\n",
       "      <th></th>\n",
       "      <th>ERAIL Occurrence</th>\n",
       "      <th>gpt_Country</th>\n",
       "      <th>Country</th>\n",
       "      <th>Country Match</th>\n",
       "    </tr>\n",
       "  </thead>\n",
       "  <tbody>\n",
       "    <tr>\n",
       "      <th>0</th>\n",
       "      <td>IE-10375</td>\n",
       "      <td>Ireland</td>\n",
       "      <td>Ireland</td>\n",
       "      <td>Match</td>\n",
       "    </tr>\n",
       "    <tr>\n",
       "      <th>1</th>\n",
       "      <td>IE-10397</td>\n",
       "      <td>Ireland</td>\n",
       "      <td>Ireland</td>\n",
       "      <td>Match</td>\n",
       "    </tr>\n",
       "    <tr>\n",
       "      <th>2</th>\n",
       "      <td>IE-10404</td>\n",
       "      <td>Ireland</td>\n",
       "      <td>Ireland</td>\n",
       "      <td>Match</td>\n",
       "    </tr>\n",
       "    <tr>\n",
       "      <th>3</th>\n",
       "      <td>IE-6218</td>\n",
       "      <td>Ireland</td>\n",
       "      <td>Ireland</td>\n",
       "      <td>Match</td>\n",
       "    </tr>\n",
       "    <tr>\n",
       "      <th>4</th>\n",
       "      <td>IE-6262</td>\n",
       "      <td>Ireland</td>\n",
       "      <td>Ireland</td>\n",
       "      <td>Match</td>\n",
       "    </tr>\n",
       "    <tr>\n",
       "      <th>5</th>\n",
       "      <td>IE-6291</td>\n",
       "      <td>Ireland</td>\n",
       "      <td>Ireland</td>\n",
       "      <td>Match</td>\n",
       "    </tr>\n",
       "    <tr>\n",
       "      <th>6</th>\n",
       "      <td>IE-6305</td>\n",
       "      <td>Ireland</td>\n",
       "      <td>Ireland</td>\n",
       "      <td>Match</td>\n",
       "    </tr>\n",
       "  </tbody>\n",
       "</table>\n",
       "</div>"
      ],
      "text/plain": [
       "  ERAIL Occurrence gpt_Country  Country Country Match\n",
       "0         IE-10375     Ireland  Ireland         Match\n",
       "1         IE-10397     Ireland  Ireland         Match\n",
       "2         IE-10404     Ireland  Ireland         Match\n",
       "3          IE-6218     Ireland  Ireland         Match\n",
       "4          IE-6262     Ireland  Ireland         Match\n",
       "5          IE-6291     Ireland  Ireland         Match\n",
       "6          IE-6305     Ireland  Ireland         Match"
      ]
     },
     "execution_count": 212,
     "metadata": {},
     "output_type": "execute_result"
    }
   ],
   "source": [
    "# Compare GPT extracted country with the ERAIL database (source of truth)\n",
    "merged_df[\"Country Match\"] = np.where(merged_df[\"gpt_Country\"] == merged_df[\"Country\"], \"Match\", \"Mismatch\")\n",
    "merged_df[[\"ERAIL Occurrence\", \"gpt_Country\", \"Country\", \"Country Match\"]]"
   ]
  },
  {
   "cell_type": "code",
   "execution_count": null,
   "metadata": {},
   "outputs": [],
   "source": []
  },
  {
   "cell_type": "code",
   "execution_count": null,
   "metadata": {},
   "outputs": [],
   "source": []
  },
  {
   "cell_type": "code",
   "execution_count": null,
   "metadata": {},
   "outputs": [],
   "source": []
  },
  {
   "cell_type": "code",
   "execution_count": null,
   "metadata": {},
   "outputs": [],
   "source": []
  }
 ],
 "metadata": {
  "kernelspec": {
   "display_name": "master_thesis",
   "language": "python",
   "name": "python3"
  },
  "language_info": {
   "codemirror_mode": {
    "name": "ipython",
    "version": 3
   },
   "file_extension": ".py",
   "mimetype": "text/x-python",
   "name": "python",
   "nbconvert_exporter": "python",
   "pygments_lexer": "ipython3",
   "version": "3.12.9"
  }
 },
 "nbformat": 4,
 "nbformat_minor": 2
}
