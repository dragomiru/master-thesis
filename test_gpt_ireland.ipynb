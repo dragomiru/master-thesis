{
 "cells": [
  {
   "cell_type": "markdown",
   "metadata": {},
   "source": [
    "# 1. Package Loading"
   ]
  },
  {
   "cell_type": "code",
   "execution_count": 1,
   "metadata": {},
   "outputs": [],
   "source": [
    "# Standard Library\n",
    "import json\n",
    "import os\n",
    "import re\n",
    "import requests\n",
    "import getpass\n",
    "import tqdm\n",
    "\n",
    "# Data Manipulation\n",
    "import pandas as pd\n",
    "import numpy as np\n",
    "\n",
    "# PDFs\n",
    "import pdfplumber\n",
    "\n",
    "# LLMs\n",
    "import tiktoken\n",
    "import textwrap\n",
    "\n",
    "from langchain.text_splitter import RecursiveCharacterTextSplitter\n",
    "from langchain.schema import Document\n",
    "from langchain_community.vectorstores import FAISS\n",
    "from langchain_community.graphs.graph_document import (\n",
    "    GraphDocument,\n",
    "    Node as BaseNode,\n",
    "    Relationship as BaseRelationship,\n",
    ")\n",
    "from langchain_huggingface import HuggingFaceEmbeddings\n",
    "from langchain.chat_models import init_chat_model\n",
    "from langchain.memory import ConversationBufferMemory\n",
    "from langchain.prompts import ChatPromptTemplate, MessagesPlaceholder, SystemMessagePromptTemplate, HumanMessagePromptTemplate\n",
    "from langchain.chains import LLMChain\n",
    "\n",
    "# Neo4j\n",
    "from neo4j import GraphDatabase\n",
    "from neo4j.exceptions import AuthError\n",
    "\n",
    "# Typing & Validation\n",
    "from pydantic import BaseModel, ValidationError, Field\n",
    "from typing import Any, Dict, List, Optional"
   ]
  },
  {
   "cell_type": "markdown",
   "metadata": {},
   "source": [
    "# 2. Raw Data Extraction"
   ]
  },
  {
   "cell_type": "markdown",
   "metadata": {},
   "source": [
    "## 2.1 Incident Reports"
   ]
  },
  {
   "cell_type": "code",
   "execution_count": 2,
   "metadata": {},
   "outputs": [
    {
     "name": "stdout",
     "output_type": "stream",
     "text": [
      "1. IE-10375 - 210827 Collision with track equipment.pdf\n",
      "2. IE-10397 - 211207 Clontarf.pdf\n",
      "3. IE-10404 - 230222 Broken Rail Emly.pdf\n",
      "4. IE-200608 BnM Collision LC Offaly.pdf\n",
      "5. IE-6218-200111 Collision RRME Rosslare.pdf\n",
      "6. IE-6262-200429 LC Collision XM240.pdf\n",
      "7. IE-6291-200524 LC XA068 Ashfield.pdf\n",
      "8. IE-6305 - 200707_locomotive_224.pdf\n"
     ]
    }
   ],
   "source": [
    "# Define the directory containing PDFs\n",
    "pdf_directory = \"./reports_ie/\"\n",
    "\n",
    "# List all PDF files in the directory\n",
    "pdf_files = [f for f in os.listdir(pdf_directory) if f.lower().endswith(\".pdf\")]\n",
    "\n",
    "count = 0\n",
    "for file in pdf_files:\n",
    "    count += 1\n",
    "    print(f\"{count}. {file}\")"
   ]
  },
  {
   "cell_type": "code",
   "execution_count": 163,
   "metadata": {},
   "outputs": [],
   "source": [
    "# Specify file name to process\n",
    "pdf_name = \"IE-10375 - 210827 Collision with track equipment.pdf\""
   ]
  },
  {
   "cell_type": "code",
   "execution_count": 188,
   "metadata": {},
   "outputs": [
    {
     "name": "stdout",
     "output_type": "stream",
     "text": [
      "[Page 15]\n",
      "Summary of the accident\n",
      "22 On the evening of the 26th August 2021, at 23:00 hrs, a work detail incorporating three IÉ-\n",
      "IM CCE staff, the ES, PIC, GO and eight contracted staff met for a safety briefing at a\n",
      "works compound adjacent to the old Curragh Station.\n",
      "23 The work scheduled by the CCE Infrastructure Department was to replace a defective 9\n",
      "metre (m) section of rail. The work crew were briefed by the ES on their duties for the night\n",
      "and given site safety information including that \n"
     ]
    }
   ],
   "source": [
    "# Define regex patterns to identify the start of the summary and contents sections\n",
    "SUMMARY_PATTERN = re.compile(r\"^summary\", re.IGNORECASE)\n",
    "CONTENTS_PATTERN = re.compile(r\"^contents\", re.IGNORECASE)\n",
    "\n",
    "# Define function to extract the summary section from Ireland reports\n",
    "def extract_summary_section(pdf_path: str, header_lines: int = 1) -> str:\n",
    "    \"\"\"\n",
    "    Extracts text from 'Summary' to 'Contents' in an Irish rail report PDF.\n",
    "    If no summary section is found, returns the text from all pages.\n",
    "    \"\"\"\n",
    "    if not os.path.exists(pdf_path):\n",
    "        raise FileNotFoundError(f\"File not found: {pdf_path}\")\n",
    "\n",
    "    summary_text = \"\"\n",
    "    full_text = \"\"\n",
    "    capturing = False  \n",
    "\n",
    "    with pdfplumber.open(pdf_path) as pdf:\n",
    "        for page in pdf.pages:\n",
    "            page_text = page.extract_text()\n",
    "            if page_text:\n",
    "                text_lines = page_text.split(\"\\n\")\n",
    "                text_without_header = text_lines[header_lines:]\n",
    "                page_content = f\"[Page {page.page_number}]\\n\" + \"\\n\".join(text_without_header) + \"\\n\\n\"\n",
    "\n",
    "                # Always append to full_text\n",
    "                full_text += page_content\n",
    "\n",
    "                if text_without_header:\n",
    "                    first_line = text_without_header[0].strip().lower()\n",
    "\n",
    "                    if SUMMARY_PATTERN.match(first_line):\n",
    "                        capturing = True\n",
    "                    \n",
    "                    if CONTENTS_PATTERN.match(first_line) and capturing:\n",
    "                        # Stop capturing when \"Contents\" is found after summary started.\n",
    "                        break\n",
    "                    \n",
    "                    if capturing:\n",
    "                        summary_text += page_content\n",
    "\n",
    "    if not summary_text:\n",
    "        print(f\"Warning: No summary section found in {pdf_path}. Returning full text.\")\n",
    "        return full_text\n",
    "\n",
    "    return summary_text\n",
    "\n",
    "# Example usage:\n",
    "pdf_text = extract_summary_section(f\"./reports_ie/{pdf_name}\", header_lines=1)\n",
    "print(pdf_text[:500])"
   ]
  },
  {
   "cell_type": "markdown",
   "metadata": {},
   "source": [
    "## 2.2 Accident Categories"
   ]
  },
  {
   "cell_type": "code",
   "execution_count": 5,
   "metadata": {},
   "outputs": [
    {
     "data": {
      "application/vnd.microsoft.datawrangler.viewer.v0+json": {
       "columns": [
        {
         "name": "index",
         "rawType": "int64",
         "type": "integer"
        },
        {
         "name": "Id",
         "rawType": "object",
         "type": "string"
        },
        {
         "name": "Code",
         "rawType": "object",
         "type": "string"
        },
        {
         "name": "Name",
         "rawType": "object",
         "type": "string"
        },
        {
         "name": "Definition",
         "rawType": "object",
         "type": "unknown"
        },
        {
         "name": "Broader",
         "rawType": "object",
         "type": "string"
        }
       ],
       "conversionMethod": "pd.DataFrame",
       "ref": "ed14bb36-88ff-4e2c-99a7-4ceeba4496fe",
       "rows": [
        [
         "0",
         "A1",
         "A1",
         "Collisions",
         "A collision event falling within the A.1 sub-categories for which detailed information is not (yet) available.",
         "A"
        ],
        [
         "1",
         "A1-1 ",
         "A1.1 ",
         "Collision of train with a train/rail vehicle",
         "A front to front; front to end or a side collision between a part of a train and a part of another train or rail vehicle; or with shunting rolling stock.",
         "A1"
        ],
        [
         "2",
         "A1-2",
         "A1.2",
         "Collision of train with obstacle within the clearance gauge",
         "A collision between a part of a train and objects fixed or temporarily present on or near the track (except at level crossings if lost by a crossing vehicle or user); including collision with overhead contact lines.",
         "A1"
        ],
        [
         "3",
         "A1-3 ",
         "A1.3 ",
         "Collision of one or more rail vehicles with another rail vehicle",
         "Same as A1.1 but concerning more rail vehicles not forming a train.",
         "A1"
        ],
        [
         "4",
         "A1-4 ",
         "A1.4 ",
         "Collision of one or more rail vehicles with obstacle within the clearance gauge",
         "Same as A1.2 but concerning one or more rail vehicles not forming a train.",
         "A1"
        ],
        [
         "5",
         "A1-0",
         "A1.0",
         "Other collision type",
         "Any other accident falling within the category ÔcollisionsÕ; but not covered by the subcategories above. A reporting of information in accordance with section 3.3 of Appendix A - Part C shall apply.",
         "A1"
        ],
        [
         "6",
         "A2",
         "A2",
         "Derailments",
         "A derailment event falling within the A.2 sub-categories for which detailed information is not (yet) available.",
         "A"
        ],
        [
         "7",
         "A2-1",
         "A2.1",
         "Derailment of train",
         "Any case in which at least one wheel of a train leaves the rails.",
         "A2"
        ],
        [
         "8",
         "A2-2",
         "A2.2",
         "Derailment of one or more rail vehicles",
         "Same as A2.1 but concerning one or more rail vehicles not forming a train.",
         "A2"
        ],
        [
         "9",
         "A2-0",
         "A2.0",
         "Other derailment type",
         "Any other accident falling within the category ÔderailmentsÕ; but not covered by the subcategories above. A reporting of information in accordance with section 3.3 of Appendix A - Part C shall apply.",
         "A2"
        ],
        [
         "10",
         "A3",
         "A3",
         "Level Crossing Accident",
         " A level crossing accident falling within the A.3 sub-categories for which detailed information is not (yet) available.",
         "A"
        ],
        [
         "11",
         "A3-1",
         "A3.1",
         "Level Crossing Accident involving a train",
         " A level crossing accident involving a train and falling within the A.3.1 sub-categories for which detailed information is not (yet) available.",
         "A3"
        ],
        [
         "12",
         "A3-1-1",
         "A3.1.1",
         "Level Crossing Accident involving a train and pedestrians",
         "Any accident at level crossings involving at least one train and crossing pedestrians. Note: pedestrians also include people crossing with bicycles (or other similar small vehicles normally allowed on pedestrian/bike paths).",
         "A3-1"
        ],
        [
         "13",
         "A3-1-2",
         "A3.1.2",
         "Level Crossing Accident involving a train and crossing vehicles",
         "Any accident at level crossings involving at least one train and one or more crossing vehicles or objects temporarily present on or near the track if lost by a crossing vehicle or user.",
         "A3-1"
        ],
        [
         "14",
         "A3-2",
         "A3.2",
         "Level Crossing Accident involving one or more rail vehicles",
         "Any accident at level crossings involving one or more rail vehicles and one or more crossing vehicles; crossing users such as pedestrians or objects temporarily present on or near the track if lost by a crossing vehicle or user.",
         "A3"
        ],
        [
         "15",
         "A3-0",
         "A3.0",
         "Other level crossing accident",
         "Any other accident falling within the category Ôlevel crossing accidentÕ; but not covered by the subcategories above. A reporting of information in accordance with section 3.3 of Appendix A - Part C shall apply.",
         "A3"
        ],
        [
         "16",
         "A4",
         "A4",
         "Accidents to persons involving rolling stock in motion",
         " An accident to persons involving rolling stock in motion falling within the A.4 sub-categories for which detailed information is not (yet) available.",
         "A"
        ],
        [
         "17",
         "A4-1",
         "A4.1",
         "Accidents to persons involving a train in motion",
         "Accidents to one or more persons who are either hit by a train or by an object attached to; or that has become detached from the train; this includes persons who fall from trains as well as persons who fall or are hit by loose objects when travelling on board trains.",
         "A4"
        ],
        [
         "18",
         "A4-2",
         "A4.2",
         "Accidents to persons involving rail vehicle in motion",
         "Accidents to one or more persons who are either hit by a railway vehicle or by an object attached to; or that has become detached from the vehicle; this includes persons who fall from railway vehicles as well as persons who fall or are hit by loose objects when travelling on board vehicles.",
         "A4"
        ],
        [
         "19",
         "A4-0",
         "A4.0",
         "Other accidents to persons involving rolling stock in motion",
         "Any other accident falling within the category Ôaccidents to persons involving rolling stock in motionÕ; but not covered by the subcategories above. A reporting of information in accordance with section 3.3 of Appendix A - Part C shall apply.",
         "A4"
        ],
        [
         "20",
         "A5",
         "A5",
         "Fire (or explosion) in rolling stock",
         "A fire (or explosion) in rolling stock (including its load) event falling within the A.5 sub-categories for which detailed information is not (yet) available.",
         "A"
        ],
        [
         "21",
         "A5-1",
         "A5.1",
         "Fire (or explosion) in a train",
         "A fire or explosion that occurs in a train (including its load).",
         "A5"
        ],
        [
         "22",
         "A5-2",
         "A5.2",
         "Fire (or explosion) involving one or more rail vehicles",
         "A fire or explosion that occurs in a rail vehicle (including its load).",
         "A5"
        ],
        [
         "23",
         "A5-0",
         "A5.0",
         "Others fire (or explosion) in rolling stock",
         "Any other accident falling within the category Ôfire (or explosion) in rolling stockÕ (including its load); but not covered by the subcategories above. A reporting of information in accordance with section 3.3 of Appendix A - Part C shall apply.",
         "A5"
        ],
        [
         "24",
         "A0",
         "A0",
         "Other accident",
         "Any accident other than a collision; derailment; level crossing accident; an accident to person involving rolling stock in motion or a fire in rolling stock; falling within the A.0 sub-categories for which detailed information is not (yet) available.",
         "A"
        ],
        [
         "25",
         "A0-1",
         "A0.1",
         "Electric shock",
         "Any accident caused by electric current passing through the body.",
         "A0"
        ],
        [
         "26",
         "A0-2",
         "A0.2",
         "Cargo/freight falling from a height",
         "Any accident caused by cargo/freight falling from a height; including during loading and unloading operations.",
         "A0"
        ],
        [
         "27",
         "A0-3",
         "A0.3",
         "Dangerous goods accident not related to another type A event",
         "Any accident involving dangerous goods to be reported in accordance with section 1.8.5 of ÔRIDÕ (as referred to in Annex II.1 to Directive 2008/68/EC; as amended) and not covered by another type A event.",
         "A0"
        ],
        [
         "28",
         "A0-0",
         "A0.0",
         "Other",
         "Any other accident falling within the category Ôother accidentÕ; but not covered by the subcategories above. A reporting of information in accordance with section 3.3 of Appendix A - Part C shall apply.",
         "A0"
        ],
        [
         "29",
         "A6",
         "A6",
         "Suicides and attempted suicides (voluntary reporting)",
         "A suicide or attempted suicide falling within the A.6 sub-categories for which detailed information is not (yet) available.",
         "A"
        ],
        [
         "30",
         "A6-1",
         "A6.1",
         "Suicide (voluntary reporting)",
         "An act to deliberately injure oneself resulting in death; as recorded and classified by the competent national authority.",
         "A6"
        ],
        [
         "31",
         "A6-2",
         "A6.2",
         "Attempted suicide (voluntary reporting)",
         "An act to deliberately injure oneself resulting in serious injury; as recorded and classified by the competent national authority.",
         "A6"
        ],
        [
         "32",
         "B-1",
         "B.1",
         "Operation failures",
         "An operation failure event falling within the B.1 sub-categories for which detailed information is not (yet) available.",
         "B"
        ],
        [
         "33",
         "B-1-1",
         "B.1.1",
         "Failure to operate the infrastructure",
         "A failure to operate the infrastructure falling within the B.1.1 sub-categories for which detailed information is not (yet) available.",
         "B-1"
        ],
        [
         "34",
         "B-1-1-1",
         "B.1.1.1",
         "Improper routing",
         "Any occasion when a train/vehicle is directed on a route that was not planned.",
         "B-1-1"
        ],
        [
         "35",
         "B-1-1-2",
         "B.1.1.2",
         "On track plant incorrectly outside possession",
         "On track machine(s) or other object(s) used during infrastructure activities positioned outside the authorised area",
         "B-1-1"
        ],
        [
         "36",
         "B-1-1-3",
         "B.1.1.3",
         "Pushed switch",
         "Any occasion when a switch in a wrong position is run over in trailing direction (converging points) unintentionally.",
         "B-1-1"
        ],
        [
         "37",
         "B-1-1-4",
         "B.1.1.4",
         "Long stop in tunnel",
         "Any occasion when a passenger train is stopped in a tunnel for more than 10 minutes. Stops in underground stations should be excluded.",
         "B-1-1"
        ],
        [
         "38",
         "B-1-1-0",
         "B.1.1.0",
         "Other failure to operate the infrastructure",
         "Any occasion falling within the category Ôfailure to operate the infrastructureÕ, but not covered by the subcategories above. A reporting of information in accordance with section 3.3 of Appendix A - Part C shall apply. ",
         "B-1-1"
        ],
        [
         "39",
         "B-1-2",
         "B.1.2",
         "Failure to operate a train or rail vehicle",
         "A failure to operate a train or rail vehicle falling within the B.1.2 sub-categories for which detailed information is not (yet) available.",
         "B-1"
        ],
        [
         "40",
         "B-1-2-1",
         "B.1.2.1",
         "Signal passed at danger with passing of a danger point",
         "Any occasion when any part of a train or rail vehicle proceeds beyond its authorised movement and travels beyond the danger point.",
         "B-1-2"
        ],
        [
         "41",
         "B-1-2-2",
         "B.1.2.2",
         "Signal passed at danger without passing a danger point",
         "Any occasion when any part of a train or rail vehicle proceeds beyond its authorised movement but does not travel beyond the danger point",
         "B-1-2"
        ],
        [
         "42",
         "B-1-2-3",
         "B.1.2.3",
         "Runaway",
         "Any uncontrolled movement of a train or rail vehicle over a distance of at least one meter.",
         "B-1-2"
        ],
        [
         "43",
         "B-1-2-4",
         "B.1.2.4",
         "Over-speeding",
         "Any occasion when a train runs with a speed higher than the maximum authorized speed or design speed.",
         "B-1-2"
        ],
        [
         "44",
         "B-1-2-5",
         "B.1.2.5",
         "Loading irregularity",
         "Any situation in which goods are improperly loaded (not in accordance with the applicable safety requirements)",
         "B-1-2"
        ],
        [
         "45",
         "B-1-2-6",
         "B.1.2.6",
         "Train composition Failure",
         "Any situation in which a train composition does not respect the applicable safety requirements. It excludes all events already covered by other category B events (e.g. 'Brake not correctly set for loadÕ or ÔFailure of the braking systemÕ).",
         "B-1-2"
        ],
        [
         "46",
         "B-1-2-7",
         "B.1.2.7",
         "Train available for boarding or alignment outside platform",
         "When this situation is taking place unintentionally or without specific RU procedure to be followed",
         "B-1-2"
        ],
        [
         "47",
         "B-1-2-8",
         "B.1.2.8",
         "Person entrapment in door",
         null,
         "B-1-2"
        ],
        [
         "48",
         "B-1-2-9",
         "B.1.2.9",
         "Train running with open door",
         "Any situation in which a train departs or runs with an unsupervised open door",
         "B-1-2"
        ],
        [
         "49",
         "B-1-2-10",
         "B.1.2.10",
         "Long stop in tunnel",
         "Any occasion when a passenger train is stopped in a tunnel for more than 10 minutes. Stops in underground stations should be excluded.",
         "B-1-2"
        ]
       ],
       "shape": {
        "columns": 5,
        "rows": 231
       }
      },
      "text/html": [
       "<div>\n",
       "<style scoped>\n",
       "    .dataframe tbody tr th:only-of-type {\n",
       "        vertical-align: middle;\n",
       "    }\n",
       "\n",
       "    .dataframe tbody tr th {\n",
       "        vertical-align: top;\n",
       "    }\n",
       "\n",
       "    .dataframe thead th {\n",
       "        text-align: right;\n",
       "    }\n",
       "</style>\n",
       "<table border=\"1\" class=\"dataframe\">\n",
       "  <thead>\n",
       "    <tr style=\"text-align: right;\">\n",
       "      <th></th>\n",
       "      <th>Id</th>\n",
       "      <th>Code</th>\n",
       "      <th>Name</th>\n",
       "      <th>Definition</th>\n",
       "      <th>Broader</th>\n",
       "    </tr>\n",
       "  </thead>\n",
       "  <tbody>\n",
       "    <tr>\n",
       "      <th>0</th>\n",
       "      <td>A1</td>\n",
       "      <td>A1</td>\n",
       "      <td>Collisions</td>\n",
       "      <td>A collision event falling within the A.1 sub-c...</td>\n",
       "      <td>A</td>\n",
       "    </tr>\n",
       "    <tr>\n",
       "      <th>1</th>\n",
       "      <td>A1-1</td>\n",
       "      <td>A1.1</td>\n",
       "      <td>Collision of train with a train/rail vehicle</td>\n",
       "      <td>A front to front; front to end or a side colli...</td>\n",
       "      <td>A1</td>\n",
       "    </tr>\n",
       "    <tr>\n",
       "      <th>2</th>\n",
       "      <td>A1-2</td>\n",
       "      <td>A1.2</td>\n",
       "      <td>Collision of train with obstacle within the cl...</td>\n",
       "      <td>A collision between a part of a train and obje...</td>\n",
       "      <td>A1</td>\n",
       "    </tr>\n",
       "    <tr>\n",
       "      <th>3</th>\n",
       "      <td>A1-3</td>\n",
       "      <td>A1.3</td>\n",
       "      <td>Collision of one or more rail vehicles with an...</td>\n",
       "      <td>Same as A1.1 but concerning more rail vehicles...</td>\n",
       "      <td>A1</td>\n",
       "    </tr>\n",
       "    <tr>\n",
       "      <th>4</th>\n",
       "      <td>A1-4</td>\n",
       "      <td>A1.4</td>\n",
       "      <td>Collision of one or more rail vehicles with ob...</td>\n",
       "      <td>Same as A1.2 but concerning one or more rail v...</td>\n",
       "      <td>A1</td>\n",
       "    </tr>\n",
       "    <tr>\n",
       "      <th>...</th>\n",
       "      <td>...</td>\n",
       "      <td>...</td>\n",
       "      <td>...</td>\n",
       "      <td>...</td>\n",
       "      <td>...</td>\n",
       "    </tr>\n",
       "    <tr>\n",
       "      <th>226</th>\n",
       "      <td>C-3-4</td>\n",
       "      <td>C.3.4</td>\n",
       "      <td>Arson</td>\n",
       "      <td>NaN</td>\n",
       "      <td>C-3</td>\n",
       "    </tr>\n",
       "    <tr>\n",
       "      <th>227</th>\n",
       "      <td>C-3-5</td>\n",
       "      <td>C.3.5</td>\n",
       "      <td>Vandalism</td>\n",
       "      <td>NaN</td>\n",
       "      <td>C-3</td>\n",
       "    </tr>\n",
       "    <tr>\n",
       "      <th>228</th>\n",
       "      <td>C-3-6</td>\n",
       "      <td>C.3.6</td>\n",
       "      <td>Cyber attack</td>\n",
       "      <td>NaN</td>\n",
       "      <td>C-3</td>\n",
       "    </tr>\n",
       "    <tr>\n",
       "      <th>229</th>\n",
       "      <td>C-3-0</td>\n",
       "      <td>C.3.0</td>\n",
       "      <td>Other external events - Security</td>\n",
       "      <td>Any variation falling within the category ÔExt...</td>\n",
       "      <td>C-3</td>\n",
       "    </tr>\n",
       "    <tr>\n",
       "      <th>230</th>\n",
       "      <td>C-0</td>\n",
       "      <td>C.0</td>\n",
       "      <td>Other un-coded category C event types</td>\n",
       "      <td>Any other category C event type not covered by...</td>\n",
       "      <td>C</td>\n",
       "    </tr>\n",
       "  </tbody>\n",
       "</table>\n",
       "<p>231 rows × 5 columns</p>\n",
       "</div>"
      ],
      "text/plain": [
       "        Id   Code                                               Name  \\\n",
       "0       A1     A1                                         Collisions   \n",
       "1    A1-1   A1.1        Collision of train with a train/rail vehicle   \n",
       "2     A1-2   A1.2  Collision of train with obstacle within the cl...   \n",
       "3    A1-3   A1.3   Collision of one or more rail vehicles with an...   \n",
       "4    A1-4   A1.4   Collision of one or more rail vehicles with ob...   \n",
       "..     ...    ...                                                ...   \n",
       "226  C-3-4  C.3.4                                              Arson   \n",
       "227  C-3-5  C.3.5                                          Vandalism   \n",
       "228  C-3-6  C.3.6                                       Cyber attack   \n",
       "229  C-3-0  C.3.0                   Other external events - Security   \n",
       "230    C-0    C.0              Other un-coded category C event types   \n",
       "\n",
       "                                            Definition Broader  \n",
       "0    A collision event falling within the A.1 sub-c...       A  \n",
       "1    A front to front; front to end or a side colli...      A1  \n",
       "2    A collision between a part of a train and obje...      A1  \n",
       "3    Same as A1.1 but concerning more rail vehicles...      A1  \n",
       "4    Same as A1.2 but concerning one or more rail v...      A1  \n",
       "..                                                 ...     ...  \n",
       "226                                                NaN     C-3  \n",
       "227                                                NaN     C-3  \n",
       "228                                                NaN     C-3  \n",
       "229  Any variation falling within the category ÔExt...     C-3  \n",
       "230  Any other category C event type not covered by...       C  \n",
       "\n",
       "[231 rows x 5 columns]"
      ]
     },
     "execution_count": 5,
     "metadata": {},
     "output_type": "execute_result"
    }
   ],
   "source": [
    "# Load accident category events \n",
    "cat_a_events = pd.read_csv(\"./data/category-a-event-types-source.csv\", encoding='latin-1')\n",
    "cat_b_events = pd.read_csv(\"./data/category-b-event-types-source.csv\", encoding='latin-1')\n",
    "cat_c_events = pd.read_csv(\"./data/category-c-event-types-source.csv\", encoding='latin-1')\n",
    "\n",
    "# Merge the DataFrames into one\n",
    "cat_events = pd.concat([cat_a_events, cat_b_events, cat_c_events], ignore_index=True)\n",
    "cat_events"
   ]
  },
  {
   "cell_type": "markdown",
   "metadata": {},
   "source": [
    "# 3. Langchain Chunk Splitting"
   ]
  },
  {
   "cell_type": "markdown",
   "metadata": {},
   "source": [
    "## 3.1 Incident Reports"
   ]
  },
  {
   "cell_type": "code",
   "execution_count": 190,
   "metadata": {},
   "outputs": [
    {
     "name": "stdout",
     "output_type": "stream",
     "text": [
      "Total chunks: 83\n",
      "First chunk:\n",
      "[Page 15]\n",
      "Summary of the accident\n",
      "22 On the evening of the 26th August 2021, at 23:00 hrs, a work detail incorporating three IÉ-\n",
      "IM CCE staff, the ES, PIC, GO and eight contracted staff met for a safety briefing at a\n",
      "works compound adjacent to the old Curragh Station.\n",
      "23 The work scheduled by the CCE Infrastructure Department was to replace a defective 9\n",
      "metre (m) section of rail. The work crew were briefed by the ES on their duties for the night\n",
      "and given site safety information including that the work would be under an Absolute\n",
      "Possession T3 Possession), to be referred to as T3 Possessions in this report.\n",
      "24 After the briefing, the ES and GO, followed by the contractors, drove to the access point\n",
      "close to the intended work site. They waited a few minutes until the ES confirmed the last\n",
      "timetabled train, Train J219, passed the worksite, and then the ES stated that they were\n",
      "“good-to-go”. The T3 Possession had not been granted at this stage i.e. the railway line\n",
      "should not have been accessed and no work should have commenced. The marker boards\n",
      "were brought to the site but not erected.\n",
      "25 At the site of the defective rail, the GO started to loosen the fastening bolts, which fasten\n",
      "the rail to the concrete sleeper by means of fastening clip (see Figure 1).\n",
      "Fastening Bolt Fastening Clip\n",
      "Figure 1 – Fastening bolts\n",
      "Railway Accident Investigation Unit 6\n"
     ]
    }
   ],
   "source": [
    "# Define function to split the incident report into chunks\n",
    "def split_report_into_chunks(text: str, chunk_size: int = 2000, chunk_overlap: int = 300) -> list[str]:\n",
    "    \"\"\"\n",
    "    Splits text into smaller overlapping chunks using LangChain's text splitter.\n",
    "    \"\"\"\n",
    "    if not text:\n",
    "        print(\"Warning: No text provided for splitting.\")\n",
    "        return []\n",
    "\n",
    "    if len(text) <= chunk_size:\n",
    "        return [text]  # If text is smaller than chunk size, return as single chunk\n",
    "\n",
    "    text_splitter = RecursiveCharacterTextSplitter(\n",
    "        chunk_size=chunk_size, \n",
    "        chunk_overlap=chunk_overlap\n",
    "    )\n",
    "    return text_splitter.split_text(text)\n",
    "\n",
    "# Split the extracted text\n",
    "report_chunks = split_report_into_chunks(pdf_text)\n",
    "\n",
    "# Print the number of chunks and a sample chunk\n",
    "print(f\"Total chunks: {len(report_chunks)}\\nFirst chunk:\\n{report_chunks[0]}\")"
   ]
  },
  {
   "cell_type": "markdown",
   "metadata": {},
   "source": [
    "## 3.2 Accident Categories"
   ]
  },
  {
   "cell_type": "code",
   "execution_count": 7,
   "metadata": {},
   "outputs": [
    {
     "data": {
      "text/plain": [
       "[{'Id': 'A1',\n",
       "  'Code': 'A1',\n",
       "  'Name': 'Collisions',\n",
       "  'Definition': 'A collision event falling within the A.1 sub-categories for which detailed information is not (yet) available.',\n",
       "  'Broader': 'A'},\n",
       " {'Id': 'A1-1 ',\n",
       "  'Code': 'A1.1 ',\n",
       "  'Name': 'Collision of train with a train/rail vehicle',\n",
       "  'Definition': 'A front to front; front to end or a side collision between a part of a train and a part of another train or rail vehicle; or with shunting rolling stock.',\n",
       "  'Broader': 'A1'},\n",
       " {'Id': 'A1-2',\n",
       "  'Code': 'A1.2',\n",
       "  'Name': 'Collision of train with obstacle within the clearance gauge',\n",
       "  'Definition': 'A collision between a part of a train and objects fixed or temporarily present on or near the track (except at level crossings if lost by a crossing vehicle or user); including collision with overhead contact lines.',\n",
       "  'Broader': 'A1'},\n",
       " {'Id': 'A1-3 ',\n",
       "  'Code': 'A1.3 ',\n",
       "  'Name': 'Collision of one or more rail vehicles with another rail vehicle',\n",
       "  'Definition': 'Same as A1.1 but concerning more rail vehicles not forming a train.',\n",
       "  'Broader': 'A1'},\n",
       " {'Id': 'A1-4 ',\n",
       "  'Code': 'A1.4 ',\n",
       "  'Name': 'Collision of one or more rail vehicles with obstacle within the clearance gauge',\n",
       "  'Definition': 'Same as A1.2 but concerning one or more rail vehicles not forming a train.',\n",
       "  'Broader': 'A1'}]"
      ]
     },
     "execution_count": 7,
     "metadata": {},
     "output_type": "execute_result"
    }
   ],
   "source": [
    "# Convert the merged DataFrame to a list of rows in dictionary format\n",
    "cat_events_dict = cat_events.to_dict(\"records\")\n",
    "cat_events_dict[:5]"
   ]
  },
  {
   "cell_type": "code",
   "execution_count": 8,
   "metadata": {},
   "outputs": [
    {
     "name": "stdout",
     "output_type": "stream",
     "text": [
      "Total chunks: 231\n",
      "First three chunks:\n",
      "[['Accident Type: Collisions'], ['Accident Type: Collision of train with a train/rail vehicle'], ['Accident Type: Collision of train with obstacle within the clearance gauge']]\n"
     ]
    }
   ],
   "source": [
    "# Define function to split the event data into chunks\n",
    "def split_events_into_chunks(data: list[dict], chunk_size: int = 2000, chunk_overlap: int = 300) -> list[list[str]]:\n",
    "    \"\"\"\n",
    "    Converts each dictionary row into a string and splits each string into smaller overlapping chunks.\n",
    "    \"\"\"\n",
    "    # Prepare the list of formatted strings (chunks) from the dictionary rows\n",
    "    chunk_list = [\n",
    "        # f\"Id: {row['Id']} Code: {row['Code']} Name: {row['Name']} Definition: {row['Definition']} Broader: {row['Broader']}\"\n",
    "        f\"Accident Type: {row['Name']}\"\n",
    "        for row in data\n",
    "    ]\n",
    "\n",
    "    # Function to split a single text into smaller chunks\n",
    "    def split_single_text(text: str) -> list[str]:\n",
    "        if not text:\n",
    "            print(\"Warning: No text provided for splitting.\")\n",
    "            return []\n",
    "\n",
    "        if len(text) <= chunk_size:\n",
    "            return [text]  # If text is smaller than chunk size, return as a single chunk\n",
    "\n",
    "        text_splitter = RecursiveCharacterTextSplitter(\n",
    "            chunk_size=chunk_size, \n",
    "            chunk_overlap=chunk_overlap\n",
    "        )\n",
    "        return text_splitter.split_text(text)\n",
    "\n",
    "    # Split each chunk string from the dictionary rows into smaller chunks\n",
    "    all_chunks = [split_single_text(chunk) for chunk in chunk_list]\n",
    "    \n",
    "    return all_chunks\n",
    "\n",
    "# Apply function\n",
    "event_chunks = split_events_into_chunks(cat_events_dict)\n",
    "\n",
    "# Print the number of chunks and a sample chunk\n",
    "print(f\"Total chunks: {len(event_chunks)}\\nFirst three chunks:\\n{event_chunks[:3]}\")"
   ]
  },
  {
   "cell_type": "markdown",
   "metadata": {},
   "source": [
    "# 4. Relevant Chunk Retrieval"
   ]
  },
  {
   "cell_type": "code",
   "execution_count": 9,
   "metadata": {},
   "outputs": [],
   "source": [
    "# Define embeddings model\n",
    "embeddings = HuggingFaceEmbeddings(model_name=\"all-mpnet-base-v2\")"
   ]
  },
  {
   "cell_type": "markdown",
   "metadata": {},
   "source": [
    "## 4.1 Incident Reports"
   ]
  },
  {
   "cell_type": "code",
   "execution_count": 191,
   "metadata": {},
   "outputs": [],
   "source": [
    "# Store text chunks into FAISS vector store\n",
    "vectorstore_reports = FAISS.from_texts(report_chunks, embeddings)"
   ]
  },
  {
   "cell_type": "code",
   "execution_count": 195,
   "metadata": {},
   "outputs": [
    {
     "name": "stdout",
     "output_type": "stream",
     "text": [
      "Searching for entity: unique accident\n",
      "Searching for entity: accident type\n",
      "Searching for entity: track section\n",
      "Searching for entity: date\n",
      "Searching for entity: time\n",
      "Searching for entity: country\n",
      "Searching for entity: regulatory body\n",
      "\n",
      "Found 11 unique relevant chunks.\n",
      "\n",
      "Most Relevant Chunks Combined:\n",
      "[Page 26]\n",
      "60 For TS&SS, ensuring that employees and Contractors under his/her control execute their\n",
      "daily tasks in a manner that is technically correct, at the correct frequency, with the correct\n",
      "care and in accordance with the CCE Documentation, such as to ensure the safe operation\n",
      "of the Track and Structures (5.16.4.1). Following the instructions and technical advice of\n",
      "the STSE on TS&SS and delivering the precautionary/mitigation actions per Risk in\n",
      "accordance with the STSE’s programme requirements (5.16.4.3). Identifying the technical\n",
      "training requirements per employee and releasing employees for training (5.16.4.7).\n",
      "Permanent Way Inspector\n",
      "61 Every Supervisor that has a responsibility for overseeing and guiding workplace activities\n",
      "in any CCE Location is accountable for OS “during his working hours” (5.17.1.1) including:\n",
      "• Doing Safety Tours thoroughly and identifying good corrective actions and\n",
      "implementing those actions in a timely manner (5.17.2.6);\n",
      "• Identifying the workplace and Occupational Safety training requirements per employee\n",
      "and managing the workload to enable employees to be released for training (5.17.2.9);\n",
      "• Ensuring that Contractors working with or for his teams follow a safe method of\n",
      "working, have the required systems in place for working safely and works safely\n",
      "(5.17.2.12).\n",
      "62 In terms of TS&SS, accountabilities include: for each of these supervisors includes:\n",
      "• Ensuring that only competent manpower and the correct tools and other resources are\n",
      "used (5.17.3.2);\n",
      "• Identifying the technical training requirements per employee and managing the\n",
      "workloads to ensure that employees can be released for training (5.17.3.4).\n",
      "Competency Manager\n",
      "63 The Competency Manager reports to the Head of Health & Safety, IM and is accountable\n",
      "for all aspects of the management of competency in the CCE, Signalling, Electrical and\n",
      "Telecommunications (SET), New Works (NW), and IÉ-IM Operations (IMO) departments\n",
      "(5.26.1).\n",
      "Training Manager\n",
      "[Page 79]\n",
      "occurrences in the future, including, in particular the regulatory\n",
      "framework conditions, the design and application of the safety\n",
      "management system, skills of the staff, procedures and maintenance.\n",
      "T3 Possession A possession taken for an agreed period without the facility to run\n",
      "passenger trains in the area during that period until such time as the\n",
      "holder of the possession decides to relinquish it\n",
      "Track Safety According to CCE-SMS-001, track safety is the operation of the Track\n",
      "and all Track-related sub-systems in a manner that is safe with regard to\n",
      "passenger Safety.\n",
      "Track Safety Co- IÉ Rule Book, Section B, Part Two, Subsection 6.0 Instructions to Track\n",
      "ordinator Safety Co-ordinators, clearly defines the roles and responsibilities of the\n",
      "TSC.\n",
      "Up Direction Towards Dublin.\n",
      "Up Line Line where trains are travelling towards Dublin.\n",
      "Railway Accident Investigation Unit 70\n",
      "supervisor and/or Line Manager to incident and accidents in the workplace, whether\n",
      "related to OS, P&MS, Track Safety or Structures Safety.\n",
      "10 3.5.5.1, 5.3.5.4, 5.3.7.2, 5.3.7.3, 5.9.3.4, 5.10.3.4, 5.15.3.4, 5.16.3.4, 5.18.3.2, 5.18.3.3,\n",
      "5.19.3.2, 5.19.3.3, 5.20.3.2, 5.20.3.3, 5.21.3.1, 5.21.3.2, 5.22.3.2, 5.22.3.3, 5.23.3.2, 5.24.3.2,\n",
      "5.24.3.3, 6.11.2.2.\n",
      "11 3.1.5.1, 3.1.7.2, 3.5.3.1, 3.6.3.1, 3.11.3.1, 3.12.3.1, 3.15.3.1, 3.16.3.1, 3.17.3.1.\n",
      "Railway Accident Investigation Unit 24\n",
      "[Page 43]\n",
      "Events after the accident\n",
      "Introduction\n",
      "134 In terms of events after the accident, there are events related to the (these events have\n",
      "been separated for ease of understanding the events which occurred):\n",
      "• Reporting of the accident;\n",
      "• Actions on-site;\n",
      "• Post-accident inspection of assets.\n",
      "135 It should be noted, that when the clamp was struck, the wheel, rail and the clamp were\n",
      "significantly damaged (paragraphs 46 and 47, Figure 6, Figure 7); although the damage\n",
      "was not obvious to Driver J283.\n",
      "Events after the accident in terms of reporting\n",
      "136 Under CCE-SMS-007 and CCE-SMS-005, IÉ employees are required to alert their\n",
      "supervisors of accidents in the workplace, and contractors are required to report accidents\n",
      "to the IÉ Line Manager or representative, respectively (paragraphs 93 - 94). Outlined\n",
      "below is what happened on the night of the accident.\n",
      "137 At 00:16 hrs, the ES rang the PIC to say that a train had passed through the worksite,\n",
      "and they had to clear the line.\n",
      "138 At 00:18 hrs Driver J283 contacted the Mainline Signalman to report that Train J283\n",
      "had struck something yellow on the line, and that he heard a bang, as the train approached\n",
      "the Curragh; and, that he saw members of staff on the Up Line who had moved off the line\n",
      "as Train J283 approached. After getting signal protection, Driver J283 carried out a visual\n",
      "examination of the train to see if there as any damage.\n",
      "139 At 00:19 hrs the Signalman rang the PICOP reporting that Driver J283 stated that the\n",
      "train struck an object on the line and asked him to make enquiries as to what may have\n",
      "occurred.\n",
      "140 The Signalman then contacted the Traffic Regulator at 00:20 hrs to report the\n",
      "occurrence.\n",
      "141 At 00:21 hrs, Driver J283 contacted Mainline Signalman CTC reporting no obvious\n",
      "damage to the train and the Mainline Signalman CTC gave permission for Train J283 to\n",
      "continue to Heuston Station.\n",
      "Railway Accident Investigation Unit 34\n",
      "[Page 74]\n",
      "Reporting of accidents\n",
      "249 The accident was not reported, in full, in the first instance, as set out in CCE-SMS-005\n",
      "and CCE-SMS-007; and the full scale only came to light due to the efforts of the internal\n",
      "IÉ Safety Department. The contractors and IÉ-IM GO felt unable to challenge the IÉ-IM\n",
      "supervisors, a form, of authority gradient). The RAIU make the following safety\n",
      "recommendation to address AO-03:\n",
      "Safety Recommendation 2023002-06\n",
      "IÉ-IM should conduct a full review on the reporting of accidents by IÉ-IM staff and\n",
      "contractors, consideration should be given to:\n",
      "• Reviewing CCE-SMS-007 and CCE-SMS-005 to identify any areas where\n",
      "improvements can be made related to the reporting of safety related\n",
      "occurrences; where areas of concern are identified these should be addressed;\n",
      "• Enhance and promote its confidential reporting system to ensure all staff (with\n",
      "a particular emphasis on contracted staff) can report issues related to safety and\n",
      "welfare;\n",
      "• Promote a positive culture, associated with the reporting of occurrences, in an\n",
      "effort to eliminate on-site authority gradients whereby staff cannot challenge\n",
      "supervisors (Safety Recommendation 2023002-03).\n",
      "250 The location of 9 m rail to be replaced was moved to allow for the damaged section of\n",
      "rail to be replaced; and not recorded in the “Shift Report” completed by the PIC, then acting\n",
      "as ES; and, it is not clear when STSEs would have noticed despite being directly\n",
      "accountable for the quality of work that affects track safety as set out in CCE-SMS-001\n",
      "and CCE-SMS-008. CCE-SMS-008 does not appear to have stringent checks in relation\n",
      "to the quality of works carried out; with its main focus being on the contractors’ method\n",
      "statements. The RAIU consider this warrants a safety recommendation to address\n",
      "additional observation, AO-05:\n",
      "Safety Recommendation 2023002-07\n",
      "The CCE Department review and update CCE-SMS-001 and CCE-SMS-008 with a\n",
      "view to addressing the monitoring and supervision of works, in terms of quality of\n",
      "[Page 64]\n",
      "• The Director Health and Safety to examine the feasibility of the introduction of an\n",
      "enhanced confidential reporting system for staff and contractor staff to report safety\n",
      "related concerns across the network;\n",
      "• The Head of Health and Safety IM to arrange for a re-briefing/re-issue of\n",
      "instructions of how staff are to report and respond to an accident on the line.\n",
      "233 A number of new safety recommendations were also made:\n",
      "• A number of staff were disciplined and sanctioned within the CCE and CME; and\n",
      "additional training was also given;\n",
      "• The CCE to research and assess the feasibility of which current technologies are\n",
      "available and to progress their trialling/adoption across IÉ, to support enhanced\n",
      "control and monitoring of when and how IÉ staff and contractors accessing the\n",
      "infrastructure, to provide assurance that staff are not working on the line without\n",
      "possession or other suitable protections;\n",
      "• The CCE to promote and encourage frontline staff and contractor staff to be\n",
      "capable of, and confident to raise safety challenges with IÉ supervisors and team\n",
      "leaders, as well as close-calls and incident reports;\n",
      "• The CCE to establish a system to promote and encourage sensible and efficient\n",
      "sharing of information across IÉ and with contractors to support swift response and\n",
      "investigation into incidents;\n",
      "• The Head of Health & Safety IM to develop an operating procedure which provides\n",
      "guidance on the level of welfare support which should be provided to staff and\n",
      "contractors following incidents;\n",
      "• The CME should review the post-incident examination instructions to provide\n",
      "guidance on all vital components that need to be examined;\n",
      "• The CCE to confirm that the assurance and leadership arrangements in Division 3\n",
      "are effective and able to detect failures in the implementation of standards and\n",
      "controls. Regional Manager to get corrective coaching on the monitoring of the\n",
      "implementation of the SMS and TMS;\n",
      "[Page 32]\n",
      "84 Signatures are not always included, see circled in Figure 13; and in some cases dates\n",
      "were not provided, however, it is noted that there is no allocated spot for the date or time.\n",
      "On reviewing the dates provided, the earliest Safety Tour was carried out on the 24th May\n",
      "2019; however, the Manager or CCE Safety Review Workshop Executive (SRWE)\n",
      "Manager did not sign off on the Safety Tour Form until almost two months later the 15th\n",
      "July 2019, similar instances were found throughout the examples.\n",
      "85 In addition, in the example provided, there were only a few instances of “Mitigations &\n",
      "Close-Out Action(s)”, in Section 2, which have been included by the supervisors.\n",
      "Implementation – Compliance Verification to detect Structures Hazards or Track Hazards\n",
      "86 The STSE is accountable for deploying Compliance Verification in order to ensure that the\n",
      "quality of work as done by employees is in accordance with the Technical Documentation\n",
      "and that any Structures or Track related Hazards are detected. A Compliance Verification\n",
      "programme is planned and scheduled by the STSE every year and the programmes are\n",
      "reviewed by the Technical Manager.\n",
      "87 The Compliance Verification programme should sample 15% of the completed tasks\n",
      "through verification checks, audit, investigation, observance and review in order to verify\n",
      "that the tasks have been completed correctly, to the correct frequency and that there are\n",
      "no technical operational Hazards, workmanship quality Hazards, component performance\n",
      "Hazards or system performance Hazards associated with the Structures or Track assets.\n",
      "Compliance Verification results must be tabulated such that corrective actions can be\n",
      "identified and executed.\n",
      "88 Every Track Hazard or Structures Hazard as identified during the Track and Structures\n",
      "Compliance Verification is entered into a Track Risk register or Structures Risk register\n",
      "respectively and is then Risk managed accordingly.\n",
      "Railway Accident Investigation Unit 23\n",
      "• The CCE to confirm that the assurance and leadership arrangements in Division 3\n",
      "are effective and able to detect failures in the implementation of standards and\n",
      "controls. Regional Manager to get corrective coaching on the monitoring of the\n",
      "implementation of the SMS and TMS;\n",
      "• The Regional Manager for Division 3 to provide evidence that the Method\n",
      "Statement is updated to reflect the requirements of CCE-TMS-422. The Regional\n",
      "Manager to provide evidence that there is an effective system to provide\n",
      "assurances that all the required competencies required for the completion of tasks\n",
      "are actively managed and implemented in Division 3;\n",
      "Railway Accident Investigation Unit 55\n",
      "now taking over the ES duties.\n",
      "149 At 01:01 hrs, the Mainline Regulator CTC contacted the PWI to inform him that the\n",
      "Duty Manager CTC was escalating the occurrence as it was now a reportable serious\n",
      "occurrence and that the PWI should report it to the Acting Regional Manager Division 3\n",
      "(the Regional Manager was on leave). The PWI informed the Mainline Regulator CTC that\n",
      "he had stood down the ES.\n",
      "150 At 01:14 hrs, the PWI contacted the Acting A-Class Inspector for the area; who was\n",
      "on a different work site and requested that he attend the accident site, make enquiries and\n",
      "take statements from those persons who had been on the worksite when the train passed.\n",
      "151 At 01:24 hrs, the Acting A-Class Inspector contacted the now stood-down ES directly,\n",
      "the ES told the Acting A-Class Inspector that the work group had accessed the line early\n",
      "for preparatory work as he thought that there were no more trains scheduled for the night.\n",
      "Railway Accident Investigation Unit 35\n",
      "[Page 81]\n",
      "RAIU (2020), Collision between an Iarnród Éireann passenger train and rail-mounted\n",
      "maintenance equipment, Rosslare, Wexford, 11th January 2020, RAIU Investigation Report\n",
      "No: 2020 – R004 Issued: 16th December 2020.\n",
      "RAIU (2014), Trend Investigation: Possession incidents on the Iarnród Éireann, Network RAIU\n",
      "Report No: R2014 – 001, Published: 27/02/14.\n",
      "RAIU (2019), Wrongside Door Failure at Ashtown Station, 12th August 2018, RAIU Report No:\n",
      "2019 – R001, Issued: 25th June 2019.\n",
      "Railway Accident Investigation Unit 72\n",
      "statements. The RAIU consider this warrants a safety recommendation to address\n",
      "additional observation, AO-05:\n",
      "Safety Recommendation 2023002-07\n",
      "The CCE Department review and update CCE-SMS-001 and CCE-SMS-008 with a\n",
      "view to addressing the monitoring and supervision of works, in terms of quality of\n",
      "works that affects track safety, which are carried out under internal method\n",
      "statements (and contractor) method statements.\n",
      "Railway Accident Investigation Unit 65\n"
     ]
    }
   ],
   "source": [
    "# Define entities of interest that you'd like to extract chunks for from the vector store\n",
    "entities_of_interest = [\"unique accident\", \"accident type\", \"track section\", \"date\", \"time\", \"country\", \"regulatory body\"]\n",
    "\n",
    "# Function for extracting most relevant chunks from vector store\n",
    "def find_most_relevant_report_chunks(entities: list[str], top_k: int) -> str:\n",
    "    \"\"\"\n",
    "    Finds the most relevant text chunks for each entity of interest\n",
    "    using FAISS similarity search and removes duplicates (if same chunk retrieved).\n",
    "    \n",
    "    Args:\n",
    "    - entities (list): List of entity names to query (e.g., [\"date\", \"location\"])\n",
    "    - top_k (int): Number of chunks to retrieve per entity\n",
    "    \n",
    "    Returns:\n",
    "    - unique_relevant_chunks (list): Deduplicated relevant chunks\n",
    "    \"\"\"\n",
    "    retrieved_chunks = set()  # Use a set to avoid duplicate chunks\n",
    "\n",
    "    for entity in entities:\n",
    "        print(f\"Searching for entity: {entity}\")\n",
    "        query = f\"Report details about {entity}.\"\n",
    "        found_chunks = vectorstore_reports.similarity_search(query, k=top_k)\n",
    "\n",
    "        for chunk in found_chunks:\n",
    "            retrieved_chunks.add(chunk.page_content)  # Add chunk if not already present\n",
    "\n",
    "    # Convert set back to a list and join into a single string\n",
    "    unique_relevant_chunks = list(retrieved_chunks)\n",
    "    combined_text = \"\\n\".join(unique_relevant_chunks)\n",
    "\n",
    "    print(f\"\\nFound {len(unique_relevant_chunks)} unique relevant chunks.\")\n",
    "    return combined_text\n",
    "\n",
    "# Find & combine relevant chunks\n",
    "relevant_report_text = find_most_relevant_report_chunks(entities_of_interest, top_k=3)\n",
    "\n",
    "print(f\"\\nMost Relevant Chunks Combined:\\n{relevant_report_text}\")"
   ]
  },
  {
   "cell_type": "markdown",
   "metadata": {},
   "source": [
    "## 4.2 Accident Categories"
   ]
  },
  {
   "cell_type": "code",
   "execution_count": 124,
   "metadata": {},
   "outputs": [],
   "source": [
    "# Flatten the list of lists with event chunks for FAISS processing\n",
    "flat_event_chunks = [chunk for sublist in event_chunks for chunk in sublist]\n",
    "\n",
    "# Store text chunks into FAISS vector store\n",
    "vectorstore_categories = FAISS.from_texts(flat_event_chunks, embeddings)"
   ]
  },
  {
   "cell_type": "code",
   "execution_count": 98,
   "metadata": {},
   "outputs": [],
   "source": [
    "# Function for extracting most relevant chunks from vector store (queried later when needed)\n",
    "def find_most_relevant_cat_chunks(query_input: str, top_k: int) -> str:\n",
    "    \"\"\"\n",
    "    Retrieves the most relevant accident category chunks from the vector store based on the query.\n",
    "    \"\"\"\n",
    "    query = f\"{query_input}\"\n",
    "    \n",
    "    # Perform the similarity search\n",
    "    found_chunks = vectorstore_categories.similarity_search(query, k=top_k)\n",
    "    \n",
    "    # Extract the text from each document in the list\n",
    "    found_chunks = [doc.page_content for doc in found_chunks]\n",
    "    \n",
    "    # Join the list of texts into a single string\n",
    "    found_chunks = \"\\n\".join(found_chunks)\n",
    "    \n",
    "    return found_chunks"
   ]
  },
  {
   "cell_type": "markdown",
   "metadata": {},
   "source": [
    "# 5. Instantiating Language Models"
   ]
  },
  {
   "cell_type": "markdown",
   "metadata": {},
   "source": [
    "## 5.1 Instantiating GPT"
   ]
  },
  {
   "cell_type": "code",
   "execution_count": 14,
   "metadata": {},
   "outputs": [],
   "source": [
    "# Set the API key and model name\n",
    "model_gpt = \"gpt-4o-mini\"\n",
    "\n",
    "if not os.environ.get(\"OPENAI_API_KEY\"):\n",
    "  os.environ[\"OPENAI_API_KEY\"] = getpass.getpass(\"Enter API key for OpenAI: \")\n",
    "\n",
    "chat_model = init_chat_model(model_gpt, model_provider=\"openai\")"
   ]
  },
  {
   "cell_type": "markdown",
   "metadata": {},
   "source": [
    "### 5.1.1 Token Count"
   ]
  },
  {
   "cell_type": "code",
   "execution_count": 15,
   "metadata": {},
   "outputs": [],
   "source": [
    "# Function for calculating tokens\n",
    "def count_tokens(text: str, model: str = model_gpt) -> int:\n",
    "    \"\"\"Efficiently counts tokens in a text for a given OpenAI model.\"\"\"\n",
    "    encoding = tiktoken.encoding_for_model(model)\n",
    "    token_integers = encoding.encode(text)\n",
    "    num_tokens = len(token_integers)\n",
    "    return num_tokens"
   ]
  },
  {
   "cell_type": "markdown",
   "metadata": {},
   "source": [
    "### 5.1.2 Memory Definement for Chat History"
   ]
  },
  {
   "cell_type": "code",
   "execution_count": 196,
   "metadata": {},
   "outputs": [],
   "source": [
    "# Define memory for storing chat history\n",
    "memory = ConversationBufferMemory(memory_key=\"chat_history\", return_messages=True)"
   ]
  },
  {
   "cell_type": "code",
   "execution_count": 200,
   "metadata": {},
   "outputs": [
    {
     "name": "stdout",
     "output_type": "stream",
     "text": [
      "chat_memory=InMemoryChatMessageHistory(messages=[HumanMessage(content='[Page 26]\\n60 For TS&SS, ensuring that employees and Contractors under his/her control execute their\\ndaily tasks in a manner that is technically correct, at the correct frequency, with the correct\\ncare and in accordance with the CCE Documentation, such as to ensure the safe operation\\nof the Track and Structures (5.16.4.1). Following the instructions and technical advice of\\nthe STSE on TS&SS and delivering the precautionary/mitigation actions per Risk in\\naccordance with the STSE’s programme requirements (5.16.4.3). Identifying the technical\\ntraining requirements per employee and releasing employees for training (5.16.4.7).\\nPermanent Way Inspector\\n61 Every Supervisor that has a responsibility for overseeing and guiding workplace activities\\nin any CCE Location is accountable for OS “during his working hours” (5.17.1.1) including:\\n• Doing Safety Tours thoroughly and identifying good corrective actions and\\nimplementing those actions in a timely manner (5.17.2.6);\\n• Identifying the workplace and Occupational Safety training requirements per employee\\nand managing the workload to enable employees to be released for training (5.17.2.9);\\n• Ensuring that Contractors working with or for his teams follow a safe method of\\nworking, have the required systems in place for working safely and works safely\\n(5.17.2.12).\\n62 In terms of TS&SS, accountabilities include: for each of these supervisors includes:\\n• Ensuring that only competent manpower and the correct tools and other resources are\\nused (5.17.3.2);\\n• Identifying the technical training requirements per employee and managing the\\nworkloads to ensure that employees can be released for training (5.17.3.4).\\nCompetency Manager\\n63 The Competency Manager reports to the Head of Health & Safety, IM and is accountable\\nfor all aspects of the management of competency in the CCE, Signalling, Electrical and\\nTelecommunications (SET), New Works (NW), and IÉ-IM Operations (IMO) departments\\n(5.26.1).\\nTraining Manager\\n[Page 79]\\noccurrences in the future, including, in particular the regulatory\\nframework conditions, the design and application of the safety\\nmanagement system, skills of the staff, procedures and maintenance.\\nT3 Possession A possession taken for an agreed period without the facility to run\\npassenger trains in the area during that period until such time as the\\nholder of the possession decides to relinquish it\\nTrack Safety According to CCE-SMS-001, track safety is the operation of the Track\\nand all Track-related sub-systems in a manner that is safe with regard to\\npassenger Safety.\\nTrack Safety Co- IÉ Rule Book, Section B, Part Two, Subsection 6.0 Instructions to Track\\nordinator Safety Co-ordinators, clearly defines the roles and responsibilities of the\\nTSC.\\nUp Direction Towards Dublin.\\nUp Line Line where trains are travelling towards Dublin.\\nRailway Accident Investigation Unit 70\\nsupervisor and/or Line Manager to incident and accidents in the workplace, whether\\nrelated to OS, P&MS, Track Safety or Structures Safety.\\n10 3.5.5.1, 5.3.5.4, 5.3.7.2, 5.3.7.3, 5.9.3.4, 5.10.3.4, 5.15.3.4, 5.16.3.4, 5.18.3.2, 5.18.3.3,\\n5.19.3.2, 5.19.3.3, 5.20.3.2, 5.20.3.3, 5.21.3.1, 5.21.3.2, 5.22.3.2, 5.22.3.3, 5.23.3.2, 5.24.3.2,\\n5.24.3.3, 6.11.2.2.\\n11 3.1.5.1, 3.1.7.2, 3.5.3.1, 3.6.3.1, 3.11.3.1, 3.12.3.1, 3.15.3.1, 3.16.3.1, 3.17.3.1.\\nRailway Accident Investigation Unit 24\\n[Page 43]\\nEvents after the accident\\nIntroduction\\n134 In terms of events after the accident, there are events related to the (these events have\\nbeen separated for ease of understanding the events which occurred):\\n• Reporting of the accident;\\n• Actions on-site;\\n• Post-accident inspection of assets.\\n135 It should be noted, that when the clamp was struck, the wheel, rail and the clamp were\\nsignificantly damaged (paragraphs 46 and 47, Figure 6, Figure 7); although the damage\\nwas not obvious to Driver J283.\\nEvents after the accident in terms of reporting\\n136 Under CCE-SMS-007 and CCE-SMS-005, IÉ employees are required to alert their\\nsupervisors of accidents in the workplace, and contractors are required to report accidents\\nto the IÉ Line Manager or representative, respectively (paragraphs 93 - 94). Outlined\\nbelow is what happened on the night of the accident.\\n137 At 00:16 hrs, the ES rang the PIC to say that a train had passed through the worksite,\\nand they had to clear the line.\\n138 At 00:18 hrs Driver J283 contacted the Mainline Signalman to report that Train J283\\nhad struck something yellow on the line, and that he heard a bang, as the train approached\\nthe Curragh; and, that he saw members of staff on the Up Line who had moved off the line\\nas Train J283 approached. After getting signal protection, Driver J283 carried out a visual\\nexamination of the train to see if there as any damage.\\n139 At 00:19 hrs the Signalman rang the PICOP reporting that Driver J283 stated that the\\ntrain struck an object on the line and asked him to make enquiries as to what may have\\noccurred.\\n140 The Signalman then contacted the Traffic Regulator at 00:20 hrs to report the\\noccurrence.\\n141 At 00:21 hrs, Driver J283 contacted Mainline Signalman CTC reporting no obvious\\ndamage to the train and the Mainline Signalman CTC gave permission for Train J283 to\\ncontinue to Heuston Station.\\nRailway Accident Investigation Unit 34\\n[Page 74]\\nReporting of accidents\\n249 The accident was not reported, in full, in the first instance, as set out in CCE-SMS-005\\nand CCE-SMS-007; and the full scale only came to light due to the efforts of the internal\\nIÉ Safety Department. The contractors and IÉ-IM GO felt unable to challenge the IÉ-IM\\nsupervisors, a form, of authority gradient). The RAIU make the following safety\\nrecommendation to address AO-03:\\nSafety Recommendation 2023002-06\\nIÉ-IM should conduct a full review on the reporting of accidents by IÉ-IM staff and\\ncontractors, consideration should be given to:\\n• Reviewing CCE-SMS-007 and CCE-SMS-005 to identify any areas where\\nimprovements can be made related to the reporting of safety related\\noccurrences; where areas of concern are identified these should be addressed;\\n• Enhance and promote its confidential reporting system to ensure all staff (with\\na particular emphasis on contracted staff) can report issues related to safety and\\nwelfare;\\n• Promote a positive culture, associated with the reporting of occurrences, in an\\neffort to eliminate on-site authority gradients whereby staff cannot challenge\\nsupervisors (Safety Recommendation 2023002-03).\\n250 The location of 9 m rail to be replaced was moved to allow for the damaged section of\\nrail to be replaced; and not recorded in the “Shift Report” completed by the PIC, then acting\\nas ES; and, it is not clear when STSEs would have noticed despite being directly\\naccountable for the quality of work that affects track safety as set out in CCE-SMS-001\\nand CCE-SMS-008. CCE-SMS-008 does not appear to have stringent checks in relation\\nto the quality of works carried out; with its main focus being on the contractors’ method\\nstatements. The RAIU consider this warrants a safety recommendation to address\\nadditional observation, AO-05:\\nSafety Recommendation 2023002-07\\nThe CCE Department review and update CCE-SMS-001 and CCE-SMS-008 with a\\nview to addressing the monitoring and supervision of works, in terms of quality of\\n[Page 64]\\n• The Director Health and Safety to examine the feasibility of the introduction of an\\nenhanced confidential reporting system for staff and contractor staff to report safety\\nrelated concerns across the network;\\n• The Head of Health and Safety IM to arrange for a re-briefing/re-issue of\\ninstructions of how staff are to report and respond to an accident on the line.\\n233 A number of new safety recommendations were also made:\\n• A number of staff were disciplined and sanctioned within the CCE and CME; and\\nadditional training was also given;\\n• The CCE to research and assess the feasibility of which current technologies are\\navailable and to progress their trialling/adoption across IÉ, to support enhanced\\ncontrol and monitoring of when and how IÉ staff and contractors accessing the\\ninfrastructure, to provide assurance that staff are not working on the line without\\npossession or other suitable protections;\\n• The CCE to promote and encourage frontline staff and contractor staff to be\\ncapable of, and confident to raise safety challenges with IÉ supervisors and team\\nleaders, as well as close-calls and incident reports;\\n• The CCE to establish a system to promote and encourage sensible and efficient\\nsharing of information across IÉ and with contractors to support swift response and\\ninvestigation into incidents;\\n• The Head of Health & Safety IM to develop an operating procedure which provides\\nguidance on the level of welfare support which should be provided to staff and\\ncontractors following incidents;\\n• The CME should review the post-incident examination instructions to provide\\nguidance on all vital components that need to be examined;\\n• The CCE to confirm that the assurance and leadership arrangements in Division 3\\nare effective and able to detect failures in the implementation of standards and\\ncontrols. Regional Manager to get corrective coaching on the monitoring of the\\nimplementation of the SMS and TMS;\\n[Page 32]\\n84 Signatures are not always included, see circled in Figure 13; and in some cases dates\\nwere not provided, however, it is noted that there is no allocated spot for the date or time.\\nOn reviewing the dates provided, the earliest Safety Tour was carried out on the 24th May\\n2019; however, the Manager or CCE Safety Review Workshop Executive (SRWE)\\nManager did not sign off on the Safety Tour Form until almost two months later the 15th\\nJuly 2019, similar instances were found throughout the examples.\\n85 In addition, in the example provided, there were only a few instances of “Mitigations &\\nClose-Out Action(s)”, in Section 2, which have been included by the supervisors.\\nImplementation – Compliance Verification to detect Structures Hazards or Track Hazards\\n86 The STSE is accountable for deploying Compliance Verification in order to ensure that the\\nquality of work as done by employees is in accordance with the Technical Documentation\\nand that any Structures or Track related Hazards are detected. A Compliance Verification\\nprogramme is planned and scheduled by the STSE every year and the programmes are\\nreviewed by the Technical Manager.\\n87 The Compliance Verification programme should sample 15% of the completed tasks\\nthrough verification checks, audit, investigation, observance and review in order to verify\\nthat the tasks have been completed correctly, to the correct frequency and that there are\\nno technical operational Hazards, workmanship quality Hazards, component performance\\nHazards or system performance Hazards associated with the Structures or Track assets.\\nCompliance Verification results must be tabulated such that corrective actions can be\\nidentified and executed.\\n88 Every Track Hazard or Structures Hazard as identified during the Track and Structures\\nCompliance Verification is entered into a Track Risk register or Structures Risk register\\nrespectively and is then Risk managed accordingly.\\nRailway Accident Investigation Unit 23\\n• The CCE to confirm that the assurance and leadership arrangements in Division 3\\nare effective and able to detect failures in the implementation of standards and\\ncontrols. Regional Manager to get corrective coaching on the monitoring of the\\nimplementation of the SMS and TMS;\\n• The Regional Manager for Division 3 to provide evidence that the Method\\nStatement is updated to reflect the requirements of CCE-TMS-422. The Regional\\nManager to provide evidence that there is an effective system to provide\\nassurances that all the required competencies required for the completion of tasks\\nare actively managed and implemented in Division 3;\\nRailway Accident Investigation Unit 55\\nnow taking over the ES duties.\\n149 At 01:01 hrs, the Mainline Regulator CTC contacted the PWI to inform him that the\\nDuty Manager CTC was escalating the occurrence as it was now a reportable serious\\noccurrence and that the PWI should report it to the Acting Regional Manager Division 3\\n(the Regional Manager was on leave). The PWI informed the Mainline Regulator CTC that\\nhe had stood down the ES.\\n150 At 01:14 hrs, the PWI contacted the Acting A-Class Inspector for the area; who was\\non a different work site and requested that he attend the accident site, make enquiries and\\ntake statements from those persons who had been on the worksite when the train passed.\\n151 At 01:24 hrs, the Acting A-Class Inspector contacted the now stood-down ES directly,\\nthe ES told the Acting A-Class Inspector that the work group had accessed the line early\\nfor preparatory work as he thought that there were no more trains scheduled for the night.\\nRailway Accident Investigation Unit 35\\n[Page 81]\\nRAIU (2020), Collision between an Iarnród Éireann passenger train and rail-mounted\\nmaintenance equipment, Rosslare, Wexford, 11th January 2020, RAIU Investigation Report\\nNo: 2020 – R004 Issued: 16th December 2020.\\nRAIU (2014), Trend Investigation: Possession incidents on the Iarnród Éireann, Network RAIU\\nReport No: R2014 – 001, Published: 27/02/14.\\nRAIU (2019), Wrongside Door Failure at Ashtown Station, 12th August 2018, RAIU Report No:\\n2019 – R001, Issued: 25th June 2019.\\nRailway Accident Investigation Unit 72\\nstatements. The RAIU consider this warrants a safety recommendation to address\\nadditional observation, AO-05:\\nSafety Recommendation 2023002-07\\nThe CCE Department review and update CCE-SMS-001 and CCE-SMS-008 with a\\nview to addressing the monitoring and supervision of works, in terms of quality of\\nworks that affects track safety, which are carried out under internal method\\nstatements (and contractor) method statements.\\nRailway Accident Investigation Unit 65', additional_kwargs={}, response_metadata={}), AIMessage(content='```json\\n{\\n    \"nodes\": [\\n        {\"id\": \"Collision between Iarnród Éireann passenger train and rail-mounted maintenance equipment\", \"type\": \"UniqueAccident\"},\\n        {\"id\": \"Collision\", \"type\": \"AccidentType\"},\\n        {\"id\": \"Up Line\", \"type\": \"TrackSection\"},\\n        {\"id\": \"11/01/2020\", \"type\": \"Date\"},\\n        {\"id\": \"00:16\", \"type\": \"Time\"},\\n        {\"id\": \"Ireland\", \"type\": \"Country\"},\\n        {\"id\": \"Railway Accident Investigation Unit\", \"type\": \"RegulatoryBody\"}\\n    ],\\n    \"rels\": [\\n        {\"source\": \"Collision between Iarnród Éireann passenger train and rail-mounted maintenance equipment\", \"target\": \"Ireland\", \"type\": \"occurred_in\"},\\n        {\"source\": \"Collision between Iarnród Éireann passenger train and rail-mounted maintenance equipment\", \"target\": \"Collision\", \"type\": \"is_type\"},\\n        {\"source\": \"Collision between Iarnród Éireann passenger train and rail-mounted maintenance equipment\", \"target\": \"Up Line\", \"type\": \"is_track_section\"},\\n        {\"source\": \"Collision between Iarnród Éireann passenger train and rail-mounted maintenance equipment\", \"target\": \"Railway Accident Investigation Unit\", \"type\": \"investigated_by\"},\\n        {\"source\": \"Collision between Iarnród Éireann passenger train and rail-mounted maintenance equipment\", \"target\": \"11/01/2020\", \"type\": \"has_date\"},\\n        {\"source\": \"Collision between Iarnród Éireann passenger train and rail-mounted maintenance equipment\", \"target\": \"00:16\", \"type\": \"has_time\"}\\n    ]\\n}\\n```', additional_kwargs={}, response_metadata={})]) return_messages=True memory_key='chat_history'\n"
     ]
    }
   ],
   "source": [
    "print(memory)"
   ]
  },
  {
   "cell_type": "markdown",
   "metadata": {},
   "source": [
    "### 5.1.3 Schema & Prompt Templates Definement"
   ]
  },
  {
   "cell_type": "code",
   "execution_count": 197,
   "metadata": {},
   "outputs": [],
   "source": [
    "# Define the JSON schema example for few-shot learning\n",
    "schema_example = \"\"\"{\n",
    "    \"nodes\": [\n",
    "        {\"id\": \"Dublin-Cork Accident\", \"type\": \"UniqueAccident\"},\n",
    "        {\"id\": \"Level Crossing Accident involving a train\", \"type\": \"AccidentType\"},\n",
    "        {\"id\": \"105 MP-108 MP\", \"type\": \"TrackSection\"},\n",
    "        {\"id\": \"23/12/2021\", \"type\": \"Date\"},\n",
    "        {\"id\": \"16:32\", \"type\": \"Time\"},\n",
    "        {\"id\": \"Ireland\", \"type\": \"Country\"},\n",
    "        {\"id\": \"European Rail Agency\", \"type\": \"RegulatoryBody\"}\n",
    "    ],\n",
    "    \"rels\": [\n",
    "        {\"source\": \"Dublin-Cork Accident\", \"target\": \"Ireland\", \"type\": \"occurred_in\"},\n",
    "        {\"source\": \"Dublin-Cork Accident\", \"target\": \"Collision\", \"type\": \"is_type\"},\n",
    "        {\"source\": \"Dublin-Cork Accident\", \"target\": \"105 MP-108 MP\", \"type\": \"is_track_section\"},\n",
    "        {\"source\": \"Dublin-Cork Accident\", \"target\": \"European Rail Agency\", \"type\": \"investigated_by\"},\n",
    "        {\"source\": \"Dublin-Cork Accident\", \"target\": \"23/12/2021\", \"type\": \"has_date\"},\n",
    "        {\"source\": \"Dublin-Cork Accident\", \"target\": \"16:32\", \"type\": \"has_time\"}\n",
    "    ]\n",
    "}\"\"\"\n",
    "\n",
    "# Define the chat prompt for GPT extraction\n",
    "extraction_chat_prompt = ChatPromptTemplate(\n",
    "    messages=[\n",
    "        SystemMessagePromptTemplate.from_template(\"You are an expert in analyzing railway accident reports. Follow the JSON schema provided.\"),\n",
    "        MessagesPlaceholder(variable_name=\"chat_history\"),\n",
    "        HumanMessagePromptTemplate.from_template(\n",
    "        \"\"\"\n",
    "        Analyze the following railway accident report context and extract structured knowledge in JSON format.\n",
    "\n",
    "        Return a JSON object with:\n",
    "        - `nodes`: A list of entities, specifically {entities_of_interest}.\n",
    "        - `rels`: A list of relationships linking entities.\n",
    "\n",
    "        Guidelines:\n",
    "        - Look at the JSON schema example response and follow it closely. \n",
    "        - Ensure that the `source` and `target` nodes in `rels` are the SAME entities from the `nodes` list, and NOT different ones. \n",
    "        - Make sure to map ALL nodes with other important entities, e.g., (node UniqueAccident has_date node Date, node UniqueAccident occurred_at node Country).\n",
    "        - Do NOT map entities like (node Date is_date to node Time) or (node AccidentType is_type to node Country). This is INCORRECT.\n",
    "        - The `type` field in `rels` should be a verb phrase (e.g., \"occurred_in\", \"investigated_by\").\n",
    "        - The `id` field in `nodes` should be the exact text of the entity, not a description or a summary.\n",
    "        - Pay attention to date and type formats (e.g., EU date format, 24-hour time).\n",
    "        - The `UniqueAccident` entity should be a unique identifier for the accident.\n",
    "        - The `AccidentType` entity should be the type of accident.\n",
    "        - The `TrackSection` entity should be the track section where the accident occurred.\n",
    "        - The `Country` entity should be the country where the accident occurred.\n",
    "        - The `RegulatoryBody` entity should be the regulatory body that investigated the accident.\n",
    "\n",
    "        Schema example:\n",
    "        {schema_example}\n",
    "\n",
    "        Accident report context:\n",
    "        {relevant_report_text}\n",
    "\n",
    "        JSON:\n",
    "        \"\"\"\n",
    "        )\n",
    "    ],\n",
    "    # Only \"relevant_report_text\" is dynamic; the others are provided as constants.\n",
    "    input_variables=[\"relevant_report_text\"],\n",
    "    partial_variables={\n",
    "        \"entities_of_interest\": entities_of_interest,\n",
    "        \"schema_example\": schema_example\n",
    "    }\n",
    ")\n",
    "\n",
    "# Set constant values as partial variables.\n",
    "extraction_chat_prompt.partial_variables = {\n",
    "    \"entities_of_interest\": entities_of_interest,\n",
    "    \"schema_example\": schema_example\n",
    "}\n",
    "\n",
    "extraction_chain = LLMChain(\n",
    "    llm=chat_model,\n",
    "    prompt=extraction_chat_prompt,\n",
    "    memory=memory\n",
    ")"
   ]
  },
  {
   "cell_type": "markdown",
   "metadata": {},
   "source": [
    "### 5.1.4 Query First Prompt"
   ]
  },
  {
   "cell_type": "code",
   "execution_count": 198,
   "metadata": {},
   "outputs": [
    {
     "name": "stdout",
     "output_type": "stream",
     "text": [
      "Estimated cost: $0.00059\n",
      "Token count for prompt: 3961\n"
     ]
    },
    {
     "name": "stdout",
     "output_type": "stream",
     "text": [
      "Sending request to GPT for extraction...\n",
      "\n",
      "Extraction Output:\n",
      "\n",
      "```json\n",
      "{\n",
      "    \"nodes\": [\n",
      "        {\"id\": \"Collision between Iarnród Éireann passenger train and rail-mounted maintenance equipment\", \"type\": \"UniqueAccident\"},\n",
      "        {\"id\": \"Collision\", \"type\": \"AccidentType\"},\n",
      "        {\"id\": \"Up Line\", \"type\": \"TrackSection\"},\n",
      "        {\"id\": \"11/01/2020\", \"type\": \"Date\"},\n",
      "        {\"id\": \"00:16\", \"type\": \"Time\"},\n",
      "        {\"id\": \"Ireland\", \"type\": \"Country\"},\n",
      "        {\"id\": \"Railway Accident Investigation Unit\", \"type\": \"RegulatoryBody\"}\n",
      "    ],\n",
      "    \"rels\": [\n",
      "        {\"source\": \"Collision between Iarnród Éireann passenger train and rail-mounted maintenance equipment\", \"target\": \"Ireland\", \"type\": \"occurred_in\"},\n",
      "        {\"source\": \"Collision between Iarnród Éireann passenger train and rail-mounted maintenance equipment\", \"target\": \"Collision\", \"type\": \"is_type\"},\n",
      "        {\"source\": \"Collision between Iarnród Éireann passenger train and rail-mounted maintenance equipment\", \"target\": \"Up Line\", \"type\": \"is_track_section\"},\n",
      "        {\"source\": \"Collision between Iarnród Éireann passenger train and rail-mounted maintenance equipment\", \"target\": \"Railway Accident Investigation Unit\", \"type\": \"investigated_by\"},\n",
      "        {\"source\": \"Collision between Iarnród Éireann passenger train and rail-mounted maintenance equipment\", \"target\": \"11/01/2020\", \"type\": \"has_date\"},\n",
      "        {\"source\": \"Collision between Iarnród Éireann passenger train and rail-mounted maintenance equipment\", \"target\": \"00:16\", \"type\": \"has_time\"}\n",
      "    ]\n",
      "}\n",
      "```\n"
     ]
    }
   ],
   "source": [
    "# Convert the extraction prompt to a string for token counting\n",
    "extraction_prompt = extraction_chat_prompt.format(\n",
    "    relevant_report_text=relevant_report_text,\n",
    "    chat_history=[]\n",
    ")\n",
    "\n",
    "# Concatenate the messages into a single string\n",
    "token_limit = 4000\n",
    "token_count = count_tokens(extraction_prompt)\n",
    "estimated_cost = token_count * 0.00000015  # Approximate cost calculation\n",
    "\n",
    "print(f\"Estimated cost: ${estimated_cost:.5f}\")\n",
    "print(f\"Token count for prompt: {token_count}\")\n",
    "\n",
    "if token_count > token_limit:\n",
    "    print(f\"Token count is too high: {token_count}\\nPlease reduce the chunk size or refine the prompt.\")\n",
    "    proceed = \"no\"\n",
    "else:\n",
    "    proceed = input(\"Do you want to proceed with information extraction? (yes/no): \").strip().lower()\n",
    "\n",
    "if proceed != \"yes\":\n",
    "    print(\"Extraction aborted by user.\")\n",
    "else:\n",
    "    print(\"Sending request to GPT for extraction...\\n\")\n",
    "    extraction_result_raw = extraction_chain.invoke({\"relevant_report_text\": relevant_report_text})[\"text\"]\n",
    "    print(\"Extraction Output:\\n\")\n",
    "    print(extraction_result_raw)"
   ]
  },
  {
   "cell_type": "markdown",
   "metadata": {},
   "source": [
    "### 5.1.5 Extract Accident Type from GPT's First Prompt"
   ]
  },
  {
   "cell_type": "code",
   "execution_count": 201,
   "metadata": {},
   "outputs": [
    {
     "name": "stdout",
     "output_type": "stream",
     "text": [
      "Accident type:\n",
      "\n",
      "Collision\n",
      "\n",
      "Relevant categories in vector store:\n",
      "\n",
      "Accident Type: Collisions\n",
      "Accident Type: Other collision type\n",
      "Accident Type: Collision of train with a train/rail vehicle\n",
      "Accident Type: Collision of one or more rail vehicles with another rail vehicle\n",
      "Accident Type: Collision of one or more rail vehicles with obstacle within the clearance gauge\n"
     ]
    }
   ],
   "source": [
    "# Additional pre-processing to extract the JSON from the response\n",
    "extraction_json = re.sub(r'^```json\\n?|```$', '', extraction_result_raw).strip()\n",
    "extraction_json = json.loads(extraction_json)\n",
    "\n",
    "# Extract GPT's AccidentType assumption in order to query the vector store for the relevant chunks according to it\n",
    "for node in extraction_json['nodes']:\n",
    "        if node['type'] == 'AccidentType':\n",
    "            accident_type = node['id']\n",
    "\n",
    "# By using the initial AccidentType predicted by GPT, we can query our vector store and identify similar accident categories (which are standardized)\n",
    "relevant_events_text = find_most_relevant_cat_chunks(accident_type, top_k=5)\n",
    "\n",
    "print(f\"Accident type:\\n\\n{accident_type}\")\n",
    "print(f\"\\nRelevant categories in vector store:\\n\\n{relevant_events_text}\")"
   ]
  },
  {
   "cell_type": "markdown",
   "metadata": {},
   "source": [
    "### 5.1.6 Query Second (Refinement) Prompt"
   ]
  },
  {
   "cell_type": "code",
   "execution_count": 202,
   "metadata": {},
   "outputs": [],
   "source": [
    "# Define the chat prompt for GPT refinement\n",
    "refinement_chat_prompt = ChatPromptTemplate(\n",
    "    messages=[\n",
    "        SystemMessagePromptTemplate.from_template(\"You are an expert in refining railway accident report extractions.\"),\n",
    "        MessagesPlaceholder(variable_name=\"chat_history\"),\n",
    "        HumanMessagePromptTemplate.from_template(\n",
    "            \"\"\"\n",
    "            You previously inferred an AccidentType from the accident report. Now, refine your answer based on the following relevant accident category events.\n",
    "            Choose the most relevant one from the list below and copy it exactly:\\n\\n{relevant_events_text}\\n\\n\n",
    "            Refine your previous answer and update the JSON with the correct AccidentType. Here is your previous guess:\\n{extraction_result}\\n\\n\n",
    "            If none of them match, you maintain the previous answer. Provide only the updated JSON, without any additional comments or text:\n",
    "            \"\"\"\n",
    "        )\n",
    "    ],\n",
    "    input_variables=[\"extraction_result\"],\n",
    "    partial_variables={\n",
    "        \"relevant_events_text\": relevant_events_text,\n",
    "    }\n",
    ")\n",
    "\n",
    "refinement_chain = LLMChain(\n",
    "    llm=chat_model,\n",
    "    prompt=refinement_chat_prompt,\n",
    "    memory=memory\n",
    ")"
   ]
  },
  {
   "cell_type": "code",
   "execution_count": 203,
   "metadata": {},
   "outputs": [
    {
     "name": "stdout",
     "output_type": "stream",
     "text": [
      "Estimated cost: $0.00059\n",
      "Token count for prompt: 4157\n",
      "Sending request to GPT for extraction...\n",
      "\n",
      "Refinement Output:\n",
      "\n",
      "```json\n",
      "{\n",
      "    \"nodes\": [\n",
      "        {\"id\": \"Collision between Iarnród Éireann passenger train and rail-mounted maintenance equipment\", \"type\": \"UniqueAccident\"},\n",
      "        {\"id\": \"Collision of one or more rail vehicles with obstacle within the clearance gauge\", \"type\": \"AccidentType\"},\n",
      "        {\"id\": \"Up Line\", \"type\": \"TrackSection\"},\n",
      "        {\"id\": \"11/01/2020\", \"type\": \"Date\"},\n",
      "        {\"id\": \"00:16\", \"type\": \"Time\"},\n",
      "        {\"id\": \"Ireland\", \"type\": \"Country\"},\n",
      "        {\"id\": \"Railway Accident Investigation Unit\", \"type\": \"RegulatoryBody\"}\n",
      "    ],\n",
      "    \"rels\": [\n",
      "        {\"source\": \"Collision between Iarnród Éireann passenger train and rail-mounted maintenance equipment\", \"target\": \"Ireland\", \"type\": \"occurred_in\"},\n",
      "        {\"source\": \"Collision between Iarnród Éireann passenger train and rail-mounted maintenance equipment\", \"target\": \"Collision of one or more rail vehicles with obstacle within the clearance gauge\", \"type\": \"is_type\"},\n",
      "        {\"source\": \"Collision between Iarnród Éireann passenger train and rail-mounted maintenance equipment\", \"target\": \"Up Line\", \"type\": \"is_track_section\"},\n",
      "        {\"source\": \"Collision between Iarnród Éireann passenger train and rail-mounted maintenance equipment\", \"target\": \"Railway Accident Investigation Unit\", \"type\": \"investigated_by\"},\n",
      "        {\"source\": \"Collision between Iarnród Éireann passenger train and rail-mounted maintenance equipment\", \"target\": \"11/01/2020\", \"type\": \"has_date\"},\n",
      "        {\"source\": \"Collision between Iarnród Éireann passenger train and rail-mounted maintenance equipment\", \"target\": \"00:16\", \"type\": \"has_time\"}\n",
      "    ]\n",
      "}\n",
      "```\n"
     ]
    }
   ],
   "source": [
    "# Convert the extraction prompt to a string for token counting.\n",
    "refinement_prompt = refinement_chat_prompt.format(\n",
    "    extraction_result=extraction_result_raw,\n",
    "    chat_history=memory.chat_memory.messages\n",
    ")\n",
    "\n",
    "# Concatenate the messages into a single string.\n",
    "token_limit = 5000\n",
    "token_count = count_tokens(refinement_prompt)\n",
    "print(f\"Estimated cost: ${estimated_cost:.5f}\")\n",
    "print(f\"Token count for prompt: {token_count}\")\n",
    "\n",
    "if token_count > token_limit:\n",
    "    print(f\"Token count is too high: {token_count}\\nPlease reduce the chunk size or refine the prompt.\")\n",
    "    proceed = \"no\"\n",
    "else:\n",
    "    proceed = input(\"Do you want to proceed with information extraction? (yes/no): \").strip().lower()\n",
    "\n",
    "if proceed != \"yes\":\n",
    "    print(\"Extraction aborted by user.\")\n",
    "else:\n",
    "    print(\"Sending request to GPT for extraction...\\n\")\n",
    "    refinement_result_raw = refinement_chain.invoke({\"extraction_result\": extraction_result_raw})[\"text\"]\n",
    "    print(\"Refinement Output:\\n\")\n",
    "    print(refinement_result_raw)"
   ]
  },
  {
   "cell_type": "code",
   "execution_count": 204,
   "metadata": {},
   "outputs": [
    {
     "name": "stdout",
     "output_type": "stream",
     "text": [
      "\n",
      "Final Refined JSON Response:\n",
      "{\n",
      "  \"nodes\": [\n",
      "    {\n",
      "      \"id\": \"Collision between Iarnród Éireann passenger train and rail-mounted maintenance equipment\",\n",
      "      \"type\": \"UniqueAccident\"\n",
      "    },\n",
      "    {\n",
      "      \"id\": \"Collision of one or more rail vehicles with obstacle within the clearance gauge\",\n",
      "      \"type\": \"AccidentType\"\n",
      "    },\n",
      "    {\n",
      "      \"id\": \"Up Line\",\n",
      "      \"type\": \"TrackSection\"\n",
      "    },\n",
      "    {\n",
      "      \"id\": \"11/01/2020\",\n",
      "      \"type\": \"Date\"\n",
      "    },\n",
      "    {\n",
      "      \"id\": \"00:16\",\n",
      "      \"type\": \"Time\"\n",
      "    },\n",
      "    {\n",
      "      \"id\": \"Ireland\",\n",
      "      \"type\": \"Country\"\n",
      "    },\n",
      "    {\n",
      "      \"id\": \"Railway Accident Investigation Unit\",\n",
      "      \"type\": \"RegulatoryBody\"\n",
      "    }\n",
      "  ],\n",
      "  \"rels\": [\n",
      "    {\n",
      "      \"source\": \"Collision between Iarnród Éireann passenger train and rail-mounted maintenance equipment\",\n",
      "      \"target\": \"Ireland\",\n",
      "      \"type\": \"occurred_in\"\n",
      "    },\n",
      "    {\n",
      "      \"source\": \"Collision between Iarnród Éireann passenger train and rail-mounted maintenance equipment\",\n",
      "      \"target\": \"Collision of one or more rail vehicles with obstacle within the clearance gauge\",\n",
      "      \"type\": \"is_type\"\n",
      "    },\n",
      "    {\n",
      "      \"source\": \"Collision between Iarnród Éireann passenger train and rail-mounted maintenance equipment\",\n",
      "      \"target\": \"Up Line\",\n",
      "      \"type\": \"is_track_section\"\n",
      "    },\n",
      "    {\n",
      "      \"source\": \"Collision between Iarnród Éireann passenger train and rail-mounted maintenance equipment\",\n",
      "      \"target\": \"Railway Accident Investigation Unit\",\n",
      "      \"type\": \"investigated_by\"\n",
      "    },\n",
      "    {\n",
      "      \"source\": \"Collision between Iarnród Éireann passenger train and rail-mounted maintenance equipment\",\n",
      "      \"target\": \"11/01/2020\",\n",
      "      \"type\": \"has_date\"\n",
      "    },\n",
      "    {\n",
      "      \"source\": \"Collision between Iarnród Éireann passenger train and rail-mounted maintenance equipment\",\n",
      "      \"target\": \"00:16\",\n",
      "      \"type\": \"has_time\"\n",
      "    }\n",
      "  ]\n",
      "}\n"
     ]
    }
   ],
   "source": [
    "# Clean up the final response and parse JSON.\n",
    "final_response_str = re.sub(r'^```json\\n?|```$', '', refinement_result_raw).strip()\n",
    "final_response = json.loads(final_response_str)\n",
    "print(\"\\nFinal Refined JSON Response:\")\n",
    "print(json.dumps(final_response, ensure_ascii=False, indent=2))"
   ]
  },
  {
   "cell_type": "markdown",
   "metadata": {},
   "source": [
    "### 5.1.7 Validating the JSON Structure"
   ]
  },
  {
   "cell_type": "code",
   "execution_count": 205,
   "metadata": {},
   "outputs": [
    {
     "name": "stdout",
     "output_type": "stream",
     "text": [
      "Valid JSON in KG structure!\n"
     ]
    }
   ],
   "source": [
    "# Define Pydantic models that match your JSON output structure.\n",
    "class NodeModel(BaseModel):\n",
    "    id: str\n",
    "    type: str\n",
    "\n",
    "class RelationshipModel(BaseModel):\n",
    "    source: str\n",
    "    target: str\n",
    "    type: str\n",
    "\n",
    "class KnowledgeGraphModel(BaseModel):\n",
    "    nodes: List[NodeModel]\n",
    "    rels: List[RelationshipModel]\n",
    "\n",
    "# Assume final_json is your JSON input as a Python dictionary\n",
    "try:\n",
    "    kg = KnowledgeGraphModel.model_validate(final_response)\n",
    "    print(\"Valid JSON in KG structure!\")\n",
    "except ValidationError as e:\n",
    "    print(\"Validation error:\", e)"
   ]
  },
  {
   "cell_type": "code",
   "execution_count": 206,
   "metadata": {},
   "outputs": [],
   "source": [
    "# Assign response to model for further analysis \n",
    "response_dict = {\"model\": model_gpt, \"response\": final_response}"
   ]
  },
  {
   "cell_type": "markdown",
   "metadata": {},
   "source": [
    "## 5.2 Instantiating Local Models"
   ]
  },
  {
   "cell_type": "markdown",
   "metadata": {},
   "source": [
    "### 5.2.1 Building the prompt"
   ]
  },
  {
   "cell_type": "code",
   "execution_count": null,
   "metadata": {},
   "outputs": [],
   "source": [
    "# Define the function to build the prompt for local models\n",
    "def build_local_prompt(text):\n",
    "    \"\"\"\n",
    "    Constructs a structured prompt to extract entities and relationships for railway accidents.\n",
    "    \"\"\"\n",
    "    \n",
    "    schema_example = \"\"\"\n",
    "    {\n",
    "        \"nodes\": [\n",
    "            {\"id\": \"Dublin-Cork Accident\", \"type\": \"UniqueAccident\"},\n",
    "            {\"id\": \"Train Derailment\", \"type\": \"AccidentType\"},\n",
    "            {\"id\": \"23/12/2021\", \"type\": \"Date\"},\n",
    "            {\"id\": \"16:32\", \"type\": \"Time\"},\n",
    "            {\"id\": \"Ireland\", \"type\": \"Country\"},\n",
    "            {\"id\": \"European Rail Agency\", \"type\": \"RegulatoryBody\"}\n",
    "        ],\n",
    "        \"rels\": [\n",
    "            {\"source\": \"Dublin-Cork Accident\", \"target\": \"Ireland\", \"type\": \"occurred_in\"},\n",
    "            {\"source\": \"Dublin-Cork Accident\", \"target\": \"Collision\", \"type\": \"is_type\"},\n",
    "            {\"source\": \"Dublin-Cork Accident\", \"target\": \"European Rail Agency\", \"type\": \"investigated_by\"},\n",
    "            {\"source\": \"Dublin-Cork Accident\", \"target\": \"23/12/2021\", \"type\": \"has_date\"},\n",
    "            {\"source\": \"Dublin-Cork Accident\", \"target\": \"16:32\", \"type\": \"has_time\"}\n",
    "        ]\n",
    "    }\n",
    "    \"\"\"\n",
    "\n",
    "    return f\"\"\"\n",
    "    Extract structured entities and output ONLY a JSON object from this railway accident report. Do not provide a summary or comment on the incident.\n",
    "\n",
    "    Return the JSON object with:\n",
    "    - `nodes`: A list of entities, specifically {entities_of_interest}.\n",
    "    - `rels`: A list of relationships linking entities.\n",
    "\n",
    "    Schema example:\n",
    "    {schema_example}\n",
    "\n",
    "    Accident report context:\n",
    "    {text}\n",
    "\n",
    "    JSON:\n",
    "    \"\"\""
   ]
  },
  {
   "cell_type": "markdown",
   "metadata": {},
   "source": [
    "### 5.2.2 Defining the endpoint"
   ]
  },
  {
   "cell_type": "code",
   "execution_count": null,
   "metadata": {},
   "outputs": [],
   "source": [
    "# Define the API URL\n",
    "url = \"http://llama-max-ollama.ai.wu.ac.at/api/generate\"\n",
    "\n",
    "# Define prompt\n",
    "prompt = build_local_prompt(relevant_report_text)\n",
    "\n",
    "# Specify local model\n",
    "model_local = \"llama3.1:latest\""
   ]
  },
  {
   "cell_type": "markdown",
   "metadata": {},
   "source": [
    "### 5.2.3 Querying the model"
   ]
  },
  {
   "cell_type": "code",
   "execution_count": null,
   "metadata": {},
   "outputs": [],
   "source": [
    "# Define the payload and query the local model\n",
    "payload = {\n",
    "    \"model\": f\"{model_local}\",  # Ensure correct model name\n",
    "    \"prompt\": f\"{prompt}\",\n",
    "    \"stream\": False  # If 'raw' is unnecessary, remove it\n",
    "}\n",
    "\n",
    "# Set headers\n",
    "headers = {\"Content-Type\": \"application/json\"}\n",
    "\n",
    "# Send POST request\n",
    "response = requests.post(url, json=payload, headers=headers)\n",
    "\n",
    "# Handle response\n",
    "if response.status_code == 200:\n",
    "    try:\n",
    "        data = response.json()  # Parse response JSON\n",
    "        if \"response\" in data:\n",
    "            local_response = textwrap.fill(data[\"response\"], width=80)\n",
    "            print(\"Generated Summary:\\n\")\n",
    "            print(local_response)\n",
    "        else:\n",
    "            print(\"No 'response' key found in the JSON.\")\n",
    "    except json.JSONDecodeError:\n",
    "        print(f\"Invalid JSON response: {response.text}\")\n",
    "else:\n",
    "    print(f\"Error {response.status_code}: {response.text}\")"
   ]
  },
  {
   "cell_type": "markdown",
   "metadata": {},
   "source": [
    "### 5.2.4 Extracting JSON from response"
   ]
  },
  {
   "cell_type": "code",
   "execution_count": null,
   "metadata": {},
   "outputs": [],
   "source": [
    "def extract_json(text):\n",
    "    # List of regex patterns to try.\n",
    "    patterns = [\n",
    "        # Pattern for JSON wrapped in a markdown code block:\n",
    "        r'```json\\s*([\\s\\S]*?)\\s*```',\n",
    "        # Fallback pattern: JSON object starting with '{' and ending with '}'\n",
    "        r'({[\\s\\S]*})'\n",
    "    ]\n",
    "    \n",
    "    for pattern in patterns:\n",
    "        match = re.search(pattern, text)\n",
    "        if match:\n",
    "            json_str = match.group(1)\n",
    "            # Optionally, remove unwanted control characters.\n",
    "            json_str = re.sub(r'[\\x00-\\x1F]+', '', json_str)\n",
    "            try:\n",
    "                return json.loads(json_str)\n",
    "            except json.JSONDecodeError as e:\n",
    "                print(\"JSON decode error:\", e)\n",
    "                continue\n",
    "    return None\n",
    "\n",
    "local_response = extract_json(local_response)\n",
    "response_dict = {\"model\": model_local, \"response\": local_response}\n",
    "local_response"
   ]
  },
  {
   "cell_type": "markdown",
   "metadata": {},
   "source": [
    "# 6. Cross-model and Iteration Comparison"
   ]
  },
  {
   "cell_type": "markdown",
   "metadata": {},
   "source": [
    "## 6.1 Overview of results"
   ]
  },
  {
   "cell_type": "code",
   "execution_count": 208,
   "metadata": {},
   "outputs": [
    {
     "name": "stdout",
     "output_type": "stream",
     "text": [
      "Successfully added IE-10375 - 210827 Collision with track equipment.pdf - Iteration 2 to results!\n"
     ]
    }
   ],
   "source": [
    "# Define CSV storage file\n",
    "CSV_FILE = \"pdf_processing_results.csv\"\n",
    "\n",
    "# Define function to append the JSON output of response_json function to a DataFrame\n",
    "def append_pdf_json_result(pdf_name: str, response_json: dict) -> pd.DataFrame:\n",
    "    \"\"\"\n",
    "    Appends the JSON output of response_json function to a DataFrame.\n",
    "    \n",
    "    - If the PDF has been processed before, it appends a **new row** instead of a new column.\n",
    "    - Prevents duplicate JSON entries for the same iteration.\n",
    "    - Ensures data is **stored in rows**, making querying and analysis easier.\n",
    "\n",
    "    Args:\n",
    "        pdf_name (str): Name of the processed PDF file.\n",
    "        response_json (dict): JSON response from the knowledge extraction process.\n",
    "\n",
    "    Returns:\n",
    "        pd.DataFrame: Updated DataFrame with the new result.\n",
    "    \"\"\"\n",
    "    # Convert JSON response to a formatted string for easy comparison\n",
    "    json_output = json.dumps(response_json, indent=2)\n",
    "\n",
    "    # Load existing results if the CSV exists\n",
    "    path = \"./data/\" + CSV_FILE\n",
    "    if os.path.exists(path):\n",
    "        df = pd.read_csv(path, dtype={\"iteration_number\": int})\n",
    "    else:\n",
    "        # Create an empty DataFrame with the correct schema\n",
    "        df = pd.DataFrame(columns=[\"pdf_name\", \"model_type\", \"iteration_number\", \"json_output\"])\n",
    "\n",
    "    model_type = model_gpt if response_dict.get(\"model\") == model_gpt else model_local\n",
    "\n",
    "    # Filter for the current PDF's past records\n",
    "    pdf_history = df[df[\"pdf_name\"] == pdf_name]\n",
    "\n",
    "    # Check for duplicates: If this JSON output already exists for the same PDF, skip re-adding\n",
    "    if not pdf_history.empty and json_output in pdf_history[\"json_output\"].values:\n",
    "        print(f\"No changes detected in JSON for {pdf_name}, skipping new entry.\")\n",
    "        return df  # Exit early if it's a duplicate\n",
    "\n",
    "    # Determine new iteration number\n",
    "    iteration_number = pdf_history[\"iteration_number\"].max() + 1 if not pdf_history.empty else 1\n",
    "\n",
    "    # Append new result\n",
    "    new_entry = pd.DataFrame({\"pdf_name\": [pdf_name], \"model_type\": [model_type], \"iteration_number\": [iteration_number], \"json_output\": [json_output]})\n",
    "    df = pd.concat([df, new_entry], ignore_index=True)\n",
    "\n",
    "    # Save back to CSV in **append mode** to avoid full file reads/writes\n",
    "    df.to_csv(path, index=False)\n",
    "\n",
    "    print(f\"Successfully added {pdf_name} - Iteration {iteration_number} to results!\")\n",
    "    return df\n",
    "\n",
    "# Execute function\n",
    "results_df = append_pdf_json_result(pdf_name, response_dict[\"response\"])"
   ]
  },
  {
   "cell_type": "code",
   "execution_count": 209,
   "metadata": {},
   "outputs": [
    {
     "data": {
      "application/vnd.microsoft.datawrangler.viewer.v0+json": {
       "columns": [
        {
         "name": "index",
         "rawType": "int64",
         "type": "integer"
        },
        {
         "name": "pdf_name",
         "rawType": "object",
         "type": "string"
        },
        {
         "name": "model_type",
         "rawType": "object",
         "type": "string"
        },
        {
         "name": "iteration_number",
         "rawType": "int64",
         "type": "integer"
        },
        {
         "name": "json_output",
         "rawType": "object",
         "type": "string"
        }
       ],
       "conversionMethod": "pd.DataFrame",
       "ref": "5ea6a83f-0b4a-4599-bd1f-3bd7a5eaa961",
       "rows": [
        [
         "0",
         "IE-10375 - 210827 Collision with track equipment.pdf",
         "gpt-4o-mini",
         "1",
         "{\n  \"nodes\": [\n    {\n      \"id\": \"Collision between an Iarnr\\u00f3d \\u00c9ireann passenger train and rail-mounted maintenance equipment\",\n      \"type\": \"UniqueAccident\"\n    },\n    {\n      \"id\": \"Collision of one or more rail vehicles with obstacle within the clearance gauge\",\n      \"type\": \"AccidentType\"\n    },\n    {\n      \"id\": \"Up Line\",\n      \"type\": \"TrackSection\"\n    },\n    {\n      \"id\": \"11/01/2020\",\n      \"type\": \"Date\"\n    },\n    {\n      \"id\": \"00:18\",\n      \"type\": \"Time\"\n    },\n    {\n      \"id\": \"Ireland\",\n      \"type\": \"Country\"\n    },\n    {\n      \"id\": \"Railway Accident Investigation Unit\",\n      \"type\": \"RegulatoryBody\"\n    }\n  ],\n  \"rels\": [\n    {\n      \"source\": \"Collision between an Iarnr\\u00f3d \\u00c9ireann passenger train and rail-mounted maintenance equipment\",\n      \"target\": \"Ireland\",\n      \"type\": \"occurred_in\"\n    },\n    {\n      \"source\": \"Collision between an Iarnr\\u00f3d \\u00c9ireann passenger train and rail-mounted maintenance equipment\",\n      \"target\": \"Collision of one or more rail vehicles with obstacle within the clearance gauge\",\n      \"type\": \"is_type\"\n    },\n    {\n      \"source\": \"Collision between an Iarnr\\u00f3d \\u00c9ireann passenger train and rail-mounted maintenance equipment\",\n      \"target\": \"Up Line\",\n      \"type\": \"is_track_section\"\n    },\n    {\n      \"source\": \"Collision between an Iarnr\\u00f3d \\u00c9ireann passenger train and rail-mounted maintenance equipment\",\n      \"target\": \"Railway Accident Investigation Unit\",\n      \"type\": \"investigated_by\"\n    },\n    {\n      \"source\": \"Collision between an Iarnr\\u00f3d \\u00c9ireann passenger train and rail-mounted maintenance equipment\",\n      \"target\": \"11/01/2020\",\n      \"type\": \"has_date\"\n    },\n    {\n      \"source\": \"Collision between an Iarnr\\u00f3d \\u00c9ireann passenger train and rail-mounted maintenance equipment\",\n      \"target\": \"00:18\",\n      \"type\": \"has_time\"\n    }\n  ]\n}"
        ],
        [
         "1",
         "IE-10397 - 211207 Clontarf.pdf",
         "gpt-4o-mini",
         "1",
         "{\n  \"nodes\": [\n    {\n      \"id\": \"Signal Passed at Danger (SPAD) Incident\",\n      \"type\": \"UniqueAccident\"\n    },\n    {\n      \"id\": \"Signal passed at danger without passing a danger point\",\n      \"type\": \"AccidentType\"\n    },\n    {\n      \"id\": \"Clontarf Road Station Up Platform\",\n      \"type\": \"TrackSection\"\n    },\n    {\n      \"id\": \"07/12/2021\",\n      \"type\": \"Date\"\n    },\n    {\n      \"id\": \"15:59\",\n      \"type\": \"Time\"\n    },\n    {\n      \"id\": \"Ireland\",\n      \"type\": \"Country\"\n    },\n    {\n      \"id\": \"Railway Accident Investigation Unit\",\n      \"type\": \"RegulatoryBody\"\n    }\n  ],\n  \"rels\": [\n    {\n      \"source\": \"Signal Passed at Danger (SPAD) Incident\",\n      \"target\": \"Ireland\",\n      \"type\": \"occurred_in\"\n    },\n    {\n      \"source\": \"Signal Passed at Danger (SPAD) Incident\",\n      \"target\": \"Signal passed at danger without passing a danger point\",\n      \"type\": \"is_type\"\n    },\n    {\n      \"source\": \"Signal Passed at Danger (SPAD) Incident\",\n      \"target\": \"Clontarf Road Station Up Platform\",\n      \"type\": \"is_track_section\"\n    },\n    {\n      \"source\": \"Signal Passed at Danger (SPAD) Incident\",\n      \"target\": \"Railway Accident Investigation Unit\",\n      \"type\": \"investigated_by\"\n    },\n    {\n      \"source\": \"Signal Passed at Danger (SPAD) Incident\",\n      \"target\": \"07/12/2021\",\n      \"type\": \"has_date\"\n    },\n    {\n      \"source\": \"Signal Passed at Danger (SPAD) Incident\",\n      \"target\": \"15:59\",\n      \"type\": \"has_time\"\n    }\n  ]\n}"
        ],
        [
         "2",
         "IE-10404 - 230222 Broken Rail Emly.pdf",
         "gpt-4o-mini",
         "1",
         "{\n  \"nodes\": [\n    {\n      \"id\": \"Track Circuit Fault Incident\",\n      \"type\": \"UniqueAccident\"\n    },\n    {\n      \"id\": \"Failure of the track\",\n      \"type\": \"AccidentType\"\n    },\n    {\n      \"id\": \"LJ789 Up Line near Emly LC\",\n      \"type\": \"TrackSection\"\n    },\n    {\n      \"id\": \"23/02/2023\",\n      \"type\": \"Date\"\n    },\n    {\n      \"id\": \"07:56\",\n      \"type\": \"Time\"\n    },\n    {\n      \"id\": \"Ireland\",\n      \"type\": \"Country\"\n    },\n    {\n      \"id\": \"Commission for Railway Regulation\",\n      \"type\": \"RegulatoryBody\"\n    }\n  ],\n  \"rels\": [\n    {\n      \"source\": \"Track Circuit Fault Incident\",\n      \"target\": \"Ireland\",\n      \"type\": \"occurred_in\"\n    },\n    {\n      \"source\": \"Track Circuit Fault Incident\",\n      \"target\": \"Failure of the track\",\n      \"type\": \"is_type\"\n    },\n    {\n      \"source\": \"Track Circuit Fault Incident\",\n      \"target\": \"LJ789 Up Line near Emly LC\",\n      \"type\": \"is_track_section\"\n    },\n    {\n      \"source\": \"Track Circuit Fault Incident\",\n      \"target\": \"Commission for Railway Regulation\",\n      \"type\": \"investigated_by\"\n    },\n    {\n      \"source\": \"Track Circuit Fault Incident\",\n      \"target\": \"23/02/2023\",\n      \"type\": \"has_date\"\n    },\n    {\n      \"source\": \"Track Circuit Fault Incident\",\n      \"target\": \"07:56\",\n      \"type\": \"has_time\"\n    }\n  ]\n}"
        ],
        [
         "3",
         "IE-200608 BnM Collision LC Offaly.pdf",
         "gpt-4o-mini",
         "1",
         "{\n  \"nodes\": [\n    {\n      \"id\": \"Kilcolgan Level Crossing Accident\",\n      \"type\": \"UniqueAccident\"\n    },\n    {\n      \"id\": \"Level Crossing Accident involving a train and crossing vehicles\",\n      \"type\": \"AccidentType\"\n    },\n    {\n      \"id\": \"Kilcolgan Level Crossing\",\n      \"type\": \"TrackSection\"\n    },\n    {\n      \"id\": \"08/06/2020\",\n      \"type\": \"Date\"\n    },\n    {\n      \"id\": \"13:15\",\n      \"type\": \"Time\"\n    },\n    {\n      \"id\": \"Ireland\",\n      \"type\": \"Country\"\n    },\n    {\n      \"id\": \"Railway Accident Investigation Unit\",\n      \"type\": \"RegulatoryBody\"\n    }\n  ],\n  \"rels\": [\n    {\n      \"source\": \"Kilcolgan Level Crossing Accident\",\n      \"target\": \"Ireland\",\n      \"type\": \"occurred_in\"\n    },\n    {\n      \"source\": \"Kilcolgan Level Crossing Accident\",\n      \"target\": \"Level Crossing Accident involving a train and crossing vehicles\",\n      \"type\": \"is_type\"\n    },\n    {\n      \"source\": \"Kilcolgan Level Crossing Accident\",\n      \"target\": \"Kilcolgan Level Crossing\",\n      \"type\": \"is_track_section\"\n    },\n    {\n      \"source\": \"Kilcolgan Level Crossing Accident\",\n      \"target\": \"Railway Accident Investigation Unit\",\n      \"type\": \"investigated_by\"\n    },\n    {\n      \"source\": \"Kilcolgan Level Crossing Accident\",\n      \"target\": \"08/06/2020\",\n      \"type\": \"has_date\"\n    },\n    {\n      \"source\": \"Kilcolgan Level Crossing Accident\",\n      \"target\": \"13:15\",\n      \"type\": \"has_time\"\n    }\n  ]\n}"
        ],
        [
         "4",
         "IE-6218-200111 Collision RRME Rosslare.pdf",
         "gpt-4o-mini",
         "1",
         "{\n  \"nodes\": [\n    {\n      \"id\": \"Train A602 Collision\",\n      \"type\": \"UniqueAccident\"\n    },\n    {\n      \"id\": \"Collision of train with obstacle within the clearance gauge\",\n      \"type\": \"AccidentType\"\n    },\n    {\n      \"id\": \"112 Mile Post (MP) 880 yards to 112 MP 1320 yards\",\n      \"type\": \"TrackSection\"\n    },\n    {\n      \"id\": \"11/01/2020\",\n      \"type\": \"Date\"\n    },\n    {\n      \"id\": \"10:52\",\n      \"type\": \"Time\"\n    },\n    {\n      \"id\": \"Ireland\",\n      \"type\": \"Country\"\n    },\n    {\n      \"id\": \"Railway Accident Investigation Unit\",\n      \"type\": \"RegulatoryBody\"\n    }\n  ],\n  \"rels\": [\n    {\n      \"source\": \"Train A602 Collision\",\n      \"target\": \"Ireland\",\n      \"type\": \"occurred_in\"\n    },\n    {\n      \"source\": \"Train A602 Collision\",\n      \"target\": \"Collision of train with obstacle within the clearance gauge\",\n      \"type\": \"is_type\"\n    },\n    {\n      \"source\": \"Train A602 Collision\",\n      \"target\": \"112 Mile Post (MP) 880 yards to 112 MP 1320 yards\",\n      \"type\": \"is_track_section\"\n    },\n    {\n      \"source\": \"Train A602 Collision\",\n      \"target\": \"Railway Accident Investigation Unit\",\n      \"type\": \"investigated_by\"\n    },\n    {\n      \"source\": \"Train A602 Collision\",\n      \"target\": \"11/01/2020\",\n      \"type\": \"has_date\"\n    },\n    {\n      \"source\": \"Train A602 Collision\",\n      \"target\": \"10:52\",\n      \"type\": \"has_time\"\n    }\n  ]\n}"
        ],
        [
         "5",
         "IE-10375 - 210827 Collision with track equipment.pdf",
         "gpt-4o-mini",
         "2",
         "{\n  \"nodes\": [\n    {\n      \"id\": \"Collision between Iarnr\\u00f3d \\u00c9ireann passenger train and rail-mounted maintenance equipment\",\n      \"type\": \"UniqueAccident\"\n    },\n    {\n      \"id\": \"Collision of one or more rail vehicles with obstacle within the clearance gauge\",\n      \"type\": \"AccidentType\"\n    },\n    {\n      \"id\": \"Up Line\",\n      \"type\": \"TrackSection\"\n    },\n    {\n      \"id\": \"11/01/2020\",\n      \"type\": \"Date\"\n    },\n    {\n      \"id\": \"00:16\",\n      \"type\": \"Time\"\n    },\n    {\n      \"id\": \"Ireland\",\n      \"type\": \"Country\"\n    },\n    {\n      \"id\": \"Railway Accident Investigation Unit\",\n      \"type\": \"RegulatoryBody\"\n    }\n  ],\n  \"rels\": [\n    {\n      \"source\": \"Collision between Iarnr\\u00f3d \\u00c9ireann passenger train and rail-mounted maintenance equipment\",\n      \"target\": \"Ireland\",\n      \"type\": \"occurred_in\"\n    },\n    {\n      \"source\": \"Collision between Iarnr\\u00f3d \\u00c9ireann passenger train and rail-mounted maintenance equipment\",\n      \"target\": \"Collision of one or more rail vehicles with obstacle within the clearance gauge\",\n      \"type\": \"is_type\"\n    },\n    {\n      \"source\": \"Collision between Iarnr\\u00f3d \\u00c9ireann passenger train and rail-mounted maintenance equipment\",\n      \"target\": \"Up Line\",\n      \"type\": \"is_track_section\"\n    },\n    {\n      \"source\": \"Collision between Iarnr\\u00f3d \\u00c9ireann passenger train and rail-mounted maintenance equipment\",\n      \"target\": \"Railway Accident Investigation Unit\",\n      \"type\": \"investigated_by\"\n    },\n    {\n      \"source\": \"Collision between Iarnr\\u00f3d \\u00c9ireann passenger train and rail-mounted maintenance equipment\",\n      \"target\": \"11/01/2020\",\n      \"type\": \"has_date\"\n    },\n    {\n      \"source\": \"Collision between Iarnr\\u00f3d \\u00c9ireann passenger train and rail-mounted maintenance equipment\",\n      \"target\": \"00:16\",\n      \"type\": \"has_time\"\n    }\n  ]\n}"
        ]
       ],
       "shape": {
        "columns": 4,
        "rows": 6
       }
      },
      "text/html": [
       "<div>\n",
       "<style scoped>\n",
       "    .dataframe tbody tr th:only-of-type {\n",
       "        vertical-align: middle;\n",
       "    }\n",
       "\n",
       "    .dataframe tbody tr th {\n",
       "        vertical-align: top;\n",
       "    }\n",
       "\n",
       "    .dataframe thead th {\n",
       "        text-align: right;\n",
       "    }\n",
       "</style>\n",
       "<table border=\"1\" class=\"dataframe\">\n",
       "  <thead>\n",
       "    <tr style=\"text-align: right;\">\n",
       "      <th></th>\n",
       "      <th>pdf_name</th>\n",
       "      <th>model_type</th>\n",
       "      <th>iteration_number</th>\n",
       "      <th>json_output</th>\n",
       "    </tr>\n",
       "  </thead>\n",
       "  <tbody>\n",
       "    <tr>\n",
       "      <th>0</th>\n",
       "      <td>IE-10375 - 210827 Collision with track equipme...</td>\n",
       "      <td>gpt-4o-mini</td>\n",
       "      <td>1</td>\n",
       "      <td>{\\n  \"nodes\": [\\n    {\\n      \"id\": \"Collision...</td>\n",
       "    </tr>\n",
       "    <tr>\n",
       "      <th>1</th>\n",
       "      <td>IE-10397 - 211207 Clontarf.pdf</td>\n",
       "      <td>gpt-4o-mini</td>\n",
       "      <td>1</td>\n",
       "      <td>{\\n  \"nodes\": [\\n    {\\n      \"id\": \"Signal Pa...</td>\n",
       "    </tr>\n",
       "    <tr>\n",
       "      <th>2</th>\n",
       "      <td>IE-10404 - 230222 Broken Rail Emly.pdf</td>\n",
       "      <td>gpt-4o-mini</td>\n",
       "      <td>1</td>\n",
       "      <td>{\\n  \"nodes\": [\\n    {\\n      \"id\": \"Track Cir...</td>\n",
       "    </tr>\n",
       "    <tr>\n",
       "      <th>3</th>\n",
       "      <td>IE-200608 BnM Collision LC Offaly.pdf</td>\n",
       "      <td>gpt-4o-mini</td>\n",
       "      <td>1</td>\n",
       "      <td>{\\n  \"nodes\": [\\n    {\\n      \"id\": \"Kilcolgan...</td>\n",
       "    </tr>\n",
       "    <tr>\n",
       "      <th>4</th>\n",
       "      <td>IE-6218-200111 Collision RRME Rosslare.pdf</td>\n",
       "      <td>gpt-4o-mini</td>\n",
       "      <td>1</td>\n",
       "      <td>{\\n  \"nodes\": [\\n    {\\n      \"id\": \"Train A60...</td>\n",
       "    </tr>\n",
       "    <tr>\n",
       "      <th>5</th>\n",
       "      <td>IE-10375 - 210827 Collision with track equipme...</td>\n",
       "      <td>gpt-4o-mini</td>\n",
       "      <td>2</td>\n",
       "      <td>{\\n  \"nodes\": [\\n    {\\n      \"id\": \"Collision...</td>\n",
       "    </tr>\n",
       "  </tbody>\n",
       "</table>\n",
       "</div>"
      ],
      "text/plain": [
       "                                            pdf_name   model_type  \\\n",
       "0  IE-10375 - 210827 Collision with track equipme...  gpt-4o-mini   \n",
       "1                     IE-10397 - 211207 Clontarf.pdf  gpt-4o-mini   \n",
       "2             IE-10404 - 230222 Broken Rail Emly.pdf  gpt-4o-mini   \n",
       "3              IE-200608 BnM Collision LC Offaly.pdf  gpt-4o-mini   \n",
       "4         IE-6218-200111 Collision RRME Rosslare.pdf  gpt-4o-mini   \n",
       "5  IE-10375 - 210827 Collision with track equipme...  gpt-4o-mini   \n",
       "\n",
       "   iteration_number                                        json_output  \n",
       "0                 1  {\\n  \"nodes\": [\\n    {\\n      \"id\": \"Collision...  \n",
       "1                 1  {\\n  \"nodes\": [\\n    {\\n      \"id\": \"Signal Pa...  \n",
       "2                 1  {\\n  \"nodes\": [\\n    {\\n      \"id\": \"Track Cir...  \n",
       "3                 1  {\\n  \"nodes\": [\\n    {\\n      \"id\": \"Kilcolgan...  \n",
       "4                 1  {\\n  \"nodes\": [\\n    {\\n      \"id\": \"Train A60...  \n",
       "5                 2  {\\n  \"nodes\": [\\n    {\\n      \"id\": \"Collision...  "
      ]
     },
     "execution_count": 209,
     "metadata": {},
     "output_type": "execute_result"
    }
   ],
   "source": [
    "results_df"
   ]
  },
  {
   "cell_type": "markdown",
   "metadata": {},
   "source": [
    "## 6.2 Mapping entities to graph nods and rels"
   ]
  },
  {
   "cell_type": "code",
   "execution_count": 49,
   "metadata": {},
   "outputs": [],
   "source": [
    "# Define classes for the entities extraction\n",
    "class Property(BaseModel):\n",
    "    \"\"\"A single property consisting of key and value.\"\"\"\n",
    "    key: str = Field(..., description=\"Property key\")\n",
    "    value: str = Field(..., description=\"Property value\")\n",
    "\n",
    "class Node(BaseNode):\n",
    "    \"\"\"Represents an entity in the railway accident knowledge graph.\"\"\"\n",
    "    properties: Optional[List[Property]] = Field(\n",
    "        None, description=\"List of node properties\")\n",
    "\n",
    "class Relationship(BaseRelationship):\n",
    "    \"\"\"Represents a relationship between two entities in the graph.\"\"\"\n",
    "    properties: Optional[List[Property]] = Field(\n",
    "        None, description=\"List of relationship properties\"\n",
    "    )\n",
    "\n",
    "class KnowledgeGraph(BaseModel):\n",
    "    \"\"\"A knowledge graph storing railway accident data.\"\"\"\n",
    "    nodes: List[Node] = Field(\n",
    "        ..., description=\"List of nodes in the knowledge graph\")\n",
    "    rels: List[Relationship] = Field(\n",
    "        ..., description=\"List of relationships in the knowledge graph\"\n",
    "    )"
   ]
  },
  {
   "cell_type": "code",
   "execution_count": 50,
   "metadata": {},
   "outputs": [],
   "source": [
    "# Defining functions for mapping extracted entities to graph nodes and relationships\n",
    "def props_to_dict(props) -> dict:\n",
    "    \"\"\"Converts properties to a dictionary for graph storage.\"\"\"\n",
    "    properties = {}\n",
    "    if not props:\n",
    "        return properties\n",
    "    for p in props:\n",
    "        properties[p[\"key\"]] = p[\"value\"]\n",
    "    return properties\n",
    "\n",
    "def map_to_base_node(node: Node) -> BaseNode:\n",
    "    \"\"\"Maps extracted entities to graph nodes.\"\"\"\n",
    "    properties = {\"name\": node.id}\n",
    "    return BaseNode(\n",
    "        id=node.id,\n",
    "        type=node.type.capitalize(),\n",
    "        properties=properties\n",
    "    )\n",
    "\n",
    "def map_to_base_relationship(rel: Relationship) -> BaseRelationship:\n",
    "    \"\"\"Maps extracted relationships to graph edges.\"\"\"\n",
    "    source = map_to_base_node(rel.source)\n",
    "    target = map_to_base_node(rel.target)\n",
    "    properties = props_to_dict(rel.properties) if rel.properties else {}\n",
    "\n",
    "    return BaseRelationship(\n",
    "        source=source, target=target, type=rel.type, properties=properties\n",
    "    )"
   ]
  },
  {
   "cell_type": "markdown",
   "metadata": {},
   "source": [
    "# 7. Neo4j Storage"
   ]
  },
  {
   "cell_type": "markdown",
   "metadata": {},
   "source": [
    "## 7.1 Instantiating Neo4j"
   ]
  },
  {
   "cell_type": "code",
   "execution_count": 53,
   "metadata": {},
   "outputs": [
    {
     "name": "stdout",
     "output_type": "stream",
     "text": [
      "Connected to Neo4j successfully.\n"
     ]
    }
   ],
   "source": [
    "# Neo4j Connection Setup\n",
    "NEO4J_URI = \"bolt://localhost:7687\"\n",
    "NEO4J_USER = \"neo4j\"\n",
    "NEO4J_PASSWORD = \"password\"\n",
    "NEO4J_DATABASE = \"neo4j\"\n",
    "\n",
    "driver = GraphDatabase.driver(NEO4J_URI, auth=(NEO4J_USER, NEO4J_PASSWORD))\n",
    "\n",
    "try:\n",
    "    # Test the connection\n",
    "    with driver.session() as session:\n",
    "        session.run(\"RETURN 1\")\n",
    "    print(\"Connected to Neo4j successfully.\")\n",
    "except AuthError as e:\n",
    "    print(\"Authentication failed. Check your credentials:\", str(e))"
   ]
  },
  {
   "cell_type": "code",
   "execution_count": 54,
   "metadata": {},
   "outputs": [
    {
     "name": "stdout",
     "output_type": "stream",
     "text": [
      "Neo4j database cleared successfully.\n"
     ]
    }
   ],
   "source": [
    "# Clear database\n",
    "def clear_neo4j_database():\n",
    "    \"\"\"Delete all nodes and relationships in the Neo4j database.\"\"\"\n",
    "    with driver.session(database=NEO4J_DATABASE) as session:\n",
    "        session.run(\"MATCH (n) DETACH DELETE n\")\n",
    "    print(\"Neo4j database cleared successfully.\")\n",
    "\n",
    "# Run the function to clear the database\n",
    "clear_neo4j_database()"
   ]
  },
  {
   "cell_type": "code",
   "execution_count": 210,
   "metadata": {},
   "outputs": [
    {
     "data": {
      "application/vnd.microsoft.datawrangler.viewer.v0+json": {
       "columns": [
        {
         "name": "index",
         "rawType": "int64",
         "type": "integer"
        },
        {
         "name": "pdf_name",
         "rawType": "object",
         "type": "string"
        },
        {
         "name": "model_type",
         "rawType": "object",
         "type": "string"
        },
        {
         "name": "iteration_number",
         "rawType": "int64",
         "type": "integer"
        },
        {
         "name": "json_output",
         "rawType": "object",
         "type": "string"
        }
       ],
       "conversionMethod": "pd.DataFrame",
       "ref": "a5ee0477-2045-4c82-8e4c-f5850a712236",
       "rows": [
        [
         "0",
         "IE-10375 - 210827 Collision with track equipment.pdf",
         "gpt-4o-mini",
         "1",
         "{\n  \"nodes\": [\n    {\n      \"id\": \"Collision between an Iarnr\\u00f3d \\u00c9ireann passenger train and rail-mounted maintenance equipment\",\n      \"type\": \"UniqueAccident\"\n    },\n    {\n      \"id\": \"Collision of one or more rail vehicles with obstacle within the clearance gauge\",\n      \"type\": \"AccidentType\"\n    },\n    {\n      \"id\": \"Up Line\",\n      \"type\": \"TrackSection\"\n    },\n    {\n      \"id\": \"11/01/2020\",\n      \"type\": \"Date\"\n    },\n    {\n      \"id\": \"00:18\",\n      \"type\": \"Time\"\n    },\n    {\n      \"id\": \"Ireland\",\n      \"type\": \"Country\"\n    },\n    {\n      \"id\": \"Railway Accident Investigation Unit\",\n      \"type\": \"RegulatoryBody\"\n    }\n  ],\n  \"rels\": [\n    {\n      \"source\": \"Collision between an Iarnr\\u00f3d \\u00c9ireann passenger train and rail-mounted maintenance equipment\",\n      \"target\": \"Ireland\",\n      \"type\": \"occurred_in\"\n    },\n    {\n      \"source\": \"Collision between an Iarnr\\u00f3d \\u00c9ireann passenger train and rail-mounted maintenance equipment\",\n      \"target\": \"Collision of one or more rail vehicles with obstacle within the clearance gauge\",\n      \"type\": \"is_type\"\n    },\n    {\n      \"source\": \"Collision between an Iarnr\\u00f3d \\u00c9ireann passenger train and rail-mounted maintenance equipment\",\n      \"target\": \"Up Line\",\n      \"type\": \"is_track_section\"\n    },\n    {\n      \"source\": \"Collision between an Iarnr\\u00f3d \\u00c9ireann passenger train and rail-mounted maintenance equipment\",\n      \"target\": \"Railway Accident Investigation Unit\",\n      \"type\": \"investigated_by\"\n    },\n    {\n      \"source\": \"Collision between an Iarnr\\u00f3d \\u00c9ireann passenger train and rail-mounted maintenance equipment\",\n      \"target\": \"11/01/2020\",\n      \"type\": \"has_date\"\n    },\n    {\n      \"source\": \"Collision between an Iarnr\\u00f3d \\u00c9ireann passenger train and rail-mounted maintenance equipment\",\n      \"target\": \"00:18\",\n      \"type\": \"has_time\"\n    }\n  ]\n}"
        ],
        [
         "1",
         "IE-10397 - 211207 Clontarf.pdf",
         "gpt-4o-mini",
         "1",
         "{\n  \"nodes\": [\n    {\n      \"id\": \"Signal Passed at Danger (SPAD) Incident\",\n      \"type\": \"UniqueAccident\"\n    },\n    {\n      \"id\": \"Signal passed at danger without passing a danger point\",\n      \"type\": \"AccidentType\"\n    },\n    {\n      \"id\": \"Clontarf Road Station Up Platform\",\n      \"type\": \"TrackSection\"\n    },\n    {\n      \"id\": \"07/12/2021\",\n      \"type\": \"Date\"\n    },\n    {\n      \"id\": \"15:59\",\n      \"type\": \"Time\"\n    },\n    {\n      \"id\": \"Ireland\",\n      \"type\": \"Country\"\n    },\n    {\n      \"id\": \"Railway Accident Investigation Unit\",\n      \"type\": \"RegulatoryBody\"\n    }\n  ],\n  \"rels\": [\n    {\n      \"source\": \"Signal Passed at Danger (SPAD) Incident\",\n      \"target\": \"Ireland\",\n      \"type\": \"occurred_in\"\n    },\n    {\n      \"source\": \"Signal Passed at Danger (SPAD) Incident\",\n      \"target\": \"Signal passed at danger without passing a danger point\",\n      \"type\": \"is_type\"\n    },\n    {\n      \"source\": \"Signal Passed at Danger (SPAD) Incident\",\n      \"target\": \"Clontarf Road Station Up Platform\",\n      \"type\": \"is_track_section\"\n    },\n    {\n      \"source\": \"Signal Passed at Danger (SPAD) Incident\",\n      \"target\": \"Railway Accident Investigation Unit\",\n      \"type\": \"investigated_by\"\n    },\n    {\n      \"source\": \"Signal Passed at Danger (SPAD) Incident\",\n      \"target\": \"07/12/2021\",\n      \"type\": \"has_date\"\n    },\n    {\n      \"source\": \"Signal Passed at Danger (SPAD) Incident\",\n      \"target\": \"15:59\",\n      \"type\": \"has_time\"\n    }\n  ]\n}"
        ],
        [
         "2",
         "IE-10404 - 230222 Broken Rail Emly.pdf",
         "gpt-4o-mini",
         "1",
         "{\n  \"nodes\": [\n    {\n      \"id\": \"Track Circuit Fault Incident\",\n      \"type\": \"UniqueAccident\"\n    },\n    {\n      \"id\": \"Failure of the track\",\n      \"type\": \"AccidentType\"\n    },\n    {\n      \"id\": \"LJ789 Up Line near Emly LC\",\n      \"type\": \"TrackSection\"\n    },\n    {\n      \"id\": \"23/02/2023\",\n      \"type\": \"Date\"\n    },\n    {\n      \"id\": \"07:56\",\n      \"type\": \"Time\"\n    },\n    {\n      \"id\": \"Ireland\",\n      \"type\": \"Country\"\n    },\n    {\n      \"id\": \"Commission for Railway Regulation\",\n      \"type\": \"RegulatoryBody\"\n    }\n  ],\n  \"rels\": [\n    {\n      \"source\": \"Track Circuit Fault Incident\",\n      \"target\": \"Ireland\",\n      \"type\": \"occurred_in\"\n    },\n    {\n      \"source\": \"Track Circuit Fault Incident\",\n      \"target\": \"Failure of the track\",\n      \"type\": \"is_type\"\n    },\n    {\n      \"source\": \"Track Circuit Fault Incident\",\n      \"target\": \"LJ789 Up Line near Emly LC\",\n      \"type\": \"is_track_section\"\n    },\n    {\n      \"source\": \"Track Circuit Fault Incident\",\n      \"target\": \"Commission for Railway Regulation\",\n      \"type\": \"investigated_by\"\n    },\n    {\n      \"source\": \"Track Circuit Fault Incident\",\n      \"target\": \"23/02/2023\",\n      \"type\": \"has_date\"\n    },\n    {\n      \"source\": \"Track Circuit Fault Incident\",\n      \"target\": \"07:56\",\n      \"type\": \"has_time\"\n    }\n  ]\n}"
        ],
        [
         "3",
         "IE-200608 BnM Collision LC Offaly.pdf",
         "gpt-4o-mini",
         "1",
         "{\n  \"nodes\": [\n    {\n      \"id\": \"Kilcolgan Level Crossing Accident\",\n      \"type\": \"UniqueAccident\"\n    },\n    {\n      \"id\": \"Level Crossing Accident involving a train and crossing vehicles\",\n      \"type\": \"AccidentType\"\n    },\n    {\n      \"id\": \"Kilcolgan Level Crossing\",\n      \"type\": \"TrackSection\"\n    },\n    {\n      \"id\": \"08/06/2020\",\n      \"type\": \"Date\"\n    },\n    {\n      \"id\": \"13:15\",\n      \"type\": \"Time\"\n    },\n    {\n      \"id\": \"Ireland\",\n      \"type\": \"Country\"\n    },\n    {\n      \"id\": \"Railway Accident Investigation Unit\",\n      \"type\": \"RegulatoryBody\"\n    }\n  ],\n  \"rels\": [\n    {\n      \"source\": \"Kilcolgan Level Crossing Accident\",\n      \"target\": \"Ireland\",\n      \"type\": \"occurred_in\"\n    },\n    {\n      \"source\": \"Kilcolgan Level Crossing Accident\",\n      \"target\": \"Level Crossing Accident involving a train and crossing vehicles\",\n      \"type\": \"is_type\"\n    },\n    {\n      \"source\": \"Kilcolgan Level Crossing Accident\",\n      \"target\": \"Kilcolgan Level Crossing\",\n      \"type\": \"is_track_section\"\n    },\n    {\n      \"source\": \"Kilcolgan Level Crossing Accident\",\n      \"target\": \"Railway Accident Investigation Unit\",\n      \"type\": \"investigated_by\"\n    },\n    {\n      \"source\": \"Kilcolgan Level Crossing Accident\",\n      \"target\": \"08/06/2020\",\n      \"type\": \"has_date\"\n    },\n    {\n      \"source\": \"Kilcolgan Level Crossing Accident\",\n      \"target\": \"13:15\",\n      \"type\": \"has_time\"\n    }\n  ]\n}"
        ],
        [
         "4",
         "IE-6218-200111 Collision RRME Rosslare.pdf",
         "gpt-4o-mini",
         "1",
         "{\n  \"nodes\": [\n    {\n      \"id\": \"Train A602 Collision\",\n      \"type\": \"UniqueAccident\"\n    },\n    {\n      \"id\": \"Collision of train with obstacle within the clearance gauge\",\n      \"type\": \"AccidentType\"\n    },\n    {\n      \"id\": \"112 Mile Post (MP) 880 yards to 112 MP 1320 yards\",\n      \"type\": \"TrackSection\"\n    },\n    {\n      \"id\": \"11/01/2020\",\n      \"type\": \"Date\"\n    },\n    {\n      \"id\": \"10:52\",\n      \"type\": \"Time\"\n    },\n    {\n      \"id\": \"Ireland\",\n      \"type\": \"Country\"\n    },\n    {\n      \"id\": \"Railway Accident Investigation Unit\",\n      \"type\": \"RegulatoryBody\"\n    }\n  ],\n  \"rels\": [\n    {\n      \"source\": \"Train A602 Collision\",\n      \"target\": \"Ireland\",\n      \"type\": \"occurred_in\"\n    },\n    {\n      \"source\": \"Train A602 Collision\",\n      \"target\": \"Collision of train with obstacle within the clearance gauge\",\n      \"type\": \"is_type\"\n    },\n    {\n      \"source\": \"Train A602 Collision\",\n      \"target\": \"112 Mile Post (MP) 880 yards to 112 MP 1320 yards\",\n      \"type\": \"is_track_section\"\n    },\n    {\n      \"source\": \"Train A602 Collision\",\n      \"target\": \"Railway Accident Investigation Unit\",\n      \"type\": \"investigated_by\"\n    },\n    {\n      \"source\": \"Train A602 Collision\",\n      \"target\": \"11/01/2020\",\n      \"type\": \"has_date\"\n    },\n    {\n      \"source\": \"Train A602 Collision\",\n      \"target\": \"10:52\",\n      \"type\": \"has_time\"\n    }\n  ]\n}"
        ],
        [
         "5",
         "IE-10375 - 210827 Collision with track equipment.pdf",
         "gpt-4o-mini",
         "2",
         "{\n  \"nodes\": [\n    {\n      \"id\": \"Collision between Iarnr\\u00f3d \\u00c9ireann passenger train and rail-mounted maintenance equipment\",\n      \"type\": \"UniqueAccident\"\n    },\n    {\n      \"id\": \"Collision of one or more rail vehicles with obstacle within the clearance gauge\",\n      \"type\": \"AccidentType\"\n    },\n    {\n      \"id\": \"Up Line\",\n      \"type\": \"TrackSection\"\n    },\n    {\n      \"id\": \"11/01/2020\",\n      \"type\": \"Date\"\n    },\n    {\n      \"id\": \"00:16\",\n      \"type\": \"Time\"\n    },\n    {\n      \"id\": \"Ireland\",\n      \"type\": \"Country\"\n    },\n    {\n      \"id\": \"Railway Accident Investigation Unit\",\n      \"type\": \"RegulatoryBody\"\n    }\n  ],\n  \"rels\": [\n    {\n      \"source\": \"Collision between Iarnr\\u00f3d \\u00c9ireann passenger train and rail-mounted maintenance equipment\",\n      \"target\": \"Ireland\",\n      \"type\": \"occurred_in\"\n    },\n    {\n      \"source\": \"Collision between Iarnr\\u00f3d \\u00c9ireann passenger train and rail-mounted maintenance equipment\",\n      \"target\": \"Collision of one or more rail vehicles with obstacle within the clearance gauge\",\n      \"type\": \"is_type\"\n    },\n    {\n      \"source\": \"Collision between Iarnr\\u00f3d \\u00c9ireann passenger train and rail-mounted maintenance equipment\",\n      \"target\": \"Up Line\",\n      \"type\": \"is_track_section\"\n    },\n    {\n      \"source\": \"Collision between Iarnr\\u00f3d \\u00c9ireann passenger train and rail-mounted maintenance equipment\",\n      \"target\": \"Railway Accident Investigation Unit\",\n      \"type\": \"investigated_by\"\n    },\n    {\n      \"source\": \"Collision between Iarnr\\u00f3d \\u00c9ireann passenger train and rail-mounted maintenance equipment\",\n      \"target\": \"11/01/2020\",\n      \"type\": \"has_date\"\n    },\n    {\n      \"source\": \"Collision between Iarnr\\u00f3d \\u00c9ireann passenger train and rail-mounted maintenance equipment\",\n      \"target\": \"00:16\",\n      \"type\": \"has_time\"\n    }\n  ]\n}"
        ]
       ],
       "shape": {
        "columns": 4,
        "rows": 6
       }
      },
      "text/html": [
       "<div>\n",
       "<style scoped>\n",
       "    .dataframe tbody tr th:only-of-type {\n",
       "        vertical-align: middle;\n",
       "    }\n",
       "\n",
       "    .dataframe tbody tr th {\n",
       "        vertical-align: top;\n",
       "    }\n",
       "\n",
       "    .dataframe thead th {\n",
       "        text-align: right;\n",
       "    }\n",
       "</style>\n",
       "<table border=\"1\" class=\"dataframe\">\n",
       "  <thead>\n",
       "    <tr style=\"text-align: right;\">\n",
       "      <th></th>\n",
       "      <th>pdf_name</th>\n",
       "      <th>model_type</th>\n",
       "      <th>iteration_number</th>\n",
       "      <th>json_output</th>\n",
       "    </tr>\n",
       "  </thead>\n",
       "  <tbody>\n",
       "    <tr>\n",
       "      <th>0</th>\n",
       "      <td>IE-10375 - 210827 Collision with track equipme...</td>\n",
       "      <td>gpt-4o-mini</td>\n",
       "      <td>1</td>\n",
       "      <td>{\\n  \"nodes\": [\\n    {\\n      \"id\": \"Collision...</td>\n",
       "    </tr>\n",
       "    <tr>\n",
       "      <th>1</th>\n",
       "      <td>IE-10397 - 211207 Clontarf.pdf</td>\n",
       "      <td>gpt-4o-mini</td>\n",
       "      <td>1</td>\n",
       "      <td>{\\n  \"nodes\": [\\n    {\\n      \"id\": \"Signal Pa...</td>\n",
       "    </tr>\n",
       "    <tr>\n",
       "      <th>2</th>\n",
       "      <td>IE-10404 - 230222 Broken Rail Emly.pdf</td>\n",
       "      <td>gpt-4o-mini</td>\n",
       "      <td>1</td>\n",
       "      <td>{\\n  \"nodes\": [\\n    {\\n      \"id\": \"Track Cir...</td>\n",
       "    </tr>\n",
       "    <tr>\n",
       "      <th>3</th>\n",
       "      <td>IE-200608 BnM Collision LC Offaly.pdf</td>\n",
       "      <td>gpt-4o-mini</td>\n",
       "      <td>1</td>\n",
       "      <td>{\\n  \"nodes\": [\\n    {\\n      \"id\": \"Kilcolgan...</td>\n",
       "    </tr>\n",
       "    <tr>\n",
       "      <th>4</th>\n",
       "      <td>IE-6218-200111 Collision RRME Rosslare.pdf</td>\n",
       "      <td>gpt-4o-mini</td>\n",
       "      <td>1</td>\n",
       "      <td>{\\n  \"nodes\": [\\n    {\\n      \"id\": \"Train A60...</td>\n",
       "    </tr>\n",
       "    <tr>\n",
       "      <th>5</th>\n",
       "      <td>IE-10375 - 210827 Collision with track equipme...</td>\n",
       "      <td>gpt-4o-mini</td>\n",
       "      <td>2</td>\n",
       "      <td>{\\n  \"nodes\": [\\n    {\\n      \"id\": \"Collision...</td>\n",
       "    </tr>\n",
       "  </tbody>\n",
       "</table>\n",
       "</div>"
      ],
      "text/plain": [
       "                                            pdf_name   model_type  \\\n",
       "0  IE-10375 - 210827 Collision with track equipme...  gpt-4o-mini   \n",
       "1                     IE-10397 - 211207 Clontarf.pdf  gpt-4o-mini   \n",
       "2             IE-10404 - 230222 Broken Rail Emly.pdf  gpt-4o-mini   \n",
       "3              IE-200608 BnM Collision LC Offaly.pdf  gpt-4o-mini   \n",
       "4         IE-6218-200111 Collision RRME Rosslare.pdf  gpt-4o-mini   \n",
       "5  IE-10375 - 210827 Collision with track equipme...  gpt-4o-mini   \n",
       "\n",
       "   iteration_number                                        json_output  \n",
       "0                 1  {\\n  \"nodes\": [\\n    {\\n      \"id\": \"Collision...  \n",
       "1                 1  {\\n  \"nodes\": [\\n    {\\n      \"id\": \"Signal Pa...  \n",
       "2                 1  {\\n  \"nodes\": [\\n    {\\n      \"id\": \"Track Cir...  \n",
       "3                 1  {\\n  \"nodes\": [\\n    {\\n      \"id\": \"Kilcolgan...  \n",
       "4                 1  {\\n  \"nodes\": [\\n    {\\n      \"id\": \"Train A60...  \n",
       "5                 2  {\\n  \"nodes\": [\\n    {\\n      \"id\": \"Collision...  "
      ]
     },
     "execution_count": 210,
     "metadata": {},
     "output_type": "execute_result"
    }
   ],
   "source": [
    "results_df"
   ]
  },
  {
   "cell_type": "markdown",
   "metadata": {},
   "source": [
    "## 7.2 Extracting the JSON from DF row"
   ]
  },
  {
   "cell_type": "code",
   "execution_count": 211,
   "metadata": {},
   "outputs": [
    {
     "name": "stdout",
     "output_type": "stream",
     "text": [
      "{\n",
      "  \"nodes\": [\n",
      "    {\n",
      "      \"id\": \"Collision between Iarnród Éireann passenger train and rail-mounted maintenance equipment\",\n",
      "      \"type\": \"UniqueAccident\"\n",
      "    },\n",
      "    {\n",
      "      \"id\": \"Collision of one or more rail vehicles with obstacle within the clearance gauge\",\n",
      "      \"type\": \"AccidentType\"\n",
      "    },\n",
      "    {\n",
      "      \"id\": \"Up Line\",\n",
      "      \"type\": \"TrackSection\"\n",
      "    },\n",
      "    {\n",
      "      \"id\": \"11/01/2020\",\n",
      "      \"type\": \"Date\"\n",
      "    },\n",
      "    {\n",
      "      \"id\": \"00:16\",\n",
      "      \"type\": \"Time\"\n",
      "    },\n",
      "    {\n",
      "      \"id\": \"Ireland\",\n",
      "      \"type\": \"Country\"\n",
      "    },\n",
      "    {\n",
      "      \"id\": \"Railway Accident Investigation Unit\",\n",
      "      \"type\": \"RegulatoryBody\"\n",
      "    }\n",
      "  ],\n",
      "  \"rels\": [\n",
      "    {\n",
      "      \"source\": \"Collision between Iarnród Éireann passenger train and rail-mounted maintenance equipment\",\n",
      "      \"target\": \"Ireland\",\n",
      "      \"type\": \"occurred_in\"\n",
      "    },\n",
      "    {\n",
      "      \"source\": \"Collision between Iarnród Éireann passenger train and rail-mounted maintenance equipment\",\n",
      "      \"target\": \"Collision of one or more rail vehicles with obstacle within the clearance gauge\",\n",
      "      \"type\": \"is_type\"\n",
      "    },\n",
      "    {\n",
      "      \"source\": \"Collision between Iarnród Éireann passenger train and rail-mounted maintenance equipment\",\n",
      "      \"target\": \"Up Line\",\n",
      "      \"type\": \"is_track_section\"\n",
      "    },\n",
      "    {\n",
      "      \"source\": \"Collision between Iarnród Éireann passenger train and rail-mounted maintenance equipment\",\n",
      "      \"target\": \"Railway Accident Investigation Unit\",\n",
      "      \"type\": \"investigated_by\"\n",
      "    },\n",
      "    {\n",
      "      \"source\": \"Collision between Iarnród Éireann passenger train and rail-mounted maintenance equipment\",\n",
      "      \"target\": \"11/01/2020\",\n",
      "      \"type\": \"has_date\"\n",
      "    },\n",
      "    {\n",
      "      \"source\": \"Collision between Iarnród Éireann passenger train and rail-mounted maintenance equipment\",\n",
      "      \"target\": \"00:16\",\n",
      "      \"type\": \"has_time\"\n",
      "    }\n",
      "  ]\n",
      "}\n"
     ]
    }
   ],
   "source": [
    "def get_json_output(df, pdf_name, iteration_number):\n",
    "    \"\"\"\n",
    "    Gets the 'json_output' for the given pdf_name and iteration_number.\n",
    "    Returns an empty dict if there's no match.\n",
    "    \"\"\"\n",
    "    subset = df[\n",
    "        (df[\"pdf_name\"] == pdf_name) &\n",
    "        (df[\"iteration_number\"] == iteration_number)\n",
    "    ]\n",
    "\n",
    "    if subset.empty:\n",
    "        print(\"No match found.\")\n",
    "        return {}\n",
    "\n",
    "    json_str = subset.iloc[0][\"json_output\"]\n",
    "    return json.loads(json_str)\n",
    "\n",
    "# Choose the JSON to convert to graph\n",
    "pdf_of_choice = pdf_name\n",
    "json_to_convert = get_json_output(results_df, pdf_of_choice, iteration_number=2)\n",
    "print(json.dumps(json_to_convert, ensure_ascii=False, indent=2))"
   ]
  },
  {
   "cell_type": "markdown",
   "metadata": {},
   "source": [
    "## 7.3 Converting the JSON to graph "
   ]
  },
  {
   "cell_type": "code",
   "execution_count": 58,
   "metadata": {},
   "outputs": [],
   "source": [
    "def convert_json_to_graph(json_to_convert, source_text):\n",
    "    \"\"\"\n",
    "    Converts extracted JSON into a graph-compatible format with correct entity types.\n",
    "    \"\"\"\n",
    "    def get_node_type(json_data, node_id):\n",
    "        \"\"\"\n",
    "        Helper function to retrieve the correct node type from JSON.\n",
    "        \"\"\"\n",
    "        for node in json_data[\"nodes\"]:\n",
    "            if node[\"id\"] == node_id:\n",
    "                return node[\"type\"]\n",
    "        return \"Unknown\"  # Fallback if type is missing\n",
    "\n",
    "    if not json_to_convert:\n",
    "        print(\"No valid data to convert to a graph.\")\n",
    "        return None\n",
    "\n",
    "    # Convert Nodes\n",
    "    graph_nodes = [map_to_base_node(Node(id=node[\"id\"], type=node[\"type\"])) for node in json_to_convert[\"nodes\"]]\n",
    "\n",
    "    # Convert Relationships (Ensure correct types)\n",
    "    graph_rels = []\n",
    "    for rel in json_to_convert[\"rels\"]:\n",
    "        source_node = Node(id=rel[\"source\"], type=get_node_type(json_to_convert, rel[\"source\"]))\n",
    "        target_node = Node(id=rel[\"target\"], type=get_node_type(json_to_convert, rel[\"target\"]))\n",
    "        graph_rels.append(map_to_base_relationship(Relationship(source=source_node, target=target_node, type=rel[\"type\"])))\n",
    "\n",
    "    return GraphDocument(nodes=graph_nodes, relationships=graph_rels, source=Document(page_content=source_text))"
   ]
  },
  {
   "cell_type": "markdown",
   "metadata": {},
   "source": [
    "## 7.4 Storing the graph in Neo4j"
   ]
  },
  {
   "cell_type": "code",
   "execution_count": 59,
   "metadata": {},
   "outputs": [],
   "source": [
    "def store_in_neo4j(graph_document):\n",
    "    \"\"\"\n",
    "    Stores extracted knowledge graph into Neo4j with dynamic labels.\n",
    "    \"\"\"\n",
    "    with driver.session() as session:\n",
    "        # Store nodes with dynamic labels\n",
    "        for node in graph_document.nodes:\n",
    "            session.run(f\"\"\"\n",
    "                MERGE (n:{node.type} {{id: $id}})\n",
    "                ON CREATE SET n.name = $name\n",
    "            \"\"\", id=node.id, name=node.id)\n",
    "\n",
    "        # Store relationships\n",
    "        for rel in graph_document.relationships:\n",
    "            session.run(f\"\"\"\n",
    "                MATCH (s {{id: $source}})\n",
    "                MATCH (t {{id: $target}})\n",
    "                MERGE (s)-[r:{rel.type.upper()}]->(t)\n",
    "            \"\"\", source=rel.source.id, target=rel.target.id)"
   ]
  },
  {
   "cell_type": "code",
   "execution_count": 60,
   "metadata": {},
   "outputs": [],
   "source": [
    "def process_railway_accident_report(json_to_convert):\n",
    "    \"\"\"\n",
    "    Converts the JSON to a graph format and stores it in Neo4j.\n",
    "    \"\"\"\n",
    "    print(\"Converting JSON to graph format...\")\n",
    "    graph_document = convert_json_to_graph(json_to_convert, relevant_report_text)\n",
    "\n",
    "    if graph_document:\n",
    "        print(\"Graph structure created! Storing in Neo4j...\")\n",
    "        store_in_neo4j(graph_document)"
   ]
  },
  {
   "cell_type": "code",
   "execution_count": 212,
   "metadata": {},
   "outputs": [
    {
     "name": "stdout",
     "output_type": "stream",
     "text": [
      "Converting JSON to graph format...\n",
      "Graph structure created! Storing in Neo4j...\n",
      "Data stored in Neo4j successfully.\n"
     ]
    }
   ],
   "source": [
    "# Store extracted entities into Neo4j\n",
    "try:\n",
    "    db_result = process_railway_accident_report(json_to_convert)\n",
    "    print(\"Data stored in Neo4j successfully.\")\n",
    "except Exception as e:\n",
    "    print(\"Failed to store data in Neo4j:\", str(e))"
   ]
  },
  {
   "cell_type": "code",
   "execution_count": null,
   "metadata": {},
   "outputs": [],
   "source": [
    "# Close Neo4j connection\n",
    "driver.close()"
   ]
  },
  {
   "cell_type": "markdown",
   "metadata": {},
   "source": [
    "# 8. Comparison against ERAIL DB"
   ]
  },
  {
   "cell_type": "markdown",
   "metadata": {},
   "source": [
    "## 8.1 Loading ERAIL DB"
   ]
  },
  {
   "cell_type": "code",
   "execution_count": null,
   "metadata": {},
   "outputs": [],
   "source": [
    "# Load the ERAIL DB\n",
    "erail_db = pd.read_excel(\"./data/erail database.xlsx\")\n",
    "erail_db.head(5)"
   ]
  },
  {
   "cell_type": "markdown",
   "metadata": {},
   "source": [
    "## 8.2 Pre-processing data"
   ]
  },
  {
   "cell_type": "code",
   "execution_count": null,
   "metadata": {},
   "outputs": [],
   "source": [
    "# Convert date column to datetime & adjust format\n",
    "erail_db[\"Date of occurrence\"] = erail_db[\"Date of occurrence\"].dt.strftime(\"%d/%m/%Y\")\n",
    "\n",
    "# Convert time column to datetime & adjust format\n",
    "erail_db[\"Time of occurrence\"] = pd.to_datetime(erail_db[\"Time of occurrence\"], errors='coerce')\n",
    "erail_db[\"Time of occurrence\"] = erail_db[\"Time of occurrence\"].dt.strftime(\"%H:%M\")\n",
    "\n",
    "erail_db.head(5)"
   ]
  },
  {
   "cell_type": "markdown",
   "metadata": {},
   "source": [
    "## 8.3 Merging data for comparison"
   ]
  },
  {
   "cell_type": "code",
   "execution_count": null,
   "metadata": {},
   "outputs": [],
   "source": [
    "# Create a copy of the results DataFrame\n",
    "comparison_df = results_df[[\"pdf_name\", \"json_output\"]].copy()\n",
    "\n",
    "# Extract ID from the PDF name\n",
    "comparison_df[\"ERAIL Occurrence\"] = comparison_df[\"pdf_name\"].str.extract(r'(IE-\\d+)')\n",
    "\n",
    "# Sample DataFrame (assuming json_output column contains dictionaries in string format)\n",
    "comparison_df['json_output'] = comparison_df['json_output'].apply(json.loads)  # Convert JSON string to dictionary\n",
    "\n",
    "# Function to extract node data\n",
    "def extract_nodes(json_data):\n",
    "    node_dict = {}\n",
    "    for node in json_data.get(\"nodes\", []):\n",
    "        node_dict[f\"gpt_{node['type']}\"] = node[\"id\"]  # Store ID based on type\n",
    "    return pd.Series(node_dict)  # Convert dictionary to Series for easier DataFrame merging\n",
    "\n",
    "# Apply the function to extract node data\n",
    "nodes_df = comparison_df['json_output'].apply(extract_nodes)\n",
    "\n",
    "# Merge extracted data into original DataFrame\n",
    "comparison_df = pd.concat([comparison_df, nodes_df], axis=1)\n",
    "\n",
    "# Drop the original json_output column if no longer needed\n",
    "comparison_df.drop(columns=[\"json_output\"], inplace=True)\n",
    "\n",
    "# View comparison DataFrame\n",
    "comparison_df"
   ]
  },
  {
   "cell_type": "code",
   "execution_count": null,
   "metadata": {},
   "outputs": [],
   "source": [
    "# Merge the comparison DataFrame with the ERAIL database\n",
    "merged_df = comparison_df.merge(erail_db, on=\"ERAIL Occurrence\", how='inner')\n",
    "merged_df"
   ]
  },
  {
   "cell_type": "markdown",
   "metadata": {},
   "source": [
    "## 8.4 Comparison"
   ]
  },
  {
   "cell_type": "code",
   "execution_count": null,
   "metadata": {},
   "outputs": [],
   "source": [
    "# Compare GPT extracted date with the ERAIL database (source of truth)\n",
    "merged_df[\"Date Match\"] = np.where(merged_df[\"gpt_Date\"] == merged_df[\"Date of occurrence\"], \"Match\", \"Mismatch\")\n",
    "merged_df[[\"ERAIL Occurrence\", \"gpt_Date\", \"Date of occurrence\", \"Date Match\"]]"
   ]
  },
  {
   "cell_type": "code",
   "execution_count": null,
   "metadata": {},
   "outputs": [],
   "source": [
    "# Compare GPT extracted time with the ERAIL database (source of truth)\n",
    "merged_df[\"Time Match\"] = np.where(merged_df[\"gpt_Time\"] == merged_df[\"Time of occurrence\"], \"Match\", \"Mismatch\")\n",
    "merged_df[[\"ERAIL Occurrence\", \"gpt_Time\", \"Time of occurrence\", \"Time Match\"]]"
   ]
  },
  {
   "cell_type": "code",
   "execution_count": null,
   "metadata": {},
   "outputs": [],
   "source": [
    "# Compare GPT extracted country with the ERAIL database (source of truth)\n",
    "merged_df[\"Country Match\"] = np.where(merged_df[\"gpt_Country\"] == merged_df[\"Country\"], \"Match\", \"Mismatch\")\n",
    "merged_df[[\"ERAIL Occurrence\", \"gpt_Country\", \"Country\", \"Country Match\"]]"
   ]
  },
  {
   "cell_type": "code",
   "execution_count": null,
   "metadata": {},
   "outputs": [],
   "source": []
  },
  {
   "cell_type": "code",
   "execution_count": null,
   "metadata": {},
   "outputs": [],
   "source": []
  },
  {
   "cell_type": "code",
   "execution_count": null,
   "metadata": {},
   "outputs": [],
   "source": []
  },
  {
   "cell_type": "code",
   "execution_count": null,
   "metadata": {},
   "outputs": [],
   "source": []
  }
 ],
 "metadata": {
  "kernelspec": {
   "display_name": "master_thesis",
   "language": "python",
   "name": "python3"
  },
  "language_info": {
   "codemirror_mode": {
    "name": "ipython",
    "version": 3
   },
   "file_extension": ".py",
   "mimetype": "text/x-python",
   "name": "python",
   "nbconvert_exporter": "python",
   "pygments_lexer": "ipython3",
   "version": "3.12.9"
  }
 },
 "nbformat": 4,
 "nbformat_minor": 2
}
