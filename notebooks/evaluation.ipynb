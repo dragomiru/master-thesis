{
 "cells": [
  {
   "cell_type": "markdown",
   "id": "72cf06b6",
   "metadata": {},
   "source": [
    "# Importing Packages"
   ]
  },
  {
   "cell_type": "code",
   "execution_count": null,
   "id": "9d573bfc",
   "metadata": {},
   "outputs": [],
   "source": [
    "# Importing packages\n",
    "import pandas as pd\n",
    "import numpy as np"
   ]
  },
  {
   "cell_type": "markdown",
   "id": "e2fbd359",
   "metadata": {},
   "source": [
    "# Loading Data"
   ]
  },
  {
   "cell_type": "code",
   "execution_count": null,
   "id": "92fbbfa1",
   "metadata": {},
   "outputs": [
    {
     "data": {
      "application/vnd.microsoft.datawrangler.viewer.v0+json": {
       "columns": [
        {
         "name": "index",
         "rawType": "int64",
         "type": "integer"
        },
        {
         "name": "Unnamed: 0",
         "rawType": "int64",
         "type": "integer"
        },
        {
         "name": "ERAIL Occurrence",
         "rawType": "object",
         "type": "string"
        },
        {
         "name": "model_type",
         "rawType": "object",
         "type": "string"
        },
        {
         "name": "iteration_number",
         "rawType": "int64",
         "type": "integer"
        },
        {
         "name": "LLM_Date",
         "rawType": "object",
         "type": "string"
        },
        {
         "name": "Date of occurrence",
         "rawType": "object",
         "type": "string"
        },
        {
         "name": "Date_Match",
         "rawType": "object",
         "type": "string"
        },
        {
         "name": "LLM_Time",
         "rawType": "object",
         "type": "string"
        },
        {
         "name": "Time of occurrence",
         "rawType": "object",
         "type": "string"
        },
        {
         "name": "Time_Match",
         "rawType": "object",
         "type": "string"
        },
        {
         "name": "LLM_Country",
         "rawType": "object",
         "type": "string"
        },
        {
         "name": "Country",
         "rawType": "object",
         "type": "string"
        },
        {
         "name": "Country_Match",
         "rawType": "object",
         "type": "string"
        },
        {
         "name": "LLM_AccidentType",
         "rawType": "object",
         "type": "string"
        },
        {
         "name": "Occurrence type",
         "rawType": "object",
         "type": "string"
        },
        {
         "name": "AccidentType_Match",
         "rawType": "object",
         "type": "string"
        },
        {
         "name": "Manual_AccidentType_Match",
         "rawType": "object",
         "type": "string"
        },
        {
         "name": "LLM_RegulatoryBody",
         "rawType": "object",
         "type": "string"
        },
        {
         "name": "Reporting Body",
         "rawType": "object",
         "type": "string"
        },
        {
         "name": "RegulatoryBody_Match",
         "rawType": "object",
         "type": "string"
        },
        {
         "name": "Manual_RegulatoryBody_Match",
         "rawType": "object",
         "type": "string"
        },
        {
         "name": "LLM_ContributingFactor",
         "rawType": "object",
         "type": "string"
        },
        {
         "name": "Direct cause description (including causal and contributing factors, excluding those of systemic nature)",
         "rawType": "object",
         "type": "string"
        },
        {
         "name": "ContributingFactors_Match",
         "rawType": "object",
         "type": "string"
        },
        {
         "name": "Manual_ContributingFactor_Match",
         "rawType": "object",
         "type": "string"
        },
        {
         "name": "LLM_SystemicFactor",
         "rawType": "object",
         "type": "unknown"
        },
        {
         "name": "Underlying and root causes description (i.e. systemic factors, if any)",
         "rawType": "object",
         "type": "string"
        },
        {
         "name": "SystemicFactors_Match",
         "rawType": "object",
         "type": "string"
        },
        {
         "name": "Manual_SystemicFactors_Match",
         "rawType": "object",
         "type": "string"
        }
       ],
       "ref": "caf77150-5353-4ca5-a46c-d1145600e84c",
       "rows": [
        [
         "0",
         "0",
         "PL-10186",
         "gpt-4o-mini",
         "1",
         "14/01/2022",
         "14/01/2022",
         "Match",
         "10:48",
         "10:50",
         "Mismatch",
         "Poland",
         "Poland",
         "Match",
         "Level Crossing Accident",
         "Level crossing accident",
         "Mismatch",
         "Match",
         "STATE COMMISSION ON RAILWAY ACCIDENTS INVESTIGATION",
         "NIB PL",
         "Mismatch",
         "Match",
         "Driver's failure to obey traffic signals, Explosion of flammable goods, Restriction of field of view",
         "1) Failure by the driver of a road vehicle to obey the light signals given on traffic signals (alternating flashing red lights) and the audible signals emitted by acoustic devices involving passing the traffic signal despite the prohibition.\n2) Continuing to pass the level crossing and entering the level crossing by the road vehicle, directly in front of the oncoming RAJ 33506 train.\n",
         "Mismatch",
         "Match",
         "Risk assessment team recommendation",
         "1) Driver's failure to behave with special caution when approaching a level crossing, as provided for in Article 28(1) of the Act of June 20, 1997, Act on Road Traffic (i.e., Journal of Laws of 2021, item 450, as amended).\n2) Restriction of the field of view of the level crossing for the driver of passenger train RAJ 33506, due to a train set running from the siding of PKN ORLEN S.A. standing on track No. 101 in front of the crossing. - Widełka Fuel Terminal. This train also restricted the field of vision for the driver of the road vehicle.\n3) Explosion in the driver's cab of vapors emanating \nfrom damaged packages of flammable goods carried by the delivery truck, causing the door leading to the driver's cab to be torn off and severely injuring a train passenger.\n",
         "Mismatch",
         "Mismatch"
        ],
        [
         "1",
         "1",
         "PL-10193",
         "gpt-4o-mini",
         "1",
         "03/02/2022",
         "03/02/2022",
         "Match",
         "06:14",
         "06:15",
         "Mismatch",
         "Poland",
         "Poland",
         "Match",
         "Level crossing accident",
         "Level crossing accident",
         "Match",
         "Match",
         "STATE COMMISSION ON RAILWAY ACCIDENTS INVESTIGATION",
         "NIB PL",
         "Mismatch",
         "Match",
         "Bus entering during prohibited signal, Infrastructure condition",
         "Bus entering the crossing during emission of signals by traffic signals prohibiting passing that signal.",
         "Mismatch",
         "Match",
         "Local traffic organization",
         "1) The inability of trucks and buses to exit the crossing with the half barriers closed without damaging infrastructure elements and traffic safety devices at the crossing, resulting from the following facilities, i.e.;\n- Concrete fencing and a built-in S-4 traffic signal in the road gauge at the exit section of the crossing,\n- A growing tree at a distance of 11 meters from the rail head and in front of the crossing,\n- Road in a curve, sharp turn of the road to the left immediately after the crossing.\n2) Failure of the bus driver to make a determined attempt to exit \nwith breaking the half barriers.\n",
         "Mismatch",
         "Mismatch"
        ],
        [
         "2",
         "2",
         "PL-10366",
         "gpt-4o-mini",
         "1",
         "19/01/2023",
         "19/01/2023",
         "Match",
         "18:37",
         "18:35",
         "Mismatch",
         "Poland",
         "Poland",
         "Match",
         "Train Collision",
         "Trains collision",
         "Mismatch",
         "Match",
         "State Commission on Railway Accident Investigation",
         "NIB PL",
         "Mismatch",
         "Match",
         "Limited visibility due to environmental factors, Telephone confirmation without verification",
         "Dispatching train LTE 785009 (locomotive alone) from the Szczecin Podjuchy station to the Szczecin Port Centralny SPA station on a single-track route occupied by train TME 684013, which in consequence led to train LTE 785009 running into the rear of train TME 684013.",
         "Mismatch",
         "Match",
         null,
         "1) Telephone confirmation of the arrival of train TME 684013 by the signaller at the Szczecin Port Centralny SPA train signalling point to the signaller at the Szczecin Podjuchy train signalling point, without verifying whether the train concerned entered the Szczecin Port Centralny station.\n2) Telephone clearance by the signaller at the Szczecin Port Centralny SPA train signalling point for the signaller at the Szczecin Podjuchy train signalling point to dispatch train LTE 785009 from the Szczecin Podjuchy station when the route was occupied by train TME 684013.\n3) Non-compliance with the content of telephone signalling messages in accordance with the templates provided in Supplement 2 to \"Instruction on operating rail traffic Ir-1\" when managing traffic on the basis of train signalling by telephone.\n4) Failure by the signaller at the SPA point to establish contact despite being called twice by the driver of train TME 684013 after the change of the train communication channel and after that train stopped before the entrance semaphore B to SPA indicating the \"Stop\" signal.\n5) Conversations unrelated to the operation of rail traffic with persons in the SPA traffic operation post building, leading to decreased concentration on the part of the signaller at the Szczecin Port Centralny SPA train signalling point.\n6) Limited ability of the driver of train LTE 785009 to notice the Pc 5 train end signal (day) of a stationary train TME 684013 due to hours of darkness, position of the track curve and illumination of the construction site and lights of vehicles working at the construction site adjacent to the plain track.\n",
         "Mismatch",
         "Mismatch"
        ],
        [
         "3",
         "3",
         "PL-10379",
         "gpt-4o-mini",
         "1",
         "07/02/2023",
         "07/02/2023",
         "Match",
         "02:00",
         "02:00",
         "Match",
         "Poland",
         "Poland",
         "Match",
         "Derailment",
         "Train derailment",
         "Mismatch",
         "Match",
         "STATE COMMISSION ON RAILWAY ACCIDENT INVESTIGATION",
         "NIB PL",
         "Mismatch",
         "Match",
         "Decreased axle strength, Formation of microcracks, Inappropriate machining, Introduction to service without documentation",
         "Breakage of the first axle of the first bogie of Eamnos wagon no. 33 51 5839 055-9.",
         "Mismatch",
         "Match",
         "Lack of wheelset traceability obligation",
         "1) Inappropriate machining of the radius of transition of the wheel seat into the centre section of the axle, leading to the occurrence of a large gradient of tensional and compressive stress.\n2) Formation of microcracks in the place subjected to machining.\n3) Decreased strength along the axle cross section up to the critical moment at the place of the fatigue crack.\n4) Introduction to service of a wheelset as a reusable set from the second-hand market without documented history of prior use.",
         "Mismatch",
         "Mismatch"
        ],
        [
         "4",
         "4",
         "PL-10387",
         "gpt-4o-mini",
         "1",
         "20/02/2023",
         "20/02/2023",
         "Match",
         "18:11",
         "18:10",
         "Mismatch",
         "Poland",
         "Poland",
         "Match",
         "Accident",
         "Level crossing accident",
         "Mismatch",
         "Mismatch",
         "State Commission on Railway Accident Investigation",
         "NIB PL",
         "Mismatch",
         "Match",
         "Failure to implement previous recommendations, Inability of road tractor to exit, Inappropriate organisation of pedestrian traffic, Installation of lockable half-barriers, Location of pedestrian crossing",
         "Inability of a road tractor with a semi-trailer to exit a Cat. B level crossing due to a passenger car stopping in front of a pedestrian crossing, followed by the road tractor with a semi-trailer being enclosed by an exit barrier, as a result of which a train ran into the road tractor.",
         "Mismatch",
         "Match",
         "Absence of rules on pedestrian positioning, Obligation to give way to pedestrians",
         "1. Inappropriate organisation of pedestrian traffic in the area of a level crossing.\n2. The location of the pedestrian crossing at 2.5 m behind the exit barrier, hindering smooth passage and exit of road vehicles through and from the level crossing.\n3. A passenger car stopping at the level crossing in front of the pedestrian crossing to give way to pedestrians, which prevented a road tractor with a semi-trailer following the passenger car from continuing to go.\n4. Installation of lockable half-barriers on the exit lane from the level crossing, which prevented raising them manually.\n5. Failure to implement recommendation no. 2) in Point 4.2 of the PKBWK's Annual Report 2018 concerning disassembly of exit barriers.\n",
         "Mismatch",
         "Match"
        ]
       ],
       "shape": {
        "columns": 29,
        "rows": 5
       }
      },
      "text/html": [
       "<div>\n",
       "<style scoped>\n",
       "    .dataframe tbody tr th:only-of-type {\n",
       "        vertical-align: middle;\n",
       "    }\n",
       "\n",
       "    .dataframe tbody tr th {\n",
       "        vertical-align: top;\n",
       "    }\n",
       "\n",
       "    .dataframe thead th {\n",
       "        text-align: right;\n",
       "    }\n",
       "</style>\n",
       "<table border=\"1\" class=\"dataframe\">\n",
       "  <thead>\n",
       "    <tr style=\"text-align: right;\">\n",
       "      <th></th>\n",
       "      <th>Unnamed: 0</th>\n",
       "      <th>ERAIL Occurrence</th>\n",
       "      <th>model_type</th>\n",
       "      <th>iteration_number</th>\n",
       "      <th>LLM_Date</th>\n",
       "      <th>Date of occurrence</th>\n",
       "      <th>Date_Match</th>\n",
       "      <th>LLM_Time</th>\n",
       "      <th>Time of occurrence</th>\n",
       "      <th>Time_Match</th>\n",
       "      <th>...</th>\n",
       "      <th>RegulatoryBody_Match</th>\n",
       "      <th>Manual_RegulatoryBody_Match</th>\n",
       "      <th>LLM_ContributingFactor</th>\n",
       "      <th>Direct cause description (including causal and contributing factors, excluding those of systemic nature)</th>\n",
       "      <th>ContributingFactors_Match</th>\n",
       "      <th>Manual_ContributingFactor_Match</th>\n",
       "      <th>LLM_SystemicFactor</th>\n",
       "      <th>Underlying and root causes description (i.e. systemic factors, if any)</th>\n",
       "      <th>SystemicFactors_Match</th>\n",
       "      <th>Manual_SystemicFactors_Match</th>\n",
       "    </tr>\n",
       "  </thead>\n",
       "  <tbody>\n",
       "    <tr>\n",
       "      <th>0</th>\n",
       "      <td>0</td>\n",
       "      <td>PL-10186</td>\n",
       "      <td>gpt-4o-mini</td>\n",
       "      <td>1</td>\n",
       "      <td>14/01/2022</td>\n",
       "      <td>14/01/2022</td>\n",
       "      <td>Match</td>\n",
       "      <td>10:48</td>\n",
       "      <td>10:50</td>\n",
       "      <td>Mismatch</td>\n",
       "      <td>...</td>\n",
       "      <td>Mismatch</td>\n",
       "      <td>Match</td>\n",
       "      <td>Driver's failure to obey traffic signals, Expl...</td>\n",
       "      <td>1) Failure by the driver of a road vehicle to ...</td>\n",
       "      <td>Mismatch</td>\n",
       "      <td>Match</td>\n",
       "      <td>Risk assessment team recommendation</td>\n",
       "      <td>1) Driver's failure to behave with special cau...</td>\n",
       "      <td>Mismatch</td>\n",
       "      <td>Mismatch</td>\n",
       "    </tr>\n",
       "    <tr>\n",
       "      <th>1</th>\n",
       "      <td>1</td>\n",
       "      <td>PL-10193</td>\n",
       "      <td>gpt-4o-mini</td>\n",
       "      <td>1</td>\n",
       "      <td>03/02/2022</td>\n",
       "      <td>03/02/2022</td>\n",
       "      <td>Match</td>\n",
       "      <td>06:14</td>\n",
       "      <td>06:15</td>\n",
       "      <td>Mismatch</td>\n",
       "      <td>...</td>\n",
       "      <td>Mismatch</td>\n",
       "      <td>Match</td>\n",
       "      <td>Bus entering during prohibited signal, Infrast...</td>\n",
       "      <td>Bus entering the crossing during emission of s...</td>\n",
       "      <td>Mismatch</td>\n",
       "      <td>Match</td>\n",
       "      <td>Local traffic organization</td>\n",
       "      <td>1) The inability of trucks and buses to exit t...</td>\n",
       "      <td>Mismatch</td>\n",
       "      <td>Mismatch</td>\n",
       "    </tr>\n",
       "    <tr>\n",
       "      <th>2</th>\n",
       "      <td>2</td>\n",
       "      <td>PL-10366</td>\n",
       "      <td>gpt-4o-mini</td>\n",
       "      <td>1</td>\n",
       "      <td>19/01/2023</td>\n",
       "      <td>19/01/2023</td>\n",
       "      <td>Match</td>\n",
       "      <td>18:37</td>\n",
       "      <td>18:35</td>\n",
       "      <td>Mismatch</td>\n",
       "      <td>...</td>\n",
       "      <td>Mismatch</td>\n",
       "      <td>Match</td>\n",
       "      <td>Limited visibility due to environmental factor...</td>\n",
       "      <td>Dispatching train LTE 785009 (locomotive alone...</td>\n",
       "      <td>Mismatch</td>\n",
       "      <td>Match</td>\n",
       "      <td>NaN</td>\n",
       "      <td>1) Telephone confirmation of the arrival of tr...</td>\n",
       "      <td>Mismatch</td>\n",
       "      <td>Mismatch</td>\n",
       "    </tr>\n",
       "    <tr>\n",
       "      <th>3</th>\n",
       "      <td>3</td>\n",
       "      <td>PL-10379</td>\n",
       "      <td>gpt-4o-mini</td>\n",
       "      <td>1</td>\n",
       "      <td>07/02/2023</td>\n",
       "      <td>07/02/2023</td>\n",
       "      <td>Match</td>\n",
       "      <td>02:00</td>\n",
       "      <td>02:00</td>\n",
       "      <td>Match</td>\n",
       "      <td>...</td>\n",
       "      <td>Mismatch</td>\n",
       "      <td>Match</td>\n",
       "      <td>Decreased axle strength, Formation of microcra...</td>\n",
       "      <td>Breakage of the first axle of the first bogie ...</td>\n",
       "      <td>Mismatch</td>\n",
       "      <td>Match</td>\n",
       "      <td>Lack of wheelset traceability obligation</td>\n",
       "      <td>1) Inappropriate machining of the radius of tr...</td>\n",
       "      <td>Mismatch</td>\n",
       "      <td>Mismatch</td>\n",
       "    </tr>\n",
       "    <tr>\n",
       "      <th>4</th>\n",
       "      <td>4</td>\n",
       "      <td>PL-10387</td>\n",
       "      <td>gpt-4o-mini</td>\n",
       "      <td>1</td>\n",
       "      <td>20/02/2023</td>\n",
       "      <td>20/02/2023</td>\n",
       "      <td>Match</td>\n",
       "      <td>18:11</td>\n",
       "      <td>18:10</td>\n",
       "      <td>Mismatch</td>\n",
       "      <td>...</td>\n",
       "      <td>Mismatch</td>\n",
       "      <td>Match</td>\n",
       "      <td>Failure to implement previous recommendations,...</td>\n",
       "      <td>Inability of a road tractor with a semi-traile...</td>\n",
       "      <td>Mismatch</td>\n",
       "      <td>Match</td>\n",
       "      <td>Absence of rules on pedestrian positioning, Ob...</td>\n",
       "      <td>1. Inappropriate organisation of pedestrian tr...</td>\n",
       "      <td>Mismatch</td>\n",
       "      <td>Match</td>\n",
       "    </tr>\n",
       "  </tbody>\n",
       "</table>\n",
       "<p>5 rows × 29 columns</p>\n",
       "</div>"
      ],
      "text/plain": [
       "   Unnamed: 0 ERAIL Occurrence   model_type  iteration_number    LLM_Date  \\\n",
       "0           0         PL-10186  gpt-4o-mini                 1  14/01/2022   \n",
       "1           1         PL-10193  gpt-4o-mini                 1  03/02/2022   \n",
       "2           2         PL-10366  gpt-4o-mini                 1  19/01/2023   \n",
       "3           3         PL-10379  gpt-4o-mini                 1  07/02/2023   \n",
       "4           4         PL-10387  gpt-4o-mini                 1  20/02/2023   \n",
       "\n",
       "  Date of occurrence Date_Match LLM_Time Time of occurrence Time_Match  ...  \\\n",
       "0         14/01/2022      Match    10:48              10:50   Mismatch  ...   \n",
       "1         03/02/2022      Match    06:14              06:15   Mismatch  ...   \n",
       "2         19/01/2023      Match    18:37              18:35   Mismatch  ...   \n",
       "3         07/02/2023      Match    02:00              02:00      Match  ...   \n",
       "4         20/02/2023      Match    18:11              18:10   Mismatch  ...   \n",
       "\n",
       "  RegulatoryBody_Match Manual_RegulatoryBody_Match  \\\n",
       "0             Mismatch                       Match   \n",
       "1             Mismatch                       Match   \n",
       "2             Mismatch                       Match   \n",
       "3             Mismatch                       Match   \n",
       "4             Mismatch                       Match   \n",
       "\n",
       "                              LLM_ContributingFactor  \\\n",
       "0  Driver's failure to obey traffic signals, Expl...   \n",
       "1  Bus entering during prohibited signal, Infrast...   \n",
       "2  Limited visibility due to environmental factor...   \n",
       "3  Decreased axle strength, Formation of microcra...   \n",
       "4  Failure to implement previous recommendations,...   \n",
       "\n",
       "  Direct cause description (including causal and contributing factors, excluding those of systemic nature)  \\\n",
       "0  1) Failure by the driver of a road vehicle to ...                                                         \n",
       "1  Bus entering the crossing during emission of s...                                                         \n",
       "2  Dispatching train LTE 785009 (locomotive alone...                                                         \n",
       "3  Breakage of the first axle of the first bogie ...                                                         \n",
       "4  Inability of a road tractor with a semi-traile...                                                         \n",
       "\n",
       "  ContributingFactors_Match Manual_ContributingFactor_Match  \\\n",
       "0                  Mismatch                           Match   \n",
       "1                  Mismatch                           Match   \n",
       "2                  Mismatch                           Match   \n",
       "3                  Mismatch                           Match   \n",
       "4                  Mismatch                           Match   \n",
       "\n",
       "                                  LLM_SystemicFactor  \\\n",
       "0                Risk assessment team recommendation   \n",
       "1                         Local traffic organization   \n",
       "2                                                NaN   \n",
       "3           Lack of wheelset traceability obligation   \n",
       "4  Absence of rules on pedestrian positioning, Ob...   \n",
       "\n",
       "  Underlying and root causes description (i.e. systemic factors, if any)  \\\n",
       "0  1) Driver's failure to behave with special cau...                       \n",
       "1  1) The inability of trucks and buses to exit t...                       \n",
       "2  1) Telephone confirmation of the arrival of tr...                       \n",
       "3  1) Inappropriate machining of the radius of tr...                       \n",
       "4  1. Inappropriate organisation of pedestrian tr...                       \n",
       "\n",
       "  SystemicFactors_Match Manual_SystemicFactors_Match  \n",
       "0              Mismatch                     Mismatch  \n",
       "1              Mismatch                     Mismatch  \n",
       "2              Mismatch                     Mismatch  \n",
       "3              Mismatch                     Mismatch  \n",
       "4              Mismatch                        Match  \n",
       "\n",
       "[5 rows x 29 columns]"
      ]
     },
     "execution_count": 2,
     "metadata": {},
     "output_type": "execute_result"
    }
   ],
   "source": [
    "# Selecting the csv\n",
    "csv_results = 'poland_extract.csv'\n",
    "\n",
    "# Converting to DataFrame\n",
    "df_results = pd.read_csv(f'thesis_modularized/data/{csv_results}')\n",
    "df_results.head(5)"
   ]
  },
  {
   "cell_type": "code",
   "execution_count": 3,
   "id": "d49d340c",
   "metadata": {},
   "outputs": [
    {
     "data": {
      "application/vnd.microsoft.datawrangler.viewer.v0+json": {
       "columns": [
        {
         "name": "index",
         "rawType": "int64",
         "type": "integer"
        },
        {
         "name": "ERAIL Occurrence",
         "rawType": "object",
         "type": "string"
        },
        {
         "name": "model_type",
         "rawType": "object",
         "type": "string"
        },
        {
         "name": "iteration_number",
         "rawType": "int64",
         "type": "integer"
        },
        {
         "name": "LLM_Date",
         "rawType": "object",
         "type": "string"
        },
        {
         "name": "Date of occurrence",
         "rawType": "object",
         "type": "string"
        },
        {
         "name": "Date_Match",
         "rawType": "object",
         "type": "string"
        },
        {
         "name": "LLM_Time",
         "rawType": "object",
         "type": "string"
        },
        {
         "name": "Time of occurrence",
         "rawType": "object",
         "type": "string"
        },
        {
         "name": "Time_Match",
         "rawType": "object",
         "type": "string"
        },
        {
         "name": "LLM_Country",
         "rawType": "object",
         "type": "string"
        },
        {
         "name": "Country",
         "rawType": "object",
         "type": "string"
        },
        {
         "name": "Country_Match",
         "rawType": "object",
         "type": "string"
        },
        {
         "name": "LLM_AccidentType",
         "rawType": "object",
         "type": "string"
        },
        {
         "name": "Occurrence type",
         "rawType": "object",
         "type": "string"
        },
        {
         "name": "AccidentType_Match",
         "rawType": "object",
         "type": "string"
        },
        {
         "name": "Manual_AccidentType_Match",
         "rawType": "object",
         "type": "string"
        },
        {
         "name": "LLM_RegulatoryBody",
         "rawType": "object",
         "type": "string"
        },
        {
         "name": "Reporting Body",
         "rawType": "object",
         "type": "string"
        },
        {
         "name": "RegulatoryBody_Match",
         "rawType": "object",
         "type": "string"
        },
        {
         "name": "Manual_RegulatoryBody_Match",
         "rawType": "object",
         "type": "string"
        },
        {
         "name": "LLM_ContributingFactor",
         "rawType": "object",
         "type": "string"
        },
        {
         "name": "Direct cause description (including causal and contributing factors, excluding those of systemic nature)",
         "rawType": "object",
         "type": "string"
        },
        {
         "name": "ContributingFactors_Match",
         "rawType": "object",
         "type": "string"
        },
        {
         "name": "Manual_ContributingFactor_Match",
         "rawType": "object",
         "type": "string"
        },
        {
         "name": "LLM_SystemicFactor",
         "rawType": "object",
         "type": "unknown"
        },
        {
         "name": "Underlying and root causes description (i.e. systemic factors, if any)",
         "rawType": "object",
         "type": "string"
        },
        {
         "name": "SystemicFactors_Match",
         "rawType": "object",
         "type": "string"
        },
        {
         "name": "Manual_SystemicFactors_Match",
         "rawType": "object",
         "type": "string"
        }
       ],
       "ref": "4eb54304-e87a-4705-aa4b-c28cbbdbf0ea",
       "rows": [
        [
         "0",
         "PL-10186",
         "gpt-4o-mini",
         "1",
         "14/01/2022",
         "14/01/2022",
         "Match",
         "10:48",
         "10:50",
         "Mismatch",
         "Poland",
         "Poland",
         "Match",
         "Level Crossing Accident",
         "Level crossing accident",
         "Mismatch",
         "Match",
         "STATE COMMISSION ON RAILWAY ACCIDENTS INVESTIGATION",
         "NIB PL",
         "Mismatch",
         "Match",
         "Driver's failure to obey traffic signals, Explosion of flammable goods, Restriction of field of view",
         "1) Failure by the driver of a road vehicle to obey the light signals given on traffic signals (alternating flashing red lights) and the audible signals emitted by acoustic devices involving passing the traffic signal despite the prohibition.\n2) Continuing to pass the level crossing and entering the level crossing by the road vehicle, directly in front of the oncoming RAJ 33506 train.\n",
         "Mismatch",
         "Match",
         "Risk assessment team recommendation",
         "1) Driver's failure to behave with special caution when approaching a level crossing, as provided for in Article 28(1) of the Act of June 20, 1997, Act on Road Traffic (i.e., Journal of Laws of 2021, item 450, as amended).\n2) Restriction of the field of view of the level crossing for the driver of passenger train RAJ 33506, due to a train set running from the siding of PKN ORLEN S.A. standing on track No. 101 in front of the crossing. - Widełka Fuel Terminal. This train also restricted the field of vision for the driver of the road vehicle.\n3) Explosion in the driver's cab of vapors emanating \nfrom damaged packages of flammable goods carried by the delivery truck, causing the door leading to the driver's cab to be torn off and severely injuring a train passenger.\n",
         "Mismatch",
         "Mismatch"
        ],
        [
         "1",
         "PL-10193",
         "gpt-4o-mini",
         "1",
         "03/02/2022",
         "03/02/2022",
         "Match",
         "06:14",
         "06:15",
         "Mismatch",
         "Poland",
         "Poland",
         "Match",
         "Level crossing accident",
         "Level crossing accident",
         "Match",
         "Match",
         "STATE COMMISSION ON RAILWAY ACCIDENTS INVESTIGATION",
         "NIB PL",
         "Mismatch",
         "Match",
         "Bus entering during prohibited signal, Infrastructure condition",
         "Bus entering the crossing during emission of signals by traffic signals prohibiting passing that signal.",
         "Mismatch",
         "Match",
         "Local traffic organization",
         "1) The inability of trucks and buses to exit the crossing with the half barriers closed without damaging infrastructure elements and traffic safety devices at the crossing, resulting from the following facilities, i.e.;\n- Concrete fencing and a built-in S-4 traffic signal in the road gauge at the exit section of the crossing,\n- A growing tree at a distance of 11 meters from the rail head and in front of the crossing,\n- Road in a curve, sharp turn of the road to the left immediately after the crossing.\n2) Failure of the bus driver to make a determined attempt to exit \nwith breaking the half barriers.\n",
         "Mismatch",
         "Mismatch"
        ],
        [
         "2",
         "PL-10366",
         "gpt-4o-mini",
         "1",
         "19/01/2023",
         "19/01/2023",
         "Match",
         "18:37",
         "18:35",
         "Mismatch",
         "Poland",
         "Poland",
         "Match",
         "Train Collision",
         "Trains collision",
         "Mismatch",
         "Match",
         "State Commission on Railway Accident Investigation",
         "NIB PL",
         "Mismatch",
         "Match",
         "Limited visibility due to environmental factors, Telephone confirmation without verification",
         "Dispatching train LTE 785009 (locomotive alone) from the Szczecin Podjuchy station to the Szczecin Port Centralny SPA station on a single-track route occupied by train TME 684013, which in consequence led to train LTE 785009 running into the rear of train TME 684013.",
         "Mismatch",
         "Match",
         null,
         "1) Telephone confirmation of the arrival of train TME 684013 by the signaller at the Szczecin Port Centralny SPA train signalling point to the signaller at the Szczecin Podjuchy train signalling point, without verifying whether the train concerned entered the Szczecin Port Centralny station.\n2) Telephone clearance by the signaller at the Szczecin Port Centralny SPA train signalling point for the signaller at the Szczecin Podjuchy train signalling point to dispatch train LTE 785009 from the Szczecin Podjuchy station when the route was occupied by train TME 684013.\n3) Non-compliance with the content of telephone signalling messages in accordance with the templates provided in Supplement 2 to \"Instruction on operating rail traffic Ir-1\" when managing traffic on the basis of train signalling by telephone.\n4) Failure by the signaller at the SPA point to establish contact despite being called twice by the driver of train TME 684013 after the change of the train communication channel and after that train stopped before the entrance semaphore B to SPA indicating the \"Stop\" signal.\n5) Conversations unrelated to the operation of rail traffic with persons in the SPA traffic operation post building, leading to decreased concentration on the part of the signaller at the Szczecin Port Centralny SPA train signalling point.\n6) Limited ability of the driver of train LTE 785009 to notice the Pc 5 train end signal (day) of a stationary train TME 684013 due to hours of darkness, position of the track curve and illumination of the construction site and lights of vehicles working at the construction site adjacent to the plain track.\n",
         "Mismatch",
         "Mismatch"
        ],
        [
         "3",
         "PL-10379",
         "gpt-4o-mini",
         "1",
         "07/02/2023",
         "07/02/2023",
         "Match",
         "02:00",
         "02:00",
         "Match",
         "Poland",
         "Poland",
         "Match",
         "Derailment",
         "Train derailment",
         "Mismatch",
         "Match",
         "STATE COMMISSION ON RAILWAY ACCIDENT INVESTIGATION",
         "NIB PL",
         "Mismatch",
         "Match",
         "Decreased axle strength, Formation of microcracks, Inappropriate machining, Introduction to service without documentation",
         "Breakage of the first axle of the first bogie of Eamnos wagon no. 33 51 5839 055-9.",
         "Mismatch",
         "Match",
         "Lack of wheelset traceability obligation",
         "1) Inappropriate machining of the radius of transition of the wheel seat into the centre section of the axle, leading to the occurrence of a large gradient of tensional and compressive stress.\n2) Formation of microcracks in the place subjected to machining.\n3) Decreased strength along the axle cross section up to the critical moment at the place of the fatigue crack.\n4) Introduction to service of a wheelset as a reusable set from the second-hand market without documented history of prior use.",
         "Mismatch",
         "Mismatch"
        ],
        [
         "4",
         "PL-10387",
         "gpt-4o-mini",
         "1",
         "20/02/2023",
         "20/02/2023",
         "Match",
         "18:11",
         "18:10",
         "Mismatch",
         "Poland",
         "Poland",
         "Match",
         "Accident",
         "Level crossing accident",
         "Mismatch",
         "Mismatch",
         "State Commission on Railway Accident Investigation",
         "NIB PL",
         "Mismatch",
         "Match",
         "Failure to implement previous recommendations, Inability of road tractor to exit, Inappropriate organisation of pedestrian traffic, Installation of lockable half-barriers, Location of pedestrian crossing",
         "Inability of a road tractor with a semi-trailer to exit a Cat. B level crossing due to a passenger car stopping in front of a pedestrian crossing, followed by the road tractor with a semi-trailer being enclosed by an exit barrier, as a result of which a train ran into the road tractor.",
         "Mismatch",
         "Match",
         "Absence of rules on pedestrian positioning, Obligation to give way to pedestrians",
         "1. Inappropriate organisation of pedestrian traffic in the area of a level crossing.\n2. The location of the pedestrian crossing at 2.5 m behind the exit barrier, hindering smooth passage and exit of road vehicles through and from the level crossing.\n3. A passenger car stopping at the level crossing in front of the pedestrian crossing to give way to pedestrians, which prevented a road tractor with a semi-trailer following the passenger car from continuing to go.\n4. Installation of lockable half-barriers on the exit lane from the level crossing, which prevented raising them manually.\n5. Failure to implement recommendation no. 2) in Point 4.2 of the PKBWK's Annual Report 2018 concerning disassembly of exit barriers.\n",
         "Mismatch",
         "Match"
        ]
       ],
       "shape": {
        "columns": 28,
        "rows": 5
       }
      },
      "text/html": [
       "<div>\n",
       "<style scoped>\n",
       "    .dataframe tbody tr th:only-of-type {\n",
       "        vertical-align: middle;\n",
       "    }\n",
       "\n",
       "    .dataframe tbody tr th {\n",
       "        vertical-align: top;\n",
       "    }\n",
       "\n",
       "    .dataframe thead th {\n",
       "        text-align: right;\n",
       "    }\n",
       "</style>\n",
       "<table border=\"1\" class=\"dataframe\">\n",
       "  <thead>\n",
       "    <tr style=\"text-align: right;\">\n",
       "      <th></th>\n",
       "      <th>ERAIL Occurrence</th>\n",
       "      <th>model_type</th>\n",
       "      <th>iteration_number</th>\n",
       "      <th>LLM_Date</th>\n",
       "      <th>Date of occurrence</th>\n",
       "      <th>Date_Match</th>\n",
       "      <th>LLM_Time</th>\n",
       "      <th>Time of occurrence</th>\n",
       "      <th>Time_Match</th>\n",
       "      <th>LLM_Country</th>\n",
       "      <th>...</th>\n",
       "      <th>RegulatoryBody_Match</th>\n",
       "      <th>Manual_RegulatoryBody_Match</th>\n",
       "      <th>LLM_ContributingFactor</th>\n",
       "      <th>Direct cause description (including causal and contributing factors, excluding those of systemic nature)</th>\n",
       "      <th>ContributingFactors_Match</th>\n",
       "      <th>Manual_ContributingFactor_Match</th>\n",
       "      <th>LLM_SystemicFactor</th>\n",
       "      <th>Underlying and root causes description (i.e. systemic factors, if any)</th>\n",
       "      <th>SystemicFactors_Match</th>\n",
       "      <th>Manual_SystemicFactors_Match</th>\n",
       "    </tr>\n",
       "  </thead>\n",
       "  <tbody>\n",
       "    <tr>\n",
       "      <th>0</th>\n",
       "      <td>PL-10186</td>\n",
       "      <td>gpt-4o-mini</td>\n",
       "      <td>1</td>\n",
       "      <td>14/01/2022</td>\n",
       "      <td>14/01/2022</td>\n",
       "      <td>Match</td>\n",
       "      <td>10:48</td>\n",
       "      <td>10:50</td>\n",
       "      <td>Mismatch</td>\n",
       "      <td>Poland</td>\n",
       "      <td>...</td>\n",
       "      <td>Mismatch</td>\n",
       "      <td>Match</td>\n",
       "      <td>Driver's failure to obey traffic signals, Expl...</td>\n",
       "      <td>1) Failure by the driver of a road vehicle to ...</td>\n",
       "      <td>Mismatch</td>\n",
       "      <td>Match</td>\n",
       "      <td>Risk assessment team recommendation</td>\n",
       "      <td>1) Driver's failure to behave with special cau...</td>\n",
       "      <td>Mismatch</td>\n",
       "      <td>Mismatch</td>\n",
       "    </tr>\n",
       "    <tr>\n",
       "      <th>1</th>\n",
       "      <td>PL-10193</td>\n",
       "      <td>gpt-4o-mini</td>\n",
       "      <td>1</td>\n",
       "      <td>03/02/2022</td>\n",
       "      <td>03/02/2022</td>\n",
       "      <td>Match</td>\n",
       "      <td>06:14</td>\n",
       "      <td>06:15</td>\n",
       "      <td>Mismatch</td>\n",
       "      <td>Poland</td>\n",
       "      <td>...</td>\n",
       "      <td>Mismatch</td>\n",
       "      <td>Match</td>\n",
       "      <td>Bus entering during prohibited signal, Infrast...</td>\n",
       "      <td>Bus entering the crossing during emission of s...</td>\n",
       "      <td>Mismatch</td>\n",
       "      <td>Match</td>\n",
       "      <td>Local traffic organization</td>\n",
       "      <td>1) The inability of trucks and buses to exit t...</td>\n",
       "      <td>Mismatch</td>\n",
       "      <td>Mismatch</td>\n",
       "    </tr>\n",
       "    <tr>\n",
       "      <th>2</th>\n",
       "      <td>PL-10366</td>\n",
       "      <td>gpt-4o-mini</td>\n",
       "      <td>1</td>\n",
       "      <td>19/01/2023</td>\n",
       "      <td>19/01/2023</td>\n",
       "      <td>Match</td>\n",
       "      <td>18:37</td>\n",
       "      <td>18:35</td>\n",
       "      <td>Mismatch</td>\n",
       "      <td>Poland</td>\n",
       "      <td>...</td>\n",
       "      <td>Mismatch</td>\n",
       "      <td>Match</td>\n",
       "      <td>Limited visibility due to environmental factor...</td>\n",
       "      <td>Dispatching train LTE 785009 (locomotive alone...</td>\n",
       "      <td>Mismatch</td>\n",
       "      <td>Match</td>\n",
       "      <td>NaN</td>\n",
       "      <td>1) Telephone confirmation of the arrival of tr...</td>\n",
       "      <td>Mismatch</td>\n",
       "      <td>Mismatch</td>\n",
       "    </tr>\n",
       "    <tr>\n",
       "      <th>3</th>\n",
       "      <td>PL-10379</td>\n",
       "      <td>gpt-4o-mini</td>\n",
       "      <td>1</td>\n",
       "      <td>07/02/2023</td>\n",
       "      <td>07/02/2023</td>\n",
       "      <td>Match</td>\n",
       "      <td>02:00</td>\n",
       "      <td>02:00</td>\n",
       "      <td>Match</td>\n",
       "      <td>Poland</td>\n",
       "      <td>...</td>\n",
       "      <td>Mismatch</td>\n",
       "      <td>Match</td>\n",
       "      <td>Decreased axle strength, Formation of microcra...</td>\n",
       "      <td>Breakage of the first axle of the first bogie ...</td>\n",
       "      <td>Mismatch</td>\n",
       "      <td>Match</td>\n",
       "      <td>Lack of wheelset traceability obligation</td>\n",
       "      <td>1) Inappropriate machining of the radius of tr...</td>\n",
       "      <td>Mismatch</td>\n",
       "      <td>Mismatch</td>\n",
       "    </tr>\n",
       "    <tr>\n",
       "      <th>4</th>\n",
       "      <td>PL-10387</td>\n",
       "      <td>gpt-4o-mini</td>\n",
       "      <td>1</td>\n",
       "      <td>20/02/2023</td>\n",
       "      <td>20/02/2023</td>\n",
       "      <td>Match</td>\n",
       "      <td>18:11</td>\n",
       "      <td>18:10</td>\n",
       "      <td>Mismatch</td>\n",
       "      <td>Poland</td>\n",
       "      <td>...</td>\n",
       "      <td>Mismatch</td>\n",
       "      <td>Match</td>\n",
       "      <td>Failure to implement previous recommendations,...</td>\n",
       "      <td>Inability of a road tractor with a semi-traile...</td>\n",
       "      <td>Mismatch</td>\n",
       "      <td>Match</td>\n",
       "      <td>Absence of rules on pedestrian positioning, Ob...</td>\n",
       "      <td>1. Inappropriate organisation of pedestrian tr...</td>\n",
       "      <td>Mismatch</td>\n",
       "      <td>Match</td>\n",
       "    </tr>\n",
       "  </tbody>\n",
       "</table>\n",
       "<p>5 rows × 28 columns</p>\n",
       "</div>"
      ],
      "text/plain": [
       "  ERAIL Occurrence   model_type  iteration_number    LLM_Date  \\\n",
       "0         PL-10186  gpt-4o-mini                 1  14/01/2022   \n",
       "1         PL-10193  gpt-4o-mini                 1  03/02/2022   \n",
       "2         PL-10366  gpt-4o-mini                 1  19/01/2023   \n",
       "3         PL-10379  gpt-4o-mini                 1  07/02/2023   \n",
       "4         PL-10387  gpt-4o-mini                 1  20/02/2023   \n",
       "\n",
       "  Date of occurrence Date_Match LLM_Time Time of occurrence Time_Match  \\\n",
       "0         14/01/2022      Match    10:48              10:50   Mismatch   \n",
       "1         03/02/2022      Match    06:14              06:15   Mismatch   \n",
       "2         19/01/2023      Match    18:37              18:35   Mismatch   \n",
       "3         07/02/2023      Match    02:00              02:00      Match   \n",
       "4         20/02/2023      Match    18:11              18:10   Mismatch   \n",
       "\n",
       "  LLM_Country  ... RegulatoryBody_Match Manual_RegulatoryBody_Match  \\\n",
       "0      Poland  ...             Mismatch                       Match   \n",
       "1      Poland  ...             Mismatch                       Match   \n",
       "2      Poland  ...             Mismatch                       Match   \n",
       "3      Poland  ...             Mismatch                       Match   \n",
       "4      Poland  ...             Mismatch                       Match   \n",
       "\n",
       "                              LLM_ContributingFactor  \\\n",
       "0  Driver's failure to obey traffic signals, Expl...   \n",
       "1  Bus entering during prohibited signal, Infrast...   \n",
       "2  Limited visibility due to environmental factor...   \n",
       "3  Decreased axle strength, Formation of microcra...   \n",
       "4  Failure to implement previous recommendations,...   \n",
       "\n",
       "  Direct cause description (including causal and contributing factors, excluding those of systemic nature)  \\\n",
       "0  1) Failure by the driver of a road vehicle to ...                                                         \n",
       "1  Bus entering the crossing during emission of s...                                                         \n",
       "2  Dispatching train LTE 785009 (locomotive alone...                                                         \n",
       "3  Breakage of the first axle of the first bogie ...                                                         \n",
       "4  Inability of a road tractor with a semi-traile...                                                         \n",
       "\n",
       "  ContributingFactors_Match Manual_ContributingFactor_Match  \\\n",
       "0                  Mismatch                           Match   \n",
       "1                  Mismatch                           Match   \n",
       "2                  Mismatch                           Match   \n",
       "3                  Mismatch                           Match   \n",
       "4                  Mismatch                           Match   \n",
       "\n",
       "                                  LLM_SystemicFactor  \\\n",
       "0                Risk assessment team recommendation   \n",
       "1                         Local traffic organization   \n",
       "2                                                NaN   \n",
       "3           Lack of wheelset traceability obligation   \n",
       "4  Absence of rules on pedestrian positioning, Ob...   \n",
       "\n",
       "  Underlying and root causes description (i.e. systemic factors, if any)  \\\n",
       "0  1) Driver's failure to behave with special cau...                       \n",
       "1  1) The inability of trucks and buses to exit t...                       \n",
       "2  1) Telephone confirmation of the arrival of tr...                       \n",
       "3  1) Inappropriate machining of the radius of tr...                       \n",
       "4  1. Inappropriate organisation of pedestrian tr...                       \n",
       "\n",
       "  SystemicFactors_Match Manual_SystemicFactors_Match  \n",
       "0              Mismatch                     Mismatch  \n",
       "1              Mismatch                     Mismatch  \n",
       "2              Mismatch                     Mismatch  \n",
       "3              Mismatch                     Mismatch  \n",
       "4              Mismatch                        Match  \n",
       "\n",
       "[5 rows x 28 columns]"
      ]
     },
     "execution_count": 3,
     "metadata": {},
     "output_type": "execute_result"
    }
   ],
   "source": [
    "# Removing the index row\n",
    "df_results.drop('Unnamed: 0', axis=1, inplace=True)\n",
    "df_results.head(5)"
   ]
  },
  {
   "cell_type": "code",
   "execution_count": null,
   "id": "4886c22f",
   "metadata": {},
   "outputs": [
    {
     "data": {
      "application/vnd.microsoft.datawrangler.viewer.v0+json": {
       "columns": [
        {
         "name": "index",
         "rawType": "int64",
         "type": "integer"
        },
        {
         "name": "ERAIL Occurrence",
         "rawType": "object",
         "type": "string"
        },
        {
         "name": "model_type",
         "rawType": "object",
         "type": "string"
        },
        {
         "name": "iteration_number",
         "rawType": "int64",
         "type": "integer"
        },
        {
         "name": "LLM_Date",
         "rawType": "object",
         "type": "string"
        },
        {
         "name": "Date of occurrence",
         "rawType": "object",
         "type": "string"
        },
        {
         "name": "Date_Match",
         "rawType": "object",
         "type": "string"
        },
        {
         "name": "LLM_Time",
         "rawType": "object",
         "type": "string"
        },
        {
         "name": "Time of occurrence",
         "rawType": "object",
         "type": "string"
        },
        {
         "name": "Time_Match",
         "rawType": "object",
         "type": "string"
        },
        {
         "name": "LLM_Country",
         "rawType": "object",
         "type": "string"
        },
        {
         "name": "Country",
         "rawType": "object",
         "type": "string"
        },
        {
         "name": "Country_Match",
         "rawType": "object",
         "type": "string"
        },
        {
         "name": "LLM_AccidentType",
         "rawType": "object",
         "type": "string"
        },
        {
         "name": "Occurrence type",
         "rawType": "object",
         "type": "string"
        },
        {
         "name": "AccidentType_Match",
         "rawType": "object",
         "type": "string"
        },
        {
         "name": "Manual_AccidentType_Match",
         "rawType": "object",
         "type": "string"
        },
        {
         "name": "LLM_RegulatoryBody",
         "rawType": "object",
         "type": "string"
        },
        {
         "name": "Reporting Body",
         "rawType": "object",
         "type": "string"
        },
        {
         "name": "RegulatoryBody_Match",
         "rawType": "object",
         "type": "string"
        },
        {
         "name": "Manual_RegulatoryBody_Match",
         "rawType": "object",
         "type": "string"
        },
        {
         "name": "LLM_ContributingFactor",
         "rawType": "object",
         "type": "string"
        },
        {
         "name": "Direct cause description (including causal and contributing factors, excluding those of systemic nature)",
         "rawType": "object",
         "type": "string"
        },
        {
         "name": "ContributingFactors_Match",
         "rawType": "object",
         "type": "string"
        },
        {
         "name": "Manual_ContributingFactor_Match",
         "rawType": "object",
         "type": "string"
        },
        {
         "name": "LLM_SystemicFactor",
         "rawType": "object",
         "type": "unknown"
        },
        {
         "name": "Underlying and root causes description (i.e. systemic factors, if any)",
         "rawType": "object",
         "type": "string"
        },
        {
         "name": "SystemicFactors_Match",
         "rawType": "object",
         "type": "string"
        },
        {
         "name": "Manual_SystemicFactors_Match",
         "rawType": "object",
         "type": "string"
        }
       ],
       "ref": "bd0b008c-7e8f-425c-ac4b-6b6a9592b610",
       "rows": [
        [
         "8",
         "PL-10186",
         "gemini-2.5-flash-preview-04-17",
         "1",
         "14/01/2022",
         "14/01/2022",
         "Match",
         "10:48",
         "10:50",
         "Mismatch",
         "Poland",
         "Poland",
         "Match",
         "Level Crossing Collision",
         "Level crossing accident",
         "Mismatch",
         "Match",
         "STATE COMMISSION ON RAILWAY ACCIDENTS INVESTIGATION",
         "NIB PL",
         "Mismatch",
         "Match",
         "Driver's failure to behave with special caution when approaching a level crossing, Explosion in the driver's cab of vapors emanating from damaged packages of flammable goods, Restriction of the field of view of the level crossing for the driver of passenger train RAJ 33506",
         "1) Failure by the driver of a road vehicle to obey the light signals given on traffic signals (alternating flashing red lights) and the audible signals emitted by acoustic devices involving passing the traffic signal despite the prohibition.\n2) Continuing to pass the level crossing and entering the level crossing by the road vehicle, directly in front of the oncoming RAJ 33506 train.\n",
         "Mismatch",
         "Match",
         null,
         "1) Driver's failure to behave with special caution when approaching a level crossing, as provided for in Article 28(1) of the Act of June 20, 1997, Act on Road Traffic (i.e., Journal of Laws of 2021, item 450, as amended).\n2) Restriction of the field of view of the level crossing for the driver of passenger train RAJ 33506, due to a train set running from the siding of PKN ORLEN S.A. standing on track No. 101 in front of the crossing. - Widełka Fuel Terminal. This train also restricted the field of vision for the driver of the road vehicle.\n3) Explosion in the driver's cab of vapors emanating \nfrom damaged packages of flammable goods carried by the delivery truck, causing the door leading to the driver's cab to be torn off and severely injuring a train passenger.\n",
         "LLM_Data_Missing",
         "Mismatch"
        ],
        [
         "24",
         "PL-10186",
         "gemini-2.5-flash-preview-04-17",
         "2",
         "14/01/2022",
         "14/01/2022",
         "Match",
         "10:48",
         "10:50",
         "Mismatch",
         "Poland",
         "Poland",
         "Match",
         "Level Crossing Accident",
         "Level crossing accident",
         "Mismatch",
         "Match",
         "STATE COMMISSION ON RAILWAY ACCIDENTS INVESTIGATION",
         "NIB PL",
         "Mismatch",
         "Match",
         "Explosion of flammable goods vapors, Restricted field of view due to standing train, Road vehicle driver failed to exercise special caution",
         "1) Failure by the driver of a road vehicle to obey the light signals given on traffic signals (alternating flashing red lights) and the audible signals emitted by acoustic devices involving passing the traffic signal despite the prohibition.\n2) Continuing to pass the level crossing and entering the level crossing by the road vehicle, directly in front of the oncoming RAJ 33506 train.\n",
         "Mismatch",
         "Match",
         null,
         "1) Driver's failure to behave with special caution when approaching a level crossing, as provided for in Article 28(1) of the Act of June 20, 1997, Act on Road Traffic (i.e., Journal of Laws of 2021, item 450, as amended).\n2) Restriction of the field of view of the level crossing for the driver of passenger train RAJ 33506, due to a train set running from the siding of PKN ORLEN S.A. standing on track No. 101 in front of the crossing. - Widełka Fuel Terminal. This train also restricted the field of vision for the driver of the road vehicle.\n3) Explosion in the driver's cab of vapors emanating \nfrom damaged packages of flammable goods carried by the delivery truck, causing the door leading to the driver's cab to be torn off and severely injuring a train passenger.\n",
         "LLM_Data_Missing",
         "Mismatch"
        ],
        [
         "0",
         "PL-10186",
         "gpt-4o-mini",
         "1",
         "14/01/2022",
         "14/01/2022",
         "Match",
         "10:48",
         "10:50",
         "Mismatch",
         "Poland",
         "Poland",
         "Match",
         "Level Crossing Accident",
         "Level crossing accident",
         "Mismatch",
         "Match",
         "STATE COMMISSION ON RAILWAY ACCIDENTS INVESTIGATION",
         "NIB PL",
         "Mismatch",
         "Match",
         "Driver's failure to obey traffic signals, Explosion of flammable goods, Restriction of field of view",
         "1) Failure by the driver of a road vehicle to obey the light signals given on traffic signals (alternating flashing red lights) and the audible signals emitted by acoustic devices involving passing the traffic signal despite the prohibition.\n2) Continuing to pass the level crossing and entering the level crossing by the road vehicle, directly in front of the oncoming RAJ 33506 train.\n",
         "Mismatch",
         "Match",
         "Risk assessment team recommendation",
         "1) Driver's failure to behave with special caution when approaching a level crossing, as provided for in Article 28(1) of the Act of June 20, 1997, Act on Road Traffic (i.e., Journal of Laws of 2021, item 450, as amended).\n2) Restriction of the field of view of the level crossing for the driver of passenger train RAJ 33506, due to a train set running from the siding of PKN ORLEN S.A. standing on track No. 101 in front of the crossing. - Widełka Fuel Terminal. This train also restricted the field of vision for the driver of the road vehicle.\n3) Explosion in the driver's cab of vapors emanating \nfrom damaged packages of flammable goods carried by the delivery truck, causing the door leading to the driver's cab to be torn off and severely injuring a train passenger.\n",
         "Mismatch",
         "Mismatch"
        ],
        [
         "16",
         "PL-10186",
         "gpt-4o-mini",
         "2",
         "14/01/2022",
         "14/01/2022",
         "Match",
         "10:48",
         "10:50",
         "Mismatch",
         "Poland",
         "Poland",
         "Match",
         "Level Crossing Accident",
         "Level crossing accident",
         "Mismatch",
         "Match",
         "State Commission on Railway Accidents Investigation",
         "NIB PL",
         "Mismatch",
         "Match",
         "Driver caution, Explosion from flammable goods, Failure to obey signals, Restricted field of view",
         "1) Failure by the driver of a road vehicle to obey the light signals given on traffic signals (alternating flashing red lights) and the audible signals emitted by acoustic devices involving passing the traffic signal despite the prohibition.\n2) Continuing to pass the level crossing and entering the level crossing by the road vehicle, directly in front of the oncoming RAJ 33506 train.\n",
         "Mismatch",
         "Match",
         "Systemic factors not stated",
         "1) Driver's failure to behave with special caution when approaching a level crossing, as provided for in Article 28(1) of the Act of June 20, 1997, Act on Road Traffic (i.e., Journal of Laws of 2021, item 450, as amended).\n2) Restriction of the field of view of the level crossing for the driver of passenger train RAJ 33506, due to a train set running from the siding of PKN ORLEN S.A. standing on track No. 101 in front of the crossing. - Widełka Fuel Terminal. This train also restricted the field of vision for the driver of the road vehicle.\n3) Explosion in the driver's cab of vapors emanating \nfrom damaged packages of flammable goods carried by the delivery truck, causing the door leading to the driver's cab to be torn off and severely injuring a train passenger.\n",
         "Mismatch",
         "Mismatch"
        ],
        [
         "9",
         "PL-10193",
         "gemini-2.5-flash-preview-04-17",
         "1",
         "03/02/2022",
         "03/02/2022",
         "Match",
         "06:14",
         "06:15",
         "Mismatch",
         "Poland",
         "Poland",
         "Match",
         "Level Crossing Accident",
         "Level crossing accident",
         "Mismatch",
         "Match",
         "STATE COMMISSION ON RAILWAY ACCIDENTS INVESTIGATION",
         "NIB PL",
         "Mismatch",
         "Match",
         "Failure of the bus driver to make a determined attempt to exit with breaking the half barriers, Inability of trucks and buses to exit the crossing with the half barriers closed without damaging infrastructure elements",
         "Bus entering the crossing during emission of signals by traffic signals prohibiting passing that signal.",
         "Mismatch",
         "Match",
         null,
         "1) The inability of trucks and buses to exit the crossing with the half barriers closed without damaging infrastructure elements and traffic safety devices at the crossing, resulting from the following facilities, i.e.;\n- Concrete fencing and a built-in S-4 traffic signal in the road gauge at the exit section of the crossing,\n- A growing tree at a distance of 11 meters from the rail head and in front of the crossing,\n- Road in a curve, sharp turn of the road to the left immediately after the crossing.\n2) Failure of the bus driver to make a determined attempt to exit \nwith breaking the half barriers.\n",
         "LLM_Data_Missing",
         "Mismatch"
        ]
       ],
       "shape": {
        "columns": 28,
        "rows": 5
       }
      },
      "text/html": [
       "<div>\n",
       "<style scoped>\n",
       "    .dataframe tbody tr th:only-of-type {\n",
       "        vertical-align: middle;\n",
       "    }\n",
       "\n",
       "    .dataframe tbody tr th {\n",
       "        vertical-align: top;\n",
       "    }\n",
       "\n",
       "    .dataframe thead th {\n",
       "        text-align: right;\n",
       "    }\n",
       "</style>\n",
       "<table border=\"1\" class=\"dataframe\">\n",
       "  <thead>\n",
       "    <tr style=\"text-align: right;\">\n",
       "      <th></th>\n",
       "      <th>ERAIL Occurrence</th>\n",
       "      <th>model_type</th>\n",
       "      <th>iteration_number</th>\n",
       "      <th>LLM_Date</th>\n",
       "      <th>Date of occurrence</th>\n",
       "      <th>Date_Match</th>\n",
       "      <th>LLM_Time</th>\n",
       "      <th>Time of occurrence</th>\n",
       "      <th>Time_Match</th>\n",
       "      <th>LLM_Country</th>\n",
       "      <th>...</th>\n",
       "      <th>RegulatoryBody_Match</th>\n",
       "      <th>Manual_RegulatoryBody_Match</th>\n",
       "      <th>LLM_ContributingFactor</th>\n",
       "      <th>Direct cause description (including causal and contributing factors, excluding those of systemic nature)</th>\n",
       "      <th>ContributingFactors_Match</th>\n",
       "      <th>Manual_ContributingFactor_Match</th>\n",
       "      <th>LLM_SystemicFactor</th>\n",
       "      <th>Underlying and root causes description (i.e. systemic factors, if any)</th>\n",
       "      <th>SystemicFactors_Match</th>\n",
       "      <th>Manual_SystemicFactors_Match</th>\n",
       "    </tr>\n",
       "  </thead>\n",
       "  <tbody>\n",
       "    <tr>\n",
       "      <th>8</th>\n",
       "      <td>PL-10186</td>\n",
       "      <td>gemini-2.5-flash-preview-04-17</td>\n",
       "      <td>1</td>\n",
       "      <td>14/01/2022</td>\n",
       "      <td>14/01/2022</td>\n",
       "      <td>Match</td>\n",
       "      <td>10:48</td>\n",
       "      <td>10:50</td>\n",
       "      <td>Mismatch</td>\n",
       "      <td>Poland</td>\n",
       "      <td>...</td>\n",
       "      <td>Mismatch</td>\n",
       "      <td>Match</td>\n",
       "      <td>Driver's failure to behave with special cautio...</td>\n",
       "      <td>1) Failure by the driver of a road vehicle to ...</td>\n",
       "      <td>Mismatch</td>\n",
       "      <td>Match</td>\n",
       "      <td>NaN</td>\n",
       "      <td>1) Driver's failure to behave with special cau...</td>\n",
       "      <td>LLM_Data_Missing</td>\n",
       "      <td>Mismatch</td>\n",
       "    </tr>\n",
       "    <tr>\n",
       "      <th>24</th>\n",
       "      <td>PL-10186</td>\n",
       "      <td>gemini-2.5-flash-preview-04-17</td>\n",
       "      <td>2</td>\n",
       "      <td>14/01/2022</td>\n",
       "      <td>14/01/2022</td>\n",
       "      <td>Match</td>\n",
       "      <td>10:48</td>\n",
       "      <td>10:50</td>\n",
       "      <td>Mismatch</td>\n",
       "      <td>Poland</td>\n",
       "      <td>...</td>\n",
       "      <td>Mismatch</td>\n",
       "      <td>Match</td>\n",
       "      <td>Explosion of flammable goods vapors, Restricte...</td>\n",
       "      <td>1) Failure by the driver of a road vehicle to ...</td>\n",
       "      <td>Mismatch</td>\n",
       "      <td>Match</td>\n",
       "      <td>NaN</td>\n",
       "      <td>1) Driver's failure to behave with special cau...</td>\n",
       "      <td>LLM_Data_Missing</td>\n",
       "      <td>Mismatch</td>\n",
       "    </tr>\n",
       "    <tr>\n",
       "      <th>0</th>\n",
       "      <td>PL-10186</td>\n",
       "      <td>gpt-4o-mini</td>\n",
       "      <td>1</td>\n",
       "      <td>14/01/2022</td>\n",
       "      <td>14/01/2022</td>\n",
       "      <td>Match</td>\n",
       "      <td>10:48</td>\n",
       "      <td>10:50</td>\n",
       "      <td>Mismatch</td>\n",
       "      <td>Poland</td>\n",
       "      <td>...</td>\n",
       "      <td>Mismatch</td>\n",
       "      <td>Match</td>\n",
       "      <td>Driver's failure to obey traffic signals, Expl...</td>\n",
       "      <td>1) Failure by the driver of a road vehicle to ...</td>\n",
       "      <td>Mismatch</td>\n",
       "      <td>Match</td>\n",
       "      <td>Risk assessment team recommendation</td>\n",
       "      <td>1) Driver's failure to behave with special cau...</td>\n",
       "      <td>Mismatch</td>\n",
       "      <td>Mismatch</td>\n",
       "    </tr>\n",
       "    <tr>\n",
       "      <th>16</th>\n",
       "      <td>PL-10186</td>\n",
       "      <td>gpt-4o-mini</td>\n",
       "      <td>2</td>\n",
       "      <td>14/01/2022</td>\n",
       "      <td>14/01/2022</td>\n",
       "      <td>Match</td>\n",
       "      <td>10:48</td>\n",
       "      <td>10:50</td>\n",
       "      <td>Mismatch</td>\n",
       "      <td>Poland</td>\n",
       "      <td>...</td>\n",
       "      <td>Mismatch</td>\n",
       "      <td>Match</td>\n",
       "      <td>Driver caution, Explosion from flammable goods...</td>\n",
       "      <td>1) Failure by the driver of a road vehicle to ...</td>\n",
       "      <td>Mismatch</td>\n",
       "      <td>Match</td>\n",
       "      <td>Systemic factors not stated</td>\n",
       "      <td>1) Driver's failure to behave with special cau...</td>\n",
       "      <td>Mismatch</td>\n",
       "      <td>Mismatch</td>\n",
       "    </tr>\n",
       "    <tr>\n",
       "      <th>9</th>\n",
       "      <td>PL-10193</td>\n",
       "      <td>gemini-2.5-flash-preview-04-17</td>\n",
       "      <td>1</td>\n",
       "      <td>03/02/2022</td>\n",
       "      <td>03/02/2022</td>\n",
       "      <td>Match</td>\n",
       "      <td>06:14</td>\n",
       "      <td>06:15</td>\n",
       "      <td>Mismatch</td>\n",
       "      <td>Poland</td>\n",
       "      <td>...</td>\n",
       "      <td>Mismatch</td>\n",
       "      <td>Match</td>\n",
       "      <td>Failure of the bus driver to make a determined...</td>\n",
       "      <td>Bus entering the crossing during emission of s...</td>\n",
       "      <td>Mismatch</td>\n",
       "      <td>Match</td>\n",
       "      <td>NaN</td>\n",
       "      <td>1) The inability of trucks and buses to exit t...</td>\n",
       "      <td>LLM_Data_Missing</td>\n",
       "      <td>Mismatch</td>\n",
       "    </tr>\n",
       "  </tbody>\n",
       "</table>\n",
       "<p>5 rows × 28 columns</p>\n",
       "</div>"
      ],
      "text/plain": [
       "   ERAIL Occurrence                      model_type  iteration_number  \\\n",
       "8          PL-10186  gemini-2.5-flash-preview-04-17                 1   \n",
       "24         PL-10186  gemini-2.5-flash-preview-04-17                 2   \n",
       "0          PL-10186                     gpt-4o-mini                 1   \n",
       "16         PL-10186                     gpt-4o-mini                 2   \n",
       "9          PL-10193  gemini-2.5-flash-preview-04-17                 1   \n",
       "\n",
       "      LLM_Date Date of occurrence Date_Match LLM_Time Time of occurrence  \\\n",
       "8   14/01/2022         14/01/2022      Match    10:48              10:50   \n",
       "24  14/01/2022         14/01/2022      Match    10:48              10:50   \n",
       "0   14/01/2022         14/01/2022      Match    10:48              10:50   \n",
       "16  14/01/2022         14/01/2022      Match    10:48              10:50   \n",
       "9   03/02/2022         03/02/2022      Match    06:14              06:15   \n",
       "\n",
       "   Time_Match LLM_Country  ... RegulatoryBody_Match  \\\n",
       "8    Mismatch      Poland  ...             Mismatch   \n",
       "24   Mismatch      Poland  ...             Mismatch   \n",
       "0    Mismatch      Poland  ...             Mismatch   \n",
       "16   Mismatch      Poland  ...             Mismatch   \n",
       "9    Mismatch      Poland  ...             Mismatch   \n",
       "\n",
       "   Manual_RegulatoryBody_Match  \\\n",
       "8                        Match   \n",
       "24                       Match   \n",
       "0                        Match   \n",
       "16                       Match   \n",
       "9                        Match   \n",
       "\n",
       "                               LLM_ContributingFactor  \\\n",
       "8   Driver's failure to behave with special cautio...   \n",
       "24  Explosion of flammable goods vapors, Restricte...   \n",
       "0   Driver's failure to obey traffic signals, Expl...   \n",
       "16  Driver caution, Explosion from flammable goods...   \n",
       "9   Failure of the bus driver to make a determined...   \n",
       "\n",
       "   Direct cause description (including causal and contributing factors, excluding those of systemic nature)  \\\n",
       "8   1) Failure by the driver of a road vehicle to ...                                                         \n",
       "24  1) Failure by the driver of a road vehicle to ...                                                         \n",
       "0   1) Failure by the driver of a road vehicle to ...                                                         \n",
       "16  1) Failure by the driver of a road vehicle to ...                                                         \n",
       "9   Bus entering the crossing during emission of s...                                                         \n",
       "\n",
       "   ContributingFactors_Match Manual_ContributingFactor_Match  \\\n",
       "8                   Mismatch                           Match   \n",
       "24                  Mismatch                           Match   \n",
       "0                   Mismatch                           Match   \n",
       "16                  Mismatch                           Match   \n",
       "9                   Mismatch                           Match   \n",
       "\n",
       "                     LLM_SystemicFactor  \\\n",
       "8                                   NaN   \n",
       "24                                  NaN   \n",
       "0   Risk assessment team recommendation   \n",
       "16          Systemic factors not stated   \n",
       "9                                   NaN   \n",
       "\n",
       "   Underlying and root causes description (i.e. systemic factors, if any)  \\\n",
       "8   1) Driver's failure to behave with special cau...                       \n",
       "24  1) Driver's failure to behave with special cau...                       \n",
       "0   1) Driver's failure to behave with special cau...                       \n",
       "16  1) Driver's failure to behave with special cau...                       \n",
       "9   1) The inability of trucks and buses to exit t...                       \n",
       "\n",
       "   SystemicFactors_Match Manual_SystemicFactors_Match  \n",
       "8       LLM_Data_Missing                     Mismatch  \n",
       "24      LLM_Data_Missing                     Mismatch  \n",
       "0               Mismatch                     Mismatch  \n",
       "16              Mismatch                     Mismatch  \n",
       "9       LLM_Data_Missing                     Mismatch  \n",
       "\n",
       "[5 rows x 28 columns]"
      ]
     },
     "execution_count": 4,
     "metadata": {},
     "output_type": "execute_result"
    }
   ],
   "source": [
    "# Sort DataFrame by the two columns for easier analysis & comparison\n",
    "df_results = df_results.sort_values(by=['ERAIL Occurrence', 'model_type'], ascending=[True, True])\n",
    "df_results.head(5)"
   ]
  },
  {
   "cell_type": "markdown",
   "id": "102e2f88",
   "metadata": {},
   "source": [
    "# Executing Calculations"
   ]
  },
  {
   "cell_type": "code",
   "execution_count": null,
   "id": "9221e923",
   "metadata": {},
   "outputs": [],
   "source": [
    "def evaluate_variable(df, var_name, llm_col, truth_col, match_col=None, manual_match_col=None, is_time=False):\n",
    "    \"\"\"\n",
    "    Evaluate a prediction variable and return a one-row DataFrame with relevant metrics.\n",
    "\n",
    "    Parameters:\n",
    "    - df: the full dataframe with all results\n",
    "    - var_name: str, name of the variable (e.g. \"Date\", \"Time\", \"AccidentType\")\n",
    "    - llm_col: str, the column with LLM predictions\n",
    "    - truth_col: str, the column with ground truth\n",
    "    - match_col: str or None, column with automatic match results (\"Match\"/\"Mismatch\")\n",
    "    - manual_match_col: str or None, column with manual match results (\"Match\"/\"Mismatch\")\n",
    "    - is_time: bool, whether the variable is a time column (for 2min/5min accuracy)\n",
    "\n",
    "    Returns:\n",
    "    - A one-row DataFrame with evaluation results.\n",
    "    \"\"\"\n",
    "\n",
    "    result = {\n",
    "        \"Variable\": var_name,\n",
    "        \"Abs. Accuracy\": None,\n",
    "        \"2min Accuracy\": None,\n",
    "        \"5min Accuracy\": None,\n",
    "        \"Manual Abs. Accuracy\": None,\n",
    "        \"Consistency\": None,\n",
    "        \"Completeness\": None\n",
    "    }\n",
    "\n",
    "    # 1. Absolute Accuracy (automatic)\n",
    "    if match_col and match_col in df.columns:\n",
    "        result[\"Abs. Accuracy\"] = (df[match_col] == 'Match').sum() / df[match_col].notna().sum() * 100\n",
    "\n",
    "    # 2. Manual Accuracy (if available)\n",
    "    if manual_match_col and manual_match_col in df.columns:\n",
    "        result[\"Manual Abs. Accuracy\"] = (df[manual_match_col] == 'Match').sum() / df[manual_match_col].notna().sum() * 100\n",
    "\n",
    "    # 3. Consistency: check unique values per ERAIL + model_type\n",
    "    group = df.groupby(['ERAIL Occurrence', 'model_type'])\n",
    "    consistency_check = group.apply(lambda g: g[llm_col].nunique() == 1).reset_index(name='is_consistent')\n",
    "    result[\"Consistency\"] = consistency_check['is_consistent'].mean() * 100\n",
    "\n",
    "    # 4. Completeness\n",
    "    result[\"Completeness\"] = df[llm_col].apply(lambda x: pd.notna(x) and x != '').mean() * 100\n",
    "\n",
    "    # 5. Time-specific accuracy\n",
    "    if is_time:\n",
    "        df = df.copy()\n",
    "        df[llm_col] = pd.to_datetime(df[llm_col], errors='coerce')\n",
    "        df[truth_col] = pd.to_datetime(df[truth_col], errors='coerce')\n",
    "\n",
    "        time_diff = abs((df[llm_col] - df[truth_col]).dt.total_seconds())\n",
    "        result[\"2min Accuracy\"] = (time_diff <= 120).mean() * 100\n",
    "        result[\"5min Accuracy\"] = (time_diff <= 300).mean() * 100\n",
    "\n",
    "    # Filter and return only relevant columns for this variable\n",
    "    result_df = pd.DataFrame([result])\n",
    "    columns = ['Variable'] + [col for col in result_df.columns if result_df[col].notna().any() and col != 'Variable']\n",
    "    return result_df[columns]"
   ]
  },
  {
   "cell_type": "markdown",
   "id": "66bcc1dd",
   "metadata": {},
   "source": [
    "## Date"
   ]
  },
  {
   "cell_type": "code",
   "execution_count": 6,
   "id": "f5ed6777",
   "metadata": {},
   "outputs": [
    {
     "name": "stderr",
     "output_type": "stream",
     "text": [
      "C:\\Users\\drago\\AppData\\Local\\Temp\\ipykernel_7124\\3893428685.py:38: DeprecationWarning: DataFrameGroupBy.apply operated on the grouping columns. This behavior is deprecated, and in a future version of pandas the grouping columns will be excluded from the operation. Either pass `include_groups=False` to exclude the groupings or explicitly select the grouping columns after groupby to silence this warning.\n",
      "  consistency_check = group.apply(lambda g: g[llm_col].nunique() == 1).reset_index(name='is_consistent')\n"
     ]
    },
    {
     "data": {
      "application/vnd.microsoft.datawrangler.viewer.v0+json": {
       "columns": [
        {
         "name": "index",
         "rawType": "int64",
         "type": "integer"
        },
        {
         "name": "Variable",
         "rawType": "object",
         "type": "string"
        },
        {
         "name": "Abs. Accuracy",
         "rawType": "float64",
         "type": "float"
        },
        {
         "name": "Consistency",
         "rawType": "float64",
         "type": "float"
        },
        {
         "name": "Completeness",
         "rawType": "float64",
         "type": "float"
        }
       ],
       "ref": "c3e33a20-b7fe-4309-8bea-25ccafbd8fa9",
       "rows": [
        [
         "0",
         "Date",
         "65.625",
         "93.75",
         "100.0"
        ]
       ],
       "shape": {
        "columns": 4,
        "rows": 1
       }
      },
      "text/html": [
       "<div>\n",
       "<style scoped>\n",
       "    .dataframe tbody tr th:only-of-type {\n",
       "        vertical-align: middle;\n",
       "    }\n",
       "\n",
       "    .dataframe tbody tr th {\n",
       "        vertical-align: top;\n",
       "    }\n",
       "\n",
       "    .dataframe thead th {\n",
       "        text-align: right;\n",
       "    }\n",
       "</style>\n",
       "<table border=\"1\" class=\"dataframe\">\n",
       "  <thead>\n",
       "    <tr style=\"text-align: right;\">\n",
       "      <th></th>\n",
       "      <th>Variable</th>\n",
       "      <th>Abs. Accuracy</th>\n",
       "      <th>Consistency</th>\n",
       "      <th>Completeness</th>\n",
       "    </tr>\n",
       "  </thead>\n",
       "  <tbody>\n",
       "    <tr>\n",
       "      <th>0</th>\n",
       "      <td>Date</td>\n",
       "      <td>65.625</td>\n",
       "      <td>93.75</td>\n",
       "      <td>100.0</td>\n",
       "    </tr>\n",
       "  </tbody>\n",
       "</table>\n",
       "</div>"
      ],
      "text/plain": [
       "  Variable  Abs. Accuracy  Consistency  Completeness\n",
       "0     Date         65.625        93.75         100.0"
      ]
     },
     "execution_count": 6,
     "metadata": {},
     "output_type": "execute_result"
    }
   ],
   "source": [
    "df_eval_date = evaluate_variable(\n",
    "    df=df_results,\n",
    "    var_name='Date',\n",
    "    llm_col='LLM_Date',\n",
    "    truth_col='Date of occurrence',\n",
    "    match_col='Date_Match'\n",
    ")\n",
    "df_eval_date"
   ]
  },
  {
   "cell_type": "markdown",
   "id": "752124a1",
   "metadata": {},
   "source": [
    "## Time"
   ]
  },
  {
   "cell_type": "code",
   "execution_count": 7,
   "id": "90e42422",
   "metadata": {},
   "outputs": [
    {
     "name": "stderr",
     "output_type": "stream",
     "text": [
      "C:\\Users\\drago\\AppData\\Local\\Temp\\ipykernel_7124\\3893428685.py:38: DeprecationWarning: DataFrameGroupBy.apply operated on the grouping columns. This behavior is deprecated, and in a future version of pandas the grouping columns will be excluded from the operation. Either pass `include_groups=False` to exclude the groupings or explicitly select the grouping columns after groupby to silence this warning.\n",
      "  consistency_check = group.apply(lambda g: g[llm_col].nunique() == 1).reset_index(name='is_consistent')\n",
      "C:\\Users\\drago\\AppData\\Local\\Temp\\ipykernel_7124\\3893428685.py:48: UserWarning: Could not infer format, so each element will be parsed individually, falling back to `dateutil`. To ensure parsing is consistent and as-expected, please specify a format.\n",
      "  df[llm_col] = pd.to_datetime(df[llm_col], errors='coerce')\n",
      "C:\\Users\\drago\\AppData\\Local\\Temp\\ipykernel_7124\\3893428685.py:49: UserWarning: Could not infer format, so each element will be parsed individually, falling back to `dateutil`. To ensure parsing is consistent and as-expected, please specify a format.\n",
      "  df[truth_col] = pd.to_datetime(df[truth_col], errors='coerce')\n"
     ]
    },
    {
     "data": {
      "application/vnd.microsoft.datawrangler.viewer.v0+json": {
       "columns": [
        {
         "name": "index",
         "rawType": "int64",
         "type": "integer"
        },
        {
         "name": "Variable",
         "rawType": "object",
         "type": "string"
        },
        {
         "name": "Abs. Accuracy",
         "rawType": "float64",
         "type": "float"
        },
        {
         "name": "2min Accuracy",
         "rawType": "float64",
         "type": "float"
        },
        {
         "name": "5min Accuracy",
         "rawType": "float64",
         "type": "float"
        },
        {
         "name": "Consistency",
         "rawType": "float64",
         "type": "float"
        },
        {
         "name": "Completeness",
         "rawType": "float64",
         "type": "float"
        }
       ],
       "ref": "4bd0fd5e-f98a-4cd0-97cb-59caf9ed1597",
       "rows": [
        [
         "0",
         "Time",
         "25.0",
         "87.5",
         "96.875",
         "93.75",
         "100.0"
        ]
       ],
       "shape": {
        "columns": 6,
        "rows": 1
       }
      },
      "text/html": [
       "<div>\n",
       "<style scoped>\n",
       "    .dataframe tbody tr th:only-of-type {\n",
       "        vertical-align: middle;\n",
       "    }\n",
       "\n",
       "    .dataframe tbody tr th {\n",
       "        vertical-align: top;\n",
       "    }\n",
       "\n",
       "    .dataframe thead th {\n",
       "        text-align: right;\n",
       "    }\n",
       "</style>\n",
       "<table border=\"1\" class=\"dataframe\">\n",
       "  <thead>\n",
       "    <tr style=\"text-align: right;\">\n",
       "      <th></th>\n",
       "      <th>Variable</th>\n",
       "      <th>Abs. Accuracy</th>\n",
       "      <th>2min Accuracy</th>\n",
       "      <th>5min Accuracy</th>\n",
       "      <th>Consistency</th>\n",
       "      <th>Completeness</th>\n",
       "    </tr>\n",
       "  </thead>\n",
       "  <tbody>\n",
       "    <tr>\n",
       "      <th>0</th>\n",
       "      <td>Time</td>\n",
       "      <td>25.0</td>\n",
       "      <td>87.5</td>\n",
       "      <td>96.875</td>\n",
       "      <td>93.75</td>\n",
       "      <td>100.0</td>\n",
       "    </tr>\n",
       "  </tbody>\n",
       "</table>\n",
       "</div>"
      ],
      "text/plain": [
       "  Variable  Abs. Accuracy  2min Accuracy  5min Accuracy  Consistency  \\\n",
       "0     Time           25.0           87.5         96.875        93.75   \n",
       "\n",
       "   Completeness  \n",
       "0         100.0  "
      ]
     },
     "execution_count": 7,
     "metadata": {},
     "output_type": "execute_result"
    }
   ],
   "source": [
    "df_eval_time = evaluate_variable(\n",
    "    df=df_results,\n",
    "    var_name='Time',\n",
    "    llm_col='LLM_Time',\n",
    "    truth_col='Time of occurrence',\n",
    "    match_col='Time_Match',\n",
    "    is_time=True\n",
    ")\n",
    "df_eval_time"
   ]
  },
  {
   "cell_type": "markdown",
   "id": "e80ee9a2",
   "metadata": {},
   "source": [
    "## Country"
   ]
  },
  {
   "cell_type": "code",
   "execution_count": 8,
   "id": "d8df50af",
   "metadata": {},
   "outputs": [
    {
     "name": "stderr",
     "output_type": "stream",
     "text": [
      "C:\\Users\\drago\\AppData\\Local\\Temp\\ipykernel_7124\\3893428685.py:38: DeprecationWarning: DataFrameGroupBy.apply operated on the grouping columns. This behavior is deprecated, and in a future version of pandas the grouping columns will be excluded from the operation. Either pass `include_groups=False` to exclude the groupings or explicitly select the grouping columns after groupby to silence this warning.\n",
      "  consistency_check = group.apply(lambda g: g[llm_col].nunique() == 1).reset_index(name='is_consistent')\n"
     ]
    },
    {
     "data": {
      "application/vnd.microsoft.datawrangler.viewer.v0+json": {
       "columns": [
        {
         "name": "index",
         "rawType": "int64",
         "type": "integer"
        },
        {
         "name": "Variable",
         "rawType": "object",
         "type": "string"
        },
        {
         "name": "Abs. Accuracy",
         "rawType": "float64",
         "type": "float"
        },
        {
         "name": "Consistency",
         "rawType": "float64",
         "type": "float"
        },
        {
         "name": "Completeness",
         "rawType": "float64",
         "type": "float"
        }
       ],
       "ref": "a65f56e1-c27f-4e67-9e04-43c01d2454a3",
       "rows": [
        [
         "0",
         "Country",
         "75.0",
         "100.0",
         "100.0"
        ]
       ],
       "shape": {
        "columns": 4,
        "rows": 1
       }
      },
      "text/html": [
       "<div>\n",
       "<style scoped>\n",
       "    .dataframe tbody tr th:only-of-type {\n",
       "        vertical-align: middle;\n",
       "    }\n",
       "\n",
       "    .dataframe tbody tr th {\n",
       "        vertical-align: top;\n",
       "    }\n",
       "\n",
       "    .dataframe thead th {\n",
       "        text-align: right;\n",
       "    }\n",
       "</style>\n",
       "<table border=\"1\" class=\"dataframe\">\n",
       "  <thead>\n",
       "    <tr style=\"text-align: right;\">\n",
       "      <th></th>\n",
       "      <th>Variable</th>\n",
       "      <th>Abs. Accuracy</th>\n",
       "      <th>Consistency</th>\n",
       "      <th>Completeness</th>\n",
       "    </tr>\n",
       "  </thead>\n",
       "  <tbody>\n",
       "    <tr>\n",
       "      <th>0</th>\n",
       "      <td>Country</td>\n",
       "      <td>75.0</td>\n",
       "      <td>100.0</td>\n",
       "      <td>100.0</td>\n",
       "    </tr>\n",
       "  </tbody>\n",
       "</table>\n",
       "</div>"
      ],
      "text/plain": [
       "  Variable  Abs. Accuracy  Consistency  Completeness\n",
       "0  Country           75.0        100.0         100.0"
      ]
     },
     "execution_count": 8,
     "metadata": {},
     "output_type": "execute_result"
    }
   ],
   "source": [
    "df_eval_country = evaluate_variable(\n",
    "    df=df_results,\n",
    "    var_name='Country',\n",
    "    llm_col='LLM_Country',\n",
    "    truth_col='Country',\n",
    "    match_col='Country_Match'\n",
    ")\n",
    "df_eval_country"
   ]
  },
  {
   "cell_type": "markdown",
   "id": "bf34bf76",
   "metadata": {},
   "source": [
    "## Accident Type"
   ]
  },
  {
   "cell_type": "code",
   "execution_count": 9,
   "id": "dfc36043",
   "metadata": {},
   "outputs": [
    {
     "name": "stderr",
     "output_type": "stream",
     "text": [
      "C:\\Users\\drago\\AppData\\Local\\Temp\\ipykernel_7124\\3893428685.py:38: DeprecationWarning: DataFrameGroupBy.apply operated on the grouping columns. This behavior is deprecated, and in a future version of pandas the grouping columns will be excluded from the operation. Either pass `include_groups=False` to exclude the groupings or explicitly select the grouping columns after groupby to silence this warning.\n",
      "  consistency_check = group.apply(lambda g: g[llm_col].nunique() == 1).reset_index(name='is_consistent')\n"
     ]
    },
    {
     "data": {
      "application/vnd.microsoft.datawrangler.viewer.v0+json": {
       "columns": [
        {
         "name": "index",
         "rawType": "int64",
         "type": "integer"
        },
        {
         "name": "Variable",
         "rawType": "object",
         "type": "string"
        },
        {
         "name": "Abs. Accuracy",
         "rawType": "float64",
         "type": "float"
        },
        {
         "name": "Manual Abs. Accuracy",
         "rawType": "float64",
         "type": "float"
        },
        {
         "name": "Consistency",
         "rawType": "float64",
         "type": "float"
        },
        {
         "name": "Completeness",
         "rawType": "float64",
         "type": "float"
        }
       ],
       "ref": "5336c84e-afbc-4388-9d5a-ed4bc5783109",
       "rows": [
        [
         "0",
         "AccidentType",
         "3.125",
         "78.125",
         "43.75",
         "100.0"
        ]
       ],
       "shape": {
        "columns": 5,
        "rows": 1
       }
      },
      "text/html": [
       "<div>\n",
       "<style scoped>\n",
       "    .dataframe tbody tr th:only-of-type {\n",
       "        vertical-align: middle;\n",
       "    }\n",
       "\n",
       "    .dataframe tbody tr th {\n",
       "        vertical-align: top;\n",
       "    }\n",
       "\n",
       "    .dataframe thead th {\n",
       "        text-align: right;\n",
       "    }\n",
       "</style>\n",
       "<table border=\"1\" class=\"dataframe\">\n",
       "  <thead>\n",
       "    <tr style=\"text-align: right;\">\n",
       "      <th></th>\n",
       "      <th>Variable</th>\n",
       "      <th>Abs. Accuracy</th>\n",
       "      <th>Manual Abs. Accuracy</th>\n",
       "      <th>Consistency</th>\n",
       "      <th>Completeness</th>\n",
       "    </tr>\n",
       "  </thead>\n",
       "  <tbody>\n",
       "    <tr>\n",
       "      <th>0</th>\n",
       "      <td>AccidentType</td>\n",
       "      <td>3.125</td>\n",
       "      <td>78.125</td>\n",
       "      <td>43.75</td>\n",
       "      <td>100.0</td>\n",
       "    </tr>\n",
       "  </tbody>\n",
       "</table>\n",
       "</div>"
      ],
      "text/plain": [
       "       Variable  Abs. Accuracy  Manual Abs. Accuracy  Consistency  \\\n",
       "0  AccidentType          3.125                78.125        43.75   \n",
       "\n",
       "   Completeness  \n",
       "0         100.0  "
      ]
     },
     "execution_count": 9,
     "metadata": {},
     "output_type": "execute_result"
    }
   ],
   "source": [
    "df_eval_accident = evaluate_variable(\n",
    "    df=df_results,\n",
    "    var_name='AccidentType',\n",
    "    llm_col='LLM_AccidentType',\n",
    "    truth_col='Occurrence type',\n",
    "    match_col='AccidentType_Match',\n",
    "    manual_match_col='Manual_AccidentType_Match'\n",
    ")\n",
    "df_eval_accident"
   ]
  },
  {
   "cell_type": "markdown",
   "id": "8f0365ec",
   "metadata": {},
   "source": [
    "## Regulatory Body"
   ]
  },
  {
   "cell_type": "code",
   "execution_count": 10,
   "id": "47d00439",
   "metadata": {},
   "outputs": [
    {
     "name": "stderr",
     "output_type": "stream",
     "text": [
      "C:\\Users\\drago\\AppData\\Local\\Temp\\ipykernel_7124\\3893428685.py:38: DeprecationWarning: DataFrameGroupBy.apply operated on the grouping columns. This behavior is deprecated, and in a future version of pandas the grouping columns will be excluded from the operation. Either pass `include_groups=False` to exclude the groupings or explicitly select the grouping columns after groupby to silence this warning.\n",
      "  consistency_check = group.apply(lambda g: g[llm_col].nunique() == 1).reset_index(name='is_consistent')\n"
     ]
    },
    {
     "data": {
      "application/vnd.microsoft.datawrangler.viewer.v0+json": {
       "columns": [
        {
         "name": "index",
         "rawType": "int64",
         "type": "integer"
        },
        {
         "name": "Variable",
         "rawType": "object",
         "type": "string"
        },
        {
         "name": "Abs. Accuracy",
         "rawType": "float64",
         "type": "float"
        },
        {
         "name": "Manual Abs. Accuracy",
         "rawType": "float64",
         "type": "float"
        },
        {
         "name": "Consistency",
         "rawType": "float64",
         "type": "float"
        },
        {
         "name": "Completeness",
         "rawType": "float64",
         "type": "float"
        }
       ],
       "ref": "ad3681f3-2453-4042-a39b-235ef9cf6692",
       "rows": [
        [
         "0",
         "RegulatoryBody",
         "0.0",
         "100.0",
         "75.0",
         "100.0"
        ]
       ],
       "shape": {
        "columns": 5,
        "rows": 1
       }
      },
      "text/html": [
       "<div>\n",
       "<style scoped>\n",
       "    .dataframe tbody tr th:only-of-type {\n",
       "        vertical-align: middle;\n",
       "    }\n",
       "\n",
       "    .dataframe tbody tr th {\n",
       "        vertical-align: top;\n",
       "    }\n",
       "\n",
       "    .dataframe thead th {\n",
       "        text-align: right;\n",
       "    }\n",
       "</style>\n",
       "<table border=\"1\" class=\"dataframe\">\n",
       "  <thead>\n",
       "    <tr style=\"text-align: right;\">\n",
       "      <th></th>\n",
       "      <th>Variable</th>\n",
       "      <th>Abs. Accuracy</th>\n",
       "      <th>Manual Abs. Accuracy</th>\n",
       "      <th>Consistency</th>\n",
       "      <th>Completeness</th>\n",
       "    </tr>\n",
       "  </thead>\n",
       "  <tbody>\n",
       "    <tr>\n",
       "      <th>0</th>\n",
       "      <td>RegulatoryBody</td>\n",
       "      <td>0.0</td>\n",
       "      <td>100.0</td>\n",
       "      <td>75.0</td>\n",
       "      <td>100.0</td>\n",
       "    </tr>\n",
       "  </tbody>\n",
       "</table>\n",
       "</div>"
      ],
      "text/plain": [
       "         Variable  Abs. Accuracy  Manual Abs. Accuracy  Consistency  \\\n",
       "0  RegulatoryBody            0.0                 100.0         75.0   \n",
       "\n",
       "   Completeness  \n",
       "0         100.0  "
      ]
     },
     "execution_count": 10,
     "metadata": {},
     "output_type": "execute_result"
    }
   ],
   "source": [
    "df_eval_regulatory = evaluate_variable(\n",
    "    df=df_results,\n",
    "    var_name='RegulatoryBody',\n",
    "    llm_col='LLM_RegulatoryBody',\n",
    "    truth_col='Reporting Body',\n",
    "    match_col='RegulatoryBody_Match',\n",
    "    manual_match_col='Manual_RegulatoryBody_Match'\n",
    ")\n",
    "df_eval_regulatory"
   ]
  },
  {
   "cell_type": "markdown",
   "id": "a3c0b3d9",
   "metadata": {},
   "source": [
    "## Contributing Factors"
   ]
  },
  {
   "cell_type": "code",
   "execution_count": 11,
   "id": "1e0e9790",
   "metadata": {},
   "outputs": [
    {
     "name": "stderr",
     "output_type": "stream",
     "text": [
      "C:\\Users\\drago\\AppData\\Local\\Temp\\ipykernel_7124\\3893428685.py:38: DeprecationWarning: DataFrameGroupBy.apply operated on the grouping columns. This behavior is deprecated, and in a future version of pandas the grouping columns will be excluded from the operation. Either pass `include_groups=False` to exclude the groupings or explicitly select the grouping columns after groupby to silence this warning.\n",
      "  consistency_check = group.apply(lambda g: g[llm_col].nunique() == 1).reset_index(name='is_consistent')\n"
     ]
    },
    {
     "data": {
      "application/vnd.microsoft.datawrangler.viewer.v0+json": {
       "columns": [
        {
         "name": "index",
         "rawType": "int64",
         "type": "integer"
        },
        {
         "name": "Variable",
         "rawType": "object",
         "type": "string"
        },
        {
         "name": "Abs. Accuracy",
         "rawType": "float64",
         "type": "float"
        },
        {
         "name": "Manual Abs. Accuracy",
         "rawType": "float64",
         "type": "float"
        },
        {
         "name": "Consistency",
         "rawType": "float64",
         "type": "float"
        },
        {
         "name": "Completeness",
         "rawType": "float64",
         "type": "float"
        }
       ],
       "ref": "7b4415f6-0a6d-4d76-a1d9-841c61ca5323",
       "rows": [
        [
         "0",
         "ContributingFactor",
         "0.0",
         "96.875",
         "0.0",
         "100.0"
        ]
       ],
       "shape": {
        "columns": 5,
        "rows": 1
       }
      },
      "text/html": [
       "<div>\n",
       "<style scoped>\n",
       "    .dataframe tbody tr th:only-of-type {\n",
       "        vertical-align: middle;\n",
       "    }\n",
       "\n",
       "    .dataframe tbody tr th {\n",
       "        vertical-align: top;\n",
       "    }\n",
       "\n",
       "    .dataframe thead th {\n",
       "        text-align: right;\n",
       "    }\n",
       "</style>\n",
       "<table border=\"1\" class=\"dataframe\">\n",
       "  <thead>\n",
       "    <tr style=\"text-align: right;\">\n",
       "      <th></th>\n",
       "      <th>Variable</th>\n",
       "      <th>Abs. Accuracy</th>\n",
       "      <th>Manual Abs. Accuracy</th>\n",
       "      <th>Consistency</th>\n",
       "      <th>Completeness</th>\n",
       "    </tr>\n",
       "  </thead>\n",
       "  <tbody>\n",
       "    <tr>\n",
       "      <th>0</th>\n",
       "      <td>ContributingFactor</td>\n",
       "      <td>0.0</td>\n",
       "      <td>96.875</td>\n",
       "      <td>0.0</td>\n",
       "      <td>100.0</td>\n",
       "    </tr>\n",
       "  </tbody>\n",
       "</table>\n",
       "</div>"
      ],
      "text/plain": [
       "             Variable  Abs. Accuracy  Manual Abs. Accuracy  Consistency  \\\n",
       "0  ContributingFactor            0.0                96.875          0.0   \n",
       "\n",
       "   Completeness  \n",
       "0         100.0  "
      ]
     },
     "execution_count": 11,
     "metadata": {},
     "output_type": "execute_result"
    }
   ],
   "source": [
    "df_eval_contrfact = evaluate_variable(\n",
    "    df=df_results,\n",
    "    var_name='ContributingFactor',\n",
    "    llm_col='LLM_ContributingFactor',\n",
    "    truth_col='Direct cause description (including causal and contributing factors, excluding those of systemic nature)',\n",
    "    match_col='ContributingFactors_Match',\n",
    "    manual_match_col='Manual_ContributingFactor_Match'\n",
    ")\n",
    "df_eval_contrfact"
   ]
  },
  {
   "cell_type": "code",
   "execution_count": 12,
   "id": "4fdbfcce",
   "metadata": {},
   "outputs": [
    {
     "name": "stderr",
     "output_type": "stream",
     "text": [
      "C:\\Users\\drago\\AppData\\Local\\Temp\\ipykernel_7124\\3893428685.py:38: DeprecationWarning: DataFrameGroupBy.apply operated on the grouping columns. This behavior is deprecated, and in a future version of pandas the grouping columns will be excluded from the operation. Either pass `include_groups=False` to exclude the groupings or explicitly select the grouping columns after groupby to silence this warning.\n",
      "  consistency_check = group.apply(lambda g: g[llm_col].nunique() == 1).reset_index(name='is_consistent')\n"
     ]
    },
    {
     "data": {
      "application/vnd.microsoft.datawrangler.viewer.v0+json": {
       "columns": [
        {
         "name": "index",
         "rawType": "int64",
         "type": "integer"
        },
        {
         "name": "Variable",
         "rawType": "object",
         "type": "string"
        },
        {
         "name": "Abs. Accuracy",
         "rawType": "float64",
         "type": "float"
        },
        {
         "name": "Manual Abs. Accuracy",
         "rawType": "float64",
         "type": "float"
        },
        {
         "name": "Consistency",
         "rawType": "float64",
         "type": "float"
        },
        {
         "name": "Completeness",
         "rawType": "float64",
         "type": "float"
        }
       ],
       "ref": "9d570be9-8683-4449-a29b-460aaeb61b3b",
       "rows": [
        [
         "0",
         "SystemicFactor",
         "0.0",
         "25.0",
         "18.75",
         "56.25"
        ]
       ],
       "shape": {
        "columns": 5,
        "rows": 1
       }
      },
      "text/html": [
       "<div>\n",
       "<style scoped>\n",
       "    .dataframe tbody tr th:only-of-type {\n",
       "        vertical-align: middle;\n",
       "    }\n",
       "\n",
       "    .dataframe tbody tr th {\n",
       "        vertical-align: top;\n",
       "    }\n",
       "\n",
       "    .dataframe thead th {\n",
       "        text-align: right;\n",
       "    }\n",
       "</style>\n",
       "<table border=\"1\" class=\"dataframe\">\n",
       "  <thead>\n",
       "    <tr style=\"text-align: right;\">\n",
       "      <th></th>\n",
       "      <th>Variable</th>\n",
       "      <th>Abs. Accuracy</th>\n",
       "      <th>Manual Abs. Accuracy</th>\n",
       "      <th>Consistency</th>\n",
       "      <th>Completeness</th>\n",
       "    </tr>\n",
       "  </thead>\n",
       "  <tbody>\n",
       "    <tr>\n",
       "      <th>0</th>\n",
       "      <td>SystemicFactor</td>\n",
       "      <td>0.0</td>\n",
       "      <td>25.0</td>\n",
       "      <td>18.75</td>\n",
       "      <td>56.25</td>\n",
       "    </tr>\n",
       "  </tbody>\n",
       "</table>\n",
       "</div>"
      ],
      "text/plain": [
       "         Variable  Abs. Accuracy  Manual Abs. Accuracy  Consistency  \\\n",
       "0  SystemicFactor            0.0                  25.0        18.75   \n",
       "\n",
       "   Completeness  \n",
       "0         56.25  "
      ]
     },
     "execution_count": 12,
     "metadata": {},
     "output_type": "execute_result"
    }
   ],
   "source": [
    "df_eval_sysfact = evaluate_variable(\n",
    "    df=df_results,\n",
    "    var_name='SystemicFactor',\n",
    "    llm_col='LLM_SystemicFactor',\n",
    "    truth_col='Underlying and root causes description (i.e. systemic factors, if any)',\n",
    "    match_col='SystemicFactors_Match',\n",
    "    manual_match_col='Manual_SystemicFactors_Match'\n",
    ")\n",
    "df_eval_sysfact"
   ]
  },
  {
   "cell_type": "markdown",
   "id": "fdefc14d",
   "metadata": {},
   "source": [
    "## Merged"
   ]
  },
  {
   "cell_type": "code",
   "execution_count": null,
   "id": "48525325",
   "metadata": {},
   "outputs": [],
   "source": [
    "df_eval_all = pd.concat([\n",
    "    df_eval_date,\n",
    "    df_eval_time,\n",
    "    df_eval_country,\n",
    "    df_eval_accident,\n",
    "    df_eval_regulatory,\n",
    "    df_eval_contrfact,\n",
    "    df_eval_sysfact\n",
    "], ignore_index=True)\n",
    "df_eval_all"
   ]
  },
  {
   "cell_type": "code",
   "execution_count": null,
   "id": "7d2b81ab",
   "metadata": {},
   "outputs": [],
   "source": []
  },
  {
   "cell_type": "code",
   "execution_count": null,
   "id": "d659c90a",
   "metadata": {},
   "outputs": [],
   "source": []
  },
  {
   "cell_type": "code",
   "execution_count": null,
   "id": "78a448c7",
   "metadata": {},
   "outputs": [],
   "source": []
  },
  {
   "cell_type": "code",
   "execution_count": null,
   "id": "f5e8dbea",
   "metadata": {},
   "outputs": [],
   "source": []
  },
  {
   "cell_type": "code",
   "execution_count": null,
   "id": "3ed14efc",
   "metadata": {},
   "outputs": [],
   "source": []
  }
 ],
 "metadata": {
  "kernelspec": {
   "display_name": "master_thesis",
   "language": "python",
   "name": "python3"
  },
  "language_info": {
   "codemirror_mode": {
    "name": "ipython",
    "version": 3
   },
   "file_extension": ".py",
   "mimetype": "text/x-python",
   "name": "python",
   "nbconvert_exporter": "python",
   "pygments_lexer": "ipython3",
   "version": "3.12.9"
  }
 },
 "nbformat": 4,
 "nbformat_minor": 5
}
