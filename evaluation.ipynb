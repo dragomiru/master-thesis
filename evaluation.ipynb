{
 "cells": [
  {
   "cell_type": "markdown",
   "id": "72cf06b6",
   "metadata": {},
   "source": [
    "# Importing Packages"
   ]
  },
  {
   "cell_type": "code",
   "execution_count": null,
   "id": "9d573bfc",
   "metadata": {},
   "outputs": [],
   "source": [
    "# Importing packages\n",
    "\n",
    "import pandas as pd\n",
    "import numpy as np"
   ]
  },
  {
   "cell_type": "markdown",
   "id": "e2fbd359",
   "metadata": {},
   "source": [
    "# Loading Data"
   ]
  },
  {
   "cell_type": "code",
   "execution_count": null,
   "id": "92fbbfa1",
   "metadata": {},
   "outputs": [],
   "source": [
    "# Selecting the csv\n",
    "csv_results = 'poland_extract.csv'\n",
    "\n",
    "# Converting to dataframe\n",
    "df_results = pd.read_csv(f'thesis_modularized/data/{csv_results}')\n",
    "df_results.head(5)"
   ]
  },
  {
   "cell_type": "code",
   "execution_count": null,
   "id": "d49d340c",
   "metadata": {},
   "outputs": [],
   "source": [
    "# Removing the index row\n",
    "df_results.drop('Unnamed: 0', axis=1, inplace=True)\n",
    "df_results.head(5)"
   ]
  },
  {
   "cell_type": "code",
   "execution_count": null,
   "id": "4886c22f",
   "metadata": {},
   "outputs": [],
   "source": [
    "# Sort dataframe by the two columns for easier analysis & comparison\n",
    "df_results = df_results.sort_values(by=['ERAIL Occurrence', 'model_type'], ascending=[True, True])\n",
    "df_results.head(5)"
   ]
  },
  {
   "cell_type": "markdown",
   "id": "102e2f88",
   "metadata": {},
   "source": [
    "# Executing Calculations"
   ]
  },
  {
   "cell_type": "code",
   "execution_count": null,
   "id": "9221e923",
   "metadata": {},
   "outputs": [],
   "source": [
    "def evaluate_variable(df, var_name, llm_col, truth_col, match_col=None, manual_match_col=None, is_time=False):\n",
    "    \"\"\"\n",
    "    Evaluate a prediction variable and return a one-row DataFrame with relevant metrics.\n",
    "\n",
    "    Parameters:\n",
    "    - df: the full dataframe with all results\n",
    "    - var_name: str, name of the variable (e.g. \"Date\", \"Time\", \"AccidentType\")\n",
    "    - llm_col: str, the column with LLM predictions\n",
    "    - truth_col: str, the column with ground truth\n",
    "    - match_col: str or None, column with automatic match results (\"Match\"/\"Mismatch\")\n",
    "    - manual_match_col: str or None, column with manual match results (\"Match\"/\"Mismatch\")\n",
    "    - is_time: bool, whether the variable is a time column (for 2min/5min accuracy)\n",
    "\n",
    "    Returns:\n",
    "    - A one-row DataFrame with evaluation results.\n",
    "    \"\"\"\n",
    "\n",
    "    result = {\n",
    "        \"Variable\": var_name,\n",
    "        \"Abs. Accuracy\": None,\n",
    "        \"2min Accuracy\": None,\n",
    "        \"5min Accuracy\": None,\n",
    "        \"Manual Abs. Accuracy\": None,\n",
    "        \"Consistency\": None,\n",
    "        \"Completeness\": None\n",
    "    }\n",
    "\n",
    "    # 1. Absolute Accuracy (automatic)\n",
    "    if match_col and match_col in df.columns:\n",
    "        result[\"Abs. Accuracy\"] = (df[match_col] == 'Match').sum() / df[match_col].notna().sum() * 100\n",
    "\n",
    "    # 2. Manual Accuracy (if available)\n",
    "    if manual_match_col and manual_match_col in df.columns:\n",
    "        result[\"Manual Abs. Accuracy\"] = (df[manual_match_col] == 'Match').sum() / df[manual_match_col].notna().sum() * 100\n",
    "\n",
    "    # 3. Consistency: check unique values per ERAIL + model_type\n",
    "    group = df.groupby(['ERAIL Occurrence', 'model_type'])\n",
    "    consistency_check = group.apply(lambda g: g[llm_col].nunique() == 1).reset_index(name='is_consistent')\n",
    "    result[\"Consistency\"] = consistency_check['is_consistent'].mean() * 100\n",
    "\n",
    "    # 4. Completeness\n",
    "    result[\"Completeness\"] = df[llm_col].apply(lambda x: pd.notna(x) and x != '').mean() * 100\n",
    "\n",
    "    # 5. Time-specific accuracy\n",
    "    if is_time:\n",
    "        # Safe datetime parsing (clean specific known bad cases here if needed)\n",
    "        df = df.copy()\n",
    "        df[llm_col] = pd.to_datetime(df[llm_col], errors='coerce')\n",
    "        df[truth_col] = pd.to_datetime(df[truth_col], errors='coerce')\n",
    "\n",
    "        time_diff = abs((df[llm_col] - df[truth_col]).dt.total_seconds())\n",
    "        result[\"2min Accuracy\"] = (time_diff <= 120).mean() * 100\n",
    "        result[\"5min Accuracy\"] = (time_diff <= 300).mean() * 100\n",
    "\n",
    "    # Filter and return only relevant columns for this variable\n",
    "    result_df = pd.DataFrame([result])\n",
    "    columns = ['Variable'] + [col for col in result_df.columns if result_df[col].notna().any() and col != 'Variable']\n",
    "    return result_df[columns]"
   ]
  },
  {
   "cell_type": "markdown",
   "id": "66bcc1dd",
   "metadata": {},
   "source": [
    "## Date"
   ]
  },
  {
   "cell_type": "code",
   "execution_count": null,
   "id": "f5ed6777",
   "metadata": {},
   "outputs": [],
   "source": [
    "df_eval_date = evaluate_variable(\n",
    "    df=df_results,\n",
    "    var_name='Date',\n",
    "    llm_col='LLM_Date',\n",
    "    truth_col='Date of occurrence',\n",
    "    match_col='Date_Match'\n",
    ")\n",
    "df_eval_date"
   ]
  },
  {
   "cell_type": "markdown",
   "id": "752124a1",
   "metadata": {},
   "source": [
    "## Time"
   ]
  },
  {
   "cell_type": "code",
   "execution_count": null,
   "id": "90e42422",
   "metadata": {},
   "outputs": [],
   "source": [
    "df_eval_time = evaluate_variable(\n",
    "    df=df_results,\n",
    "    var_name='Time',\n",
    "    llm_col='LLM_Time',\n",
    "    truth_col='Time of occurrence',\n",
    "    match_col='Time_Match',\n",
    "    is_time=True\n",
    ")\n",
    "df_eval_time"
   ]
  },
  {
   "cell_type": "markdown",
   "id": "e80ee9a2",
   "metadata": {},
   "source": [
    "## Country"
   ]
  },
  {
   "cell_type": "code",
   "execution_count": null,
   "id": "d8df50af",
   "metadata": {},
   "outputs": [],
   "source": [
    "df_eval_country = evaluate_variable(\n",
    "    df=df_results,\n",
    "    var_name='Country',\n",
    "    llm_col='LLM_Country',\n",
    "    truth_col='Country',\n",
    "    match_col='Country_Match'\n",
    ")\n",
    "df_eval_country"
   ]
  },
  {
   "cell_type": "markdown",
   "id": "bf34bf76",
   "metadata": {},
   "source": [
    "## Accident Type"
   ]
  },
  {
   "cell_type": "code",
   "execution_count": null,
   "id": "dfc36043",
   "metadata": {},
   "outputs": [],
   "source": [
    "df_eval_accident = evaluate_variable(\n",
    "    df=df_results,\n",
    "    var_name='AccidentType',\n",
    "    llm_col='LLM_AccidentType',\n",
    "    truth_col='Occurrence type',\n",
    "    match_col='AccidentType_Match',\n",
    "    manual_match_col='Manual_AccidentType_Match'\n",
    ")\n",
    "df_eval_accident"
   ]
  },
  {
   "cell_type": "markdown",
   "id": "8f0365ec",
   "metadata": {},
   "source": [
    "## Regulatory Body"
   ]
  },
  {
   "cell_type": "code",
   "execution_count": null,
   "id": "47d00439",
   "metadata": {},
   "outputs": [],
   "source": [
    "df_eval_regulatory = evaluate_variable(\n",
    "    df=df_results,\n",
    "    var_name='RegulatoryBody',\n",
    "    llm_col='LLM_RegulatoryBody',\n",
    "    truth_col='Reporting Body',\n",
    "    match_col='RegulatoryBody_Match',\n",
    "    manual_match_col='Manual_RegulatoryBody_Match'\n",
    ")\n",
    "df_eval_regulatory"
   ]
  },
  {
   "cell_type": "markdown",
   "id": "a3c0b3d9",
   "metadata": {},
   "source": [
    "## Contributing Factors"
   ]
  },
  {
   "cell_type": "code",
   "execution_count": null,
   "id": "1e0e9790",
   "metadata": {},
   "outputs": [],
   "source": [
    "df_eval_contrfact = evaluate_variable(\n",
    "    df=df_results,\n",
    "    var_name='ContributingFactor',\n",
    "    llm_col='LLM_ContributingFactor',\n",
    "    truth_col='Direct cause description (including causal and contributing factors, excluding those of systemic nature)',\n",
    "    match_col='ContributingFactors_Match',\n",
    "    manual_match_col='Manual_ContributingFactor_Match'\n",
    ")\n",
    "df_eval_contrfact"
   ]
  },
  {
   "cell_type": "code",
   "execution_count": null,
   "id": "4fdbfcce",
   "metadata": {},
   "outputs": [],
   "source": [
    "df_eval_sysfact = evaluate_variable(\n",
    "    df=df_results,\n",
    "    var_name='SystemicFactor',\n",
    "    llm_col='LLM_SystemicFactor',\n",
    "    truth_col='Underlying and root causes description (i.e. systemic factors, if any)',\n",
    "    match_col='SystemicFactors_Match',\n",
    "    manual_match_col='Manual_SystemicFactors_Match'\n",
    ")\n",
    "df_eval_sysfact"
   ]
  },
  {
   "cell_type": "markdown",
   "id": "fdefc14d",
   "metadata": {},
   "source": [
    "## Merged"
   ]
  },
  {
   "cell_type": "code",
   "execution_count": null,
   "id": "48525325",
   "metadata": {},
   "outputs": [],
   "source": [
    "df_eval_all = pd.concat([\n",
    "    df_eval_date,\n",
    "    df_eval_time,\n",
    "    df_eval_country,\n",
    "    df_eval_accident,\n",
    "    df_eval_regulatory,\n",
    "    df_eval_contrfact,\n",
    "    df_eval_sysfact\n",
    "], ignore_index=True)\n",
    "df_eval_all"
   ]
  },
  {
   "cell_type": "code",
   "execution_count": null,
   "id": "7d2b81ab",
   "metadata": {},
   "outputs": [],
   "source": []
  },
  {
   "cell_type": "code",
   "execution_count": null,
   "id": "d659c90a",
   "metadata": {},
   "outputs": [],
   "source": []
  },
  {
   "cell_type": "code",
   "execution_count": null,
   "id": "78a448c7",
   "metadata": {},
   "outputs": [],
   "source": []
  },
  {
   "cell_type": "code",
   "execution_count": null,
   "id": "f5e8dbea",
   "metadata": {},
   "outputs": [],
   "source": []
  },
  {
   "cell_type": "code",
   "execution_count": null,
   "id": "3ed14efc",
   "metadata": {},
   "outputs": [],
   "source": []
  }
 ],
 "metadata": {
  "kernelspec": {
   "display_name": "master_thesis",
   "language": "python",
   "name": "python3"
  },
  "language_info": {
   "codemirror_mode": {
    "name": "ipython",
    "version": 3
   },
   "file_extension": ".py",
   "mimetype": "text/x-python",
   "name": "python",
   "nbconvert_exporter": "python",
   "pygments_lexer": "ipython3",
   "version": "3.12.9"
  }
 },
 "nbformat": 4,
 "nbformat_minor": 5
}
