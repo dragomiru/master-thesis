{
 "cells": [
  {
   "cell_type": "code",
   "execution_count": 1,
   "metadata": {},
   "outputs": [
    {
     "name": "stdout",
     "output_type": "stream",
     "text": [
      "Collecting pymupdf\n",
      "  Downloading pymupdf-1.25.3-cp39-abi3-win_amd64.whl.metadata (3.4 kB)\n",
      "Downloading pymupdf-1.25.3-cp39-abi3-win_amd64.whl (16.5 MB)\n",
      "   ---------------------------------------- 0.0/16.5 MB ? eta -:--:--\n",
      "   ------------------------ --------------- 10.0/16.5 MB 56.7 MB/s eta 0:00:01\n",
      "   ------------------------------------ --- 14.9/16.5 MB 42.8 MB/s eta 0:00:01\n",
      "   ---------------------------------------  16.5/16.5 MB 29.8 MB/s eta 0:00:01\n",
      "   ---------------------------------------- 16.5/16.5 MB 24.8 MB/s eta 0:00:00\n",
      "Installing collected packages: pymupdf\n",
      "Successfully installed pymupdf-1.25.3\n",
      "Note: you may need to restart the kernel to use updated packages.\n"
     ]
    }
   ],
   "source": [
    "pip install pymupdf"
   ]
  },
  {
   "cell_type": "code",
   "execution_count": 19,
   "metadata": {},
   "outputs": [],
   "source": [
    "# Load necessary libraries\n",
    "import pdfplumber\n",
    "from openai import OpenAI\n",
    "import json\n",
    "import os\n",
    "import regex as re\n",
    "from neo4j import GraphDatabase\n",
    "from neo4j.exceptions import AuthError\n",
    "import pymupdf\n",
    "import base64"
   ]
  },
  {
   "cell_type": "code",
   "execution_count": 25,
   "metadata": {},
   "outputs": [],
   "source": [
    "## Set the API key and model name\n",
    "MODEL=\"gpt-4o-mini\"\n",
    "\n",
    "# Load OpenAI API Key from requirements file\n",
    "with open(\"gpt-personal-key.txt\", \"r\") as file:\n",
    "    OPENAI_API_KEY = file.read().strip()\n",
    "\n",
    "client = OpenAI(api_key=OPENAI_API_KEY)"
   ]
  },
  {
   "cell_type": "code",
   "execution_count": 43,
   "metadata": {},
   "outputs": [
    {
     "name": "stdout",
     "output_type": "stream",
     "text": [
      "Connected to Neo4j successfully.\n"
     ]
    }
   ],
   "source": [
    "# Neo4j Connection Setup\n",
    "NEO4J_URI = \"bolt://localhost:7687\"\n",
    "NEO4J_USER = \"neo4j\"\n",
    "NEO4J_PASSWORD = \"password\"\n",
    "NEO4J_DATABASE = \"neo4j\"\n",
    "\n",
    "driver = GraphDatabase.driver(NEO4J_URI, auth=(NEO4J_USER, NEO4J_PASSWORD))\n",
    "\n",
    "try:\n",
    "    # Test the connection\n",
    "    with driver.session() as session:\n",
    "        session.run(\"RETURN 1\")\n",
    "    print(\"Connected to Neo4j successfully.\")\n",
    "except AuthError as e:\n",
    "    print(\"Authentication failed. Check your credentials:\", str(e))"
   ]
  },
  {
   "cell_type": "code",
   "execution_count": 75,
   "metadata": {},
   "outputs": [
    {
     "name": "stdout",
     "output_type": "stream",
     "text": [
      "Neo4j database cleared successfully.\n"
     ]
    }
   ],
   "source": [
    "def clear_neo4j_database():\n",
    "    \"\"\"Delete all nodes and relationships in the Neo4j database.\"\"\"\n",
    "    with driver.session(database=NEO4J_DATABASE) as session:\n",
    "        session.run(\"MATCH (n) DETACH DELETE n\")\n",
    "    print(\"Neo4j database cleared successfully.\")\n",
    "\n",
    "# Run the function to clear the database\n",
    "clear_neo4j_database()"
   ]
  },
  {
   "cell_type": "code",
   "execution_count": null,
   "metadata": {},
   "outputs": [],
   "source": [
    "import fitz\n",
    "\n",
    "pdf_path = \"raiu_example.pdf\"\n",
    "doc = pymupdf.open(pdf_path)\n",
    "\n",
    "images_data = []\n",
    "\n",
    "for page_index, page in enumerate(doc):\n",
    "    image_list = page.get_images(full=True)\n",
    "    text_blocks = page.get_text(\"blocks\")\n",
    "\n",
    "    if not image_list:\n",
    "        continue\n",
    "\n",
    "    # We look for any text on this page that matches \"Figure\" or \"Fig.\"\n",
    "    # Then we associate the first such text with all images on the page (very rough approach)\n",
    "    figure_captions = [\n",
    "        block[4].strip() for block in text_blocks \n",
    "        if \"figure\" in block[4].lower() or \"fig.\" in block[4].lower()\n",
    "    ]\n",
    "    # If there's at least one \"Figure\" mention, pick the first\n",
    "    page_caption = figure_captions[0] if figure_captions else f\"Page{page_index+1}\"\n",
    "\n",
    "    for img_index, img_info in enumerate(image_list):\n",
    "        xref = img_info[0]\n",
    "        \n",
    "        # Try to extract the image as a Pixmap\n",
    "        try:\n",
    "            pix = pymupdf.Pixmap(doc, xref)\n",
    "        except ValueError:\n",
    "            # Not a valid raster image\n",
    "            continue\n",
    "\n",
    "        # Save the image\n",
    "        safe_caption = page_caption.replace(\" \", \"_\").replace(\"/\", \"_\")\n",
    "        output_filename = f\"Page{page_index+1}_Img{img_index+1}_{safe_caption}.png\"\n",
    "        pix.save(output_filename)\n",
    "\n",
    "        images_data.append({\n",
    "            \"page\": page_index + 1,\n",
    "            \"image_index\": img_index + 1,\n",
    "            \"filename\": output_filename,\n",
    "            \"caption\": page_caption\n",
    "        })\n",
    "\n",
    "        pix = None\n",
    "\n",
    "doc.close()\n"
   ]
  },
  {
   "cell_type": "code",
   "execution_count": 17,
   "metadata": {},
   "outputs": [
    {
     "data": {
      "text/plain": [
       "[{'page': 1,\n",
       "  'image_index': 1,\n",
       "  'filename': 'Page1_Img1_Page1.png',\n",
       "  'caption': 'Page1'},\n",
       " {'page': 1,\n",
       "  'image_index': 2,\n",
       "  'filename': 'Page1_Img2_Page1.png',\n",
       "  'caption': 'Page1'},\n",
       " {'page': 14,\n",
       "  'image_index': 1,\n",
       "  'filename': 'Page14_Img1_40_The_location_of_the_broken_rail_(see_Figure_1)_was_on_the_Up_mainline_from_Cork_to_Heuston.png',\n",
       "  'caption': '40 The location of the broken rail (see Figure 1) was on the Up mainline from Cork to Heuston'},\n",
       " {'page': 14,\n",
       "  'image_index': 2,\n",
       "  'filename': 'Page14_Img2_40_The_location_of_the_broken_rail_(see_Figure_1)_was_on_the_Up_mainline_from_Cork_to_Heuston.png',\n",
       "  'caption': '40 The location of the broken rail (see Figure 1) was on the Up mainline from Cork to Heuston'},\n",
       " {'page': 14,\n",
       "  'image_index': 3,\n",
       "  'filename': 'Page14_Img3_40_The_location_of_the_broken_rail_(see_Figure_1)_was_on_the_Up_mainline_from_Cork_to_Heuston.png',\n",
       "  'caption': '40 The location of the broken rail (see Figure 1) was on the Up mainline from Cork to Heuston'},\n",
       " {'page': 18,\n",
       "  'image_index': 1,\n",
       "  'filename': 'Page18_Img1_class_carriage,_five_standard_class_carriages_and_a_generator_car_(see_Figure_2)._The.png',\n",
       "  'caption': 'class carriage, five standard class carriages and a generator car (see Figure 2). The'},\n",
       " {'page': 18,\n",
       "  'image_index': 2,\n",
       "  'filename': 'Page18_Img2_class_carriage,_five_standard_class_carriages_and_a_generator_car_(see_Figure_2)._The.png',\n",
       "  'caption': 'class carriage, five standard class carriages and a generator car (see Figure 2). The'},\n",
       " {'page': 18,\n",
       "  'image_index': 3,\n",
       "  'filename': 'Page18_Img3_class_carriage,_five_standard_class_carriages_and_a_generator_car_(see_Figure_2)._The.png',\n",
       "  'caption': 'class carriage, five standard class carriages and a generator car (see Figure 2). The'},\n",
       " {'page': 20,\n",
       "  'image_index': 1,\n",
       "  'filename': 'Page20_Img1_Figure_4)_manufactured_in_their_Gijon_plan_in_Spain_(formally_Ensidesa)._The_rail_product_is.png',\n",
       "  'caption': 'Figure 4) manufactured in their Gijon plan in Spain (formally Ensidesa). The rail product is'},\n",
       " {'page': 21,\n",
       "  'image_index': 1,\n",
       "  'filename': 'Page21_Img1_66_In_terms_of_the_stressing,_Rail_Tensors_are_normally_used_(see_Figure_5)..png',\n",
       "  'caption': '66 In terms of the stressing, Rail Tensors are normally used (see Figure 5).'},\n",
       " {'page': 22,\n",
       "  'image_index': 1,\n",
       "  'filename': 'Page22_Img1_gauge_dial_(see_Figure_6_example_of_a.png',\n",
       "  'caption': 'gauge dial (see Figure 6 example of a'},\n",
       " {'page': 25,\n",
       "  'image_index': 1,\n",
       "  'filename': 'Page25_Img1_where_one_of_the_pressure_gauges_was_replaced_(highlighted_yellow_in_Figure_7)..png',\n",
       "  'caption': 'where one of the pressure gauges was replaced (highlighted yellow in Figure 7).'},\n",
       " {'page': 27,\n",
       "  'image_index': 1,\n",
       "  'filename': 'Page27_Img1_Figure_8_–_Stressing_Equipment_Inspection_report_post_incident.png',\n",
       "  'caption': 'Figure 8 – Stressing Equipment Inspection report post incident'},\n",
       " {'page': 28,\n",
       "  'image_index': 1,\n",
       "  'filename': 'Page28_Img1_the_approximate_centreline_(see_Figure_9)_with_a_pronounced_hollow_in_the_foot_of_the_rail.png',\n",
       "  'caption': 'the approximate centreline (see Figure 9) with a pronounced hollow in the foot of the rail'},\n",
       " {'page': 28,\n",
       "  'image_index': 2,\n",
       "  'filename': 'Page28_Img2_the_approximate_centreline_(see_Figure_9)_with_a_pronounced_hollow_in_the_foot_of_the_rail.png',\n",
       "  'caption': 'the approximate centreline (see Figure 9) with a pronounced hollow in the foot of the rail'},\n",
       " {'page': 28,\n",
       "  'image_index': 3,\n",
       "  'filename': 'Page28_Img3_the_approximate_centreline_(see_Figure_9)_with_a_pronounced_hollow_in_the_foot_of_the_rail.png',\n",
       "  'caption': 'the approximate centreline (see Figure 9) with a pronounced hollow in the foot of the rail'},\n",
       " {'page': 29,\n",
       "  'image_index': 1,\n",
       "  'filename': 'Page29_Img1_(see_Figure_12)_had_a.png',\n",
       "  'caption': '(see Figure 12) had a'},\n",
       " {'page': 35,\n",
       "  'image_index': 1,\n",
       "  'filename': 'Page35_Img1_porosity_holes_(see_arrows_in_Figure_13)_in_the_weld_at_the_base_of_the_rail_foot._There_was.png',\n",
       "  'caption': 'porosity holes (see arrows in Figure 13) in the weld at the base of the rail foot. There was'},\n",
       " {'page': 35,\n",
       "  'image_index': 2,\n",
       "  'filename': 'Page35_Img2_porosity_holes_(see_arrows_in_Figure_13)_in_the_weld_at_the_base_of_the_rail_foot._There_was.png',\n",
       "  'caption': 'porosity holes (see arrows in Figure 13) in the weld at the base of the rail foot. There was'}]"
      ]
     },
     "execution_count": 17,
     "metadata": {},
     "output_type": "execute_result"
    }
   ],
   "source": [
    "images_data"
   ]
  },
  {
   "cell_type": "code",
   "execution_count": 44,
   "metadata": {},
   "outputs": [
    {
     "name": "stdout",
     "output_type": "stream",
     "text": [
      "```json\n",
      "{\n",
      "  \"location\": \"Ireland\",\n",
      "  \"streets\": [\n",
      "    \"R515\",\n",
      "    \"R516\",\n",
      "    \"R662\",\n",
      "    \"R664\",\n",
      "    \"R663\",\n",
      "    \"R613\"\n",
      "  ],\n",
      "  \"cities\": [\n",
      "    \"Cork\",\n",
      "    \"Heuston\",\n",
      "    \"Limerick Junction\",\n",
      "    \"Tipperary\",\n",
      "    \"Emly\",\n",
      "    \"Ballinalard\",\n",
      "    \"Kilross\"\n",
      "  ],\n",
      "  \"objects\": [\n",
      "    \"mainline\",\n",
      "    \"rail\"\n",
      "  ]\n",
      "}\n",
      "```\n"
     ]
    }
   ],
   "source": [
    "def encode_image(image_path):\n",
    "    \"\"\"Return a Base64-encoded string of the image file.\"\"\"\n",
    "    with open(image_path, \"rb\") as f:\n",
    "        return base64.b64encode(f.read()).decode(\"utf-8\")\n",
    "\n",
    "# Example usage:\n",
    "image_path = \"Page14_Img1_40_The_location_of_the_broken_rail_(see_Figure_1)_was_on_the_Up_mainline_from_Cork_to_Heuston.png\"\n",
    "base64_image = encode_image(image_path)\n",
    "\n",
    "caption = next((item[\"caption\"] for item in images_data if item[\"filename\"] == image_path), None)\n",
    "\n",
    "messages = [\n",
    "    {\n",
    "            \"role\": \"user\",\n",
    "            \"content\": [\n",
    "                {\n",
    "                    \"type\": \"text\",\n",
    "                    \"text\": f\"What is in this image? List some important details and names you see in JSON format, mainly: location, streets, cities, objects. Consider also the image's caption: {caption}\",\n",
    "                },\n",
    "                {\n",
    "                    \"type\": \"image_url\",\n",
    "                    \"image_url\": {\"url\": f\"data:image/jpeg;base64,{base64_image}\"},\n",
    "                },\n",
    "            ],\n",
    "        }\n",
    "    ]\n",
    "\n",
    "response = client.chat.completions.create(\n",
    "    model=MODEL,\n",
    "    messages=messages\n",
    ")\n",
    "\n",
    "# Print the assistant's reply\n",
    "print(response.choices[0].message.content)"
   ]
  },
  {
   "cell_type": "code",
   "execution_count": 70,
   "metadata": {},
   "outputs": [],
   "source": [
    "# Store in Neo4j\n",
    "def store_in_neo4j(json_data):\n",
    "    \"\"\"Store extracted data in Neo4j.\"\"\"\n",
    "    if not json_data:\n",
    "        print(\"No valid entities to store in Neo4j.\")\n",
    "        return\n",
    "    \n",
    "    with driver.session(database=NEO4J_DATABASE) as session:\n",
    "        for category, item in json_data.items():  # Iterate over key-value pairs\n",
    "            if isinstance(item, list):  # If it's a list, iterate over items\n",
    "                for value in item:\n",
    "                    session.run(\"\"\"\n",
    "                        MERGE (n:Entity {name: $name, category: $category})\n",
    "                    \"\"\", name=value, category=category)\n",
    "            else:  # If it's a single string, store it directly\n",
    "                session.run(\"\"\"\n",
    "                    MERGE (n:Entity {name: $name, category: $category})\n",
    "                \"\"\", name=item, category=category)\n"
   ]
  },
  {
   "cell_type": "code",
   "execution_count": 76,
   "metadata": {},
   "outputs": [],
   "source": [
    "# Store in Neo4j with Relationships\n",
    "def store_in_neo4j(json_data):\n",
    "    \"\"\"Store extracted data in Neo4j and create relationships.\"\"\"\n",
    "    if not json_data:\n",
    "        print(\"No valid entities to store in Neo4j.\")\n",
    "        return\n",
    "    \n",
    "    with driver.session(database=NEO4J_DATABASE) as session:\n",
    "        # Create nodes\n",
    "        session.run(\"\"\"\n",
    "            MERGE (d:Date {name: $date})\n",
    "        \"\"\", date=json_data.get(\"date\", \"Unknown\"))\n",
    "        \n",
    "        session.run(\"\"\"\n",
    "            MERGE (l:Location {name: $location})\n",
    "        \"\"\", location=json_data.get(\"location\", \"Unknown\"))\n",
    "        \n",
    "        session.run(\"\"\"\n",
    "            MERGE (r:RegulatoryBody {name: $regulatory_body})\n",
    "        \"\"\", regulatory_body=json_data.get(\"regulatory_body\", \"Unknown\"))\n",
    "        \n",
    "        # Create relationships\n",
    "        session.run(\"\"\"\n",
    "            MATCH (d:Date {name: $date}), (l:Location {name: $location})\n",
    "            MERGE (d)-[:OCCURRED_AT]->(l)\n",
    "        \"\"\", date=json_data.get(\"date\", \"Unknown\"), location=json_data.get(\"location\", \"Unknown\"))\n",
    "        \n",
    "        session.run(\"\"\"\n",
    "            MATCH (l:Location {name: $location}), (r:RegulatoryBody {name: $regulatory_body})\n",
    "            MERGE (l)-[:REGULATED_BY]->(r)\n",
    "        \"\"\", location=json_data.get(\"location\", \"Unknown\"), regulatory_body=json_data.get(\"regulatory_body\", \"Unknown\"))"
   ]
  },
  {
   "cell_type": "code",
   "execution_count": 77,
   "metadata": {},
   "outputs": [
    {
     "name": "stdout",
     "output_type": "stream",
     "text": [
      "Data stored in Neo4j successfully.\n"
     ]
    }
   ],
   "source": [
    "# Store extracted entities into Neo4j\n",
    "try:\n",
    "    db_result = store_in_neo4j(entity_json)\n",
    "    print(\"Data stored in Neo4j successfully.\")\n",
    "except Exception as e:\n",
    "    print(\"Failed to store data in Neo4j:\", str(e))"
   ]
  },
  {
   "cell_type": "code",
   "execution_count": null,
   "metadata": {},
   "outputs": [],
   "source": [
    "# Close Neo4j connection\n",
    "driver.close()"
   ]
  },
  {
   "cell_type": "code",
   "execution_count": null,
   "metadata": {},
   "outputs": [],
   "source": []
  },
  {
   "cell_type": "code",
   "execution_count": null,
   "metadata": {},
   "outputs": [],
   "source": []
  },
  {
   "cell_type": "code",
   "execution_count": null,
   "metadata": {},
   "outputs": [],
   "source": []
  },
  {
   "cell_type": "code",
   "execution_count": null,
   "metadata": {},
   "outputs": [],
   "source": []
  }
 ],
 "metadata": {
  "kernelspec": {
   "display_name": "master_thesis",
   "language": "python",
   "name": "python3"
  },
  "language_info": {
   "codemirror_mode": {
    "name": "ipython",
    "version": 3
   },
   "file_extension": ".py",
   "mimetype": "text/x-python",
   "name": "python",
   "nbconvert_exporter": "python",
   "pygments_lexer": "ipython3",
   "version": "3.12.9"
  }
 },
 "nbformat": 4,
 "nbformat_minor": 2
}
